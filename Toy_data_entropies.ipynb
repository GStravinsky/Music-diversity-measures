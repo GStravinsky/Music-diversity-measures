{
 "cells": [
  {
   "cell_type": "code",
   "execution_count": 2,
   "metadata": {},
   "outputs": [],
   "source": [
    "import math"
   ]
  },
  {
   "cell_type": "code",
   "execution_count": 3,
   "metadata": {},
   "outputs": [],
   "source": [
    "u1 = [0, 0.1, 0.5, 0.1, 0.25]\n",
    "u2 = [0.6, 0.1, 0.1, 0.1, 0.1]\n",
    "u3 = [0.1, 0.2, 0.4, 0.2, 0.1]\n",
    "u4 = [0.2, 0.2, 0.2, 0.2, 0.2]\n",
    "u5 = [0.7, 0.1, 0.1, 0.1, 0]\n",
    "Q = [0.306, 0.194, 0.139, 0.194, 0.167]"
   ]
  },
  {
   "cell_type": "code",
   "execution_count": 48,
   "metadata": {},
   "outputs": [],
   "source": [
    "def entropy(p):\n",
    "    c = []\n",
    "    for i in p:\n",
    "        if i == 0:\n",
    "            b = 0\n",
    "        else:\n",
    "            b = -i*math.log2(i)\n",
    "        c.append(b)\n",
    "    d = sum(c)\n",
    "    return d"
   ]
  },
  {
   "cell_type": "code",
   "execution_count": 4,
   "metadata": {},
   "outputs": [],
   "source": [
    "def KL(p,q):\n",
    "    c = []\n",
    "    for i, j in zip(p,q):\n",
    "        if i == 0:\n",
    "            b = 0\n",
    "        else:\n",
    "            b = -i*math.log2(i/j)\n",
    "        c.append(b)\n",
    "    d = sum(c)\n",
    "    return d"
   ]
  },
  {
   "cell_type": "code",
   "execution_count": 61,
   "metadata": {},
   "outputs": [],
   "source": [
    "def gini(p):\n",
    "    c =[]\n",
    "    for i in p:\n",
    "        b = i**2\n",
    "        c.append(b)\n",
    "    d = 1 -sum(c)    \n",
    "    return d"
   ]
  },
  {
   "cell_type": "code",
   "execution_count": 64,
   "metadata": {},
   "outputs": [],
   "source": [
    "def hill(p,q):\n",
    "    c =[]\n",
    "    for i in p:\n",
    "        b = i**q\n",
    "        c.append(b)\n",
    "    d = sum(c)**(1/(1-q))   \n",
    "    return d"
   ]
  },
  {
   "cell_type": "code",
   "execution_count": 53,
   "metadata": {},
   "outputs": [
    {
     "name": "stdout",
     "output_type": "stream",
     "text": [
      "1.6643856189774726\n",
      "1.7709505944546688\n",
      "2.121928094887362\n",
      "2.321928094887362\n",
      "1.3567796494470397\n",
      "None None None None None\n"
     ]
    }
   ],
   "source": [
    "print(entropy(u1),entropy(u2), entropy(u3), entropy(u4), entropy(u5))"
   ]
  },
  {
   "cell_type": "code",
   "execution_count": 5,
   "metadata": {},
   "outputs": [
    {
     "name": "stdout",
     "output_type": "stream",
     "text": [
      "-0.8777302735338179\n",
      "-0.2701538796346459\n",
      "-0.39220541029380035\n",
      "-0.05188441132183135\n",
      "-0.5969564696204149\n",
      "None None None None None\n"
     ]
    }
   ],
   "source": [
    "print(KL(u1,Q),KL(u2,Q), KL(u3,Q), KL(u4,Q), KL(u5,Q))"
   ]
  },
  {
   "cell_type": "code",
   "execution_count": 109,
   "metadata": {},
   "outputs": [
    {
     "name": "stdout",
     "output_type": "stream",
     "text": [
      "0.6675\n",
      "0.6\n",
      "0.74\n",
      "0.7999999999999999\n",
      "0.4800000000000001\n",
      "None None None None None\n"
     ]
    }
   ],
   "source": [
    "print(gini(u1),gini(u2), gini(u3), gini(u4), gini(u5))"
   ]
  },
  {
   "cell_type": "code",
   "execution_count": 111,
   "metadata": {},
   "outputs": [
    {
     "name": "stdout",
     "output_type": "stream",
     "text": [
      "3.3839895042201396\n",
      "3.007518796992481\n",
      "2.6479036074715783\n",
      "None None None\n"
     ]
    }
   ],
   "source": [
    "print(hill(u1,0.5),hill(u1,2), hill(u1,3))"
   ]
  },
  {
   "cell_type": "code",
   "execution_count": 112,
   "metadata": {},
   "outputs": [
    {
     "name": "stdout",
     "output_type": "stream",
     "text": [
      "4.159591794226544\n",
      "2.5\n",
      "2.1320071635561044\n",
      "None None None\n"
     ]
    }
   ],
   "source": [
    "print(hill(u2,0.5),hill(u2,2), hill(u2,3))"
   ]
  },
  {
   "cell_type": "code",
   "execution_count": 113,
   "metadata": {},
   "outputs": [
    {
     "name": "stdout",
     "output_type": "stream",
     "text": [
      "4.662741699796952\n",
      "3.8461538461538454\n",
      "3.4921514788478905\n",
      "None None None\n"
     ]
    }
   ],
   "source": [
    "print(hill(u3,0.5),hill(u3,2), hill(u3,3))"
   ]
  },
  {
   "cell_type": "code",
   "execution_count": 115,
   "metadata": {},
   "outputs": [
    {
     "name": "stdout",
     "output_type": "stream",
     "text": [
      "3.187450786638755\n",
      "1.9230769230769234\n",
      "1.700051002295115\n",
      "None None None\n"
     ]
    }
   ],
   "source": [
    "print(hill(u5,0.5),hill(u5,2), hill(u5,3))"
   ]
  }
 ],
 "metadata": {
  "kernelspec": {
   "display_name": "Python 3",
   "language": "python",
   "name": "python3"
  },
  "language_info": {
   "codemirror_mode": {
    "name": "ipython",
    "version": 3
   },
   "file_extension": ".py",
   "mimetype": "text/x-python",
   "name": "python",
   "nbconvert_exporter": "python",
   "pygments_lexer": "ipython3",
   "version": "3.7.4"
  }
 },
 "nbformat": 4,
 "nbformat_minor": 4
}
