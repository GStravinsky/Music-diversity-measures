{
  "nbformat": 4,
  "nbformat_minor": 0,
  "metadata": {
    "colab": {
      "name": "Copy of Entropy_subsample.ipynb",
      "provenance": [],
      "collapsed_sections": [],
      "include_colab_link": true
    },
    "kernelspec": {
      "display_name": "Python 3",
      "language": "python",
      "name": "python3"
    },
    "language_info": {
      "codemirror_mode": {
        "name": "ipython",
        "version": 3
      },
      "file_extension": ".py",
      "mimetype": "text/x-python",
      "name": "python",
      "nbconvert_exporter": "python",
      "pygments_lexer": "ipython3",
      "version": "3.7.4"
    },
    "toc": {
      "base_numbering": 1,
      "nav_menu": {},
      "number_sections": true,
      "sideBar": true,
      "skip_h1_title": false,
      "title_cell": "Table of Contents",
      "title_sidebar": "Contents",
      "toc_cell": false,
      "toc_position": {},
      "toc_section_display": true,
      "toc_window_display": false
    }
  },
  "cells": [
    {
      "cell_type": "markdown",
      "metadata": {
        "id": "view-in-github",
        "colab_type": "text"
      },
      "source": [
        "<a href=\"https://colab.research.google.com/github/GStravinsky/Music-diversity-measures/blob/master/Entropy_subsample.ipynb\" target=\"_parent\"><img src=\"https://colab.research.google.com/assets/colab-badge.svg\" alt=\"Open In Colab\"/></a>"
      ]
    },
    {
      "cell_type": "code",
      "metadata": {
        "colab_type": "code",
        "id": "FtYMZRZFRMDX",
        "colab": {}
      },
      "source": [
        "import numpy as np\n",
        "import pandas as pd \n",
        "from sklearn.decomposition import PCA\n",
        "import matplotlib.pyplot as plt\n",
        "import math\n",
        "from scipy.stats import pearsonr\n",
        "from sklearn.metrics import r2_score\n",
        "from scipy.stats import entropy\n",
        "from tqdm import tqdm"
      ],
      "execution_count": 154,
      "outputs": []
    },
    {
      "cell_type": "code",
      "metadata": {
        "id": "ojvIhsTUN4mp",
        "colab_type": "code",
        "colab": {}
      },
      "source": [
        ""
      ],
      "execution_count": 149,
      "outputs": []
    },
    {
      "cell_type": "code",
      "metadata": {
        "id": "6B5xX2JlAzLJ",
        "colab_type": "code",
        "colab": {
          "base_uri": "https://localhost:8080/",
          "height": 34
        },
        "outputId": "8728c3a6-844d-405e-c54d-b21f0cab1990"
      },
      "source": [
        "! pip install tqdm"
      ],
      "execution_count": 129,
      "outputs": [
        {
          "output_type": "stream",
          "text": [
            "Requirement already satisfied: tqdm in /usr/local/lib/python3.6/dist-packages (4.41.1)\n"
          ],
          "name": "stdout"
        }
      ]
    },
    {
      "cell_type": "code",
      "metadata": {
        "colab_type": "code",
        "id": "cgHzIRWCRYV4",
        "colab": {
          "base_uri": "https://localhost:8080/",
          "height": 54
        },
        "outputId": "145986ea-0f54-478b-bb5f-549f06560af5"
      },
      "source": [
        "from google.colab import drive\n",
        "drive.mount('/content/drive')"
      ],
      "execution_count": 43,
      "outputs": [
        {
          "output_type": "stream",
          "text": [
            "Drive already mounted at /content/drive; to attempt to forcibly remount, call drive.mount(\"/content/drive\", force_remount=True).\n"
          ],
          "name": "stdout"
        }
      ]
    },
    {
      "cell_type": "markdown",
      "metadata": {
        "colab_type": "text",
        "id": "ixJjUpiURMDj"
      },
      "source": [
        "# Loading all data"
      ]
    },
    {
      "cell_type": "markdown",
      "metadata": {
        "colab_type": "text",
        "id": "OlynwgMaRMDj"
      },
      "source": [
        "Loading all datasets used - main triplet data, embedded vectors generates with Poisson factotization, bridge data that connects TrackId with SongId and song genre data. "
      ]
    },
    {
      "cell_type": "code",
      "metadata": {
        "colab_type": "code",
        "id": "jxPDItebRMDk",
        "colab": {}
      },
      "source": [
        "# main triplet data\n",
        "data = pd.read_csv(\"/content/drive/My Drive/MSc Statistics/train_triplets.txt\",\n",
        "                   delimiter=\"\\t\", header=None, names= [\"UserId\", \"SongId\", \"Count\"])"
      ],
      "execution_count": 137,
      "outputs": []
    },
    {
      "cell_type": "code",
      "metadata": {
        "id": "82lVt38bfSVn",
        "colab_type": "code",
        "colab": {
          "base_uri": "https://localhost:8080/",
          "height": 34
        },
        "outputId": "869e0488-7d7b-484d-e87e-ba5c8d6f3447"
      },
      "source": [
        "print(len(data[\"UserId\"].unique().tolist()), len(data[\"SongId\"].unique().tolist()))"
      ],
      "execution_count": 138,
      "outputs": [
        {
          "output_type": "stream",
          "text": [
            "1019318 384546\n"
          ],
          "name": "stdout"
        }
      ]
    },
    {
      "cell_type": "code",
      "metadata": {
        "colab_type": "code",
        "id": "opNRe63-RMDr",
        "colab": {
          "base_uri": "https://localhost:8080/",
          "height": 34
        },
        "outputId": "405c10fb-e81b-4f47-f210-c18114a10f83"
      },
      "source": [
        "data.shape"
      ],
      "execution_count": 183,
      "outputs": [
        {
          "output_type": "execute_result",
          "data": {
            "text/plain": [
              "(48373586, 3)"
            ]
          },
          "metadata": {
            "tags": []
          },
          "execution_count": 183
        }
      ]
    },
    {
      "cell_type": "code",
      "metadata": {
        "id": "sWhtUZHN_QEv",
        "colab_type": "code",
        "colab": {
          "base_uri": "https://localhost:8080/",
          "height": 452
        },
        "outputId": "1f09acbe-bc44-464b-da56-52b6048afa90"
      },
      "source": [
        "plt.hist(data[\"Count\"][data[\"Count\"]<=40], bins = 40, color = \"olivedrab\")\n",
        "plt.title(\"Song count histogram\")\n",
        "plt.savefig(\"count_hist\", format = \"png\", transparent = True)"
      ],
      "execution_count": 179,
      "outputs": [
        {
          "output_type": "display_data",
          "data": {
            "image/png": "[encoded data removed]",
            "text/plain": [
              "<Figure size 640x480 with 1 Axes>"
            ]
          },
          "metadata": {
            "tags": []
          }
        }
      ]
    },
    {
      "cell_type": "code",
      "metadata": {
        "id": "qkc6JSpUPkkV",
        "colab_type": "code",
        "colab": {
          "base_uri": "https://localhost:8080/",
          "height": 297
        },
        "outputId": "dec8e331-de26-47a8-a7fa-d73d98393b73"
      },
      "source": [
        "data.describe()"
      ],
      "execution_count": 184,
      "outputs": [
        {
          "output_type": "execute_result",
          "data": {
            "text/html": [
              "<div>\n",
              "<style scoped>\n",
              "    .dataframe tbody tr th:only-of-type {\n",
              "        vertical-align: middle;\n",
              "    }\n",
              "\n",
              "    .dataframe tbody tr th {\n",
              "        vertical-align: top;\n",
              "    }\n",
              "\n",
              "    .dataframe thead th {\n",
              "        text-align: right;\n",
              "    }\n",
              "</style>\n",
              "<table border=\"1\" class=\"dataframe\">\n",
              "  <thead>\n",
              "    <tr style=\"text-align: right;\">\n",
              "      <th></th>\n",
              "      <th>Count</th>\n",
              "    </tr>\n",
              "  </thead>\n",
              "  <tbody>\n",
              "    <tr>\n",
              "      <th>count</th>\n",
              "      <td>4.837359e+07</td>\n",
              "    </tr>\n",
              "    <tr>\n",
              "      <th>mean</th>\n",
              "      <td>2.866859e+00</td>\n",
              "    </tr>\n",
              "    <tr>\n",
              "      <th>std</th>\n",
              "      <td>6.437725e+00</td>\n",
              "    </tr>\n",
              "    <tr>\n",
              "      <th>min</th>\n",
              "      <td>1.000000e+00</td>\n",
              "    </tr>\n",
              "    <tr>\n",
              "      <th>25%</th>\n",
              "      <td>1.000000e+00</td>\n",
              "    </tr>\n",
              "    <tr>\n",
              "      <th>50%</th>\n",
              "      <td>1.000000e+00</td>\n",
              "    </tr>\n",
              "    <tr>\n",
              "      <th>75%</th>\n",
              "      <td>3.000000e+00</td>\n",
              "    </tr>\n",
              "    <tr>\n",
              "      <th>max</th>\n",
              "      <td>9.667000e+03</td>\n",
              "    </tr>\n",
              "  </tbody>\n",
              "</table>\n",
              "</div>"
            ],
            "text/plain": [
              "              Count\n",
              "count  4.837359e+07\n",
              "mean   2.866859e+00\n",
              "std    6.437725e+00\n",
              "min    1.000000e+00\n",
              "25%    1.000000e+00\n",
              "50%    1.000000e+00\n",
              "75%    3.000000e+00\n",
              "max    9.667000e+03"
            ]
          },
          "metadata": {
            "tags": []
          },
          "execution_count": 184
        }
      ]
    },
    {
      "cell_type": "code",
      "metadata": {
        "colab_type": "code",
        "id": "7tPlU80IRMED",
        "colab": {
          "base_uri": "https://localhost:8080/",
          "height": 71
        },
        "outputId": "5e32aec8-9ebc-44da-86e2-d34d4a3fc8aa"
      },
      "source": [
        "# data to connect TrackId with SongId\n",
        "bridge = pd.read_csv(\"/content/drive/My Drive/MSc Statistics/unique_tracks.txt\",  delimiter=\"<SEP>\", header=None, \n",
        "                    names= [\"TrackId\", \"SongId\", \"Artist\", \"Song_name\"])"
      ],
      "execution_count": 45,
      "outputs": [
        {
          "output_type": "stream",
          "text": [
            "/usr/local/lib/python3.6/dist-packages/ipykernel_launcher.py:3: ParserWarning: Falling back to the 'python' engine because the 'c' engine does not support regex separators (separators > 1 char and different from '\\s+' are interpreted as regex); you can avoid this warning by specifying engine='python'.\n",
            "  This is separate from the ipykernel package so we can avoid doing imports until\n"
          ],
          "name": "stderr"
        }
      ]
    },
    {
      "cell_type": "code",
      "metadata": {
        "colab_type": "code",
        "id": "mxU0l_y7RMEH",
        "colab": {},
        "outputId": "27d48c78-59d8-471c-a244-ed083fb92366"
      },
      "source": [
        "bridge.head()"
      ],
      "execution_count": null,
      "outputs": [
        {
          "output_type": "execute_result",
          "data": {
            "text/html": [
              "<div>\n",
              "<style scoped>\n",
              "    .dataframe tbody tr th:only-of-type {\n",
              "        vertical-align: middle;\n",
              "    }\n",
              "\n",
              "    .dataframe tbody tr th {\n",
              "        vertical-align: top;\n",
              "    }\n",
              "\n",
              "    .dataframe thead th {\n",
              "        text-align: right;\n",
              "    }\n",
              "</style>\n",
              "<table border=\"1\" class=\"dataframe\">\n",
              "  <thead>\n",
              "    <tr style=\"text-align: right;\">\n",
              "      <th></th>\n",
              "      <th>TrackId</th>\n",
              "      <th>SongId</th>\n",
              "      <th>Artist</th>\n",
              "      <th>Song_name</th>\n",
              "    </tr>\n",
              "  </thead>\n",
              "  <tbody>\n",
              "    <tr>\n",
              "      <th>0</th>\n",
              "      <td>TRMMMYQ128F932D901</td>\n",
              "      <td>SOQMMHC12AB0180CB8</td>\n",
              "      <td>Faster Pussy cat</td>\n",
              "      <td>Silent Night</td>\n",
              "    </tr>\n",
              "    <tr>\n",
              "      <th>1</th>\n",
              "      <td>TRMMMKD128F425225D</td>\n",
              "      <td>SOVFVAK12A8C1350D9</td>\n",
              "      <td>Karkkiautomaatti</td>\n",
              "      <td>Tanssi vaan</td>\n",
              "    </tr>\n",
              "    <tr>\n",
              "      <th>2</th>\n",
              "      <td>TRMMMRX128F93187D9</td>\n",
              "      <td>SOGTUKN12AB017F4F1</td>\n",
              "      <td>Hudson Mohawke</td>\n",
              "      <td>No One Could Ever</td>\n",
              "    </tr>\n",
              "    <tr>\n",
              "      <th>3</th>\n",
              "      <td>TRMMMCH128F425532C</td>\n",
              "      <td>SOBNYVR12A8C13558C</td>\n",
              "      <td>Yerba Brava</td>\n",
              "      <td>Si Vos Querés</td>\n",
              "    </tr>\n",
              "    <tr>\n",
              "      <th>4</th>\n",
              "      <td>TRMMMWA128F426B589</td>\n",
              "      <td>SOHSBXH12A8C13B0DF</td>\n",
              "      <td>Der Mystic</td>\n",
              "      <td>Tangle Of Aspens</td>\n",
              "    </tr>\n",
              "  </tbody>\n",
              "</table>\n",
              "</div>"
            ],
            "text/plain": [
              "              TrackId              SongId            Artist          Song_name\n",
              "0  TRMMMYQ128F932D901  SOQMMHC12AB0180CB8  Faster Pussy cat       Silent Night\n",
              "1  TRMMMKD128F425225D  SOVFVAK12A8C1350D9  Karkkiautomaatti        Tanssi vaan\n",
              "2  TRMMMRX128F93187D9  SOGTUKN12AB017F4F1    Hudson Mohawke  No One Could Ever\n",
              "3  TRMMMCH128F425532C  SOBNYVR12A8C13558C       Yerba Brava      Si Vos Querés\n",
              "4  TRMMMWA128F426B589  SOHSBXH12A8C13B0DF        Der Mystic   Tangle Of Aspens"
            ]
          },
          "metadata": {
            "tags": []
          },
          "execution_count": 15
        }
      ]
    },
    {
      "cell_type": "code",
      "metadata": {
        "colab_type": "code",
        "id": "H97y4ayS3Wy9",
        "colab": {
          "base_uri": "https://localhost:8080/",
          "height": 34
        },
        "outputId": "d4953669-0d8f-4955-d866-f973fda1d52c"
      },
      "source": [
        "print(len(bridge[\"Artist\"].unique().tolist()))"
      ],
      "execution_count": null,
      "outputs": [
        {
          "output_type": "execute_result",
          "data": {
            "text/plain": [
              "(1000000, 4)"
            ]
          },
          "metadata": {
            "tags": []
          },
          "execution_count": 73
        }
      ]
    },
    {
      "cell_type": "code",
      "metadata": {
        "colab_type": "code",
        "id": "G9RKQX9xRMEM",
        "colab": {}
      },
      "source": [
        "# song genre data\n",
        "genres = pd.read_csv(\"/content/drive/My Drive/MSc Statistics/ganres.txt\",  delimiter=\"\\t\", header=None,\n",
        "                     names= [\"TrackId\", \"Main_genre\", \"Minor_genre\"])"
      ],
      "execution_count": null,
      "outputs": []
    },
    {
      "cell_type": "code",
      "metadata": {
        "colab_type": "code",
        "id": "POmwvOkoRMEV",
        "colab": {},
        "outputId": "a61ee9e4-a2ec-4efd-e29c-ce5cfa055044"
      },
      "source": [
        "genres.head()"
      ],
      "execution_count": null,
      "outputs": [
        {
          "output_type": "execute_result",
          "data": {
            "text/html": [
              "<div>\n",
              "<style scoped>\n",
              "    .dataframe tbody tr th:only-of-type {\n",
              "        vertical-align: middle;\n",
              "    }\n",
              "\n",
              "    .dataframe tbody tr th {\n",
              "        vertical-align: top;\n",
              "    }\n",
              "\n",
              "    .dataframe thead th {\n",
              "        text-align: right;\n",
              "    }\n",
              "</style>\n",
              "<table border=\"1\" class=\"dataframe\">\n",
              "  <thead>\n",
              "    <tr style=\"text-align: right;\">\n",
              "      <th></th>\n",
              "      <th>TrackId</th>\n",
              "      <th>Main_genre</th>\n",
              "      <th>Minor_genre</th>\n",
              "    </tr>\n",
              "  </thead>\n",
              "  <tbody>\n",
              "    <tr>\n",
              "      <th>0</th>\n",
              "      <td>TRAAAAK128F9318786</td>\n",
              "      <td>Rock</td>\n",
              "      <td>NaN</td>\n",
              "    </tr>\n",
              "    <tr>\n",
              "      <th>1</th>\n",
              "      <td>TRAAAAW128F429D538</td>\n",
              "      <td>Rap</td>\n",
              "      <td>NaN</td>\n",
              "    </tr>\n",
              "    <tr>\n",
              "      <th>2</th>\n",
              "      <td>TRAAABD128F429CF47</td>\n",
              "      <td>Rock</td>\n",
              "      <td>RnB</td>\n",
              "    </tr>\n",
              "    <tr>\n",
              "      <th>3</th>\n",
              "      <td>TRAAADJ128F4287B47</td>\n",
              "      <td>Rock</td>\n",
              "      <td>NaN</td>\n",
              "    </tr>\n",
              "    <tr>\n",
              "      <th>4</th>\n",
              "      <td>TRAAADZ128F9348C2E</td>\n",
              "      <td>Latin</td>\n",
              "      <td>NaN</td>\n",
              "    </tr>\n",
              "  </tbody>\n",
              "</table>\n",
              "</div>"
            ],
            "text/plain": [
              "              TrackId Main_genre Minor_genre\n",
              "0  TRAAAAK128F9318786       Rock         NaN\n",
              "1  TRAAAAW128F429D538        Rap         NaN\n",
              "2  TRAAABD128F429CF47       Rock         RnB\n",
              "3  TRAAADJ128F4287B47       Rock         NaN\n",
              "4  TRAAADZ128F9348C2E      Latin         NaN"
            ]
          },
          "metadata": {
            "tags": []
          },
          "execution_count": 18
        }
      ]
    },
    {
      "cell_type": "code",
      "metadata": {
        "colab_type": "code",
        "id": "s3EmnqJE3UCI",
        "colab": {
          "base_uri": "https://localhost:8080/",
          "height": 34
        },
        "outputId": "212e55bb-dce7-43f5-b430-bbb71539d393"
      },
      "source": [
        "genres.shape"
      ],
      "execution_count": null,
      "outputs": [
        {
          "output_type": "execute_result",
          "data": {
            "text/plain": [
              "(280831, 3)"
            ]
          },
          "metadata": {
            "tags": []
          },
          "execution_count": 72
        }
      ]
    },
    {
      "cell_type": "markdown",
      "metadata": {
        "toc-hr-collapsed": true,
        "id": "pKM45XWmUUIx",
        "colab_type": "text"
      },
      "source": [
        "# Merging the data"
      ]
    },
    {
      "cell_type": "markdown",
      "metadata": {
        "colab_type": "text",
        "id": "jHc5anD0Zi7n"
      },
      "source": [
        "Merging the data so we could connect SongId with some metadata. Conducting the same data analysis below."
      ]
    },
    {
      "cell_type": "code",
      "metadata": {
        "colab_type": "code",
        "id": "gpbdUAXdRMFB",
        "colab": {}
      },
      "source": [
        "artist_merge = pd.merge(left = data, right = bridge, left_on=\"SongId\", right_on=\"SongId\")"
      ],
      "execution_count": 46,
      "outputs": []
    },
    {
      "cell_type": "code",
      "metadata": {
        "colab_type": "code",
        "id": "RaEc1mx6RMFG",
        "colab": {
          "base_uri": "https://localhost:8080/",
          "height": 309
        },
        "outputId": "7f6a03fe-86a7-4edb-ed0b-5adaa324a39b"
      },
      "source": [
        "artist_merge.head()"
      ],
      "execution_count": null,
      "outputs": [
        {
          "output_type": "execute_result",
          "data": {
            "text/html": [
              "<div>\n",
              "<style scoped>\n",
              "    .dataframe tbody tr th:only-of-type {\n",
              "        vertical-align: middle;\n",
              "    }\n",
              "\n",
              "    .dataframe tbody tr th {\n",
              "        vertical-align: top;\n",
              "    }\n",
              "\n",
              "    .dataframe thead th {\n",
              "        text-align: right;\n",
              "    }\n",
              "</style>\n",
              "<table border=\"1\" class=\"dataframe\">\n",
              "  <thead>\n",
              "    <tr style=\"text-align: right;\">\n",
              "      <th></th>\n",
              "      <th>UserId</th>\n",
              "      <th>SongId</th>\n",
              "      <th>Count</th>\n",
              "      <th>TrackId</th>\n",
              "      <th>Artist</th>\n",
              "      <th>Song_name</th>\n",
              "    </tr>\n",
              "  </thead>\n",
              "  <tbody>\n",
              "    <tr>\n",
              "      <th>0</th>\n",
              "      <td>b80344d063b5ccb3212f76538f3d9e43d87dca9e</td>\n",
              "      <td>SOAKIMP12A8C130995</td>\n",
              "      <td>1</td>\n",
              "      <td>TRIQAUQ128F42435AD</td>\n",
              "      <td>Jack Johnson</td>\n",
              "      <td>The Cove</td>\n",
              "    </tr>\n",
              "    <tr>\n",
              "      <th>1</th>\n",
              "      <td>7c86176941718984fed11b7c0674ff04c029b480</td>\n",
              "      <td>SOAKIMP12A8C130995</td>\n",
              "      <td>1</td>\n",
              "      <td>TRIQAUQ128F42435AD</td>\n",
              "      <td>Jack Johnson</td>\n",
              "      <td>The Cove</td>\n",
              "    </tr>\n",
              "    <tr>\n",
              "      <th>2</th>\n",
              "      <td>76235885b32c4e8c82760c340dc54f9b608d7d7e</td>\n",
              "      <td>SOAKIMP12A8C130995</td>\n",
              "      <td>3</td>\n",
              "      <td>TRIQAUQ128F42435AD</td>\n",
              "      <td>Jack Johnson</td>\n",
              "      <td>The Cove</td>\n",
              "    </tr>\n",
              "    <tr>\n",
              "      <th>3</th>\n",
              "      <td>250c0fa2a77bc6695046e7c47882ecd85c42d748</td>\n",
              "      <td>SOAKIMP12A8C130995</td>\n",
              "      <td>1</td>\n",
              "      <td>TRIQAUQ128F42435AD</td>\n",
              "      <td>Jack Johnson</td>\n",
              "      <td>The Cove</td>\n",
              "    </tr>\n",
              "    <tr>\n",
              "      <th>4</th>\n",
              "      <td>3f73f44560e822344b0fb7c6b463869743eb9860</td>\n",
              "      <td>SOAKIMP12A8C130995</td>\n",
              "      <td>6</td>\n",
              "      <td>TRIQAUQ128F42435AD</td>\n",
              "      <td>Jack Johnson</td>\n",
              "      <td>The Cove</td>\n",
              "    </tr>\n",
              "  </tbody>\n",
              "</table>\n",
              "</div>"
            ],
            "text/plain": [
              "                                     UserId  ... Song_name\n",
              "0  b80344d063b5ccb3212f76538f3d9e43d87dca9e  ...  The Cove\n",
              "1  7c86176941718984fed11b7c0674ff04c029b480  ...  The Cove\n",
              "2  76235885b32c4e8c82760c340dc54f9b608d7d7e  ...  The Cove\n",
              "3  250c0fa2a77bc6695046e7c47882ecd85c42d748  ...  The Cove\n",
              "4  3f73f44560e822344b0fb7c6b463869743eb9860  ...  The Cove\n",
              "\n",
              "[5 rows x 6 columns]"
            ]
          },
          "metadata": {
            "tags": []
          },
          "execution_count": 6
        }
      ]
    },
    {
      "cell_type": "code",
      "metadata": {
        "colab_type": "code",
        "id": "A8o8UIYoRMFJ",
        "colab": {
          "base_uri": "https://localhost:8080/",
          "height": 34
        },
        "outputId": "db3e13c2-825c-4046-fa3e-b36fedcd62f4"
      },
      "source": [
        "print(artist_merge.shape)"
      ],
      "execution_count": null,
      "outputs": [
        {
          "output_type": "stream",
          "text": [
            "(49664528, 6)\n"
          ],
          "name": "stdout"
        }
      ]
    },
    {
      "cell_type": "code",
      "metadata": {
        "id": "aTJgEH7BgiQo",
        "colab_type": "code",
        "colab": {
          "base_uri": "https://localhost:8080/",
          "height": 34
        },
        "outputId": "df108af0-b5e7-40f0-ee58-6c52976245c9"
      },
      "source": [
        "print(len(artist_merge[\"UserId\"].unique().tolist()))"
      ],
      "execution_count": null,
      "outputs": [
        {
          "output_type": "stream",
          "text": [
            "1019318\n"
          ],
          "name": "stdout"
        }
      ]
    },
    {
      "cell_type": "code",
      "metadata": {
        "colab_type": "code",
        "id": "65UX2RhvRMFN",
        "colab": {}
      },
      "source": [
        "ganre_merge = pd.merge(left = mid_merge, right = data, left_on=\"SongId\", right_on=\"SongId\")"
      ],
      "execution_count": null,
      "outputs": []
    },
    {
      "cell_type": "code",
      "metadata": {
        "colab_type": "code",
        "id": "jDSNylcNRMFS",
        "colab": {
          "base_uri": "https://localhost:8080/",
          "height": 204
        },
        "outputId": "bad77901-2489-4617-ad37-cf8e1c82690d"
      },
      "source": [
        "ganre_merge.head()"
      ],
      "execution_count": null,
      "outputs": [
        {
          "output_type": "execute_result",
          "data": {
            "text/html": [
              "<div>\n",
              "<style scoped>\n",
              "    .dataframe tbody tr th:only-of-type {\n",
              "        vertical-align: middle;\n",
              "    }\n",
              "\n",
              "    .dataframe tbody tr th {\n",
              "        vertical-align: top;\n",
              "    }\n",
              "\n",
              "    .dataframe thead th {\n",
              "        text-align: right;\n",
              "    }\n",
              "</style>\n",
              "<table border=\"1\" class=\"dataframe\">\n",
              "  <thead>\n",
              "    <tr style=\"text-align: right;\">\n",
              "      <th></th>\n",
              "      <th>TrackId</th>\n",
              "      <th>Main_genre</th>\n",
              "      <th>Minor_genre</th>\n",
              "      <th>SongId</th>\n",
              "      <th>Artist</th>\n",
              "      <th>Song_name</th>\n",
              "      <th>UserId</th>\n",
              "      <th>Count</th>\n",
              "    </tr>\n",
              "  </thead>\n",
              "  <tbody>\n",
              "    <tr>\n",
              "      <th>0</th>\n",
              "      <td>TRAAAAK128F9318786</td>\n",
              "      <td>Rock</td>\n",
              "      <td>NaN</td>\n",
              "      <td>SOBLFFE12AF72AA5BA</td>\n",
              "      <td>Adelitas Way</td>\n",
              "      <td>Scream</td>\n",
              "      <td>cf9a8225b3626e668facf9dda53a2ef3da445bf6</td>\n",
              "      <td>1</td>\n",
              "    </tr>\n",
              "    <tr>\n",
              "      <th>1</th>\n",
              "      <td>TRAAAAK128F9318786</td>\n",
              "      <td>Rock</td>\n",
              "      <td>NaN</td>\n",
              "      <td>SOBLFFE12AF72AA5BA</td>\n",
              "      <td>Adelitas Way</td>\n",
              "      <td>Scream</td>\n",
              "      <td>6776279a369a04148a92597d270ac500ddc7a27c</td>\n",
              "      <td>3</td>\n",
              "    </tr>\n",
              "    <tr>\n",
              "      <th>2</th>\n",
              "      <td>TRAAAAK128F9318786</td>\n",
              "      <td>Rock</td>\n",
              "      <td>NaN</td>\n",
              "      <td>SOBLFFE12AF72AA5BA</td>\n",
              "      <td>Adelitas Way</td>\n",
              "      <td>Scream</td>\n",
              "      <td>8c412b22910a9c9531ac72ec742913d73317782d</td>\n",
              "      <td>1</td>\n",
              "    </tr>\n",
              "    <tr>\n",
              "      <th>3</th>\n",
              "      <td>TRAAAAK128F9318786</td>\n",
              "      <td>Rock</td>\n",
              "      <td>NaN</td>\n",
              "      <td>SOBLFFE12AF72AA5BA</td>\n",
              "      <td>Adelitas Way</td>\n",
              "      <td>Scream</td>\n",
              "      <td>74230c5555c9f4e929f8e6c25344b7ee1f37d9e3</td>\n",
              "      <td>2</td>\n",
              "    </tr>\n",
              "    <tr>\n",
              "      <th>4</th>\n",
              "      <td>TRAAAAK128F9318786</td>\n",
              "      <td>Rock</td>\n",
              "      <td>NaN</td>\n",
              "      <td>SOBLFFE12AF72AA5BA</td>\n",
              "      <td>Adelitas Way</td>\n",
              "      <td>Scream</td>\n",
              "      <td>dac762704dfe74075187e98623f92268727bf749</td>\n",
              "      <td>1</td>\n",
              "    </tr>\n",
              "  </tbody>\n",
              "</table>\n",
              "</div>"
            ],
            "text/plain": [
              "              TrackId  ... Count\n",
              "0  TRAAAAK128F9318786  ...     1\n",
              "1  TRAAAAK128F9318786  ...     3\n",
              "2  TRAAAAK128F9318786  ...     1\n",
              "3  TRAAAAK128F9318786  ...     2\n",
              "4  TRAAAAK128F9318786  ...     1\n",
              "\n",
              "[5 rows x 8 columns]"
            ]
          },
          "metadata": {
            "tags": []
          },
          "execution_count": 34
        }
      ]
    },
    {
      "cell_type": "markdown",
      "metadata": {
        "colab_type": "text",
        "id": "LRy5rHeA__2V",
        "toc-hr-collapsed": true
      },
      "source": [
        "# Subsampling triplets"
      ]
    },
    {
      "cell_type": "markdown",
      "metadata": {
        "colab_type": "text",
        "id": "uxSU-lMKYpyf"
      },
      "source": [
        "Creating a 100 user subsample of dataset for quick concept checking."
      ]
    },
    {
      "cell_type": "code",
      "metadata": {
        "colab_type": "code",
        "id": "-bI51iy8AERK",
        "colab": {}
      },
      "source": [
        "toy_triplets = pd.DataFrame(artist_merge['UserId'].unique(), columns=[\"UserId\"]).sample(n=10000, random_state=123)"
      ],
      "execution_count": 65,
      "outputs": []
    },
    {
      "cell_type": "code",
      "metadata": {
        "id": "Jimp_dCjkj6J",
        "colab_type": "code",
        "colab": {
          "base_uri": "https://localhost:8080/",
          "height": 419
        },
        "outputId": "666ed8aa-37f5-476a-f4fa-7db1daf41933"
      },
      "source": [
        "toy_triplets"
      ],
      "execution_count": null,
      "outputs": [
        {
          "output_type": "execute_result",
          "data": {
            "text/html": [
              "<div>\n",
              "<style scoped>\n",
              "    .dataframe tbody tr th:only-of-type {\n",
              "        vertical-align: middle;\n",
              "    }\n",
              "\n",
              "    .dataframe tbody tr th {\n",
              "        vertical-align: top;\n",
              "    }\n",
              "\n",
              "    .dataframe thead th {\n",
              "        text-align: right;\n",
              "    }\n",
              "</style>\n",
              "<table border=\"1\" class=\"dataframe\">\n",
              "  <thead>\n",
              "    <tr style=\"text-align: right;\">\n",
              "      <th></th>\n",
              "      <th>UserId</th>\n",
              "    </tr>\n",
              "  </thead>\n",
              "  <tbody>\n",
              "    <tr>\n",
              "      <th>892790</th>\n",
              "      <td>6922083dbcd4cdb8d1d85c3d63fcedeafc9bddc2</td>\n",
              "    </tr>\n",
              "    <tr>\n",
              "      <th>962264</th>\n",
              "      <td>9a4a0fd94d767a8f96aaaa5332ff441b3f060cd5</td>\n",
              "    </tr>\n",
              "    <tr>\n",
              "      <th>948679</th>\n",
              "      <td>21c310f8a98769736f6e82d6f2cd6fd83d88391d</td>\n",
              "    </tr>\n",
              "    <tr>\n",
              "      <th>243789</th>\n",
              "      <td>e13b56d6997fcafa2967a79f9709bd75c2307172</td>\n",
              "    </tr>\n",
              "    <tr>\n",
              "      <th>681051</th>\n",
              "      <td>5540dd4a1b6ec2642ee4c586b3c35d4c73cdcb6c</td>\n",
              "    </tr>\n",
              "    <tr>\n",
              "      <th>...</th>\n",
              "      <td>...</td>\n",
              "    </tr>\n",
              "    <tr>\n",
              "      <th>718997</th>\n",
              "      <td>79f2eb11dc65441d2022349a1ed4c08d46a7cbaf</td>\n",
              "    </tr>\n",
              "    <tr>\n",
              "      <th>965441</th>\n",
              "      <td>0b284c5b4c80ddac153a9fc2625f0bd8a4090c13</td>\n",
              "    </tr>\n",
              "    <tr>\n",
              "      <th>816419</th>\n",
              "      <td>4351a0fb1fe6ddf233b7b5b712965666c32261a1</td>\n",
              "    </tr>\n",
              "    <tr>\n",
              "      <th>386864</th>\n",
              "      <td>e2d5ad3da6ebec21c911d0c2cf1cb76531faf8f2</td>\n",
              "    </tr>\n",
              "    <tr>\n",
              "      <th>159414</th>\n",
              "      <td>60537c40598b0e4342ff7dc1412f0cecc532c59a</td>\n",
              "    </tr>\n",
              "  </tbody>\n",
              "</table>\n",
              "<p>100000 rows × 1 columns</p>\n",
              "</div>"
            ],
            "text/plain": [
              "                                          UserId\n",
              "892790  6922083dbcd4cdb8d1d85c3d63fcedeafc9bddc2\n",
              "962264  9a4a0fd94d767a8f96aaaa5332ff441b3f060cd5\n",
              "948679  21c310f8a98769736f6e82d6f2cd6fd83d88391d\n",
              "243789  e13b56d6997fcafa2967a79f9709bd75c2307172\n",
              "681051  5540dd4a1b6ec2642ee4c586b3c35d4c73cdcb6c\n",
              "...                                          ...\n",
              "718997  79f2eb11dc65441d2022349a1ed4c08d46a7cbaf\n",
              "965441  0b284c5b4c80ddac153a9fc2625f0bd8a4090c13\n",
              "816419  4351a0fb1fe6ddf233b7b5b712965666c32261a1\n",
              "386864  e2d5ad3da6ebec21c911d0c2cf1cb76531faf8f2\n",
              "159414  60537c40598b0e4342ff7dc1412f0cecc532c59a\n",
              "\n",
              "[100000 rows x 1 columns]"
            ]
          },
          "metadata": {
            "tags": []
          },
          "execution_count": 19
        }
      ]
    },
    {
      "cell_type": "code",
      "metadata": {
        "id": "dYZexK56jS6-",
        "colab_type": "code",
        "colab": {
          "base_uri": "https://localhost:8080/",
          "height": 34
        },
        "outputId": "0a8114a2-4c8e-4997-ac76-f11dea5b093d"
      },
      "source": [
        "len(toy_triplets[\"UserId\"].unique().tolist())"
      ],
      "execution_count": 48,
      "outputs": [
        {
          "output_type": "execute_result",
          "data": {
            "text/plain": [
              "10000"
            ]
          },
          "metadata": {
            "tags": []
          },
          "execution_count": 48
        }
      ]
    },
    {
      "cell_type": "code",
      "metadata": {
        "colab_type": "code",
        "id": "s1-__-egAVQS",
        "colab": {}
      },
      "source": [
        "toy_triplets = pd.merge(left = toy_triplets, right = artist_merge, left_on=\"UserId\", right_on=\"UserId\")"
      ],
      "execution_count": 66,
      "outputs": []
    },
    {
      "cell_type": "code",
      "metadata": {
        "colab_type": "code",
        "id": "1YPOswpdDYt8",
        "colab": {
          "base_uri": "https://localhost:8080/",
          "height": 309
        },
        "outputId": "382e69ae-0f94-474a-bc7d-fe2e3e74d91d"
      },
      "source": [
        "toy_triplets.head()"
      ],
      "execution_count": null,
      "outputs": [
        {
          "output_type": "execute_result",
          "data": {
            "text/html": [
              "<div>\n",
              "<style scoped>\n",
              "    .dataframe tbody tr th:only-of-type {\n",
              "        vertical-align: middle;\n",
              "    }\n",
              "\n",
              "    .dataframe tbody tr th {\n",
              "        vertical-align: top;\n",
              "    }\n",
              "\n",
              "    .dataframe thead th {\n",
              "        text-align: right;\n",
              "    }\n",
              "</style>\n",
              "<table border=\"1\" class=\"dataframe\">\n",
              "  <thead>\n",
              "    <tr style=\"text-align: right;\">\n",
              "      <th></th>\n",
              "      <th>UserId</th>\n",
              "      <th>SongId</th>\n",
              "      <th>Count</th>\n",
              "      <th>TrackId</th>\n",
              "      <th>Artist</th>\n",
              "      <th>Song_name</th>\n",
              "    </tr>\n",
              "  </thead>\n",
              "  <tbody>\n",
              "    <tr>\n",
              "      <th>0</th>\n",
              "      <td>6922083dbcd4cdb8d1d85c3d63fcedeafc9bddc2</td>\n",
              "      <td>SOBCOYF12A58A7B527</td>\n",
              "      <td>2</td>\n",
              "      <td>TRNXYOV128F42A04FA</td>\n",
              "      <td>Joshua Radin</td>\n",
              "      <td>Only You</td>\n",
              "    </tr>\n",
              "    <tr>\n",
              "      <th>1</th>\n",
              "      <td>6922083dbcd4cdb8d1d85c3d63fcedeafc9bddc2</td>\n",
              "      <td>SOHKQAW12A6D4F93D0</td>\n",
              "      <td>2</td>\n",
              "      <td>TREPXQV128F14840BF</td>\n",
              "      <td>Ryan Adams</td>\n",
              "      <td>Gonna Make You Love Me</td>\n",
              "    </tr>\n",
              "    <tr>\n",
              "      <th>2</th>\n",
              "      <td>6922083dbcd4cdb8d1d85c3d63fcedeafc9bddc2</td>\n",
              "      <td>SOUBNHU12A8C142E65</td>\n",
              "      <td>2</td>\n",
              "      <td>TRKEIZP12903D05324</td>\n",
              "      <td>Joshua Radin</td>\n",
              "      <td>Sky</td>\n",
              "    </tr>\n",
              "    <tr>\n",
              "      <th>3</th>\n",
              "      <td>6922083dbcd4cdb8d1d85c3d63fcedeafc9bddc2</td>\n",
              "      <td>SOMKLPM12AF72A8B36</td>\n",
              "      <td>2</td>\n",
              "      <td>TRVPRMC128F42AE854</td>\n",
              "      <td>Ryan Adams</td>\n",
              "      <td>English Girls Approximately</td>\n",
              "    </tr>\n",
              "    <tr>\n",
              "      <th>4</th>\n",
              "      <td>6922083dbcd4cdb8d1d85c3d63fcedeafc9bddc2</td>\n",
              "      <td>SOQZFAC12A8C141E9A</td>\n",
              "      <td>2</td>\n",
              "      <td>TRXLPRQ12903D05327</td>\n",
              "      <td>Joshua Radin</td>\n",
              "      <td>They Bring Me To You</td>\n",
              "    </tr>\n",
              "  </tbody>\n",
              "</table>\n",
              "</div>"
            ],
            "text/plain": [
              "                                     UserId  ...                    Song_name\n",
              "0  6922083dbcd4cdb8d1d85c3d63fcedeafc9bddc2  ...                     Only You\n",
              "1  6922083dbcd4cdb8d1d85c3d63fcedeafc9bddc2  ...       Gonna Make You Love Me\n",
              "2  6922083dbcd4cdb8d1d85c3d63fcedeafc9bddc2  ...                          Sky\n",
              "3  6922083dbcd4cdb8d1d85c3d63fcedeafc9bddc2  ...  English Girls Approximately\n",
              "4  6922083dbcd4cdb8d1d85c3d63fcedeafc9bddc2  ...         They Bring Me To You\n",
              "\n",
              "[5 rows x 6 columns]"
            ]
          },
          "metadata": {
            "tags": []
          },
          "execution_count": 23
        }
      ]
    },
    {
      "cell_type": "code",
      "metadata": {
        "colab_type": "code",
        "id": "LTBmYYoyA3qd",
        "colab": {
          "base_uri": "https://localhost:8080/",
          "height": 34
        },
        "outputId": "9ae7ded4-99d6-4f8c-907a-9a94c6371480"
      },
      "source": [
        "print(\"Number of unique users:\", len(toy_triplets[\"UserId\"].unique().tolist()), \",\",\n",
        "\"Number of unique songs:\", len(toy_triplets[\"SongId\"].unique().tolist()))"
      ],
      "execution_count": 67,
      "outputs": [
        {
          "output_type": "stream",
          "text": [
            "Number of unique users: 10000 , Number of unique songs: 105296\n"
          ],
          "name": "stdout"
        }
      ]
    },
    {
      "cell_type": "code",
      "metadata": {
        "id": "4ykEYlAEZOjT",
        "colab_type": "code",
        "colab": {}
      },
      "source": [
        "#toy_artist_merge = pd.merge(left = toy_triplets, right = bridge, left_on=\"SongId\", right_on=\"SongId\")"
      ],
      "execution_count": null,
      "outputs": []
    },
    {
      "cell_type": "code",
      "metadata": {
        "id": "yjUm42-oEqfU",
        "colab_type": "code",
        "colab": {
          "base_uri": "https://localhost:8080/",
          "height": 419
        },
        "outputId": "5b96d99e-d86a-4f05-9490-df7e5e7cbb9a"
      },
      "source": [
        "plt.hist(toy_triplets[\"Count\"])\n",
        "toy_triplets[\"Count\"].describe()"
      ],
      "execution_count": 109,
      "outputs": [
        {
          "output_type": "execute_result",
          "data": {
            "text/plain": [
              "count    484499.000000\n",
              "mean          2.885445\n",
              "std           6.519508\n",
              "min           1.000000\n",
              "25%           1.000000\n",
              "50%           1.000000\n",
              "75%           3.000000\n",
              "max        1222.000000\n",
              "Name: Count, dtype: float64"
            ]
          },
          "metadata": {
            "tags": []
          },
          "execution_count": 109
        },
        {
          "output_type": "display_data",
          "data": {
            "image/png": "[encoded data removed]",
            "text/plain": [
              "<Figure size 432x288 with 1 Axes>"
            ]
          },
          "metadata": {
            "tags": [],
            "needs_background": "light"
          }
        }
      ]
    },
    {
      "cell_type": "code",
      "metadata": {
        "id": "aZn34iKTE5De",
        "colab_type": "code",
        "colab": {}
      },
      "source": [
        "sum_art = toy_triplets.groupby([\"Artist\"]).size()"
      ],
      "execution_count": 110,
      "outputs": []
    },
    {
      "cell_type": "code",
      "metadata": {
        "id": "qyJHPT_jFAty",
        "colab_type": "code",
        "colab": {
          "base_uri": "https://localhost:8080/",
          "height": 238
        },
        "outputId": "3c80c9db-9bd2-46b2-eceb-f12a2cdf329b"
      },
      "source": [
        "sum_art"
      ],
      "execution_count": 111,
      "outputs": [
        {
          "output_type": "execute_result",
          "data": {
            "text/plain": [
              "Artist\n",
              "!!!                     25\n",
              "& And Oceans             2\n",
              "'68 Comeback             2\n",
              "'N Sync/Phil Collins    13\n",
              "'Til Tuesday             6\n",
              "                        ..\n",
              "Íon                      2\n",
              "Ólafur Arnalds          32\n",
              "Órla Fallon              1\n",
              "Özlem Tekin              1\n",
              "üNN                      1\n",
              "Length: 21365, dtype: int64"
            ]
          },
          "metadata": {
            "tags": []
          },
          "execution_count": 111
        }
      ]
    },
    {
      "cell_type": "markdown",
      "metadata": {
        "colab_type": "text",
        "id": "dLyulv0ZWYgF"
      },
      "source": [
        "#Entropy implementation"
      ]
    },
    {
      "cell_type": "markdown",
      "metadata": {
        "colab_type": "text",
        "id": "top8hrOiWd-q"
      },
      "source": [
        "## Shannon Entropy\n"
      ]
    },
    {
      "cell_type": "code",
      "metadata": {
        "colab_type": "code",
        "id": "MB2wqYcQA7bC",
        "colab": {}
      },
      "source": [
        "def entropy_me(p):\n",
        "    c = []\n",
        "    for i in p:\n",
        "        if i == 0:\n",
        "            b = 0\n",
        "        else:\n",
        "            b = -i*math.log2(i)\n",
        "        c.append(b)\n",
        "    d = sum(c)\n",
        "    return d"
      ],
      "execution_count": 68,
      "outputs": []
    },
    {
      "cell_type": "code",
      "metadata": {
        "colab_type": "code",
        "id": "BrCu-_tRB5ST",
        "colab": {}
      },
      "source": [
        "# getting a list of unique UserIds\n",
        "users = toy_triplets[\"UserId\"].unique().tolist()\n",
        "\n",
        "# calculating the Shannon entropy for each user separatelly and stacking\n",
        "# everything into the list \"shannon\"\n",
        "shannon = []\n",
        "for i in users:\n",
        "  b = toy_triplets[\"Count\"][toy_triplets[\"UserId\"]==i]/(np.sum(toy_triplets[\"Count\"][toy_triplets[\"UserId\"]==i]))\n",
        "  #a = entropy_me(b)\n",
        "  a = entropy(b, base = 2)\n",
        "  shannon.append(a)"
      ],
      "execution_count": 69,
      "outputs": []
    },
    {
      "cell_type": "code",
      "metadata": {
        "id": "NoI7fJlOnv8F",
        "colab_type": "code",
        "colab": {}
      },
      "source": [
        "#np.save(\"shannon\", shannon)"
      ],
      "execution_count": 71,
      "outputs": []
    },
    {
      "cell_type": "code",
      "metadata": {
        "id": "N-AK6FmZ45OG",
        "colab_type": "code",
        "colab": {
          "base_uri": "https://localhost:8080/",
          "height": 34
        },
        "outputId": "7f89ae69-9251-4711-802c-018dfc731f01"
      },
      "source": [
        "len(shannon)"
      ],
      "execution_count": 73,
      "outputs": [
        {
          "output_type": "execute_result",
          "data": {
            "text/plain": [
              "10000"
            ]
          },
          "metadata": {
            "tags": []
          },
          "execution_count": 73
        }
      ]
    },
    {
      "cell_type": "code",
      "metadata": {
        "colab_type": "code",
        "id": "mDP5iBeQHlDs",
        "colab": {
          "base_uri": "https://localhost:8080/",
          "height": 505
        },
        "outputId": "a9896ee7-7bd1-404f-e137-631eefdce4fe"
      },
      "source": [
        "# histograms\n",
        "plt.hist(shannon, bins=40)"
      ],
      "execution_count": 72,
      "outputs": [
        {
          "output_type": "execute_result",
          "data": {
            "text/plain": [
              "(array([  1.,   2.,   1.,   3.,   3.,  11.,  25.,  32.,  56., 129., 229.,\n",
              "        368., 679., 771., 761., 741., 695., 690., 598., 534., 478., 503.,\n",
              "        437., 412., 363., 338., 235., 207., 141., 143., 103.,  82.,  70.,\n",
              "         46.,  42.,  26.,  22.,  10.,   8.,   5.]),\n",
              " array([0.60899634, 0.81916881, 1.02934128, 1.23951375, 1.44968622,\n",
              "        1.6598587 , 1.87003117, 2.08020364, 2.29037611, 2.50054858,\n",
              "        2.71072105, 2.92089352, 3.13106599, 3.34123846, 3.55141093,\n",
              "        3.7615834 , 3.97175587, 4.18192834, 4.39210081, 4.60227328,\n",
              "        4.81244575, 5.02261822, 5.23279069, 5.44296316, 5.65313563,\n",
              "        5.8633081 , 6.07348057, 6.28365304, 6.49382551, 6.70399798,\n",
              "        6.91417045, 7.12434292, 7.3345154 , 7.54468787, 7.75486034,\n",
              "        7.96503281, 8.17520528, 8.38537775, 8.59555022, 8.80572269,\n",
              "        9.01589516]),\n",
              " <a list of 40 Patch objects>)"
            ]
          },
          "metadata": {
            "tags": []
          },
          "execution_count": 72
        },
        {
          "output_type": "display_data",
          "data": {
            "image/png": "[encoded data removed]",
            "text/plain": [
              "<Figure size 432x288 with 1 Axes>"
            ]
          },
          "metadata": {
            "tags": [],
            "needs_background": "light"
          }
        }
      ]
    },
    {
      "cell_type": "markdown",
      "metadata": {
        "colab_type": "text",
        "id": "kFYqxyY4ZcUs"
      },
      "source": [
        "Interesting bell-shapped distribution with right skew around the median. Overall, a nice spread of entropies - might indicate that it manages to separate even close cases."
      ]
    },
    {
      "cell_type": "code",
      "metadata": {
        "id": "CTkuVQ0C5bQe",
        "colab_type": "code",
        "colab": {}
      },
      "source": [
        ""
      ],
      "execution_count": 76,
      "outputs": []
    },
    {
      "cell_type": "markdown",
      "metadata": {
        "id": "mAnRS8M6VA7q",
        "colab_type": "text"
      },
      "source": [
        "### Further vizualisations\n",
        "\n"
      ]
    },
    {
      "cell_type": "markdown",
      "metadata": {
        "id": "qKbwh_DpyBd7",
        "colab_type": "text"
      },
      "source": [
        "We will examine the relationship between the Shannon entropy score and total playcount, coverage (number of distinct songs, artist) and popularity."
      ]
    },
    {
      "cell_type": "code",
      "metadata": {
        "id": "x48geQDlVFp9",
        "colab_type": "code",
        "colab": {}
      },
      "source": [
        "# total playcount\n",
        "total_playcount = []\n",
        "for i in users:\n",
        "  total_playcount.append(np.sum(toy_triplets[\"Count\"][toy_triplets[\"UserId\"]==i]))\n",
        "# np.save(\"total_playcount\", total_playcount)"
      ],
      "execution_count": 74,
      "outputs": []
    },
    {
      "cell_type": "code",
      "metadata": {
        "id": "5eGeOcsB7KNU",
        "colab_type": "code",
        "colab": {}
      },
      "source": [
        "plt.hist(total_playcount, bins = 40)"
      ],
      "execution_count": null,
      "outputs": []
    },
    {
      "cell_type": "code",
      "metadata": {
        "id": "86h1Xa6jVbCl",
        "colab_type": "code",
        "colab": {
          "base_uri": "https://localhost:8080/",
          "height": 282
        },
        "outputId": "d3178bc2-ee91-4ce2-a835-a7035b181da5"
      },
      "source": [
        "plt.scatter(total_playcount, shannon)\n",
        "print(pearsonr(total_playcount, shannon))"
      ],
      "execution_count": 77,
      "outputs": [
        {
          "output_type": "stream",
          "text": [
            "(0.5300136858245862, 0.0)\n"
          ],
          "name": "stdout"
        },
        {
          "output_type": "display_data",
          "data": {
            "image/png": "[encoded data removed]",
            "text/plain": [
              "<Figure size 432x288 with 1 Axes>"
            ]
          },
          "metadata": {
            "tags": [],
            "needs_background": "light"
          }
        }
      ]
    },
    {
      "cell_type": "code",
      "metadata": {
        "id": "KTl8sbIsV1w_",
        "colab_type": "code",
        "colab": {}
      },
      "source": [
        "# song coverage\n",
        "distinct_songs = []\n",
        "for i in users:\n",
        "  distinct_songs.append(np.sum(toy_triplets[\"UserId\"]==i))\n",
        "#np.save(\"distinct_songs\", distinct_songs)"
      ],
      "execution_count": 78,
      "outputs": []
    },
    {
      "cell_type": "code",
      "metadata": {
        "id": "mOGkEvWUWJyd",
        "colab_type": "code",
        "colab": {
          "base_uri": "https://localhost:8080/",
          "height": 282
        },
        "outputId": "11420c02-333b-4bc6-9ff1-1842095830ae"
      },
      "source": [
        "plt.scatter(distinct_songs, shannon)\n",
        "print(pearsonr(distinct_songs, shannon))"
      ],
      "execution_count": 80,
      "outputs": [
        {
          "output_type": "stream",
          "text": [
            "(0.8191249846228508, 0.0)\n"
          ],
          "name": "stdout"
        },
        {
          "output_type": "display_data",
          "data": {
            "image/png": "[encoded data removed]",
            "text/plain": [
              "<Figure size 432x288 with 1 Axes>"
            ]
          },
          "metadata": {
            "tags": [],
            "needs_background": "light"
          }
        }
      ]
    },
    {
      "cell_type": "code",
      "metadata": {
        "id": "h5i9Fem-yU9a",
        "colab_type": "code",
        "colab": {}
      },
      "source": [
        "# artist coverage\n",
        "distinct_artists = []\n",
        "for i in users:\n",
        "  a = len(toy_triplets[\"Artist\"][toy_triplets[\"UserId\"]==i].unique().tolist())\n",
        "  distinct_artists.append(a)\n",
        "#np.save(\"distinct_artists\", distinct_artists) "
      ],
      "execution_count": 81,
      "outputs": []
    },
    {
      "cell_type": "code",
      "metadata": {
        "id": "KtfsueWWzIhr",
        "colab_type": "code",
        "colab": {
          "base_uri": "https://localhost:8080/",
          "height": 282
        },
        "outputId": "27192139-4088-4377-9b56-284f7104be3f"
      },
      "source": [
        "plt.scatter(distinct_artists, shannon)\n",
        "print(pearsonr(distinct_artists, shannon))"
      ],
      "execution_count": 82,
      "outputs": [
        {
          "output_type": "stream",
          "text": [
            "(0.7682570978030047, 0.0)\n"
          ],
          "name": "stdout"
        },
        {
          "output_type": "display_data",
          "data": {
            "image/png": "[encoded data removed]",
            "text/plain": [
              "<Figure size 432x288 with 1 Axes>"
            ]
          },
          "metadata": {
            "tags": [],
            "needs_background": "light"
          }
        }
      ]
    },
    {
      "cell_type": "code",
      "metadata": {
        "id": "D_7YTuuuZoL-",
        "colab_type": "code",
        "colab": {}
      },
      "source": [
        "# popularity measure - refer to notes.\n",
        "# Consructing a synthetic user who listens only to the song which at least 10%\n",
        "# of the population listened to at least once\n",
        "\n",
        "\n",
        "# getting Q - a user who listens only to popular songs\n",
        "\n",
        "# getting a list of unique SongId\n",
        "\n",
        "# define q^1 - each instance of song being played at least onces corresponds to\n",
        "# a one count in q^1\n",
        "sum_song = toy_triplets.groupby([\"SongId\"]).size()\n",
        "sum_song = sum_song.to_frame()\n",
        "sum_song[\"SongId\"] = sum_song.index\n",
        "sum_song.columns = [\"Count_q\", \"SongId\"]"
      ],
      "execution_count": null,
      "outputs": []
    },
    {
      "cell_type": "code",
      "metadata": {
        "id": "AB10K2Rrcn-B",
        "colab_type": "code",
        "colab": {}
      },
      "source": [
        "# Now we want to retain songs that are listened by the 10% of the population\n",
        "Q_max = sum_song[sum_song[\"Count_q\"]>500]"
      ],
      "execution_count": 105,
      "outputs": []
    },
    {
      "cell_type": "code",
      "metadata": {
        "id": "if7wTYWVFqNq",
        "colab_type": "code",
        "colab": {}
      },
      "source": [
        "Q_max = sum_song.sort_values(by = \"Count_q\", ascending=False)[:500]"
      ],
      "execution_count": 124,
      "outputs": []
    },
    {
      "cell_type": "code",
      "metadata": {
        "id": "yTKfm_g2HDLP",
        "colab_type": "code",
        "colab": {
          "base_uri": "https://localhost:8080/",
          "height": 450
        },
        "outputId": "e2365250-0063-41d2-fcce-2ba1d6ab3d53"
      },
      "source": [
        "Q_max"
      ],
      "execution_count": 126,
      "outputs": [
        {
          "output_type": "execute_result",
          "data": {
            "text/html": [
              "<div>\n",
              "<style scoped>\n",
              "    .dataframe tbody tr th:only-of-type {\n",
              "        vertical-align: middle;\n",
              "    }\n",
              "\n",
              "    .dataframe tbody tr th {\n",
              "        vertical-align: top;\n",
              "    }\n",
              "\n",
              "    .dataframe thead th {\n",
              "        text-align: right;\n",
              "    }\n",
              "</style>\n",
              "<table border=\"1\" class=\"dataframe\">\n",
              "  <thead>\n",
              "    <tr style=\"text-align: right;\">\n",
              "      <th></th>\n",
              "      <th>Count_q</th>\n",
              "      <th>SongId</th>\n",
              "    </tr>\n",
              "    <tr>\n",
              "      <th>SongId</th>\n",
              "      <th></th>\n",
              "      <th></th>\n",
              "    </tr>\n",
              "  </thead>\n",
              "  <tbody>\n",
              "    <tr>\n",
              "      <th>SOFRQTD12A81C233C0</th>\n",
              "      <td>1045</td>\n",
              "      <td>SOFRQTD12A81C233C0</td>\n",
              "    </tr>\n",
              "    <tr>\n",
              "      <th>SOWCKVR12A8C142411</th>\n",
              "      <td>960</td>\n",
              "      <td>SOWCKVR12A8C142411</td>\n",
              "    </tr>\n",
              "    <tr>\n",
              "      <th>SOAUWYT12A81C206F1</th>\n",
              "      <td>872</td>\n",
              "      <td>SOAUWYT12A81C206F1</td>\n",
              "    </tr>\n",
              "    <tr>\n",
              "      <th>SOAXGDH12A8C13F8A1</th>\n",
              "      <td>832</td>\n",
              "      <td>SOAXGDH12A8C13F8A1</td>\n",
              "    </tr>\n",
              "    <tr>\n",
              "      <th>SOBONKR12A58A7A7E0</th>\n",
              "      <td>789</td>\n",
              "      <td>SOBONKR12A58A7A7E0</td>\n",
              "    </tr>\n",
              "    <tr>\n",
              "      <th>...</th>\n",
              "      <td>...</td>\n",
              "      <td>...</td>\n",
              "    </tr>\n",
              "    <tr>\n",
              "      <th>SONVPTP12A6D4F7A34</th>\n",
              "      <td>68</td>\n",
              "      <td>SONVPTP12A6D4F7A34</td>\n",
              "    </tr>\n",
              "    <tr>\n",
              "      <th>SOSELMV12A6D4FCF5A</th>\n",
              "      <td>68</td>\n",
              "      <td>SOSELMV12A6D4FCF5A</td>\n",
              "    </tr>\n",
              "    <tr>\n",
              "      <th>SOXCEYU12A6D4F3E70</th>\n",
              "      <td>68</td>\n",
              "      <td>SOXCEYU12A6D4F3E70</td>\n",
              "    </tr>\n",
              "    <tr>\n",
              "      <th>SODXFAS12A58A7B24B</th>\n",
              "      <td>68</td>\n",
              "      <td>SODXFAS12A58A7B24B</td>\n",
              "    </tr>\n",
              "    <tr>\n",
              "      <th>SOPKEIV12AB018220D</th>\n",
              "      <td>68</td>\n",
              "      <td>SOPKEIV12AB018220D</td>\n",
              "    </tr>\n",
              "  </tbody>\n",
              "</table>\n",
              "<p>500 rows × 2 columns</p>\n",
              "</div>"
            ],
            "text/plain": [
              "                    Count_q              SongId\n",
              "SongId                                         \n",
              "SOFRQTD12A81C233C0     1045  SOFRQTD12A81C233C0\n",
              "SOWCKVR12A8C142411      960  SOWCKVR12A8C142411\n",
              "SOAUWYT12A81C206F1      872  SOAUWYT12A81C206F1\n",
              "SOAXGDH12A8C13F8A1      832  SOAXGDH12A8C13F8A1\n",
              "SOBONKR12A58A7A7E0      789  SOBONKR12A58A7A7E0\n",
              "...                     ...                 ...\n",
              "SONVPTP12A6D4F7A34       68  SONVPTP12A6D4F7A34\n",
              "SOSELMV12A6D4FCF5A       68  SOSELMV12A6D4FCF5A\n",
              "SOXCEYU12A6D4F3E70       68  SOXCEYU12A6D4F3E70\n",
              "SODXFAS12A58A7B24B       68  SODXFAS12A58A7B24B\n",
              "SOPKEIV12AB018220D       68  SOPKEIV12AB018220D\n",
              "\n",
              "[500 rows x 2 columns]"
            ]
          },
          "metadata": {
            "tags": []
          },
          "execution_count": 126
        }
      ]
    },
    {
      "cell_type": "code",
      "metadata": {
        "id": "7peXtAdiEge5",
        "colab_type": "code",
        "colab": {
          "base_uri": "https://localhost:8080/",
          "height": 297
        },
        "outputId": "30903137-9423-4741-c7ca-17a574e7f096"
      },
      "source": [
        "Q_max.describe()"
      ],
      "execution_count": 125,
      "outputs": [
        {
          "output_type": "execute_result",
          "data": {
            "text/html": [
              "<div>\n",
              "<style scoped>\n",
              "    .dataframe tbody tr th:only-of-type {\n",
              "        vertical-align: middle;\n",
              "    }\n",
              "\n",
              "    .dataframe tbody tr th {\n",
              "        vertical-align: top;\n",
              "    }\n",
              "\n",
              "    .dataframe thead th {\n",
              "        text-align: right;\n",
              "    }\n",
              "</style>\n",
              "<table border=\"1\" class=\"dataframe\">\n",
              "  <thead>\n",
              "    <tr style=\"text-align: right;\">\n",
              "      <th></th>\n",
              "      <th>Count_q</th>\n",
              "    </tr>\n",
              "  </thead>\n",
              "  <tbody>\n",
              "    <tr>\n",
              "      <th>count</th>\n",
              "      <td>500.000000</td>\n",
              "    </tr>\n",
              "    <tr>\n",
              "      <th>mean</th>\n",
              "      <td>158.744000</td>\n",
              "    </tr>\n",
              "    <tr>\n",
              "      <th>std</th>\n",
              "      <td>136.210297</td>\n",
              "    </tr>\n",
              "    <tr>\n",
              "      <th>min</th>\n",
              "      <td>68.000000</td>\n",
              "    </tr>\n",
              "    <tr>\n",
              "      <th>25%</th>\n",
              "      <td>81.000000</td>\n",
              "    </tr>\n",
              "    <tr>\n",
              "      <th>50%</th>\n",
              "      <td>107.000000</td>\n",
              "    </tr>\n",
              "    <tr>\n",
              "      <th>75%</th>\n",
              "      <td>178.000000</td>\n",
              "    </tr>\n",
              "    <tr>\n",
              "      <th>max</th>\n",
              "      <td>1045.000000</td>\n",
              "    </tr>\n",
              "  </tbody>\n",
              "</table>\n",
              "</div>"
            ],
            "text/plain": [
              "           Count_q\n",
              "count   500.000000\n",
              "mean    158.744000\n",
              "std     136.210297\n",
              "min      68.000000\n",
              "25%      81.000000\n",
              "50%     107.000000\n",
              "75%     178.000000\n",
              "max    1045.000000"
            ]
          },
          "metadata": {
            "tags": []
          },
          "execution_count": 125
        }
      ]
    },
    {
      "cell_type": "code",
      "metadata": {
        "id": "vFYAJKBvdI2A",
        "colab_type": "code",
        "colab": {
          "base_uri": "https://localhost:8080/",
          "height": 34
        },
        "outputId": "1b837434-8564-4a47-ce89-30dd98d50501"
      },
      "source": [
        "pop_score = []\n",
        "for i in tqdm(users):\n",
        "  b = []\n",
        "  a = toy_triplets[\"SongId\"][toy_triplets[\"UserId\"]==i].values\n",
        "  for j in Q_max[\"SongId\"]:\n",
        "    if j in a:\n",
        "      b.append(1)\n",
        "    else:\n",
        "      b.append(0)\n",
        "  pop_score.append(np.sum(b))   "
      ],
      "execution_count": 133,
      "outputs": [
        {
          "output_type": "stream",
          "text": [
            "100%|██████████| 10000/10000 [05:53<00:00, 28.29it/s]\n"
          ],
          "name": "stderr"
        }
      ]
    },
    {
      "cell_type": "code",
      "metadata": {
        "id": "zxkMmZzNLNIE",
        "colab_type": "code",
        "colab": {}
      },
      "source": [
        "np.save(\"pop_score\", pop_score)"
      ],
      "execution_count": 135,
      "outputs": []
    },
    {
      "cell_type": "code",
      "metadata": {
        "id": "gM59MfMWiDg-",
        "colab_type": "code",
        "colab": {
          "base_uri": "https://localhost:8080/",
          "height": 282
        },
        "outputId": "c6a499b4-4276-42a5-9eb0-e3fa8544c3c0"
      },
      "source": [
        "plt.scatter(pop_score, shannon)\n",
        "print(pearsonr(pop_score, shannon))"
      ],
      "execution_count": 136,
      "outputs": [
        {
          "output_type": "stream",
          "text": [
            "(0.43138836357600985, 0.0)\n"
          ],
          "name": "stdout"
        },
        {
          "output_type": "display_data",
          "data": {
            "image/png": "[encoded data removed]",
            "text/plain": [
              "<Figure size 432x288 with 1 Axes>"
            ]
          },
          "metadata": {
            "tags": [],
            "needs_background": "light"
          }
        }
      ]
    },
    {
      "cell_type": "markdown",
      "metadata": {
        "colab_type": "text",
        "id": "tEAIGDCDIhM7"
      },
      "source": [
        "## Kulback-Leibler divergence"
      ]
    },
    {
      "cell_type": "code",
      "metadata": {
        "colab_type": "code",
        "id": "1PVsMdrjKj3d",
        "colab": {}
      },
      "source": [
        "# Kullback-Leibner divergence function\n",
        "def KL(p,q):\n",
        "    c = []\n",
        "    for i, j in zip(p,q):\n",
        "        if i == 0:\n",
        "            b = 0\n",
        "        else:\n",
        "            b = -i*math.log2(i/j)\n",
        "        c.append(b)\n",
        "    d = sum(c)\n",
        "    return d"
      ],
      "execution_count": null,
      "outputs": []
    },
    {
      "cell_type": "code",
      "metadata": {
        "colab_type": "code",
        "id": "cNHXEiYIWn6Y",
        "colab": {}
      },
      "source": [
        "# getting Q - theoretical distribution\n",
        "\n",
        "# getting a list of unique SongId\n",
        "songs = toy_triplets[\"SongId\"].unique().tolist()\n",
        "\n",
        "# define q^1 - each instance of song being played at least onces corresponds to\n",
        "# a one count in q^1\n",
        "#Q = []\n",
        "#for i in songs:\n",
        "  # a = np.sum(toy_triplets[\"SongId\"]==i)\n",
        "  # Q.append(a)\n",
        "\n",
        "# shaping into probabilities\n",
        "Q_p = Q/sum(Q)\n",
        "\n",
        "# placing into pandas\n",
        "Q_joint = {\"SongId\": songs, \"Freq_q\": Q_p}\n",
        "Q_joint = pd.DataFrame(Q_joint, columns = [\"SongId\", \"Freq_q\"])"
      ],
      "execution_count": null,
      "outputs": []
    },
    {
      "cell_type": "code",
      "metadata": {
        "colab_type": "code",
        "id": "ki3PlsvnLTe3",
        "colab": {}
      },
      "source": [
        "# list users from above (Shannon entropy)\n",
        "relative = []\n",
        "for u in users:\n",
        "  # subset the Count and SongID data for each user\n",
        "  p = toy_triplets[toy_triplets[\"UserId\"] == u]\n",
        "  # merge with Q so that the absent songs would disappear (p_ij = 0 contributes\n",
        "  # 0 to KL, hence it is equivalent to discard it a priori)\n",
        "  mid = pd.merge(left = p, right = Q_joint, left_on = \"SongId\", \n",
        "                 right_on = \"SongId\")\n",
        "  # defining a p_ij variable as a percentage \n",
        "  a = mid[\"Count\"]/np.sum(mid[\"Count\"])\n",
        "  # KL function aggregate\n",
        "  relative.append(KL(a, mid[\"Freq_q\"]))"
      ],
      "execution_count": null,
      "outputs": []
    },
    {
      "cell_type": "code",
      "metadata": {
        "colab_type": "code",
        "id": "rm11WKHYQWow",
        "colab": {
          "base_uri": "https://localhost:8080/",
          "height": 520
        },
        "outputId": "2be64480-0b4a-4397-9c64-2722c914ef50"
      },
      "source": [
        "plt.hist(relative, bins=40)"
      ],
      "execution_count": null,
      "outputs": [
        {
          "output_type": "execute_result",
          "data": {
            "text/plain": [
              "(array([1., 0., 0., 0., 0., 4., 1., 1., 0., 0., 1., 3., 2., 1., 6., 2., 5.,\n",
              "        4., 3., 6., 6., 4., 7., 2., 9., 2., 5., 2., 3., 3., 4., 4., 1., 3.,\n",
              "        2., 0., 0., 1., 0., 2.]),\n",
              " array([-11.24423712, -11.05336221, -10.8624873 , -10.67161239,\n",
              "        -10.48073748, -10.28986257, -10.09898766,  -9.90811275,\n",
              "         -9.71723783,  -9.52636292,  -9.33548801,  -9.1446131 ,\n",
              "         -8.95373819,  -8.76286328,  -8.57198837,  -8.38111346,\n",
              "         -8.19023855,  -7.99936364,  -7.80848872,  -7.61761381,\n",
              "         -7.4267389 ,  -7.23586399,  -7.04498908,  -6.85411417,\n",
              "         -6.66323926,  -6.47236435,  -6.28148944,  -6.09061453,\n",
              "         -5.89973961,  -5.7088647 ,  -5.51798979,  -5.32711488,\n",
              "         -5.13623997,  -4.94536506,  -4.75449015,  -4.56361524,\n",
              "         -4.37274033,  -4.18186542,  -3.99099051,  -3.80011559,\n",
              "         -3.60924068]),\n",
              " <a list of 40 Patch objects>)"
            ]
          },
          "metadata": {
            "tags": []
          },
          "execution_count": 72
        },
        {
          "output_type": "display_data",
          "data": {
            "image/png": "[encoded data removed]",
            "text/plain": [
              "<Figure size 432x288 with 1 Axes>"
            ]
          },
          "metadata": {
            "tags": [],
            "needs_background": "light"
          }
        }
      ]
    },
    {
      "cell_type": "markdown",
      "metadata": {
        "colab_type": "text",
        "id": "AXJk9-3hcuHC"
      },
      "source": [
        "Similar shape as Shannon entropy. Nice spread too. Now checking the correlation"
      ]
    },
    {
      "cell_type": "markdown",
      "metadata": {
        "id": "FoyTdZ8S0l-S",
        "colab_type": "text"
      },
      "source": [
        "### Further vizualisations"
      ]
    },
    {
      "cell_type": "code",
      "metadata": {
        "colab_type": "code",
        "id": "miJXW2jDCfNR",
        "colab": {
          "base_uri": "https://localhost:8080/",
          "height": 282
        },
        "outputId": "6fe41f16-1a2c-4853-892a-8d201151897f"
      },
      "source": [
        "plt.scatter(shannon, relative)"
      ],
      "execution_count": null,
      "outputs": [
        {
          "output_type": "execute_result",
          "data": {
            "text/plain": [
              "<matplotlib.collections.PathCollection at 0x7f6c9f160588>"
            ]
          },
          "metadata": {
            "tags": []
          },
          "execution_count": 73
        },
        {
          "output_type": "display_data",
          "data": {
            "image/png": "[encoded data removed]",
            "text/plain": [
              "<Figure size 432x288 with 1 Axes>"
            ]
          },
          "metadata": {
            "tags": [],
            "needs_background": "light"
          }
        }
      ]
    },
    {
      "cell_type": "code",
      "metadata": {
        "colab_type": "code",
        "id": "76sqluQNDAgB",
        "colab": {
          "base_uri": "https://localhost:8080/",
          "height": 282
        },
        "outputId": "56e1cd82-142c-44cc-9255-97c1731b9968"
      },
      "source": [
        "plt.scatter(total_playcount, relative)\n",
        "print(pearsonr(total_playcount, relative))"
      ],
      "execution_count": null,
      "outputs": [
        {
          "output_type": "stream",
          "text": [
            "(0.6503166981530246, 2.4390516311126865e-13)\n"
          ],
          "name": "stdout"
        },
        {
          "output_type": "display_data",
          "data": {
            "image/png": "[encoded data removed]",
            "text/plain": [
              "<Figure size 432x288 with 1 Axes>"
            ]
          },
          "metadata": {
            "tags": [],
            "needs_background": "light"
          }
        }
      ]
    },
    {
      "cell_type": "code",
      "metadata": {
        "id": "R8DraHHE0z8N",
        "colab_type": "code",
        "colab": {
          "base_uri": "https://localhost:8080/",
          "height": 282
        },
        "outputId": "3613b634-79a0-4744-f7ab-e5857603a86e"
      },
      "source": [
        "plt.scatter(distinct_songs, relative)\n",
        "print(pearsonr(distinct_songs, relative))"
      ],
      "execution_count": null,
      "outputs": [
        {
          "output_type": "stream",
          "text": [
            "(0.6953520529205681, 9.961851248773004e-16)\n"
          ],
          "name": "stdout"
        },
        {
          "output_type": "display_data",
          "data": {
            "image/png": "[encoded data removed]",
            "text/plain": [
              "<Figure size 432x288 with 1 Axes>"
            ]
          },
          "metadata": {
            "tags": [],
            "needs_background": "light"
          }
        }
      ]
    },
    {
      "cell_type": "code",
      "metadata": {
        "id": "bQKvrD5P09ia",
        "colab_type": "code",
        "colab": {
          "base_uri": "https://localhost:8080/",
          "height": 282
        },
        "outputId": "11c656e5-5fcf-43e3-cd6b-ac9b47d94c71"
      },
      "source": [
        "plt.scatter(distinct_artists, relative)\n",
        "print(pearsonr(distinct_artists, relative))"
      ],
      "execution_count": null,
      "outputs": [
        {
          "output_type": "stream",
          "text": [
            "(0.7284076602276596, 8.824766787315398e-18)\n"
          ],
          "name": "stdout"
        },
        {
          "output_type": "display_data",
          "data": {
            "image/png": "[encoded data removed]",
            "text/plain": [
              "<Figure size 432x288 with 1 Axes>"
            ]
          },
          "metadata": {
            "tags": [],
            "needs_background": "light"
          }
        }
      ]
    },
    {
      "cell_type": "code",
      "metadata": {
        "id": "RdvLR1qfj8a3",
        "colab_type": "code",
        "colab": {
          "base_uri": "https://localhost:8080/",
          "height": 282
        },
        "outputId": "70d696b0-9899-49c1-e3b1-1a4d1bbc9f51"
      },
      "source": [
        "plt.scatter(pop_score, relative)\n",
        "print(pearsonr(pop_score, relative))"
      ],
      "execution_count": null,
      "outputs": [
        {
          "output_type": "stream",
          "text": [
            "(0.5029489869189632, 9.673880863338638e-08)\n"
          ],
          "name": "stdout"
        },
        {
          "output_type": "display_data",
          "data": {
            "image/png": "[encoded data removed]",
            "text/plain": [
              "<Figure size 432x288 with 1 Axes>"
            ]
          },
          "metadata": {
            "tags": [],
            "needs_background": "light"
          }
        }
      ]
    },
    {
      "cell_type": "markdown",
      "metadata": {
        "colab_type": "text",
        "id": "PjnbfgGcc4W_"
      },
      "source": [
        "Strong positive correlation as expected. There is some tendency for the users to have relativelly higher KL divergence score than the Shannon entropy score meaning that some users might be seen more mainstream generalist than they are seen generalist"
      ]
    },
    {
      "cell_type": "markdown",
      "metadata": {
        "colab_type": "text",
        "id": "pgiZZklXEXro"
      },
      "source": [
        "## Gini-index\n"
      ]
    },
    {
      "cell_type": "code",
      "metadata": {
        "colab_type": "code",
        "id": "ylHe3--tEaQD",
        "colab": {}
      },
      "source": [
        "# Gini function\n",
        "def gini(p):\n",
        "    c = []\n",
        "    for i in p:\n",
        "        b = i**2\n",
        "        c.append(b)\n",
        "    d = 1 - sum(c)    \n",
        "    return d"
      ],
      "execution_count": 58,
      "outputs": []
    },
    {
      "cell_type": "code",
      "metadata": {
        "colab_type": "code",
        "id": "kMLmubp4E1QS",
        "colab": {}
      },
      "source": [
        "# getting gini index for each user independently\n",
        "gini_index = []\n",
        "for i in users:\n",
        "  b = toy_triplets[\"Count\"][toy_triplets[\"UserId\"]==i]/(np.sum(toy_triplets[\"Count\"][toy_triplets[\"UserId\"]==i]))\n",
        "  a = gini(b)\n",
        "  gini_index.append(a)"
      ],
      "execution_count": 59,
      "outputs": []
    },
    {
      "cell_type": "code",
      "metadata": {
        "colab_type": "code",
        "id": "X-17w3OEE_67",
        "colab": {
          "base_uri": "https://localhost:8080/",
          "height": 503
        },
        "outputId": "ffe28fee-68ca-4e07-8f56-712f17b62521"
      },
      "source": [
        "plt.hist(gini_index, bins = 40)"
      ],
      "execution_count": 60,
      "outputs": [
        {
          "output_type": "execute_result",
          "data": {
            "text/plain": [
              "(array([  1.,   0.,   0.,   0.,   0.,   0.,   0.,   0.,   0.,   0.,   1.,\n",
              "          0.,   0.,   0.,   1.,   0.,   0.,   1.,   0.,   0.,   2.,   1.,\n",
              "          0.,   3.,   1.,   3.,   5.,   4.,   6.,  10.,   9.,   9.,  28.,\n",
              "         29.,  80., 125., 169., 161., 203., 148.]),\n",
              " array([0.13834529, 0.15979911, 0.18125293, 0.20270675, 0.22416057,\n",
              "        0.24561439, 0.26706821, 0.28852202, 0.30997584, 0.33142966,\n",
              "        0.35288348, 0.3743373 , 0.39579112, 0.41724494, 0.43869876,\n",
              "        0.46015257, 0.48160639, 0.50306021, 0.52451403, 0.54596785,\n",
              "        0.56742167, 0.58887549, 0.6103293 , 0.63178312, 0.65323694,\n",
              "        0.67469076, 0.69614458, 0.7175984 , 0.73905222, 0.76050604,\n",
              "        0.78195985, 0.80341367, 0.82486749, 0.84632131, 0.86777513,\n",
              "        0.88922895, 0.91068277, 0.93213659, 0.9535904 , 0.97504422,\n",
              "        0.99649804]),\n",
              " <a list of 40 Patch objects>)"
            ]
          },
          "metadata": {
            "tags": []
          },
          "execution_count": 60
        },
        {
          "output_type": "display_data",
          "data": {
            "image/png": "[encoded data removed]",
            "text/plain": [
              "<Figure size 432x288 with 1 Axes>"
            ]
          },
          "metadata": {
            "tags": [],
            "needs_background": "light"
          }
        }
      ]
    },
    {
      "cell_type": "markdown",
      "metadata": {
        "colab_type": "text",
        "id": "rztvB80vdlyr"
      },
      "source": [
        "Most of the values are large - inbetween 0.9 and 1 indicating that according to Gini index, most of the users are rather generalist - the probability of two random draws with replacement to be different is large. The data spread is limited and that is an issue. I suppose this is due to the very small probabilities $p_{ij}$."
      ]
    },
    {
      "cell_type": "markdown",
      "metadata": {
        "id": "GAh9TxLq30T-",
        "colab_type": "text"
      },
      "source": [
        "### Further vizualisations"
      ]
    },
    {
      "cell_type": "code",
      "metadata": {
        "colab_type": "code",
        "id": "aRomcApjFb1u",
        "colab": {
          "base_uri": "https://localhost:8080/",
          "height": 282
        },
        "outputId": "8419116d-a061-4adf-a997-61e0f4e4a174"
      },
      "source": [
        "plt.scatter(shannon, gini_index)"
      ],
      "execution_count": null,
      "outputs": [
        {
          "output_type": "execute_result",
          "data": {
            "text/plain": [
              "<matplotlib.collections.PathCollection at 0x7f6cc6384470>"
            ]
          },
          "metadata": {
            "tags": []
          },
          "execution_count": 92
        },
        {
          "output_type": "display_data",
          "data": {
            "image/png": "[encoded data removed]",
            "text/plain": [
              "<Figure size 432x288 with 1 Axes>"
            ]
          },
          "metadata": {
            "tags": [],
            "needs_background": "light"
          }
        }
      ]
    },
    {
      "cell_type": "code",
      "metadata": {
        "colab_type": "code",
        "id": "2H3AEkDyGVsU",
        "colab": {
          "base_uri": "https://localhost:8080/",
          "height": 34
        },
        "outputId": "ff05e141-5ce1-40f8-c5c2-fdd7c54c0cf5"
      },
      "source": [
        "pearsonr(shannon, gini_index)"
      ],
      "execution_count": null,
      "outputs": [
        {
          "output_type": "execute_result",
          "data": {
            "text/plain": [
              "(0.7569033232483608, 8.294982060204223e-20)"
            ]
          },
          "metadata": {
            "tags": []
          },
          "execution_count": 93
        }
      ]
    },
    {
      "cell_type": "markdown",
      "metadata": {
        "colab_type": "text",
        "id": "vYpzzAz_d33B"
      },
      "source": [
        "Correlation between Gini index and Shannon entropy is lower thant that between the latter and the relative entropy. Also, we see a concave quadratic relationship between the Shannon entropy and Gini index. It is still positive."
      ]
    },
    {
      "cell_type": "code",
      "metadata": {
        "colab_type": "code",
        "id": "VmH6dg6xjWNJ",
        "colab": {
          "base_uri": "https://localhost:8080/",
          "height": 282
        },
        "outputId": "c9696d47-9dd3-4819-a2e1-ff58de4e3fb5"
      },
      "source": [
        "plt.scatter(relative, gini_index)"
      ],
      "execution_count": null,
      "outputs": [
        {
          "output_type": "execute_result",
          "data": {
            "text/plain": [
              "<matplotlib.collections.PathCollection at 0x7fe2b72dd7f0>"
            ]
          },
          "metadata": {
            "tags": []
          },
          "execution_count": 25
        },
        {
          "output_type": "display_data",
          "data": {
            "image/png": "[encoded data removed]",
            "text/plain": [
              "<Figure size 432x288 with 1 Axes>"
            ]
          },
          "metadata": {
            "tags": [],
            "needs_background": "light"
          }
        }
      ]
    },
    {
      "cell_type": "markdown",
      "metadata": {
        "colab_type": "text",
        "id": "1ldqdPaxjbeH"
      },
      "source": [
        "Relationship between the Gini index and the KL divergence is very similar to the one between Gini and Shannon entropy with more noise added due to the different benchmark measurement of the KL divergence."
      ]
    },
    {
      "cell_type": "code",
      "metadata": {
        "id": "9ZiWjr-A35wr",
        "colab_type": "code",
        "colab": {
          "base_uri": "https://localhost:8080/",
          "height": 282
        },
        "outputId": "78330f48-0655-45ec-c2e1-8b7edea10747"
      },
      "source": [
        "plt.scatter(total_playcount, gini_index)\n",
        "print(pearsonr(total_playcount, gini_index))"
      ],
      "execution_count": null,
      "outputs": [
        {
          "output_type": "stream",
          "text": [
            "(0.3623331572356941, 0.00021182079939306535)\n"
          ],
          "name": "stdout"
        },
        {
          "output_type": "display_data",
          "data": {
            "image/png": "[encoded data removed]",
            "text/plain": [
              "<Figure size 432x288 with 1 Axes>"
            ]
          },
          "metadata": {
            "tags": [],
            "needs_background": "light"
          }
        }
      ]
    },
    {
      "cell_type": "code",
      "metadata": {
        "id": "aow2w-Y-4FLD",
        "colab_type": "code",
        "colab": {
          "base_uri": "https://localhost:8080/",
          "height": 282
        },
        "outputId": "c9d0016e-b347-43c3-df6e-925d87cd38fa"
      },
      "source": [
        "plt.scatter(distinct_songs, gini_index)\n",
        "print(pearsonr(distinct_songs, gini_index))"
      ],
      "execution_count": null,
      "outputs": [
        {
          "output_type": "stream",
          "text": [
            "(0.36844405429677524, 0.00016213438786873586)\n"
          ],
          "name": "stdout"
        },
        {
          "output_type": "display_data",
          "data": {
            "image/png": "[encoded data removed]",
            "text/plain": [
              "<Figure size 432x288 with 1 Axes>"
            ]
          },
          "metadata": {
            "tags": [],
            "needs_background": "light"
          }
        }
      ]
    },
    {
      "cell_type": "code",
      "metadata": {
        "id": "5UKw8aXT4Nzp",
        "colab_type": "code",
        "colab": {
          "base_uri": "https://localhost:8080/",
          "height": 282
        },
        "outputId": "9ae0b03e-5836-4312-c715-cb0fdacd694f"
      },
      "source": [
        "plt.scatter(distinct_artists, gini_index)\n",
        "print(pearsonr(distinct_artists, gini_index))"
      ],
      "execution_count": null,
      "outputs": [
        {
          "output_type": "stream",
          "text": [
            "(0.4007877269958482, 3.5947305173808e-05)\n"
          ],
          "name": "stdout"
        },
        {
          "output_type": "display_data",
          "data": {
            "image/png": "[encoded data removed]",
            "text/plain": [
              "<Figure size 432x288 with 1 Axes>"
            ]
          },
          "metadata": {
            "tags": [],
            "needs_background": "light"
          }
        }
      ]
    },
    {
      "cell_type": "code",
      "metadata": {
        "id": "JqpeKahj4SvD",
        "colab_type": "code",
        "colab": {
          "base_uri": "https://localhost:8080/",
          "height": 282
        },
        "outputId": "298d943c-df7f-40cf-d177-9be636cbb238"
      },
      "source": [
        "plt.scatter(pop_score, gini_index)\n",
        "print(pearsonr(pop_score, gini_index))"
      ],
      "execution_count": null,
      "outputs": [
        {
          "output_type": "stream",
          "text": [
            "(0.1890081970222846, 0.05965539491488829)\n"
          ],
          "name": "stdout"
        },
        {
          "output_type": "display_data",
          "data": {
            "image/png": "[encoded data removed]",
            "text/plain": [
              "<Figure size 432x288 with 1 Axes>"
            ]
          },
          "metadata": {
            "tags": [],
            "needs_background": "light"
          }
        }
      ]
    },
    {
      "cell_type": "markdown",
      "metadata": {
        "colab_type": "text",
        "id": "8Hqp98CrII1T"
      },
      "source": [
        "## Hill number\n"
      ]
    },
    {
      "cell_type": "code",
      "metadata": {
        "colab_type": "code",
        "id": "dM9e9q6kIL6a",
        "colab": {}
      },
      "source": [
        "# Hill number function\n",
        "def hill(p,q):\n",
        "    c =[]\n",
        "    for i in p:\n",
        "        b = i**q\n",
        "        c.append(b)\n",
        "    d = sum(c)**(1/(1-q))   \n",
        "    return d"
      ],
      "execution_count": 53,
      "outputs": []
    },
    {
      "cell_type": "code",
      "metadata": {
        "colab_type": "code",
        "id": "n-cMPcjgIPg0",
        "colab": {}
      },
      "source": [
        "# implementation for each user and then aggregating in list \"hill_no\"\n",
        "hill_no = []\n",
        "for i in users:\n",
        "  b = toy_triplets[\"Count\"][toy_triplets[\"UserId\"]==i]/(np.sum(toy_triplets[\"Count\"][toy_triplets[\"UserId\"]==i]))\n",
        "  a = hill(b,2)\n",
        "  hill_no.append(a)"
      ],
      "execution_count": 61,
      "outputs": []
    },
    {
      "cell_type": "code",
      "metadata": {
        "colab_type": "code",
        "id": "piLugM3-Iauz",
        "colab": {
          "base_uri": "https://localhost:8080/",
          "height": 537
        },
        "outputId": "11312f49-671b-48c6-f93d-7be5720f7fcc"
      },
      "source": [
        "plt.hist(hill_no, bins = 40)"
      ],
      "execution_count": 62,
      "outputs": [
        {
          "output_type": "execute_result",
          "data": {
            "text/plain": [
              "(array([149., 360., 164.,  92.,  66.,  40.,  34.,  20.,  19.,   7.,  13.,\n",
              "          6.,   6.,   2.,   2.,   1.,   0.,   2.,   2.,   1.,   2.,   2.,\n",
              "          1.,   0.,   0.,   1.,   2.,   0.,   1.,   0.,   0.,   0.,   0.,\n",
              "          2.,   0.,   1.,   0.,   0.,   0.,   2.]),\n",
              " array([  1.16055769,   8.27040661,  15.38025553,  22.49010445,\n",
              "         29.59995337,  36.70980229,  43.81965121,  50.92950013,\n",
              "         58.03934905,  65.14919797,  72.25904689,  79.36889581,\n",
              "         86.47874473,  93.58859365, 100.69844257, 107.80829149,\n",
              "        114.91814041, 122.02798933, 129.13783825, 136.24768717,\n",
              "        143.35753609, 150.46738501, 157.57723393, 164.68708285,\n",
              "        171.79693177, 178.90678069, 186.01662961, 193.12647853,\n",
              "        200.23632744, 207.34617636, 214.45602528, 221.5658742 ,\n",
              "        228.67572312, 235.78557204, 242.89542096, 250.00526988,\n",
              "        257.1151188 , 264.22496772, 271.33481664, 278.44466556,\n",
              "        285.55451448]),\n",
              " <a list of 40 Patch objects>)"
            ]
          },
          "metadata": {
            "tags": []
          },
          "execution_count": 62
        },
        {
          "output_type": "display_data",
          "data": {
            "image/png": "[encoded data removed]",
            "text/plain": [
              "<Figure size 432x288 with 1 Axes>"
            ]
          },
          "metadata": {
            "tags": [],
            "needs_background": "light"
          }
        }
      ]
    },
    {
      "cell_type": "markdown",
      "metadata": {
        "colab_type": "text",
        "id": "Q_v5uTd9fJxx"
      },
      "source": [
        "There is somewhat more spread than with the Gini index with most of the Hill values ranging from 2 to just bellow 200 categories indicating that it would be easier to define a threashold for the specialist/ generialist labeling."
      ]
    },
    {
      "cell_type": "markdown",
      "metadata": {
        "id": "hXeF3hKg4en3",
        "colab_type": "text"
      },
      "source": [
        "### Further vizualisations"
      ]
    },
    {
      "cell_type": "code",
      "metadata": {
        "colab_type": "code",
        "id": "z2Yvw-8sfYiX",
        "colab": {
          "base_uri": "https://localhost:8080/",
          "height": 282
        },
        "outputId": "bef06286-5938-407c-cd34-2489b6c3f0e7"
      },
      "source": [
        "plt.scatter(shannon, hill_no)"
      ],
      "execution_count": null,
      "outputs": [
        {
          "output_type": "execute_result",
          "data": {
            "text/plain": [
              "<matplotlib.collections.PathCollection at 0x7fe2b7e85320>"
            ]
          },
          "metadata": {
            "tags": []
          },
          "execution_count": 10
        },
        {
          "output_type": "display_data",
          "data": {
            "image/png": "[encoded data removed]",
            "text/plain": [
              "<Figure size 432x288 with 1 Axes>"
            ]
          },
          "metadata": {
            "tags": [],
            "needs_background": "light"
          }
        }
      ]
    },
    {
      "cell_type": "code",
      "metadata": {
        "colab_type": "code",
        "id": "n3LrAsfxgoIB",
        "colab": {
          "base_uri": "https://localhost:8080/",
          "height": 34
        },
        "outputId": "e31cf13c-cf9e-4cd2-acd0-bd176cb61f33"
      },
      "source": [
        "pearsonr(shannon, hill_no)"
      ],
      "execution_count": null,
      "outputs": [
        {
          "output_type": "execute_result",
          "data": {
            "text/plain": [
              "(0.7286355815928001, 8.521424069815568e-18)"
            ]
          },
          "metadata": {
            "tags": []
          },
          "execution_count": 11
        }
      ]
    },
    {
      "cell_type": "markdown",
      "metadata": {
        "colab_type": "text",
        "id": "D1wzDxd7gdxp"
      },
      "source": [
        "Now we have positive quadratic convex relationship. The data spread is clearly better than with Gini index. The correlation with the Shannon entropy is, however smaller. It seems that users with large entropy values tend to require fewer equifrequent songs that one would expect under the linear relationship case. "
      ]
    },
    {
      "cell_type": "code",
      "metadata": {
        "colab_type": "code",
        "id": "1ArdPAklhQYp",
        "colab": {
          "base_uri": "https://localhost:8080/",
          "height": 282
        },
        "outputId": "d1652bd5-67cc-4197-aba8-f49a66b296dc"
      },
      "source": [
        "plt.scatter(hill_no, gini_index)"
      ],
      "execution_count": null,
      "outputs": [
        {
          "output_type": "execute_result",
          "data": {
            "text/plain": [
              "<matplotlib.collections.PathCollection at 0x7fe2b73e86a0>"
            ]
          },
          "metadata": {
            "tags": []
          },
          "execution_count": 19
        },
        {
          "output_type": "display_data",
          "data": {
            "image/png": "[encoded data removed]",
            "text/plain": [
              "<Figure size 432x288 with 1 Axes>"
            ]
          },
          "metadata": {
            "tags": [],
            "needs_background": "light"
          }
        }
      ]
    },
    {
      "cell_type": "code",
      "metadata": {
        "colab_type": "code",
        "id": "aCxzb1YShxdK",
        "colab": {
          "base_uri": "https://localhost:8080/",
          "height": 34
        },
        "outputId": "fdb8b7f2-7122-46bb-cdb9-9cfc83844d5d"
      },
      "source": [
        "pearsonr(hill_no, gini_index)"
      ],
      "execution_count": null,
      "outputs": [
        {
          "output_type": "execute_result",
          "data": {
            "text/plain": [
              "(0.354661385886188, 0.0002940824874292938)"
            ]
          },
          "metadata": {
            "tags": []
          },
          "execution_count": 20
        }
      ]
    },
    {
      "cell_type": "markdown",
      "metadata": {
        "colab_type": "text",
        "id": "O-sNUJLSh3lg"
      },
      "source": [
        "Extremelly low correlation between Hill number and Gini index and a rather non-sensial scatter plots indicates that these two measures are rather different and capture different aspect of the data."
      ]
    },
    {
      "cell_type": "code",
      "metadata": {
        "colab_type": "code",
        "id": "qfjFOnaEiR5v",
        "colab": {
          "base_uri": "https://localhost:8080/",
          "height": 282
        },
        "outputId": "a37edffa-ef92-4a87-a0af-09bb464f8016"
      },
      "source": [
        "plt.scatter(relative, hill_no)"
      ],
      "execution_count": null,
      "outputs": [
        {
          "output_type": "execute_result",
          "data": {
            "text/plain": [
              "<matplotlib.collections.PathCollection at 0x7fe2b736bf98>"
            ]
          },
          "metadata": {
            "tags": []
          },
          "execution_count": 24
        },
        {
          "output_type": "display_data",
          "data": {
            "image/png": "[encoded data removed]",
            "text/plain": [
              "<Figure size 432x288 with 1 Axes>"
            ]
          },
          "metadata": {
            "tags": [],
            "needs_background": "light"
          }
        }
      ]
    },
    {
      "cell_type": "markdown",
      "metadata": {
        "colab_type": "text",
        "id": "Z9ftoKnkiY-N"
      },
      "source": [
        "The relationship between the Hill number and KL divergence is rather similar to the one between the former and the Shannon entropy, yet with more noise potentialy arising due to the KL divergence measuring similarity to the mainstream generalist as opposed to the overall generalist"
      ]
    },
    {
      "cell_type": "code",
      "metadata": {
        "id": "nXwxj-sw4ibj",
        "colab_type": "code",
        "colab": {
          "base_uri": "https://localhost:8080/",
          "height": 282
        },
        "outputId": "7061c072-8f1f-4a89-8a42-66e858bfc17c"
      },
      "source": [
        "plt.scatter(total_playcount, hill_no)\n",
        "print(pearsonr(total_playcount, hill_no))"
      ],
      "execution_count": null,
      "outputs": [
        {
          "output_type": "stream",
          "text": [
            "(0.7296702659829094, 7.267025789410607e-18)\n"
          ],
          "name": "stdout"
        },
        {
          "output_type": "display_data",
          "data": {
            "image/png": "[encoded data removed]",
            "text/plain": [
              "<Figure size 432x288 with 1 Axes>"
            ]
          },
          "metadata": {
            "tags": [],
            "needs_background": "light"
          }
        }
      ]
    },
    {
      "cell_type": "code",
      "metadata": {
        "id": "ry42ub054vuM",
        "colab_type": "code",
        "colab": {
          "base_uri": "https://localhost:8080/",
          "height": 282
        },
        "outputId": "ea23195d-7628-4f4e-9ba3-a977c1640f0b"
      },
      "source": [
        "plt.scatter(distinct_songs, hill_no)\n",
        "print(pearsonr(distinct_songs, hill_no))"
      ],
      "execution_count": null,
      "outputs": [
        {
          "output_type": "stream",
          "text": [
            "(0.9243580114756229, 8.472933454673683e-43)\n"
          ],
          "name": "stdout"
        },
        {
          "output_type": "display_data",
          "data": {
            "image/png": "[encoded data removed]",
            "text/plain": [
              "<Figure size 432x288 with 1 Axes>"
            ]
          },
          "metadata": {
            "tags": [],
            "needs_background": "light"
          }
        }
      ]
    },
    {
      "cell_type": "code",
      "metadata": {
        "id": "mWkwDRSD4417",
        "colab_type": "code",
        "colab": {
          "base_uri": "https://localhost:8080/",
          "height": 282
        },
        "outputId": "9c5fd15e-e305-4c49-bc67-5dc0d6ac68b4"
      },
      "source": [
        "plt.scatter(distinct_artists, hill_no)\n",
        "print(pearsonr(distinct_artists, hill_no))"
      ],
      "execution_count": null,
      "outputs": [
        {
          "output_type": "stream",
          "text": [
            "(0.7563008853508721, 9.215584375707458e-20)\n"
          ],
          "name": "stdout"
        },
        {
          "output_type": "display_data",
          "data": {
            "image/png": "[encoded data removed]",
            "text/plain": [
              "<Figure size 432x288 with 1 Axes>"
            ]
          },
          "metadata": {
            "tags": [],
            "needs_background": "light"
          }
        }
      ]
    },
    {
      "cell_type": "code",
      "metadata": {
        "id": "UM-r_kv95Caa",
        "colab_type": "code",
        "colab": {
          "base_uri": "https://localhost:8080/",
          "height": 282
        },
        "outputId": "e705e301-a371-4cac-8c5e-851beb96a6dc"
      },
      "source": [
        "plt.scatter(pop_score, hill_no)\n",
        "print(pearsonr(pop_score, hill_no))"
      ],
      "execution_count": null,
      "outputs": [
        {
          "output_type": "stream",
          "text": [
            "(0.08073294240675358, 0.42458975538770616)\n"
          ],
          "name": "stdout"
        },
        {
          "output_type": "display_data",
          "data": {
            "image/png": "[encoded data removed]",
            "text/plain": [
              "<Figure size 432x288 with 1 Axes>"
            ]
          },
          "metadata": {
            "tags": [],
            "needs_background": "light"
          }
        }
      ]
    },
    {
      "cell_type": "markdown",
      "metadata": {
        "id": "IA0jlbNh5hIp",
        "colab_type": "text"
      },
      "source": [
        "# Entropy concordance"
      ]
    },
    {
      "cell_type": "code",
      "metadata": {
        "id": "suzwsJHTLnWs",
        "colab_type": "code",
        "colab": {}
      },
      "source": [
        "toy_with_pop = pd.merge(left = toy_artist_merge, right = Q_id, right_on = \"SongId\", left_on = \"SongId\")"
      ],
      "execution_count": null,
      "outputs": []
    },
    {
      "cell_type": "code",
      "metadata": {
        "id": "zd0GmslE50Ma",
        "colab_type": "code",
        "colab": {}
      },
      "source": [
        "a = np.array(shannon) - (np.array(relative))"
      ],
      "execution_count": null,
      "outputs": []
    },
    {
      "cell_type": "code",
      "metadata": {
        "id": "vnujrTW26y9_",
        "colab_type": "code",
        "colab": {}
      },
      "source": [
        "import scipy.stats as stats\n",
        "\n",
        "tau, p_value = stats.kendalltau(shannon, relative)"
      ],
      "execution_count": null,
      "outputs": []
    },
    {
      "cell_type": "code",
      "metadata": {
        "id": "bbcjT6_g8DNq",
        "colab_type": "code",
        "colab": {
          "base_uri": "https://localhost:8080/",
          "height": 34
        },
        "outputId": "e3b0533d-a8ad-4c3e-9817-36332ed40bbd"
      },
      "source": [
        "tau"
      ],
      "execution_count": null,
      "outputs": [
        {
          "output_type": "execute_result",
          "data": {
            "text/plain": [
              "0.7563636363636365"
            ]
          },
          "metadata": {
            "tags": []
          },
          "execution_count": 171
        }
      ]
    },
    {
      "cell_type": "code",
      "metadata": {
        "id": "mfHlwH4p8R_W",
        "colab_type": "code",
        "colab": {}
      },
      "source": [
        "shannon_r = stats.rankdata(shannon, method=\"min\")\n",
        "relative_r = stats.rankdata(relative, method=\"min\")"
      ],
      "execution_count": null,
      "outputs": []
    },
    {
      "cell_type": "code",
      "metadata": {
        "id": "Id-U_h6z8Y3T",
        "colab_type": "code",
        "colab": {}
      },
      "source": [
        "tau, p_value = stats.kendalltau(shannon_r, relative_r)"
      ],
      "execution_count": null,
      "outputs": []
    },
    {
      "cell_type": "code",
      "metadata": {
        "id": "VURLnpHo8kxP",
        "colab_type": "code",
        "colab": {
          "base_uri": "https://localhost:8080/",
          "height": 34
        },
        "outputId": "7fe93086-a6f7-41bf-f8d2-0aab8aa95fa3"
      },
      "source": [
        "tau"
      ],
      "execution_count": null,
      "outputs": [
        {
          "output_type": "execute_result",
          "data": {
            "text/plain": [
              "0.7563636363636365"
            ]
          },
          "metadata": {
            "tags": []
          },
          "execution_count": 179
        }
      ]
    },
    {
      "cell_type": "code",
      "metadata": {
        "id": "URNE1bOO8pE6",
        "colab_type": "code",
        "colab": {}
      },
      "source": [
        "a = shannon_r-relative_r"
      ],
      "execution_count": null,
      "outputs": []
    },
    {
      "cell_type": "code",
      "metadata": {
        "id": "J37IhdTG8tIk",
        "colab_type": "code",
        "colab": {
          "base_uri": "https://localhost:8080/",
          "height": 435
        },
        "outputId": "ccecd469-a58d-497c-857c-43ddf6e6ae26"
      },
      "source": [
        "plt.hist(a, bins = 40)"
      ],
      "execution_count": null,
      "outputs": [
        {
          "output_type": "execute_result",
          "data": {
            "text/plain": [
              "(array([ 1.,  1.,  1.,  1.,  0.,  0.,  0.,  0.,  1.,  0.,  0.,  0.,  1.,\n",
              "         0.,  1.,  0.,  3.,  2.,  0.,  0.,  0.,  1.,  1.,  1.,  0.,  2.,\n",
              "         7.,  1.,  9.,  8.,  6.,  9.,  6.,  4.,  4., 14.,  8.,  3.,  3.,\n",
              "         1.]),\n",
              " array([-47. , -45.4, -43.8, -42.2, -40.6, -39. , -37.4, -35.8, -34.2,\n",
              "        -32.6, -31. , -29.4, -27.8, -26.2, -24.6, -23. , -21.4, -19.8,\n",
              "        -18.2, -16.6, -15. , -13.4, -11.8, -10.2,  -8.6,  -7. ,  -5.4,\n",
              "         -3.8,  -2.2,  -0.6,   1. ,   2.6,   4.2,   5.8,   7.4,   9. ,\n",
              "         10.6,  12.2,  13.8,  15.4,  17. ]),\n",
              " <a list of 40 Patch objects>)"
            ]
          },
          "metadata": {
            "tags": []
          },
          "execution_count": 31
        },
        {
          "output_type": "display_data",
          "data": {
            "image/png": "[encoded data removed]",
            "text/plain": [
              "<Figure size 432x288 with 1 Axes>"
            ]
          },
          "metadata": {
            "tags": [],
            "needs_background": "light"
          }
        }
      ]
    },
    {
      "cell_type": "code",
      "metadata": {
        "id": "KZlm1Y8n89ZJ",
        "colab_type": "code",
        "colab": {
          "base_uri": "https://localhost:8080/",
          "height": 405
        },
        "outputId": "08ea86be-d07b-4f53-ef20-e6fbb95e6d89"
      },
      "source": [
        "plt.boxplot(a)"
      ],
      "execution_count": null,
      "outputs": [
        {
          "output_type": "execute_result",
          "data": {
            "text/plain": [
              "{'boxes': [<matplotlib.lines.Line2D at 0x7fb374251f60>],\n",
              " 'caps': [<matplotlib.lines.Line2D at 0x7fb3741d7978>,\n",
              "  <matplotlib.lines.Line2D at 0x7fb3741d7d30>],\n",
              " 'fliers': [<matplotlib.lines.Line2D at 0x7fb3741f1668>],\n",
              " 'means': [],\n",
              " 'medians': [<matplotlib.lines.Line2D at 0x7fb3741f11d0>],\n",
              " 'whiskers': [<matplotlib.lines.Line2D at 0x7fb3741d70f0>,\n",
              "  <matplotlib.lines.Line2D at 0x7fb3741d74e0>]}"
            ]
          },
          "metadata": {
            "tags": []
          },
          "execution_count": 188
        },
        {
          "output_type": "display_data",
          "data": {
            "image/png": "[encoded data removed]",
            "text/plain": [
              "<Figure size 432x288 with 1 Axes>"
            ]
          },
          "metadata": {
            "tags": [],
            "needs_background": "light"
          }
        }
      ]
    },
    {
      "cell_type": "code",
      "metadata": {
        "id": "iX3kpM-i9FBa",
        "colab_type": "code",
        "colab": {
          "base_uri": "https://localhost:8080/",
          "height": 297
        },
        "outputId": "6522987c-e9da-48e5-ec5b-448d2dfc5b5b"
      },
      "source": [
        "pd.DataFrame(a).describe()"
      ],
      "execution_count": null,
      "outputs": [
        {
          "output_type": "execute_result",
          "data": {
            "text/html": [
              "<div>\n",
              "<style scoped>\n",
              "    .dataframe tbody tr th:only-of-type {\n",
              "        vertical-align: middle;\n",
              "    }\n",
              "\n",
              "    .dataframe tbody tr th {\n",
              "        vertical-align: top;\n",
              "    }\n",
              "\n",
              "    .dataframe thead th {\n",
              "        text-align: right;\n",
              "    }\n",
              "</style>\n",
              "<table border=\"1\" class=\"dataframe\">\n",
              "  <thead>\n",
              "    <tr style=\"text-align: right;\">\n",
              "      <th></th>\n",
              "      <th>0</th>\n",
              "    </tr>\n",
              "  </thead>\n",
              "  <tbody>\n",
              "    <tr>\n",
              "      <th>count</th>\n",
              "      <td>100.000000</td>\n",
              "    </tr>\n",
              "    <tr>\n",
              "      <th>mean</th>\n",
              "      <td>0.000000</td>\n",
              "    </tr>\n",
              "    <tr>\n",
              "      <th>std</th>\n",
              "      <td>13.179415</td>\n",
              "    </tr>\n",
              "    <tr>\n",
              "      <th>min</th>\n",
              "      <td>-47.000000</td>\n",
              "    </tr>\n",
              "    <tr>\n",
              "      <th>25%</th>\n",
              "      <td>-2.250000</td>\n",
              "    </tr>\n",
              "    <tr>\n",
              "      <th>50%</th>\n",
              "      <td>3.000000</td>\n",
              "    </tr>\n",
              "    <tr>\n",
              "      <th>75%</th>\n",
              "      <td>9.000000</td>\n",
              "    </tr>\n",
              "    <tr>\n",
              "      <th>max</th>\n",
              "      <td>17.000000</td>\n",
              "    </tr>\n",
              "  </tbody>\n",
              "</table>\n",
              "</div>"
            ],
            "text/plain": [
              "                0\n",
              "count  100.000000\n",
              "mean     0.000000\n",
              "std     13.179415\n",
              "min    -47.000000\n",
              "25%     -2.250000\n",
              "50%      3.000000\n",
              "75%      9.000000\n",
              "max     17.000000"
            ]
          },
          "metadata": {
            "tags": []
          },
          "execution_count": 184
        }
      ]
    },
    {
      "cell_type": "code",
      "metadata": {
        "id": "e3oW1y2j9h5J",
        "colab_type": "code",
        "colab": {
          "base_uri": "https://localhost:8080/",
          "height": 297
        },
        "outputId": "85b9a0e2-c033-4df3-b2aa-7f1c9f96c323"
      },
      "source": [
        ""
      ],
      "execution_count": null,
      "outputs": [
        {
          "output_type": "execute_result",
          "data": {
            "text/html": [
              "<div>\n",
              "<style scoped>\n",
              "    .dataframe tbody tr th:only-of-type {\n",
              "        vertical-align: middle;\n",
              "    }\n",
              "\n",
              "    .dataframe tbody tr th {\n",
              "        vertical-align: top;\n",
              "    }\n",
              "\n",
              "    .dataframe thead th {\n",
              "        text-align: right;\n",
              "    }\n",
              "</style>\n",
              "<table border=\"1\" class=\"dataframe\">\n",
              "  <thead>\n",
              "    <tr style=\"text-align: right;\">\n",
              "      <th></th>\n",
              "      <th>0</th>\n",
              "    </tr>\n",
              "  </thead>\n",
              "  <tbody>\n",
              "    <tr>\n",
              "      <th>count</th>\n",
              "      <td>100.000000</td>\n",
              "    </tr>\n",
              "    <tr>\n",
              "      <th>mean</th>\n",
              "      <td>6.140856</td>\n",
              "    </tr>\n",
              "    <tr>\n",
              "      <th>std</th>\n",
              "      <td>1.490102</td>\n",
              "    </tr>\n",
              "    <tr>\n",
              "      <th>min</th>\n",
              "      <td>2.468433</td>\n",
              "    </tr>\n",
              "    <tr>\n",
              "      <th>25%</th>\n",
              "      <td>5.252517</td>\n",
              "    </tr>\n",
              "    <tr>\n",
              "      <th>50%</th>\n",
              "      <td>6.155510</td>\n",
              "    </tr>\n",
              "    <tr>\n",
              "      <th>75%</th>\n",
              "      <td>7.083454</td>\n",
              "    </tr>\n",
              "    <tr>\n",
              "      <th>max</th>\n",
              "      <td>10.020287</td>\n",
              "    </tr>\n",
              "  </tbody>\n",
              "</table>\n",
              "</div>"
            ],
            "text/plain": [
              "                0\n",
              "count  100.000000\n",
              "mean     6.140856\n",
              "std      1.490102\n",
              "min      2.468433\n",
              "25%      5.252517\n",
              "50%      6.155510\n",
              "75%      7.083454\n",
              "max     10.020287"
            ]
          },
          "metadata": {
            "tags": []
          },
          "execution_count": 186
        }
      ]
    },
    {
      "cell_type": "code",
      "metadata": {
        "id": "ddIIrGUlJiV6",
        "colab_type": "code",
        "colab": {
          "base_uri": "https://localhost:8080/",
          "height": 34
        },
        "outputId": "c1ec13f0-9b75-4b22-8403-c0abcc959abc"
      },
      "source": [
        "# check where values are more than 10\n",
        "np.where(a == 17)"
      ],
      "execution_count": null,
      "outputs": [
        {
          "output_type": "execute_result",
          "data": {
            "text/plain": [
              "(array([28]),)"
            ]
          },
          "metadata": {
            "tags": []
          },
          "execution_count": 207
        }
      ]
    },
    {
      "cell_type": "code",
      "metadata": {
        "id": "rCUHIZp2KDwc",
        "colab_type": "code",
        "colab": {
          "base_uri": "https://localhost:8080/",
          "height": 745
        },
        "outputId": "4aed1b3a-a29a-462d-d022-d41ffbc9d10b"
      },
      "source": [
        "toy_with_pop[toy_with_pop[\"UserId\"] == users[28]]"
      ],
      "execution_count": null,
      "outputs": [
        {
          "output_type": "execute_result",
          "data": {
            "text/html": [
              "<div>\n",
              "<style scoped>\n",
              "    .dataframe tbody tr th:only-of-type {\n",
              "        vertical-align: middle;\n",
              "    }\n",
              "\n",
              "    .dataframe tbody tr th {\n",
              "        vertical-align: top;\n",
              "    }\n",
              "\n",
              "    .dataframe thead th {\n",
              "        text-align: right;\n",
              "    }\n",
              "</style>\n",
              "<table border=\"1\" class=\"dataframe\">\n",
              "  <thead>\n",
              "    <tr style=\"text-align: right;\">\n",
              "      <th></th>\n",
              "      <th>UserId</th>\n",
              "      <th>SongId</th>\n",
              "      <th>Count</th>\n",
              "      <th>TrackId</th>\n",
              "      <th>Artist</th>\n",
              "      <th>Song_name</th>\n",
              "      <th>Freq_q</th>\n",
              "    </tr>\n",
              "  </thead>\n",
              "  <tbody>\n",
              "    <tr>\n",
              "      <th>836</th>\n",
              "      <td>ac006af6edb9b4b5345b8c268c3d205bc1b15001</td>\n",
              "      <td>SOQTPLM12B0B809575</td>\n",
              "      <td>1</td>\n",
              "      <td>TRAJNLN128F427D137</td>\n",
              "      <td>The Black Keys</td>\n",
              "      <td>Strange Times</td>\n",
              "      <td>3</td>\n",
              "    </tr>\n",
              "    <tr>\n",
              "      <th>983</th>\n",
              "      <td>ac006af6edb9b4b5345b8c268c3d205bc1b15001</td>\n",
              "      <td>SOTEPSZ12AB018C99D</td>\n",
              "      <td>1</td>\n",
              "      <td>TRKSEEY12903CCD312</td>\n",
              "      <td>The Black Keys</td>\n",
              "      <td>Ten Cent Pistol</td>\n",
              "      <td>3</td>\n",
              "    </tr>\n",
              "    <tr>\n",
              "      <th>3320</th>\n",
              "      <td>ac006af6edb9b4b5345b8c268c3d205bc1b15001</td>\n",
              "      <td>SOXGXKY12A8C13A405</td>\n",
              "      <td>2</td>\n",
              "      <td>TRRJFXX128F427A71F</td>\n",
              "      <td>The Black Keys</td>\n",
              "      <td>Remember When (Side A)</td>\n",
              "      <td>2</td>\n",
              "    </tr>\n",
              "    <tr>\n",
              "      <th>3532</th>\n",
              "      <td>ac006af6edb9b4b5345b8c268c3d205bc1b15001</td>\n",
              "      <td>SOITRTA12A6D4F8261</td>\n",
              "      <td>7</td>\n",
              "      <td>TRDRTNQ128F93313A3</td>\n",
              "      <td>Metallica</td>\n",
              "      <td>Ride The Lightning</td>\n",
              "      <td>3</td>\n",
              "    </tr>\n",
              "    <tr>\n",
              "      <th>4718</th>\n",
              "      <td>ac006af6edb9b4b5345b8c268c3d205bc1b15001</td>\n",
              "      <td>SOMRTUH12AB0185650</td>\n",
              "      <td>1</td>\n",
              "      <td>TRSVTRT12903CB450E</td>\n",
              "      <td>The Black Keys</td>\n",
              "      <td>The Lengths</td>\n",
              "      <td>2</td>\n",
              "    </tr>\n",
              "    <tr>\n",
              "      <th>...</th>\n",
              "      <td>...</td>\n",
              "      <td>...</td>\n",
              "      <td>...</td>\n",
              "      <td>...</td>\n",
              "      <td>...</td>\n",
              "      <td>...</td>\n",
              "      <td>...</td>\n",
              "    </tr>\n",
              "    <tr>\n",
              "      <th>7408</th>\n",
              "      <td>ac006af6edb9b4b5345b8c268c3d205bc1b15001</td>\n",
              "      <td>SOYKZMF12A8C132C30</td>\n",
              "      <td>1</td>\n",
              "      <td>TRIFTWF128F426ADD7</td>\n",
              "      <td>John Denver</td>\n",
              "      <td>Eagles And Horses</td>\n",
              "      <td>1</td>\n",
              "    </tr>\n",
              "    <tr>\n",
              "      <th>7409</th>\n",
              "      <td>ac006af6edb9b4b5345b8c268c3d205bc1b15001</td>\n",
              "      <td>SOYXSUQ12A8C13BC13</td>\n",
              "      <td>1</td>\n",
              "      <td>TRGOZHU128F427F9A5</td>\n",
              "      <td>Mariana Aydar</td>\n",
              "      <td>Maior É Deus</td>\n",
              "      <td>1</td>\n",
              "    </tr>\n",
              "    <tr>\n",
              "      <th>7410</th>\n",
              "      <td>ac006af6edb9b4b5345b8c268c3d205bc1b15001</td>\n",
              "      <td>SOZKXKH12A8C131FFB</td>\n",
              "      <td>1</td>\n",
              "      <td>TRIMNTB128F424E2C2</td>\n",
              "      <td>Ultraje A Rigor</td>\n",
              "      <td>Nós Vamos Invadir Sua Praia</td>\n",
              "      <td>1</td>\n",
              "    </tr>\n",
              "    <tr>\n",
              "      <th>7411</th>\n",
              "      <td>ac006af6edb9b4b5345b8c268c3d205bc1b15001</td>\n",
              "      <td>SOZODMP12AB018061F</td>\n",
              "      <td>12</td>\n",
              "      <td>TROQOJH128F92EFDD4</td>\n",
              "      <td>Major Lazer / Mr. Lex / Santigold</td>\n",
              "      <td>Hold The Line</td>\n",
              "      <td>2</td>\n",
              "    </tr>\n",
              "    <tr>\n",
              "      <th>7413</th>\n",
              "      <td>ac006af6edb9b4b5345b8c268c3d205bc1b15001</td>\n",
              "      <td>SOZPLIC12A8C13F391</td>\n",
              "      <td>5</td>\n",
              "      <td>TRTGCLJ128F92CFEB0</td>\n",
              "      <td>Mariana Aydar</td>\n",
              "      <td>Tudo Que Eu Trago No Bolso</td>\n",
              "      <td>1</td>\n",
              "    </tr>\n",
              "  </tbody>\n",
              "</table>\n",
              "<p>129 rows × 7 columns</p>\n",
              "</div>"
            ],
            "text/plain": [
              "                                        UserId  ... Freq_q\n",
              "836   ac006af6edb9b4b5345b8c268c3d205bc1b15001  ...      3\n",
              "983   ac006af6edb9b4b5345b8c268c3d205bc1b15001  ...      3\n",
              "3320  ac006af6edb9b4b5345b8c268c3d205bc1b15001  ...      2\n",
              "3532  ac006af6edb9b4b5345b8c268c3d205bc1b15001  ...      3\n",
              "4718  ac006af6edb9b4b5345b8c268c3d205bc1b15001  ...      2\n",
              "...                                        ...  ...    ...\n",
              "7408  ac006af6edb9b4b5345b8c268c3d205bc1b15001  ...      1\n",
              "7409  ac006af6edb9b4b5345b8c268c3d205bc1b15001  ...      1\n",
              "7410  ac006af6edb9b4b5345b8c268c3d205bc1b15001  ...      1\n",
              "7411  ac006af6edb9b4b5345b8c268c3d205bc1b15001  ...      2\n",
              "7413  ac006af6edb9b4b5345b8c268c3d205bc1b15001  ...      1\n",
              "\n",
              "[129 rows x 7 columns]"
            ]
          },
          "metadata": {
            "tags": []
          },
          "execution_count": 214
        }
      ]
    },
    {
      "cell_type": "code",
      "metadata": {
        "id": "A9bKogKLKoty",
        "colab_type": "code",
        "colab": {
          "base_uri": "https://localhost:8080/",
          "height": 34
        },
        "outputId": "d890461e-85f6-44d3-83f7-3da2e78c6b7b"
      },
      "source": [
        "print(shannon_r[28], relative_r[28], \n",
        "      shannon[28], relative[28])"
      ],
      "execution_count": null,
      "outputs": [
        {
          "output_type": "stream",
          "text": [
            "59 42 6.481286056696259 -7.356461018722857\n"
          ],
          "name": "stdout"
        }
      ]
    },
    {
      "cell_type": "code",
      "metadata": {
        "id": "x1kNJUjH4D-z",
        "colab_type": "code",
        "colab": {
          "base_uri": "https://localhost:8080/",
          "height": 34
        },
        "outputId": "1ff0f33a-f836-4ffb-e344-297fb473f9c0"
      },
      "source": [
        "print(total_playcount[28], distinct_songs[28], distinct_artists[28], pop_score[28])"
      ],
      "execution_count": null,
      "outputs": [
        {
          "output_type": "stream",
          "text": [
            "373 129 68 0\n"
          ],
          "name": "stdout"
        }
      ]
    },
    {
      "cell_type": "code",
      "metadata": {
        "id": "q6z6-3dC8AwU",
        "colab_type": "code",
        "colab": {
          "base_uri": "https://localhost:8080/",
          "height": 546
        },
        "outputId": "60c5ce39-5bf0-422f-ea24-a4a72c2f8af5"
      },
      "source": [
        "plt.hist(total_playcount)\n",
        "pd.DataFrame(total_playcount).describe()"
      ],
      "execution_count": null,
      "outputs": [
        {
          "output_type": "execute_result",
          "data": {
            "text/html": [
              "<div>\n",
              "<style scoped>\n",
              "    .dataframe tbody tr th:only-of-type {\n",
              "        vertical-align: middle;\n",
              "    }\n",
              "\n",
              "    .dataframe tbody tr th {\n",
              "        vertical-align: top;\n",
              "    }\n",
              "\n",
              "    .dataframe thead th {\n",
              "        text-align: right;\n",
              "    }\n",
              "</style>\n",
              "<table border=\"1\" class=\"dataframe\">\n",
              "  <thead>\n",
              "    <tr style=\"text-align: right;\">\n",
              "      <th></th>\n",
              "      <th>0</th>\n",
              "    </tr>\n",
              "  </thead>\n",
              "  <tbody>\n",
              "    <tr>\n",
              "      <th>count</th>\n",
              "      <td>100.000000</td>\n",
              "    </tr>\n",
              "    <tr>\n",
              "      <th>mean</th>\n",
              "      <td>343.080000</td>\n",
              "    </tr>\n",
              "    <tr>\n",
              "      <th>std</th>\n",
              "      <td>364.844195</td>\n",
              "    </tr>\n",
              "    <tr>\n",
              "      <th>min</th>\n",
              "      <td>16.000000</td>\n",
              "    </tr>\n",
              "    <tr>\n",
              "      <th>25%</th>\n",
              "      <td>110.750000</td>\n",
              "    </tr>\n",
              "    <tr>\n",
              "      <th>50%</th>\n",
              "      <td>225.000000</td>\n",
              "    </tr>\n",
              "    <tr>\n",
              "      <th>75%</th>\n",
              "      <td>436.000000</td>\n",
              "    </tr>\n",
              "    <tr>\n",
              "      <th>max</th>\n",
              "      <td>2409.000000</td>\n",
              "    </tr>\n",
              "  </tbody>\n",
              "</table>\n",
              "</div>"
            ],
            "text/plain": [
              "                 0\n",
              "count   100.000000\n",
              "mean    343.080000\n",
              "std     364.844195\n",
              "min      16.000000\n",
              "25%     110.750000\n",
              "50%     225.000000\n",
              "75%     436.000000\n",
              "max    2409.000000"
            ]
          },
          "metadata": {
            "tags": []
          },
          "execution_count": 39
        },
        {
          "output_type": "display_data",
          "data": {
            "image/png": "[encoded data removed]",
            "text/plain": [
              "<Figure size 432x288 with 1 Axes>"
            ]
          },
          "metadata": {
            "tags": [],
            "needs_background": "light"
          }
        }
      ]
    },
    {
      "cell_type": "code",
      "metadata": {
        "id": "ow_v0ppd8ZO5",
        "colab_type": "code",
        "colab": {
          "base_uri": "https://localhost:8080/",
          "height": 545
        },
        "outputId": "bc4032ab-cb02-482e-a13f-2d00dd0220f5"
      },
      "source": [
        "plt.hist(distinct_songs)\n",
        "pd.DataFrame(distinct_songs).describe()"
      ],
      "execution_count": null,
      "outputs": [
        {
          "output_type": "execute_result",
          "data": {
            "text/html": [
              "<div>\n",
              "<style scoped>\n",
              "    .dataframe tbody tr th:only-of-type {\n",
              "        vertical-align: middle;\n",
              "    }\n",
              "\n",
              "    .dataframe tbody tr th {\n",
              "        vertical-align: top;\n",
              "    }\n",
              "\n",
              "    .dataframe thead th {\n",
              "        text-align: right;\n",
              "    }\n",
              "</style>\n",
              "<table border=\"1\" class=\"dataframe\">\n",
              "  <thead>\n",
              "    <tr style=\"text-align: right;\">\n",
              "      <th></th>\n",
              "      <th>0</th>\n",
              "    </tr>\n",
              "  </thead>\n",
              "  <tbody>\n",
              "    <tr>\n",
              "      <th>count</th>\n",
              "      <td>100.000000</td>\n",
              "    </tr>\n",
              "    <tr>\n",
              "      <th>mean</th>\n",
              "      <td>160.550000</td>\n",
              "    </tr>\n",
              "    <tr>\n",
              "      <th>std</th>\n",
              "      <td>201.392846</td>\n",
              "    </tr>\n",
              "    <tr>\n",
              "      <th>min</th>\n",
              "      <td>10.000000</td>\n",
              "    </tr>\n",
              "    <tr>\n",
              "      <th>25%</th>\n",
              "      <td>53.250000</td>\n",
              "    </tr>\n",
              "    <tr>\n",
              "      <th>50%</th>\n",
              "      <td>104.500000</td>\n",
              "    </tr>\n",
              "    <tr>\n",
              "      <th>75%</th>\n",
              "      <td>173.750000</td>\n",
              "    </tr>\n",
              "    <tr>\n",
              "      <th>max</th>\n",
              "      <td>1267.000000</td>\n",
              "    </tr>\n",
              "  </tbody>\n",
              "</table>\n",
              "</div>"
            ],
            "text/plain": [
              "                 0\n",
              "count   100.000000\n",
              "mean    160.550000\n",
              "std     201.392846\n",
              "min      10.000000\n",
              "25%      53.250000\n",
              "50%     104.500000\n",
              "75%     173.750000\n",
              "max    1267.000000"
            ]
          },
          "metadata": {
            "tags": []
          },
          "execution_count": 40
        },
        {
          "output_type": "display_data",
          "data": {
            "image/png": "[encoded data removed]",
            "text/plain": [
              "<Figure size 432x288 with 1 Axes>"
            ]
          },
          "metadata": {
            "tags": [],
            "needs_background": "light"
          }
        }
      ]
    },
    {
      "cell_type": "code",
      "metadata": {
        "id": "y08WS2vh8cD1",
        "colab_type": "code",
        "colab": {
          "base_uri": "https://localhost:8080/",
          "height": 545
        },
        "outputId": "2f621ff0-a144-4298-cd3b-eeba0167f7ab"
      },
      "source": [
        "plt.hist(distinct_artists)\n",
        "pd.DataFrame(distinct_artists).describe()"
      ],
      "execution_count": null,
      "outputs": [
        {
          "output_type": "execute_result",
          "data": {
            "text/html": [
              "<div>\n",
              "<style scoped>\n",
              "    .dataframe tbody tr th:only-of-type {\n",
              "        vertical-align: middle;\n",
              "    }\n",
              "\n",
              "    .dataframe tbody tr th {\n",
              "        vertical-align: top;\n",
              "    }\n",
              "\n",
              "    .dataframe thead th {\n",
              "        text-align: right;\n",
              "    }\n",
              "</style>\n",
              "<table border=\"1\" class=\"dataframe\">\n",
              "  <thead>\n",
              "    <tr style=\"text-align: right;\">\n",
              "      <th></th>\n",
              "      <th>0</th>\n",
              "    </tr>\n",
              "  </thead>\n",
              "  <tbody>\n",
              "    <tr>\n",
              "      <th>count</th>\n",
              "      <td>100.000000</td>\n",
              "    </tr>\n",
              "    <tr>\n",
              "      <th>mean</th>\n",
              "      <td>81.100000</td>\n",
              "    </tr>\n",
              "    <tr>\n",
              "      <th>std</th>\n",
              "      <td>81.199654</td>\n",
              "    </tr>\n",
              "    <tr>\n",
              "      <th>min</th>\n",
              "      <td>4.000000</td>\n",
              "    </tr>\n",
              "    <tr>\n",
              "      <th>25%</th>\n",
              "      <td>28.750000</td>\n",
              "    </tr>\n",
              "    <tr>\n",
              "      <th>50%</th>\n",
              "      <td>57.500000</td>\n",
              "    </tr>\n",
              "    <tr>\n",
              "      <th>75%</th>\n",
              "      <td>102.250000</td>\n",
              "    </tr>\n",
              "    <tr>\n",
              "      <th>max</th>\n",
              "      <td>434.000000</td>\n",
              "    </tr>\n",
              "  </tbody>\n",
              "</table>\n",
              "</div>"
            ],
            "text/plain": [
              "                0\n",
              "count  100.000000\n",
              "mean    81.100000\n",
              "std     81.199654\n",
              "min      4.000000\n",
              "25%     28.750000\n",
              "50%     57.500000\n",
              "75%    102.250000\n",
              "max    434.000000"
            ]
          },
          "metadata": {
            "tags": []
          },
          "execution_count": 41
        },
        {
          "output_type": "display_data",
          "data": {
            "image/png": "[encoded data removed]",
            "text/plain": [
              "<Figure size 432x288 with 1 Axes>"
            ]
          },
          "metadata": {
            "tags": [],
            "needs_background": "light"
          }
        }
      ]
    },
    {
      "cell_type": "code",
      "metadata": {
        "id": "tIYoDpBx8gmM",
        "colab_type": "code",
        "colab": {
          "base_uri": "https://localhost:8080/",
          "height": 545
        },
        "outputId": "6010d089-9f4d-4833-9398-13b7f08db0fd"
      },
      "source": [
        "plt.hist(pop_score)\n",
        "pd.DataFrame(pop_score).describe()"
      ],
      "execution_count": null,
      "outputs": [
        {
          "output_type": "execute_result",
          "data": {
            "text/html": [
              "<div>\n",
              "<style scoped>\n",
              "    .dataframe tbody tr th:only-of-type {\n",
              "        vertical-align: middle;\n",
              "    }\n",
              "\n",
              "    .dataframe tbody tr th {\n",
              "        vertical-align: top;\n",
              "    }\n",
              "\n",
              "    .dataframe thead th {\n",
              "        text-align: right;\n",
              "    }\n",
              "</style>\n",
              "<table border=\"1\" class=\"dataframe\">\n",
              "  <thead>\n",
              "    <tr style=\"text-align: right;\">\n",
              "      <th></th>\n",
              "      <th>0</th>\n",
              "    </tr>\n",
              "  </thead>\n",
              "  <tbody>\n",
              "    <tr>\n",
              "      <th>count</th>\n",
              "      <td>100.000000</td>\n",
              "    </tr>\n",
              "    <tr>\n",
              "      <th>mean</th>\n",
              "      <td>3.410000</td>\n",
              "    </tr>\n",
              "    <tr>\n",
              "      <th>std</th>\n",
              "      <td>5.759656</td>\n",
              "    </tr>\n",
              "    <tr>\n",
              "      <th>min</th>\n",
              "      <td>0.000000</td>\n",
              "    </tr>\n",
              "    <tr>\n",
              "      <th>25%</th>\n",
              "      <td>0.000000</td>\n",
              "    </tr>\n",
              "    <tr>\n",
              "      <th>50%</th>\n",
              "      <td>1.000000</td>\n",
              "    </tr>\n",
              "    <tr>\n",
              "      <th>75%</th>\n",
              "      <td>3.250000</td>\n",
              "    </tr>\n",
              "    <tr>\n",
              "      <th>max</th>\n",
              "      <td>23.000000</td>\n",
              "    </tr>\n",
              "  </tbody>\n",
              "</table>\n",
              "</div>"
            ],
            "text/plain": [
              "                0\n",
              "count  100.000000\n",
              "mean     3.410000\n",
              "std      5.759656\n",
              "min      0.000000\n",
              "25%      0.000000\n",
              "50%      1.000000\n",
              "75%      3.250000\n",
              "max     23.000000"
            ]
          },
          "metadata": {
            "tags": []
          },
          "execution_count": 42
        },
        {
          "output_type": "display_data",
          "data": {
            "image/png": "[encoded data removed]",
            "text/plain": [
              "<Figure size 432x288 with 1 Axes>"
            ]
          },
          "metadata": {
            "tags": [],
            "needs_background": "light"
          }
        }
      ]
    },
    {
      "cell_type": "code",
      "metadata": {
        "id": "XF88ZILXIkMO",
        "colab_type": "code",
        "colab": {
          "base_uri": "https://localhost:8080/",
          "height": 34
        },
        "outputId": "9161df95-8cdb-4d0d-9549-2b4528c49951"
      },
      "source": [
        "# check where values are more than 10\n",
        "np.where(a == -47)"
      ],
      "execution_count": null,
      "outputs": [
        {
          "output_type": "execute_result",
          "data": {
            "text/plain": [
              "(array([57]),)"
            ]
          },
          "metadata": {
            "tags": []
          },
          "execution_count": 43
        }
      ]
    },
    {
      "cell_type": "code",
      "metadata": {
        "id": "0qjgEqIqIpGt",
        "colab_type": "code",
        "colab": {
          "base_uri": "https://localhost:8080/",
          "height": 34
        },
        "outputId": "7bce33dd-e6b1-493b-b738-57df2f194719"
      },
      "source": [
        "print(shannon_r[57], relative_r[57], \n",
        "      shannon[57], relative[57])"
      ],
      "execution_count": null,
      "outputs": [
        {
          "output_type": "stream",
          "text": [
            "39 86 5.801164626079563 -5.404896860761347\n"
          ],
          "name": "stdout"
        }
      ]
    },
    {
      "cell_type": "code",
      "metadata": {
        "id": "dy8TErF-I4jS",
        "colab_type": "code",
        "colab": {
          "base_uri": "https://localhost:8080/",
          "height": 34
        },
        "outputId": "0e935dab-f30e-426a-8542-2ffce9b3284a"
      },
      "source": [
        "print(total_playcount[57], distinct_songs[57], distinct_artists[57], pop_score[57])"
      ],
      "execution_count": null,
      "outputs": [
        {
          "output_type": "stream",
          "text": [
            "167 76 61 22\n"
          ],
          "name": "stdout"
        }
      ]
    },
    {
      "cell_type": "markdown",
      "metadata": {
        "id": "limIYjVDJTyf",
        "colab_type": "text"
      },
      "source": [
        "So Shannon vs KL divergence is pure popularity difference."
      ]
    },
    {
      "cell_type": "markdown",
      "metadata": {
        "id": "bwroLuYaJXmG",
        "colab_type": "text"
      },
      "source": [
        "## Shannon - Hill number"
      ]
    },
    {
      "cell_type": "code",
      "metadata": {
        "id": "NnnU7BnwJc2H",
        "colab_type": "code",
        "colab": {}
      },
      "source": [
        "hill_no_r = stats.rankdata(hill_no, method = \"min\")"
      ],
      "execution_count": null,
      "outputs": []
    },
    {
      "cell_type": "code",
      "metadata": {
        "id": "L2Jkk7lDJqvP",
        "colab_type": "code",
        "colab": {}
      },
      "source": [
        "tau, p_value = stats.kendalltau(shannon_r, hill_no_r)"
      ],
      "execution_count": null,
      "outputs": []
    },
    {
      "cell_type": "code",
      "metadata": {
        "id": "0VUwc31UJwyG",
        "colab_type": "code",
        "colab": {
          "base_uri": "https://localhost:8080/",
          "height": 34
        },
        "outputId": "a6fef0a8-c8b5-4e78-9ebd-d1b8a2afecdf"
      },
      "source": [
        "print(tau, p_value)"
      ],
      "execution_count": null,
      "outputs": [
        {
          "output_type": "stream",
          "text": [
            "0.8630303030303031 4.4335715544411205e-37\n"
          ],
          "name": "stdout"
        }
      ]
    },
    {
      "cell_type": "code",
      "metadata": {
        "id": "t1BDw-xKJ2nB",
        "colab_type": "code",
        "colab": {}
      },
      "source": [
        "diff_b = np.array(shannon_r)-np.array(hill_no_r) "
      ],
      "execution_count": null,
      "outputs": []
    },
    {
      "cell_type": "code",
      "metadata": {
        "id": "p_AB8Zh9KD4f",
        "colab_type": "code",
        "colab": {
          "base_uri": "https://localhost:8080/",
          "height": 333
        },
        "outputId": "df027f6f-1909-4fb0-d4f4-29a9b5a8b0fb"
      },
      "source": [
        "plt.hist(diff_b)"
      ],
      "execution_count": null,
      "outputs": [
        {
          "output_type": "execute_result",
          "data": {
            "text/plain": [
              "(array([ 3.,  7., 12., 28., 23., 13.,  4.,  4.,  3.,  3.]),\n",
              " array([-15. , -11.4,  -7.8,  -4.2,  -0.6,   3. ,   6.6,  10.2,  13.8,\n",
              "         17.4,  21. ]),\n",
              " <a list of 10 Patch objects>)"
            ]
          },
          "metadata": {
            "tags": []
          },
          "execution_count": 107
        },
        {
          "output_type": "display_data",
          "data": {
            "image/png": "[encoded data removed]",
            "text/plain": [
              "<Figure size 432x288 with 1 Axes>"
            ]
          },
          "metadata": {
            "tags": [],
            "needs_background": "light"
          }
        }
      ]
    },
    {
      "cell_type": "code",
      "metadata": {
        "id": "m9Z6rAWLKJmn",
        "colab_type": "code",
        "colab": {
          "base_uri": "https://localhost:8080/",
          "height": 297
        },
        "outputId": "2ba6de11-de07-420c-b991-863962b28e86"
      },
      "source": [
        "pd.DataFrame(diff_b).describe()"
      ],
      "execution_count": null,
      "outputs": [
        {
          "output_type": "execute_result",
          "data": {
            "text/html": [
              "<div>\n",
              "<style scoped>\n",
              "    .dataframe tbody tr th:only-of-type {\n",
              "        vertical-align: middle;\n",
              "    }\n",
              "\n",
              "    .dataframe tbody tr th {\n",
              "        vertical-align: top;\n",
              "    }\n",
              "\n",
              "    .dataframe thead th {\n",
              "        text-align: right;\n",
              "    }\n",
              "</style>\n",
              "<table border=\"1\" class=\"dataframe\">\n",
              "  <thead>\n",
              "    <tr style=\"text-align: right;\">\n",
              "      <th></th>\n",
              "      <th>0</th>\n",
              "    </tr>\n",
              "  </thead>\n",
              "  <tbody>\n",
              "    <tr>\n",
              "      <th>count</th>\n",
              "      <td>100.000000</td>\n",
              "    </tr>\n",
              "    <tr>\n",
              "      <th>mean</th>\n",
              "      <td>0.000000</td>\n",
              "    </tr>\n",
              "    <tr>\n",
              "      <th>std</th>\n",
              "      <td>6.928203</td>\n",
              "    </tr>\n",
              "    <tr>\n",
              "      <th>min</th>\n",
              "      <td>-15.000000</td>\n",
              "    </tr>\n",
              "    <tr>\n",
              "      <th>25%</th>\n",
              "      <td>-4.000000</td>\n",
              "    </tr>\n",
              "    <tr>\n",
              "      <th>50%</th>\n",
              "      <td>-0.500000</td>\n",
              "    </tr>\n",
              "    <tr>\n",
              "      <th>75%</th>\n",
              "      <td>3.000000</td>\n",
              "    </tr>\n",
              "    <tr>\n",
              "      <th>max</th>\n",
              "      <td>21.000000</td>\n",
              "    </tr>\n",
              "  </tbody>\n",
              "</table>\n",
              "</div>"
            ],
            "text/plain": [
              "                0\n",
              "count  100.000000\n",
              "mean     0.000000\n",
              "std      6.928203\n",
              "min    -15.000000\n",
              "25%     -4.000000\n",
              "50%     -0.500000\n",
              "75%      3.000000\n",
              "max     21.000000"
            ]
          },
          "metadata": {
            "tags": []
          },
          "execution_count": 108
        }
      ]
    },
    {
      "cell_type": "code",
      "metadata": {
        "id": "TCc50qCXKWwm",
        "colab_type": "code",
        "colab": {
          "base_uri": "https://localhost:8080/",
          "height": 34
        },
        "outputId": "241ca757-20b8-4658-f074-dcf6c2541e9c"
      },
      "source": [
        "print(np.where(diff_b == 21), np.where(diff_b==-15))"
      ],
      "execution_count": null,
      "outputs": [
        {
          "output_type": "stream",
          "text": [
            "(array([55]),) (array([32]),)\n"
          ],
          "name": "stdout"
        }
      ]
    },
    {
      "cell_type": "code",
      "metadata": {
        "id": "wJbseElLKpts",
        "colab_type": "code",
        "colab": {
          "base_uri": "https://localhost:8080/",
          "height": 34
        },
        "outputId": "2c21e2b7-368f-479a-dc02-2f2029761f95"
      },
      "source": [
        "print(shannon_r[21], hill_no_r[21], \n",
        "      shannon[21], hill_no[21])"
      ],
      "execution_count": null,
      "outputs": [
        {
          "output_type": "stream",
          "text": [
            "64 41 6.641596465690961 33.890953891150104\n"
          ],
          "name": "stdout"
        }
      ]
    },
    {
      "cell_type": "code",
      "metadata": {
        "id": "z31lTqYSKkGf",
        "colab_type": "code",
        "colab": {
          "base_uri": "https://localhost:8080/",
          "height": 34
        },
        "outputId": "717078fe-4af1-427e-ee4b-6d551455897a"
      },
      "source": [
        "print(total_playcount[55], distinct_songs[55], distinct_artists[55], pop_score[55])"
      ],
      "execution_count": null,
      "outputs": [
        {
          "output_type": "stream",
          "text": [
            "448 209 154 0\n"
          ],
          "name": "stdout"
        }
      ]
    },
    {
      "cell_type": "code",
      "metadata": {
        "id": "o-4miOZQPSP2",
        "colab_type": "code",
        "colab": {
          "base_uri": "https://localhost:8080/",
          "height": 711
        },
        "outputId": "5dfe4044-f0d6-4cc1-e1ed-69675970e5fa"
      },
      "source": [
        "toy_artist_merge[toy_artist_merge[\"UserId\"]==users[55]]"
      ],
      "execution_count": null,
      "outputs": [
        {
          "output_type": "execute_result",
          "data": {
            "text/html": [
              "<div>\n",
              "<style scoped>\n",
              "    .dataframe tbody tr th:only-of-type {\n",
              "        vertical-align: middle;\n",
              "    }\n",
              "\n",
              "    .dataframe tbody tr th {\n",
              "        vertical-align: top;\n",
              "    }\n",
              "\n",
              "    .dataframe thead th {\n",
              "        text-align: right;\n",
              "    }\n",
              "</style>\n",
              "<table border=\"1\" class=\"dataframe\">\n",
              "  <thead>\n",
              "    <tr style=\"text-align: right;\">\n",
              "      <th></th>\n",
              "      <th>UserId</th>\n",
              "      <th>SongId</th>\n",
              "      <th>Count</th>\n",
              "      <th>TrackId</th>\n",
              "      <th>Artist</th>\n",
              "      <th>Song_name</th>\n",
              "    </tr>\n",
              "  </thead>\n",
              "  <tbody>\n",
              "    <tr>\n",
              "      <th>1397</th>\n",
              "      <td>9d633fa5e6c1e6c4304d3394a1c1802d04e9d5e2</td>\n",
              "      <td>SOTUYFC12A8C13AE26</td>\n",
              "      <td>1</td>\n",
              "      <td>TRTAEKL128F92F8DB8</td>\n",
              "      <td>Noosa Head Feat. Marshall Jefferson</td>\n",
              "      <td>Mushrooms</td>\n",
              "    </tr>\n",
              "    <tr>\n",
              "      <th>3155</th>\n",
              "      <td>9d633fa5e6c1e6c4304d3394a1c1802d04e9d5e2</td>\n",
              "      <td>SOSJDQJ12A8C13D4A9</td>\n",
              "      <td>1</td>\n",
              "      <td>TRABOVH128F427D3B4</td>\n",
              "      <td>Chromeo</td>\n",
              "      <td>Fancy Footwork</td>\n",
              "    </tr>\n",
              "    <tr>\n",
              "      <th>3299</th>\n",
              "      <td>9d633fa5e6c1e6c4304d3394a1c1802d04e9d5e2</td>\n",
              "      <td>SOWRTJD12A8C132704</td>\n",
              "      <td>1</td>\n",
              "      <td>TRXIOUQ128F4269099</td>\n",
              "      <td>Aerosmith</td>\n",
              "      <td>Dream On</td>\n",
              "    </tr>\n",
              "    <tr>\n",
              "      <th>3341</th>\n",
              "      <td>9d633fa5e6c1e6c4304d3394a1c1802d04e9d5e2</td>\n",
              "      <td>SOZVCRW12A67ADA0B7</td>\n",
              "      <td>1</td>\n",
              "      <td>TRNTALF128EF343800</td>\n",
              "      <td>The Killers</td>\n",
              "      <td>When You Were Young</td>\n",
              "    </tr>\n",
              "    <tr>\n",
              "      <th>3460</th>\n",
              "      <td>9d633fa5e6c1e6c4304d3394a1c1802d04e9d5e2</td>\n",
              "      <td>SOFFQBG12A6D4F9793</td>\n",
              "      <td>2</td>\n",
              "      <td>TREIHZT128F146E229</td>\n",
              "      <td>Juanes</td>\n",
              "      <td>La Camisa Negra</td>\n",
              "    </tr>\n",
              "    <tr>\n",
              "      <th>...</th>\n",
              "      <td>...</td>\n",
              "      <td>...</td>\n",
              "      <td>...</td>\n",
              "      <td>...</td>\n",
              "      <td>...</td>\n",
              "      <td>...</td>\n",
              "    </tr>\n",
              "    <tr>\n",
              "      <th>10973</th>\n",
              "      <td>9d633fa5e6c1e6c4304d3394a1c1802d04e9d5e2</td>\n",
              "      <td>SOZJEAW12A58A761DB</td>\n",
              "      <td>5</td>\n",
              "      <td>TRRAXZJ128F92F56A8</td>\n",
              "      <td>Wilson Pickett</td>\n",
              "      <td>Land Of 1000 Dances</td>\n",
              "    </tr>\n",
              "    <tr>\n",
              "      <th>10974</th>\n",
              "      <td>9d633fa5e6c1e6c4304d3394a1c1802d04e9d5e2</td>\n",
              "      <td>SOZNBUK12A8C1383E3</td>\n",
              "      <td>1</td>\n",
              "      <td>TRMSIRD128F427EEFD</td>\n",
              "      <td>Sufjan Stevens</td>\n",
              "      <td>Sleeping Bear_ Sault Saint Marie</td>\n",
              "    </tr>\n",
              "    <tr>\n",
              "      <th>10975</th>\n",
              "      <td>9d633fa5e6c1e6c4304d3394a1c1802d04e9d5e2</td>\n",
              "      <td>SOZNMYQ12A6D4F837E</td>\n",
              "      <td>2</td>\n",
              "      <td>TRNGMZZ128F1469CFE</td>\n",
              "      <td>Wagon Christ</td>\n",
              "      <td>Piano Playa Hata</td>\n",
              "    </tr>\n",
              "    <tr>\n",
              "      <th>10976</th>\n",
              "      <td>9d633fa5e6c1e6c4304d3394a1c1802d04e9d5e2</td>\n",
              "      <td>SOZSNXB12A6310E141</td>\n",
              "      <td>1</td>\n",
              "      <td>TRQACSU128F1460103</td>\n",
              "      <td>Bentley Rhythm Ace</td>\n",
              "      <td>Jim'll Twist It</td>\n",
              "    </tr>\n",
              "    <tr>\n",
              "      <th>10977</th>\n",
              "      <td>9d633fa5e6c1e6c4304d3394a1c1802d04e9d5e2</td>\n",
              "      <td>SOZTQAP12A8C136F56</td>\n",
              "      <td>1</td>\n",
              "      <td>TRNPRQF128F425C707</td>\n",
              "      <td>Michael Gettel</td>\n",
              "      <td>Flight</td>\n",
              "    </tr>\n",
              "  </tbody>\n",
              "</table>\n",
              "<p>210 rows × 6 columns</p>\n",
              "</div>"
            ],
            "text/plain": [
              "                                         UserId  ...                         Song_name\n",
              "1397   9d633fa5e6c1e6c4304d3394a1c1802d04e9d5e2  ...                         Mushrooms\n",
              "3155   9d633fa5e6c1e6c4304d3394a1c1802d04e9d5e2  ...                    Fancy Footwork\n",
              "3299   9d633fa5e6c1e6c4304d3394a1c1802d04e9d5e2  ...                          Dream On\n",
              "3341   9d633fa5e6c1e6c4304d3394a1c1802d04e9d5e2  ...               When You Were Young\n",
              "3460   9d633fa5e6c1e6c4304d3394a1c1802d04e9d5e2  ...                   La Camisa Negra\n",
              "...                                         ...  ...                               ...\n",
              "10973  9d633fa5e6c1e6c4304d3394a1c1802d04e9d5e2  ...               Land Of 1000 Dances\n",
              "10974  9d633fa5e6c1e6c4304d3394a1c1802d04e9d5e2  ...  Sleeping Bear_ Sault Saint Marie\n",
              "10975  9d633fa5e6c1e6c4304d3394a1c1802d04e9d5e2  ...                  Piano Playa Hata\n",
              "10976  9d633fa5e6c1e6c4304d3394a1c1802d04e9d5e2  ...                   Jim'll Twist It\n",
              "10977  9d633fa5e6c1e6c4304d3394a1c1802d04e9d5e2  ...                            Flight\n",
              "\n",
              "[210 rows x 6 columns]"
            ]
          },
          "metadata": {
            "tags": []
          },
          "execution_count": 101
        }
      ]
    },
    {
      "cell_type": "code",
      "metadata": {
        "id": "ZR_xug6cLfo0",
        "colab_type": "code",
        "colab": {
          "base_uri": "https://localhost:8080/",
          "height": 452
        },
        "outputId": "d6fdc06f-f7dd-499e-88de-7e94c66c0cc0"
      },
      "source": [
        "plt.hist(toy_artist_merge[\"Count\"][toy_artist_merge[\"UserId\"]==users[55]], bins = 40)"
      ],
      "execution_count": null,
      "outputs": [
        {
          "output_type": "execute_result",
          "data": {
            "text/plain": [
              "(array([150.,  25.,  10.,   6.,   6.,   2.,   4.,   1.,   0.,   0.,   1.,\n",
              "          0.,   0.,   0.,   2.,   0.,   0.,   1.,   0.,   0.,   0.,   0.,\n",
              "          0.,   1.,   0.,   0.,   0.,   0.,   0.,   0.,   0.,   0.,   0.,\n",
              "          0.,   0.,   0.,   0.,   0.,   0.,   1.]),\n",
              " array([ 1.   ,  1.925,  2.85 ,  3.775,  4.7  ,  5.625,  6.55 ,  7.475,\n",
              "         8.4  ,  9.325, 10.25 , 11.175, 12.1  , 13.025, 13.95 , 14.875,\n",
              "        15.8  , 16.725, 17.65 , 18.575, 19.5  , 20.425, 21.35 , 22.275,\n",
              "        23.2  , 24.125, 25.05 , 25.975, 26.9  , 27.825, 28.75 , 29.675,\n",
              "        30.6  , 31.525, 32.45 , 33.375, 34.3  , 35.225, 36.15 , 37.075,\n",
              "        38.   ]),\n",
              " <a list of 40 Patch objects>)"
            ]
          },
          "metadata": {
            "tags": []
          },
          "execution_count": 98
        },
        {
          "output_type": "display_data",
          "data": {
            "image/png": "[encoded data removed]",
            "text/plain": [
              "<Figure size 432x288 with 1 Axes>"
            ]
          },
          "metadata": {
            "tags": [],
            "needs_background": "light"
          }
        }
      ]
    },
    {
      "cell_type": "markdown",
      "metadata": {
        "id": "wkT2IeoPONx5",
        "colab_type": "text"
      },
      "source": [
        "Ranking difference among those who have large count songs.  This is because frequent songs contribute only very small number to the Hill's number. This means that user 55, who according his behaviour should be listened as a strong generalist due to her playcount, number of artist and song stemming from classic rock to electornic and classical music is labelled as specialist because he has a few songs with relativelly high counts. Maybe we should do Hill q = 2? Hill CAN put more emphasis on more abundand categories. This might be useful. When changed to q = 2, the disconcordance decreased (Kendel's Tau rose to 0.86), yet the two most extreme values remained the same - 55 and 32.\n"
      ]
    },
    {
      "cell_type": "markdown",
      "metadata": {
        "id": "r1L4SSSQSXNx",
        "colab_type": "text"
      },
      "source": [
        "## Shannon - Gini "
      ]
    },
    {
      "cell_type": "code",
      "metadata": {
        "id": "osOfAEZ3SV3R",
        "colab_type": "code",
        "colab": {
          "base_uri": "https://localhost:8080/",
          "height": 34
        },
        "outputId": "242bcf0d-1a76-4169-b253-bb0f66c2fddf"
      },
      "source": [
        "gini_r = stats.rankdata(gini_index, method=\"min\")\n",
        "tau, p_val = stats.kendalltau(hill_no_r, gini_r)\n",
        "print(tau, p_value)"
      ],
      "execution_count": null,
      "outputs": [
        {
          "output_type": "stream",
          "text": [
            "1.0 4.4335715544411205e-37\n"
          ],
          "name": "stdout"
        }
      ]
    },
    {
      "cell_type": "code",
      "metadata": {
        "id": "_yC7Nv00Sthn",
        "colab_type": "code",
        "colab": {
          "base_uri": "https://localhost:8080/",
          "height": 545
        },
        "outputId": "90fb5c33-dd38-4f04-fea7-7f4c44236cc5"
      },
      "source": [
        "diff_c = np.array(shannon_r) - np.array(gini_r)\n",
        "plt.hist(diff_c)\n",
        "pd.DataFrame(diff_c).describe()"
      ],
      "execution_count": null,
      "outputs": [
        {
          "output_type": "execute_result",
          "data": {
            "text/html": [
              "<div>\n",
              "<style scoped>\n",
              "    .dataframe tbody tr th:only-of-type {\n",
              "        vertical-align: middle;\n",
              "    }\n",
              "\n",
              "    .dataframe tbody tr th {\n",
              "        vertical-align: top;\n",
              "    }\n",
              "\n",
              "    .dataframe thead th {\n",
              "        text-align: right;\n",
              "    }\n",
              "</style>\n",
              "<table border=\"1\" class=\"dataframe\">\n",
              "  <thead>\n",
              "    <tr style=\"text-align: right;\">\n",
              "      <th></th>\n",
              "      <th>0</th>\n",
              "    </tr>\n",
              "  </thead>\n",
              "  <tbody>\n",
              "    <tr>\n",
              "      <th>count</th>\n",
              "      <td>100.000000</td>\n",
              "    </tr>\n",
              "    <tr>\n",
              "      <th>mean</th>\n",
              "      <td>0.000000</td>\n",
              "    </tr>\n",
              "    <tr>\n",
              "      <th>std</th>\n",
              "      <td>6.928203</td>\n",
              "    </tr>\n",
              "    <tr>\n",
              "      <th>min</th>\n",
              "      <td>-15.000000</td>\n",
              "    </tr>\n",
              "    <tr>\n",
              "      <th>25%</th>\n",
              "      <td>-4.000000</td>\n",
              "    </tr>\n",
              "    <tr>\n",
              "      <th>50%</th>\n",
              "      <td>-0.500000</td>\n",
              "    </tr>\n",
              "    <tr>\n",
              "      <th>75%</th>\n",
              "      <td>3.000000</td>\n",
              "    </tr>\n",
              "    <tr>\n",
              "      <th>max</th>\n",
              "      <td>21.000000</td>\n",
              "    </tr>\n",
              "  </tbody>\n",
              "</table>\n",
              "</div>"
            ],
            "text/plain": [
              "                0\n",
              "count  100.000000\n",
              "mean     0.000000\n",
              "std      6.928203\n",
              "min    -15.000000\n",
              "25%     -4.000000\n",
              "50%     -0.500000\n",
              "75%      3.000000\n",
              "max     21.000000"
            ]
          },
          "metadata": {
            "tags": []
          },
          "execution_count": 112
        },
        {
          "output_type": "display_data",
          "data": {
            "image/png": "[encoded data removed]",
            "text/plain": [
              "<Figure size 432x288 with 1 Axes>"
            ]
          },
          "metadata": {
            "tags": [],
            "needs_background": "light"
          }
        }
      ]
    },
    {
      "cell_type": "code",
      "metadata": {
        "id": "GfDCXBIdS7BL",
        "colab_type": "code",
        "colab": {
          "base_uri": "https://localhost:8080/",
          "height": 34
        },
        "outputId": "740a61f2-3555-4e7f-e1da-bbbee6856869"
      },
      "source": [
        "print(np.where(diff_c==21), np.where(diff_c==-15))\n",
        "# same as Hill vs Shannon"
      ],
      "execution_count": null,
      "outputs": [
        {
          "output_type": "stream",
          "text": [
            "(array([55]),) (array([32]),)\n"
          ],
          "name": "stdout"
        }
      ]
    },
    {
      "cell_type": "code",
      "metadata": {
        "id": "wQOSdQnPTncy",
        "colab_type": "code",
        "colab": {
          "base_uri": "https://localhost:8080/",
          "height": 34
        },
        "outputId": "166bdf15-33e5-4cf4-e8b2-f2846e7ed104"
      },
      "source": [
        "print(shannon_r[55], gini_r[55], \n",
        "      shannon[55], gini_index[55])"
      ],
      "execution_count": null,
      "outputs": [
        {
          "output_type": "stream",
          "text": [
            "70 49 6.873332756614353 0.9816047512755102\n"
          ],
          "name": "stdout"
        }
      ]
    },
    {
      "cell_type": "markdown",
      "metadata": {
        "id": "cr90BK9_dNWv",
        "colab_type": "text"
      },
      "source": [
        "# Full data trial"
      ]
    },
    {
      "cell_type": "code",
      "metadata": {
        "id": "T7DnqVAmdjWW",
        "colab_type": "code",
        "colab": {
          "base_uri": "https://localhost:8080/",
          "height": 409
        },
        "outputId": "3c6f16c5-01a3-4f49-a009-879c77efef6f"
      },
      "source": [
        "users = artist_merge[\"UserId\"].unique().tolist()\n",
        "\n",
        "# calculating the Shannon entropy for each user separatelly and stacking\n",
        "# everything into the list \"shannon\"\n",
        "shannon = []\n",
        "for i in users:\n",
        "  b = artist_merge[\"Count\"][artist_merge[\"UserId\"]==i]/(np.sum(artist_merge[\"Count\"][artist_merge[\"UserId\"]==i]))\n",
        "  a = entropy_me(b)\n",
        "  shannon.append(a)"
      ],
      "execution_count": null,
      "outputs": [
        {
          "output_type": "error",
          "ename": "KeyboardInterrupt",
          "evalue": "ignored",
          "traceback": [
            "\u001b[0;31m---------------------------------------------------------------------------\u001b[0m",
            "\u001b[0;31mKeyboardInterrupt\u001b[0m                         Traceback (most recent call last)",
            "\u001b[0;32m<ipython-input-10-d72dfa5a903c>\u001b[0m in \u001b[0;36m<module>\u001b[0;34m()\u001b[0m\n\u001b[1;32m      5\u001b[0m \u001b[0mshannon\u001b[0m \u001b[0;34m=\u001b[0m \u001b[0;34m[\u001b[0m\u001b[0;34m]\u001b[0m\u001b[0;34m\u001b[0m\u001b[0;34m\u001b[0m\u001b[0m\n\u001b[1;32m      6\u001b[0m \u001b[0;32mfor\u001b[0m \u001b[0mi\u001b[0m \u001b[0;32min\u001b[0m \u001b[0musers\u001b[0m\u001b[0;34m:\u001b[0m\u001b[0;34m\u001b[0m\u001b[0;34m\u001b[0m\u001b[0m\n\u001b[0;32m----> 7\u001b[0;31m   \u001b[0mb\u001b[0m \u001b[0;34m=\u001b[0m \u001b[0martist_merge\u001b[0m\u001b[0;34m[\u001b[0m\u001b[0;34m\"Count\"\u001b[0m\u001b[0;34m]\u001b[0m\u001b[0;34m[\u001b[0m\u001b[0martist_merge\u001b[0m\u001b[0;34m[\u001b[0m\u001b[0;34m\"UserId\"\u001b[0m\u001b[0;34m]\u001b[0m\u001b[0;34m==\u001b[0m\u001b[0mi\u001b[0m\u001b[0;34m]\u001b[0m\u001b[0;34m/\u001b[0m\u001b[0;34m(\u001b[0m\u001b[0mnp\u001b[0m\u001b[0;34m.\u001b[0m\u001b[0msum\u001b[0m\u001b[0;34m(\u001b[0m\u001b[0martist_merge\u001b[0m\u001b[0;34m[\u001b[0m\u001b[0;34m\"Count\"\u001b[0m\u001b[0;34m]\u001b[0m\u001b[0;34m[\u001b[0m\u001b[0martist_merge\u001b[0m\u001b[0;34m[\u001b[0m\u001b[0;34m\"UserId\"\u001b[0m\u001b[0;34m]\u001b[0m\u001b[0;34m==\u001b[0m\u001b[0mi\u001b[0m\u001b[0;34m]\u001b[0m\u001b[0;34m)\u001b[0m\u001b[0;34m)\u001b[0m\u001b[0;34m\u001b[0m\u001b[0;34m\u001b[0m\u001b[0m\n\u001b[0m\u001b[1;32m      8\u001b[0m   \u001b[0ma\u001b[0m \u001b[0;34m=\u001b[0m \u001b[0mentropy_me\u001b[0m\u001b[0;34m(\u001b[0m\u001b[0mb\u001b[0m\u001b[0;34m)\u001b[0m\u001b[0;34m\u001b[0m\u001b[0;34m\u001b[0m\u001b[0m\n\u001b[1;32m      9\u001b[0m   \u001b[0mshannon\u001b[0m\u001b[0;34m.\u001b[0m\u001b[0mappend\u001b[0m\u001b[0;34m(\u001b[0m\u001b[0ma\u001b[0m\u001b[0;34m)\u001b[0m\u001b[0;34m\u001b[0m\u001b[0;34m\u001b[0m\u001b[0m\n",
            "\u001b[0;32m/usr/local/lib/python3.6/dist-packages/pandas/core/ops/common.py\u001b[0m in \u001b[0;36mnew_method\u001b[0;34m(self, other)\u001b[0m\n\u001b[1;32m     62\u001b[0m         \u001b[0mother\u001b[0m \u001b[0;34m=\u001b[0m \u001b[0mitem_from_zerodim\u001b[0m\u001b[0;34m(\u001b[0m\u001b[0mother\u001b[0m\u001b[0;34m)\u001b[0m\u001b[0;34m\u001b[0m\u001b[0;34m\u001b[0m\u001b[0m\n\u001b[1;32m     63\u001b[0m \u001b[0;34m\u001b[0m\u001b[0m\n\u001b[0;32m---> 64\u001b[0;31m         \u001b[0;32mreturn\u001b[0m \u001b[0mmethod\u001b[0m\u001b[0;34m(\u001b[0m\u001b[0mself\u001b[0m\u001b[0;34m,\u001b[0m \u001b[0mother\u001b[0m\u001b[0;34m)\u001b[0m\u001b[0;34m\u001b[0m\u001b[0;34m\u001b[0m\u001b[0m\n\u001b[0m\u001b[1;32m     65\u001b[0m \u001b[0;34m\u001b[0m\u001b[0m\n\u001b[1;32m     66\u001b[0m     \u001b[0;32mreturn\u001b[0m \u001b[0mnew_method\u001b[0m\u001b[0;34m\u001b[0m\u001b[0;34m\u001b[0m\u001b[0m\n",
            "\u001b[0;32m/usr/local/lib/python3.6/dist-packages/pandas/core/ops/__init__.py\u001b[0m in \u001b[0;36mwrapper\u001b[0;34m(self, other)\u001b[0m\n\u001b[1;32m    527\u001b[0m         \u001b[0mrvalues\u001b[0m \u001b[0;34m=\u001b[0m \u001b[0mextract_array\u001b[0m\u001b[0;34m(\u001b[0m\u001b[0mother\u001b[0m\u001b[0;34m,\u001b[0m \u001b[0mextract_numpy\u001b[0m\u001b[0;34m=\u001b[0m\u001b[0;32mTrue\u001b[0m\u001b[0;34m)\u001b[0m\u001b[0;34m\u001b[0m\u001b[0;34m\u001b[0m\u001b[0m\n\u001b[1;32m    528\u001b[0m \u001b[0;34m\u001b[0m\u001b[0m\n\u001b[0;32m--> 529\u001b[0;31m         \u001b[0mres_values\u001b[0m \u001b[0;34m=\u001b[0m \u001b[0mcomparison_op\u001b[0m\u001b[0;34m(\u001b[0m\u001b[0mlvalues\u001b[0m\u001b[0;34m,\u001b[0m \u001b[0mrvalues\u001b[0m\u001b[0;34m,\u001b[0m \u001b[0mop\u001b[0m\u001b[0;34m)\u001b[0m\u001b[0;34m\u001b[0m\u001b[0;34m\u001b[0m\u001b[0m\n\u001b[0m\u001b[1;32m    530\u001b[0m \u001b[0;34m\u001b[0m\u001b[0m\n\u001b[1;32m    531\u001b[0m         \u001b[0;32mreturn\u001b[0m \u001b[0m_construct_result\u001b[0m\u001b[0;34m(\u001b[0m\u001b[0mself\u001b[0m\u001b[0;34m,\u001b[0m \u001b[0mres_values\u001b[0m\u001b[0;34m,\u001b[0m \u001b[0mindex\u001b[0m\u001b[0;34m=\u001b[0m\u001b[0mself\u001b[0m\u001b[0;34m.\u001b[0m\u001b[0mindex\u001b[0m\u001b[0;34m,\u001b[0m \u001b[0mname\u001b[0m\u001b[0;34m=\u001b[0m\u001b[0mres_name\u001b[0m\u001b[0;34m)\u001b[0m\u001b[0;34m\u001b[0m\u001b[0;34m\u001b[0m\u001b[0m\n",
            "\u001b[0;32m/usr/local/lib/python3.6/dist-packages/pandas/core/ops/array_ops.py\u001b[0m in \u001b[0;36mcomparison_op\u001b[0;34m(left, right, op)\u001b[0m\n\u001b[1;32m    245\u001b[0m \u001b[0;34m\u001b[0m\u001b[0m\n\u001b[1;32m    246\u001b[0m     \u001b[0;32melif\u001b[0m \u001b[0mis_object_dtype\u001b[0m\u001b[0;34m(\u001b[0m\u001b[0mlvalues\u001b[0m\u001b[0;34m.\u001b[0m\u001b[0mdtype\u001b[0m\u001b[0;34m)\u001b[0m\u001b[0;34m:\u001b[0m\u001b[0;34m\u001b[0m\u001b[0;34m\u001b[0m\u001b[0m\n\u001b[0;32m--> 247\u001b[0;31m         \u001b[0mres_values\u001b[0m \u001b[0;34m=\u001b[0m \u001b[0mcomp_method_OBJECT_ARRAY\u001b[0m\u001b[0;34m(\u001b[0m\u001b[0mop\u001b[0m\u001b[0;34m,\u001b[0m \u001b[0mlvalues\u001b[0m\u001b[0;34m,\u001b[0m \u001b[0mrvalues\u001b[0m\u001b[0;34m)\u001b[0m\u001b[0;34m\u001b[0m\u001b[0;34m\u001b[0m\u001b[0m\n\u001b[0m\u001b[1;32m    248\u001b[0m \u001b[0;34m\u001b[0m\u001b[0m\n\u001b[1;32m    249\u001b[0m     \u001b[0;32melse\u001b[0m\u001b[0;34m:\u001b[0m\u001b[0;34m\u001b[0m\u001b[0;34m\u001b[0m\u001b[0m\n",
            "\u001b[0;32m/usr/local/lib/python3.6/dist-packages/pandas/core/ops/array_ops.py\u001b[0m in \u001b[0;36mcomp_method_OBJECT_ARRAY\u001b[0;34m(op, x, y)\u001b[0m\n\u001b[1;32m     55\u001b[0m         \u001b[0mresult\u001b[0m \u001b[0;34m=\u001b[0m \u001b[0mlibops\u001b[0m\u001b[0;34m.\u001b[0m\u001b[0mvec_compare\u001b[0m\u001b[0;34m(\u001b[0m\u001b[0mx\u001b[0m\u001b[0;34m.\u001b[0m\u001b[0mravel\u001b[0m\u001b[0;34m(\u001b[0m\u001b[0;34m)\u001b[0m\u001b[0;34m,\u001b[0m \u001b[0my\u001b[0m\u001b[0;34m,\u001b[0m \u001b[0mop\u001b[0m\u001b[0;34m)\u001b[0m\u001b[0;34m\u001b[0m\u001b[0;34m\u001b[0m\u001b[0m\n\u001b[1;32m     56\u001b[0m     \u001b[0;32melse\u001b[0m\u001b[0;34m:\u001b[0m\u001b[0;34m\u001b[0m\u001b[0;34m\u001b[0m\u001b[0m\n\u001b[0;32m---> 57\u001b[0;31m         \u001b[0mresult\u001b[0m \u001b[0;34m=\u001b[0m \u001b[0mlibops\u001b[0m\u001b[0;34m.\u001b[0m\u001b[0mscalar_compare\u001b[0m\u001b[0;34m(\u001b[0m\u001b[0mx\u001b[0m\u001b[0;34m.\u001b[0m\u001b[0mravel\u001b[0m\u001b[0;34m(\u001b[0m\u001b[0;34m)\u001b[0m\u001b[0;34m,\u001b[0m \u001b[0my\u001b[0m\u001b[0;34m,\u001b[0m \u001b[0mop\u001b[0m\u001b[0;34m)\u001b[0m\u001b[0;34m\u001b[0m\u001b[0;34m\u001b[0m\u001b[0m\n\u001b[0m\u001b[1;32m     58\u001b[0m     \u001b[0;32mreturn\u001b[0m \u001b[0mresult\u001b[0m\u001b[0;34m.\u001b[0m\u001b[0mreshape\u001b[0m\u001b[0;34m(\u001b[0m\u001b[0mx\u001b[0m\u001b[0;34m.\u001b[0m\u001b[0mshape\u001b[0m\u001b[0;34m)\u001b[0m\u001b[0;34m\u001b[0m\u001b[0;34m\u001b[0m\u001b[0m\n\u001b[1;32m     59\u001b[0m \u001b[0;34m\u001b[0m\u001b[0m\n",
            "\u001b[0;31mKeyboardInterrupt\u001b[0m: "
          ]
        }
      ]
    }
  ]
}