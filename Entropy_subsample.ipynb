{
 "cells": [
  {
   "cell_type": "code",
   "execution_count": 1,
   "metadata": {
    "colab": {},
    "colab_type": "code",
    "id": "FtYMZRZFRMDX"
   },
   "outputs": [],
   "source": [
    "import numpy as np\n",
    "import pandas as pd \n",
    "from sklearn.decomposition import PCA\n",
    "import matplotlib.pyplot as plt\n",
    "import math\n",
    "from scipy.stats import pearsonr\n",
    "from sklearn.metrics import r2_score"
   ]
  },
  {
   "cell_type": "code",
   "execution_count": 2,
   "metadata": {
    "colab": {
     "base_uri": "https://localhost:8080/",
     "height": 122
    },
    "colab_type": "code",
    "id": "cgHzIRWCRYV4",
    "outputId": "b6ba092f-3cdb-445f-94c4-eddcc64e8569"
   },
   "outputs": [
    {
     "name": "stdout",
     "output_type": "stream",
     "text": [
      "Go to this URL in a browser: https://accounts.google.com/o/oauth2/auth?client_id=947318989803-6bn6qk8qdgf4n4g3pfee6491hc0brc4i.apps.googleusercontent.com&redirect_uri=urn%3aietf%3awg%3aoauth%3a2.0%3aoob&response_type=code&scope=email%20https%3a%2f%2fwww.googleapis.com%2fauth%2fdocs.test%20https%3a%2f%2fwww.googleapis.com%2fauth%2fdrive%20https%3a%2f%2fwww.googleapis.com%2fauth%2fdrive.photos.readonly%20https%3a%2f%2fwww.googleapis.com%2fauth%2fpeopleapi.readonly\n",
      "\n",
      "Enter your authorization code:\n",
      "··········\n",
      "Mounted at /content/drive\n"
     ]
    }
   ],
   "source": [
    "from google.colab import drive\n",
    "drive.mount('/content/drive')"
   ]
  },
  {
   "cell_type": "markdown",
   "metadata": {
    "colab_type": "text",
    "id": "ixJjUpiURMDj"
   },
   "source": [
    "# Loading all data"
   ]
  },
  {
   "cell_type": "markdown",
   "metadata": {
    "colab_type": "text",
    "id": "OlynwgMaRMDj"
   },
   "source": [
    "Loading all datasets used - main triplet data, embedded vectors generates with Poisson factotization, bridge data that connects TrackId with SongId and song genre data. "
   ]
  },
  {
   "cell_type": "code",
   "execution_count": 3,
   "metadata": {
    "colab": {},
    "colab_type": "code",
    "id": "jxPDItebRMDk"
   },
   "outputs": [],
   "source": [
    "# main triplet data\n",
    "data = pd.read_csv(\"/content/drive/My Drive/MSc Statistics/train_triplets.txt\",\n",
    "                   delimiter=\"\\t\", header=None, names= [\"UserId\", \"SongId\", \"Count\"])"
   ]
  },
  {
   "cell_type": "code",
   "execution_count": null,
   "metadata": {
    "colab": {},
    "colab_type": "code",
    "id": "opNRe63-RMDr",
    "outputId": "194b217d-0576-4d82-8175-3ebd703ac7a4"
   },
   "outputs": [
    {
     "data": {
      "text/html": [
       "<div>\n",
       "<style scoped>\n",
       "    .dataframe tbody tr th:only-of-type {\n",
       "        vertical-align: middle;\n",
       "    }\n",
       "\n",
       "    .dataframe tbody tr th {\n",
       "        vertical-align: top;\n",
       "    }\n",
       "\n",
       "    .dataframe thead th {\n",
       "        text-align: right;\n",
       "    }\n",
       "</style>\n",
       "<table border=\"1\" class=\"dataframe\">\n",
       "  <thead>\n",
       "    <tr style=\"text-align: right;\">\n",
       "      <th></th>\n",
       "      <th>UserId</th>\n",
       "      <th>SongId</th>\n",
       "      <th>Count</th>\n",
       "    </tr>\n",
       "  </thead>\n",
       "  <tbody>\n",
       "    <tr>\n",
       "      <th>0</th>\n",
       "      <td>b80344d063b5ccb3212f76538f3d9e43d87dca9e</td>\n",
       "      <td>SOAKIMP12A8C130995</td>\n",
       "      <td>1</td>\n",
       "    </tr>\n",
       "    <tr>\n",
       "      <th>1</th>\n",
       "      <td>b80344d063b5ccb3212f76538f3d9e43d87dca9e</td>\n",
       "      <td>SOAPDEY12A81C210A9</td>\n",
       "      <td>1</td>\n",
       "    </tr>\n",
       "    <tr>\n",
       "      <th>2</th>\n",
       "      <td>b80344d063b5ccb3212f76538f3d9e43d87dca9e</td>\n",
       "      <td>SOBBMDR12A8C13253B</td>\n",
       "      <td>2</td>\n",
       "    </tr>\n",
       "    <tr>\n",
       "      <th>3</th>\n",
       "      <td>b80344d063b5ccb3212f76538f3d9e43d87dca9e</td>\n",
       "      <td>SOBFNSP12AF72A0E22</td>\n",
       "      <td>1</td>\n",
       "    </tr>\n",
       "    <tr>\n",
       "      <th>4</th>\n",
       "      <td>b80344d063b5ccb3212f76538f3d9e43d87dca9e</td>\n",
       "      <td>SOBFOVM12A58A7D494</td>\n",
       "      <td>1</td>\n",
       "    </tr>\n",
       "  </tbody>\n",
       "</table>\n",
       "</div>"
      ],
      "text/plain": [
       "                                     UserId              SongId  Count\n",
       "0  b80344d063b5ccb3212f76538f3d9e43d87dca9e  SOAKIMP12A8C130995      1\n",
       "1  b80344d063b5ccb3212f76538f3d9e43d87dca9e  SOAPDEY12A81C210A9      1\n",
       "2  b80344d063b5ccb3212f76538f3d9e43d87dca9e  SOBBMDR12A8C13253B      2\n",
       "3  b80344d063b5ccb3212f76538f3d9e43d87dca9e  SOBFNSP12AF72A0E22      1\n",
       "4  b80344d063b5ccb3212f76538f3d9e43d87dca9e  SOBFOVM12A58A7D494      1"
      ]
     },
     "execution_count": 6,
     "metadata": {
      "tags": []
     },
     "output_type": "execute_result"
    }
   ],
   "source": [
    "data.head()"
   ]
  },
  {
   "cell_type": "code",
   "execution_count": null,
   "metadata": {
    "colab": {},
    "colab_type": "code",
    "id": "lAFaVL-1RMDv"
   },
   "outputs": [],
   "source": [
    "# embedded vectors data\n",
    "embeds = np.load(\"/content/drive/My Drive/MSc Statistics/track-embeddings-v2.npz\", allow_pickle=True)"
   ]
  },
  {
   "cell_type": "markdown",
   "metadata": {
    "colab_type": "text",
    "id": "9K3NBbvwRMDy"
   },
   "source": [
    "\"beta\" part corresponds to the 100 dimensional embedded vectors and \"mapping\" - to the corresponding SongId"
   ]
  },
  {
   "cell_type": "code",
   "execution_count": null,
   "metadata": {
    "colab": {},
    "colab_type": "code",
    "id": "Tm7ji5zjRMDy",
    "outputId": "58bd77b5-7e63-4f40-bd0c-742e1e75c92c"
   },
   "outputs": [
    {
     "data": {
      "text/plain": [
       "(384546, 100)"
      ]
     },
     "execution_count": 12,
     "metadata": {
      "tags": []
     },
     "output_type": "execute_result"
    }
   ],
   "source": [
    "#shape of the song vectors\n",
    "embeds[\"beta\"].shape"
   ]
  },
  {
   "cell_type": "code",
   "execution_count": null,
   "metadata": {
    "colab": {},
    "colab_type": "code",
    "id": "ZE-D-gYbRMD1",
    "outputId": "8e6f4d60-562c-4c05-c15e-0df05e94831a"
   },
   "outputs": [
    {
     "data": {
      "text/plain": [
       "(384546,)"
      ]
     },
     "execution_count": 13,
     "metadata": {
      "tags": []
     },
     "output_type": "execute_result"
    }
   ],
   "source": [
    "# shape of the link vector\n",
    "embeds[\"mapping\"].shape"
   ]
  },
  {
   "cell_type": "code",
   "execution_count": null,
   "metadata": {
    "colab": {},
    "colab_type": "code",
    "id": "-_T7uF4LRMD5",
    "outputId": "29eeb7ab-b3ae-4797-b904-df2485e32748"
   },
   "outputs": [
    {
     "data": {
      "text/plain": [
       "'SOAPDEY12A81C210A9'"
      ]
     },
     "execution_count": 14,
     "metadata": {
      "tags": []
     },
     "output_type": "execute_result"
    }
   ],
   "source": [
    "# these link vectors correspond to SongId\n",
    "embeds[\"mapping\"][1]"
   ]
  },
  {
   "cell_type": "code",
   "execution_count": null,
   "metadata": {
    "colab": {
     "base_uri": "https://localhost:8080/",
     "height": 71
    },
    "colab_type": "code",
    "id": "7tPlU80IRMED",
    "outputId": "c9ef7424-4706-4ded-8049-c580cb5caeb4"
   },
   "outputs": [
    {
     "name": "stderr",
     "output_type": "stream",
     "text": [
      "/usr/local/lib/python3.6/dist-packages/ipykernel_launcher.py:3: ParserWarning: Falling back to the 'python' engine because the 'c' engine does not support regex separators (separators > 1 char and different from '\\s+' are interpreted as regex); you can avoid this warning by specifying engine='python'.\n",
      "  This is separate from the ipykernel package so we can avoid doing imports until\n"
     ]
    }
   ],
   "source": [
    "# data to connect TrackId with SongId\n",
    "bridge = pd.read_csv(\"/content/drive/My Drive/MSc Statistics/unique_tracks.txt\",  delimiter=\"<SEP>\", header=None, \n",
    "                    names= [\"TrackId\", \"SongId\", \"Artist\", \"Song_name\"])"
   ]
  },
  {
   "cell_type": "code",
   "execution_count": null,
   "metadata": {
    "colab": {},
    "colab_type": "code",
    "id": "mxU0l_y7RMEH",
    "outputId": "27d48c78-59d8-471c-a244-ed083fb92366"
   },
   "outputs": [
    {
     "data": {
      "text/html": [
       "<div>\n",
       "<style scoped>\n",
       "    .dataframe tbody tr th:only-of-type {\n",
       "        vertical-align: middle;\n",
       "    }\n",
       "\n",
       "    .dataframe tbody tr th {\n",
       "        vertical-align: top;\n",
       "    }\n",
       "\n",
       "    .dataframe thead th {\n",
       "        text-align: right;\n",
       "    }\n",
       "</style>\n",
       "<table border=\"1\" class=\"dataframe\">\n",
       "  <thead>\n",
       "    <tr style=\"text-align: right;\">\n",
       "      <th></th>\n",
       "      <th>TrackId</th>\n",
       "      <th>SongId</th>\n",
       "      <th>Artist</th>\n",
       "      <th>Song_name</th>\n",
       "    </tr>\n",
       "  </thead>\n",
       "  <tbody>\n",
       "    <tr>\n",
       "      <th>0</th>\n",
       "      <td>TRMMMYQ128F932D901</td>\n",
       "      <td>SOQMMHC12AB0180CB8</td>\n",
       "      <td>Faster Pussy cat</td>\n",
       "      <td>Silent Night</td>\n",
       "    </tr>\n",
       "    <tr>\n",
       "      <th>1</th>\n",
       "      <td>TRMMMKD128F425225D</td>\n",
       "      <td>SOVFVAK12A8C1350D9</td>\n",
       "      <td>Karkkiautomaatti</td>\n",
       "      <td>Tanssi vaan</td>\n",
       "    </tr>\n",
       "    <tr>\n",
       "      <th>2</th>\n",
       "      <td>TRMMMRX128F93187D9</td>\n",
       "      <td>SOGTUKN12AB017F4F1</td>\n",
       "      <td>Hudson Mohawke</td>\n",
       "      <td>No One Could Ever</td>\n",
       "    </tr>\n",
       "    <tr>\n",
       "      <th>3</th>\n",
       "      <td>TRMMMCH128F425532C</td>\n",
       "      <td>SOBNYVR12A8C13558C</td>\n",
       "      <td>Yerba Brava</td>\n",
       "      <td>Si Vos Querés</td>\n",
       "    </tr>\n",
       "    <tr>\n",
       "      <th>4</th>\n",
       "      <td>TRMMMWA128F426B589</td>\n",
       "      <td>SOHSBXH12A8C13B0DF</td>\n",
       "      <td>Der Mystic</td>\n",
       "      <td>Tangle Of Aspens</td>\n",
       "    </tr>\n",
       "  </tbody>\n",
       "</table>\n",
       "</div>"
      ],
      "text/plain": [
       "              TrackId              SongId            Artist          Song_name\n",
       "0  TRMMMYQ128F932D901  SOQMMHC12AB0180CB8  Faster Pussy cat       Silent Night\n",
       "1  TRMMMKD128F425225D  SOVFVAK12A8C1350D9  Karkkiautomaatti        Tanssi vaan\n",
       "2  TRMMMRX128F93187D9  SOGTUKN12AB017F4F1    Hudson Mohawke  No One Could Ever\n",
       "3  TRMMMCH128F425532C  SOBNYVR12A8C13558C       Yerba Brava      Si Vos Querés\n",
       "4  TRMMMWA128F426B589  SOHSBXH12A8C13B0DF        Der Mystic   Tangle Of Aspens"
      ]
     },
     "execution_count": 15,
     "metadata": {
      "tags": []
     },
     "output_type": "execute_result"
    }
   ],
   "source": [
    "bridge.head()"
   ]
  },
  {
   "cell_type": "code",
   "execution_count": null,
   "metadata": {
    "colab": {
     "base_uri": "https://localhost:8080/",
     "height": 34
    },
    "colab_type": "code",
    "id": "H97y4ayS3Wy9",
    "outputId": "d4953669-0d8f-4955-d866-f973fda1d52c"
   },
   "outputs": [
    {
     "data": {
      "text/plain": [
       "(1000000, 4)"
      ]
     },
     "execution_count": 73,
     "metadata": {
      "tags": []
     },
     "output_type": "execute_result"
    }
   ],
   "source": [
    "bridge.shape"
   ]
  },
  {
   "cell_type": "code",
   "execution_count": null,
   "metadata": {
    "colab": {},
    "colab_type": "code",
    "id": "G9RKQX9xRMEM"
   },
   "outputs": [],
   "source": [
    "# song genre data\n",
    "genres = pd.read_csv(\"/content/drive/My Drive/MSc Statistics/ganres.txt\",  delimiter=\"\\t\", header=None,\n",
    "                     names= [\"TrackId\", \"Main_genre\", \"Minor_genre\"])"
   ]
  },
  {
   "cell_type": "code",
   "execution_count": null,
   "metadata": {
    "colab": {},
    "colab_type": "code",
    "id": "POmwvOkoRMEV",
    "outputId": "a61ee9e4-a2ec-4efd-e29c-ce5cfa055044"
   },
   "outputs": [
    {
     "data": {
      "text/html": [
       "<div>\n",
       "<style scoped>\n",
       "    .dataframe tbody tr th:only-of-type {\n",
       "        vertical-align: middle;\n",
       "    }\n",
       "\n",
       "    .dataframe tbody tr th {\n",
       "        vertical-align: top;\n",
       "    }\n",
       "\n",
       "    .dataframe thead th {\n",
       "        text-align: right;\n",
       "    }\n",
       "</style>\n",
       "<table border=\"1\" class=\"dataframe\">\n",
       "  <thead>\n",
       "    <tr style=\"text-align: right;\">\n",
       "      <th></th>\n",
       "      <th>TrackId</th>\n",
       "      <th>Main_genre</th>\n",
       "      <th>Minor_genre</th>\n",
       "    </tr>\n",
       "  </thead>\n",
       "  <tbody>\n",
       "    <tr>\n",
       "      <th>0</th>\n",
       "      <td>TRAAAAK128F9318786</td>\n",
       "      <td>Rock</td>\n",
       "      <td>NaN</td>\n",
       "    </tr>\n",
       "    <tr>\n",
       "      <th>1</th>\n",
       "      <td>TRAAAAW128F429D538</td>\n",
       "      <td>Rap</td>\n",
       "      <td>NaN</td>\n",
       "    </tr>\n",
       "    <tr>\n",
       "      <th>2</th>\n",
       "      <td>TRAAABD128F429CF47</td>\n",
       "      <td>Rock</td>\n",
       "      <td>RnB</td>\n",
       "    </tr>\n",
       "    <tr>\n",
       "      <th>3</th>\n",
       "      <td>TRAAADJ128F4287B47</td>\n",
       "      <td>Rock</td>\n",
       "      <td>NaN</td>\n",
       "    </tr>\n",
       "    <tr>\n",
       "      <th>4</th>\n",
       "      <td>TRAAADZ128F9348C2E</td>\n",
       "      <td>Latin</td>\n",
       "      <td>NaN</td>\n",
       "    </tr>\n",
       "  </tbody>\n",
       "</table>\n",
       "</div>"
      ],
      "text/plain": [
       "              TrackId Main_genre Minor_genre\n",
       "0  TRAAAAK128F9318786       Rock         NaN\n",
       "1  TRAAAAW128F429D538        Rap         NaN\n",
       "2  TRAAABD128F429CF47       Rock         RnB\n",
       "3  TRAAADJ128F4287B47       Rock         NaN\n",
       "4  TRAAADZ128F9348C2E      Latin         NaN"
      ]
     },
     "execution_count": 18,
     "metadata": {
      "tags": []
     },
     "output_type": "execute_result"
    }
   ],
   "source": [
    "genres.head()"
   ]
  },
  {
   "cell_type": "code",
   "execution_count": null,
   "metadata": {
    "colab": {
     "base_uri": "https://localhost:8080/",
     "height": 34
    },
    "colab_type": "code",
    "id": "s3EmnqJE3UCI",
    "outputId": "212e55bb-dce7-43f5-b430-bbb71539d393"
   },
   "outputs": [
    {
     "data": {
      "text/plain": [
       "(280831, 3)"
      ]
     },
     "execution_count": 72,
     "metadata": {
      "tags": []
     },
     "output_type": "execute_result"
    }
   ],
   "source": [
    "genres.shape"
   ]
  },
  {
   "cell_type": "markdown",
   "metadata": {
    "toc-hr-collapsed": true
   },
   "source": [
    "# Merging the data"
   ]
  },
  {
   "cell_type": "markdown",
   "metadata": {
    "colab_type": "text",
    "id": "jHc5anD0Zi7n"
   },
   "source": [
    "Merging the data so we could connect SongId with some metadata. Conducting the same data analysis below."
   ]
  },
  {
   "cell_type": "code",
   "execution_count": null,
   "metadata": {
    "colab": {},
    "colab_type": "code",
    "id": "gpbdUAXdRMFB"
   },
   "outputs": [],
   "source": [
    "mid_merge = pd.merge(left = genres, right = bridge, left_on=\"TrackId\", right_on=\"TrackId\")"
   ]
  },
  {
   "cell_type": "code",
   "execution_count": null,
   "metadata": {
    "colab": {
     "base_uri": "https://localhost:8080/",
     "height": 204
    },
    "colab_type": "code",
    "id": "RaEc1mx6RMFG",
    "outputId": "aeb23f8e-a966-42dc-ba21-7863792d0188"
   },
   "outputs": [
    {
     "data": {
      "text/html": [
       "<div>\n",
       "<style scoped>\n",
       "    .dataframe tbody tr th:only-of-type {\n",
       "        vertical-align: middle;\n",
       "    }\n",
       "\n",
       "    .dataframe tbody tr th {\n",
       "        vertical-align: top;\n",
       "    }\n",
       "\n",
       "    .dataframe thead th {\n",
       "        text-align: right;\n",
       "    }\n",
       "</style>\n",
       "<table border=\"1\" class=\"dataframe\">\n",
       "  <thead>\n",
       "    <tr style=\"text-align: right;\">\n",
       "      <th></th>\n",
       "      <th>TrackId</th>\n",
       "      <th>Main_genre</th>\n",
       "      <th>Minor_genre</th>\n",
       "      <th>SongId</th>\n",
       "      <th>Artist</th>\n",
       "      <th>Song_name</th>\n",
       "    </tr>\n",
       "  </thead>\n",
       "  <tbody>\n",
       "    <tr>\n",
       "      <th>0</th>\n",
       "      <td>TRAAAAK128F9318786</td>\n",
       "      <td>Rock</td>\n",
       "      <td>NaN</td>\n",
       "      <td>SOBLFFE12AF72AA5BA</td>\n",
       "      <td>Adelitas Way</td>\n",
       "      <td>Scream</td>\n",
       "    </tr>\n",
       "    <tr>\n",
       "      <th>1</th>\n",
       "      <td>TRAAAAW128F429D538</td>\n",
       "      <td>Rap</td>\n",
       "      <td>NaN</td>\n",
       "      <td>SOMZWCG12A8C13C480</td>\n",
       "      <td>Casual</td>\n",
       "      <td>I Didn't Mean To</td>\n",
       "    </tr>\n",
       "    <tr>\n",
       "      <th>2</th>\n",
       "      <td>TRAAABD128F429CF47</td>\n",
       "      <td>Rock</td>\n",
       "      <td>RnB</td>\n",
       "      <td>SOCIWDW12A8C13D406</td>\n",
       "      <td>The Box Tops</td>\n",
       "      <td>Soul Deep</td>\n",
       "    </tr>\n",
       "    <tr>\n",
       "      <th>3</th>\n",
       "      <td>TRAAADJ128F4287B47</td>\n",
       "      <td>Rock</td>\n",
       "      <td>NaN</td>\n",
       "      <td>SOCSNVI12A8C13ECC2</td>\n",
       "      <td>Big Brother &amp; The Holding Company</td>\n",
       "      <td>Heartache People</td>\n",
       "    </tr>\n",
       "    <tr>\n",
       "      <th>4</th>\n",
       "      <td>TRAAADZ128F9348C2E</td>\n",
       "      <td>Latin</td>\n",
       "      <td>NaN</td>\n",
       "      <td>SOXVLOJ12AB0189215</td>\n",
       "      <td>Sonora Santanera</td>\n",
       "      <td>Amor De Cabaret</td>\n",
       "    </tr>\n",
       "  </tbody>\n",
       "</table>\n",
       "</div>"
      ],
      "text/plain": [
       "              TrackId  ...         Song_name\n",
       "0  TRAAAAK128F9318786  ...            Scream\n",
       "1  TRAAAAW128F429D538  ...  I Didn't Mean To\n",
       "2  TRAAABD128F429CF47  ...         Soul Deep\n",
       "3  TRAAADJ128F4287B47  ...  Heartache People\n",
       "4  TRAAADZ128F9348C2E  ...   Amor De Cabaret\n",
       "\n",
       "[5 rows x 6 columns]"
      ]
     },
     "execution_count": 71,
     "metadata": {
      "tags": []
     },
     "output_type": "execute_result"
    }
   ],
   "source": [
    "mid_merge.head()"
   ]
  },
  {
   "cell_type": "code",
   "execution_count": null,
   "metadata": {
    "colab": {
     "base_uri": "https://localhost:8080/",
     "height": 34
    },
    "colab_type": "code",
    "id": "A8o8UIYoRMFJ",
    "outputId": "1576a2e3-9c09-4926-e0ce-1a868b9bd1ea"
   },
   "outputs": [
    {
     "name": "stdout",
     "output_type": "stream",
     "text": [
      "(280831, 6)\n"
     ]
    }
   ],
   "source": [
    "print(mid_merge.shape)"
   ]
  },
  {
   "cell_type": "code",
   "execution_count": null,
   "metadata": {
    "colab": {},
    "colab_type": "code",
    "id": "65UX2RhvRMFN"
   },
   "outputs": [],
   "source": [
    "ganre_merge = pd.merge(left = mid_merge, right = data, left_on=\"SongId\", right_on=\"SongId\")"
   ]
  },
  {
   "cell_type": "code",
   "execution_count": null,
   "metadata": {
    "colab": {
     "base_uri": "https://localhost:8080/",
     "height": 204
    },
    "colab_type": "code",
    "id": "jDSNylcNRMFS",
    "outputId": "bad77901-2489-4617-ad37-cf8e1c82690d"
   },
   "outputs": [
    {
     "data": {
      "text/html": [
       "<div>\n",
       "<style scoped>\n",
       "    .dataframe tbody tr th:only-of-type {\n",
       "        vertical-align: middle;\n",
       "    }\n",
       "\n",
       "    .dataframe tbody tr th {\n",
       "        vertical-align: top;\n",
       "    }\n",
       "\n",
       "    .dataframe thead th {\n",
       "        text-align: right;\n",
       "    }\n",
       "</style>\n",
       "<table border=\"1\" class=\"dataframe\">\n",
       "  <thead>\n",
       "    <tr style=\"text-align: right;\">\n",
       "      <th></th>\n",
       "      <th>TrackId</th>\n",
       "      <th>Main_genre</th>\n",
       "      <th>Minor_genre</th>\n",
       "      <th>SongId</th>\n",
       "      <th>Artist</th>\n",
       "      <th>Song_name</th>\n",
       "      <th>UserId</th>\n",
       "      <th>Count</th>\n",
       "    </tr>\n",
       "  </thead>\n",
       "  <tbody>\n",
       "    <tr>\n",
       "      <th>0</th>\n",
       "      <td>TRAAAAK128F9318786</td>\n",
       "      <td>Rock</td>\n",
       "      <td>NaN</td>\n",
       "      <td>SOBLFFE12AF72AA5BA</td>\n",
       "      <td>Adelitas Way</td>\n",
       "      <td>Scream</td>\n",
       "      <td>cf9a8225b3626e668facf9dda53a2ef3da445bf6</td>\n",
       "      <td>1</td>\n",
       "    </tr>\n",
       "    <tr>\n",
       "      <th>1</th>\n",
       "      <td>TRAAAAK128F9318786</td>\n",
       "      <td>Rock</td>\n",
       "      <td>NaN</td>\n",
       "      <td>SOBLFFE12AF72AA5BA</td>\n",
       "      <td>Adelitas Way</td>\n",
       "      <td>Scream</td>\n",
       "      <td>6776279a369a04148a92597d270ac500ddc7a27c</td>\n",
       "      <td>3</td>\n",
       "    </tr>\n",
       "    <tr>\n",
       "      <th>2</th>\n",
       "      <td>TRAAAAK128F9318786</td>\n",
       "      <td>Rock</td>\n",
       "      <td>NaN</td>\n",
       "      <td>SOBLFFE12AF72AA5BA</td>\n",
       "      <td>Adelitas Way</td>\n",
       "      <td>Scream</td>\n",
       "      <td>8c412b22910a9c9531ac72ec742913d73317782d</td>\n",
       "      <td>1</td>\n",
       "    </tr>\n",
       "    <tr>\n",
       "      <th>3</th>\n",
       "      <td>TRAAAAK128F9318786</td>\n",
       "      <td>Rock</td>\n",
       "      <td>NaN</td>\n",
       "      <td>SOBLFFE12AF72AA5BA</td>\n",
       "      <td>Adelitas Way</td>\n",
       "      <td>Scream</td>\n",
       "      <td>74230c5555c9f4e929f8e6c25344b7ee1f37d9e3</td>\n",
       "      <td>2</td>\n",
       "    </tr>\n",
       "    <tr>\n",
       "      <th>4</th>\n",
       "      <td>TRAAAAK128F9318786</td>\n",
       "      <td>Rock</td>\n",
       "      <td>NaN</td>\n",
       "      <td>SOBLFFE12AF72AA5BA</td>\n",
       "      <td>Adelitas Way</td>\n",
       "      <td>Scream</td>\n",
       "      <td>dac762704dfe74075187e98623f92268727bf749</td>\n",
       "      <td>1</td>\n",
       "    </tr>\n",
       "  </tbody>\n",
       "</table>\n",
       "</div>"
      ],
      "text/plain": [
       "              TrackId  ... Count\n",
       "0  TRAAAAK128F9318786  ...     1\n",
       "1  TRAAAAK128F9318786  ...     3\n",
       "2  TRAAAAK128F9318786  ...     1\n",
       "3  TRAAAAK128F9318786  ...     2\n",
       "4  TRAAAAK128F9318786  ...     1\n",
       "\n",
       "[5 rows x 8 columns]"
      ]
     },
     "execution_count": 34,
     "metadata": {
      "tags": []
     },
     "output_type": "execute_result"
    }
   ],
   "source": [
    "ganre_merge.head()"
   ]
  },
  {
   "cell_type": "markdown",
   "metadata": {
    "colab_type": "text",
    "id": "LRy5rHeA__2V",
    "toc-hr-collapsed": true
   },
   "source": [
    "# Subsampling triplets"
   ]
  },
  {
   "cell_type": "markdown",
   "metadata": {
    "colab_type": "text",
    "id": "uxSU-lMKYpyf"
   },
   "source": [
    "Creating a 100 user subsample of dataset for quick concept checking."
   ]
  },
  {
   "cell_type": "code",
   "execution_count": 4,
   "metadata": {
    "colab": {},
    "colab_type": "code",
    "id": "-bI51iy8AERK"
   },
   "outputs": [],
   "source": [
    "toy_triplets = data['UserId'].sample(n=100, random_state=1)"
   ]
  },
  {
   "cell_type": "code",
   "execution_count": 5,
   "metadata": {
    "colab": {},
    "colab_type": "code",
    "id": "s1-__-egAVQS"
   },
   "outputs": [],
   "source": [
    "toy_triplets = pd.merge(left = toy_triplets, right = data, left_on=\"UserId\", right_on=\"UserId\")"
   ]
  },
  {
   "cell_type": "code",
   "execution_count": null,
   "metadata": {
    "colab": {
     "base_uri": "https://localhost:8080/",
     "height": 34
    },
    "colab_type": "code",
    "id": "sM23pP8NAv1R",
    "outputId": "9280af44-401a-44be-d112-1a43a9386f35"
   },
   "outputs": [
    {
     "data": {
      "text/plain": [
       "(16055, 3)"
      ]
     },
     "execution_count": 12,
     "metadata": {
      "tags": []
     },
     "output_type": "execute_result"
    }
   ],
   "source": [
    "toy_triplets.shape"
   ]
  },
  {
   "cell_type": "code",
   "execution_count": null,
   "metadata": {
    "colab": {
     "base_uri": "https://localhost:8080/",
     "height": 204
    },
    "colab_type": "code",
    "id": "1YPOswpdDYt8",
    "outputId": "831d1d1a-32b1-4327-f48f-c8aa9feaf499"
   },
   "outputs": [
    {
     "data": {
      "text/html": [
       "<div>\n",
       "<style scoped>\n",
       "    .dataframe tbody tr th:only-of-type {\n",
       "        vertical-align: middle;\n",
       "    }\n",
       "\n",
       "    .dataframe tbody tr th {\n",
       "        vertical-align: top;\n",
       "    }\n",
       "\n",
       "    .dataframe thead th {\n",
       "        text-align: right;\n",
       "    }\n",
       "</style>\n",
       "<table border=\"1\" class=\"dataframe\">\n",
       "  <thead>\n",
       "    <tr style=\"text-align: right;\">\n",
       "      <th></th>\n",
       "      <th>UserId</th>\n",
       "      <th>SongId</th>\n",
       "      <th>Count</th>\n",
       "    </tr>\n",
       "  </thead>\n",
       "  <tbody>\n",
       "    <tr>\n",
       "      <th>0</th>\n",
       "      <td>6151509c99d22614f2ffb97693234d8c068b3b22</td>\n",
       "      <td>SOAAFAC12A67ADF7EB</td>\n",
       "      <td>2</td>\n",
       "    </tr>\n",
       "    <tr>\n",
       "      <th>1</th>\n",
       "      <td>6151509c99d22614f2ffb97693234d8c068b3b22</td>\n",
       "      <td>SOAAQWU12A8C13F908</td>\n",
       "      <td>1</td>\n",
       "    </tr>\n",
       "    <tr>\n",
       "      <th>2</th>\n",
       "      <td>6151509c99d22614f2ffb97693234d8c068b3b22</td>\n",
       "      <td>SOACHXA12A58A7BE3E</td>\n",
       "      <td>1</td>\n",
       "    </tr>\n",
       "    <tr>\n",
       "      <th>3</th>\n",
       "      <td>6151509c99d22614f2ffb97693234d8c068b3b22</td>\n",
       "      <td>SOACJLF12A6D4F657D</td>\n",
       "      <td>1</td>\n",
       "    </tr>\n",
       "    <tr>\n",
       "      <th>4</th>\n",
       "      <td>6151509c99d22614f2ffb97693234d8c068b3b22</td>\n",
       "      <td>SOACYUL12A6D4F9C79</td>\n",
       "      <td>1</td>\n",
       "    </tr>\n",
       "  </tbody>\n",
       "</table>\n",
       "</div>"
      ],
      "text/plain": [
       "                                     UserId              SongId  Count\n",
       "0  6151509c99d22614f2ffb97693234d8c068b3b22  SOAAFAC12A67ADF7EB      2\n",
       "1  6151509c99d22614f2ffb97693234d8c068b3b22  SOAAQWU12A8C13F908      1\n",
       "2  6151509c99d22614f2ffb97693234d8c068b3b22  SOACHXA12A58A7BE3E      1\n",
       "3  6151509c99d22614f2ffb97693234d8c068b3b22  SOACJLF12A6D4F657D      1\n",
       "4  6151509c99d22614f2ffb97693234d8c068b3b22  SOACYUL12A6D4F9C79      1"
      ]
     },
     "execution_count": 107,
     "metadata": {
      "tags": []
     },
     "output_type": "execute_result"
    }
   ],
   "source": [
    "toy_triplets.head()"
   ]
  },
  {
   "cell_type": "code",
   "execution_count": null,
   "metadata": {
    "colab": {
     "base_uri": "https://localhost:8080/",
     "height": 34
    },
    "colab_type": "code",
    "id": "LTBmYYoyA3qd",
    "outputId": "3774deab-7e10-4c29-d56d-a74472fdde27"
   },
   "outputs": [
    {
     "name": "stdout",
     "output_type": "stream",
     "text": [
      "Number of unique users: 100 Number of unique songs: 12572\n"
     ]
    }
   ],
   "source": [
    "print(\"Number of unique users:\", len(toy_triplets[\"UserId\"].unique().tolist()), \",\",\n",
    "\"Number of unique songs:\", len(toy_triplets[\"SongId\"].unique().tolist()))"
   ]
  },
  {
   "cell_type": "markdown",
   "metadata": {
    "colab_type": "text",
    "id": "dLyulv0ZWYgF"
   },
   "source": [
    "#Entropy implementation"
   ]
  },
  {
   "cell_type": "markdown",
   "metadata": {
    "colab_type": "text",
    "id": "top8hrOiWd-q"
   },
   "source": [
    "## Shannon Entropy\n"
   ]
  },
  {
   "cell_type": "code",
   "execution_count": 6,
   "metadata": {
    "colab": {},
    "colab_type": "code",
    "id": "MB2wqYcQA7bC"
   },
   "outputs": [],
   "source": [
    "def entropy_me(p):\n",
    "    c = []\n",
    "    for i in p:\n",
    "        if i == 0:\n",
    "            b = 0\n",
    "        else:\n",
    "            b = -i*math.log2(i)\n",
    "        c.append(b)\n",
    "    d = sum(c)\n",
    "    return d"
   ]
  },
  {
   "cell_type": "code",
   "execution_count": 7,
   "metadata": {
    "colab": {},
    "colab_type": "code",
    "id": "BrCu-_tRB5ST"
   },
   "outputs": [],
   "source": [
    "# getting a list of unique UserIds\n",
    "users = toy_triplets[\"UserId\"].unique().tolist()\n",
    "\n",
    "# calculating the Shannon entropy for each user separatelly and stacking\n",
    "# everything into the list \"shannon\"\n",
    "shannon = []\n",
    "for i in users:\n",
    "  b = toy_triplets[\"Count\"][toy_triplets[\"UserId\"]==i]/(np.sum(toy_triplets[\"Count\"][toy_triplets[\"UserId\"]==i]))\n",
    "  a = entropy_me(b)\n",
    "  shannon.append(a)"
   ]
  },
  {
   "cell_type": "code",
   "execution_count": null,
   "metadata": {
    "colab": {
     "base_uri": "https://localhost:8080/",
     "height": 486
    },
    "colab_type": "code",
    "id": "mDP5iBeQHlDs",
    "outputId": "877f582b-3484-4318-8357-624d73e9d2d8"
   },
   "outputs": [
    {
     "data": {
      "text/plain": [
       "(array([1., 0., 0., 2., 1., 1., 4., 2., 0., 1., 2., 3., 2., 3., 5., 4., 4.,\n",
       "        5., 6., 7., 2., 7., 5., 4., 9., 3., 2., 4., 1., 1., 2., 1., 2., 1.,\n",
       "        0., 0., 1., 0., 0., 2.]),\n",
       " array([ 2.46843341,  2.65722974,  2.84602606,  3.03482239,  3.22361872,\n",
       "         3.41241505,  3.60121138,  3.79000771,  3.97880404,  4.16760037,\n",
       "         4.35639669,  4.54519302,  4.73398935,  4.92278568,  5.11158201,\n",
       "         5.30037834,  5.48917467,  5.677971  ,  5.86676732,  6.05556365,\n",
       "         6.24435998,  6.43315631,  6.62195264,  6.81074897,  6.9995453 ,\n",
       "         7.18834163,  7.37713795,  7.56593428,  7.75473061,  7.94352694,\n",
       "         8.13232327,  8.3211196 ,  8.50991593,  8.69871226,  8.88750858,\n",
       "         9.07630491,  9.26510124,  9.45389757,  9.6426939 ,  9.83149023,\n",
       "        10.02028656]),\n",
       " <a list of 40 Patch objects>)"
      ]
     },
     "execution_count": 68,
     "metadata": {
      "tags": []
     },
     "output_type": "execute_result"
    },
    {
     "data": {
      "image/png": "[encoded data removed]",
      "text/plain": [
       "<Figure size 432x288 with 1 Axes>"
      ]
     },
     "metadata": {
      "needs_background": "light",
      "tags": []
     },
     "output_type": "display_data"
    }
   ],
   "source": [
    "# histograms\n",
    "plt.hist(shannon, bins=40)"
   ]
  },
  {
   "cell_type": "markdown",
   "metadata": {
    "colab_type": "text",
    "id": "kFYqxyY4ZcUs"
   },
   "source": [
    "Gaussian resemblence which might become more apparent with all the data. Overall, a nice spread of entropies - might be easier to decide on a threshold of specialist vs generialist."
   ]
  },
  {
   "cell_type": "markdown",
   "metadata": {
    "colab_type": "text",
    "id": "tEAIGDCDIhM7"
   },
   "source": [
    "## Kulback-Leibler divergence"
   ]
  },
  {
   "cell_type": "code",
   "execution_count": 21,
   "metadata": {
    "colab": {},
    "colab_type": "code",
    "id": "1PVsMdrjKj3d"
   },
   "outputs": [],
   "source": [
    "# Kullback-Leibner divergence function\n",
    "def KL(p,q):\n",
    "    c = []\n",
    "    for i, j in zip(p,q):\n",
    "        if i == 0:\n",
    "            b = 0\n",
    "        else:\n",
    "            b = -i*math.log2(i/j)\n",
    "        c.append(b)\n",
    "    d = sum(c)\n",
    "    return d"
   ]
  },
  {
   "cell_type": "code",
   "execution_count": 22,
   "metadata": {
    "colab": {},
    "colab_type": "code",
    "id": "cNHXEiYIWn6Y"
   },
   "outputs": [],
   "source": [
    "# getting Q - theoretical distribution\n",
    "\n",
    "# getting a list of unique SongId\n",
    "songs = toy_triplets[\"SongId\"].unique().tolist()\n",
    "\n",
    "# define q^1 - each instance of song being played at least onces corresponds to\n",
    "# a one count in q^1\n",
    "Q = []\n",
    "for i in songs:\n",
    "  a = np.sum(toy_triplets[\"SongId\"]==i)\n",
    "  Q.append(a)\n",
    "\n",
    "# shaping into probabilities\n",
    "Q = Q/sum(Q)\n",
    "\n",
    "# placing into pandas\n",
    "Q_joint = {\"SongId\": songs, \"Freq_q\": Q}\n",
    "Q_joint = pd.DataFrame(Q_joint, columns = [\"SongId\", \"Freq_q\"])"
   ]
  },
  {
   "cell_type": "code",
   "execution_count": null,
   "metadata": {
    "colab": {
     "base_uri": "https://localhost:8080/",
     "height": 34
    },
    "colab_type": "code",
    "id": "54tGujE9QLjn",
    "outputId": "1772d908-9377-48f5-b0e2-da4eb14b2f1d"
   },
   "outputs": [
    {
     "data": {
      "text/plain": [
       "(12572, 2)"
      ]
     },
     "execution_count": 16,
     "metadata": {
      "tags": []
     },
     "output_type": "execute_result"
    }
   ],
   "source": [
    "Q_joint.shape"
   ]
  },
  {
   "cell_type": "code",
   "execution_count": 23,
   "metadata": {
    "colab": {},
    "colab_type": "code",
    "id": "ki3PlsvnLTe3"
   },
   "outputs": [],
   "source": [
    "# list users from above (Shannon entropy)\n",
    "relative = []\n",
    "for u in users:\n",
    "  # subset the Count and SongID data for each user\n",
    "  p = toy_triplets[toy_triplets[\"UserId\"] == u]\n",
    "  # merge with Q so that the absent songs would disappear (p_ij = 0 contributes\n",
    "  # 0 to KL, hence it is equivalent to discard it a priori)\n",
    "  mid = pd.merge(left = p, right = Q_joint, left_on = \"SongId\", \n",
    "                 right_on = \"SongId\")\n",
    "  # defining a p_ij variable as a percentage \n",
    "  a = mid[\"Count\"]/np.sum(mid[\"Count\"])\n",
    "  # KL function aggregate\n",
    "  relative.append(KL(a, mid[\"Freq_q\"]))"
   ]
  },
  {
   "cell_type": "code",
   "execution_count": null,
   "metadata": {
    "colab": {
     "base_uri": "https://localhost:8080/",
     "height": 520
    },
    "colab_type": "code",
    "id": "rm11WKHYQWow",
    "outputId": "2be64480-0b4a-4397-9c64-2722c914ef50"
   },
   "outputs": [
    {
     "data": {
      "text/plain": [
       "(array([1., 0., 0., 0., 0., 4., 1., 1., 0., 0., 1., 3., 2., 1., 6., 2., 5.,\n",
       "        4., 3., 6., 6., 4., 7., 2., 9., 2., 5., 2., 3., 3., 4., 4., 1., 3.,\n",
       "        2., 0., 0., 1., 0., 2.]),\n",
       " array([-11.24423712, -11.05336221, -10.8624873 , -10.67161239,\n",
       "        -10.48073748, -10.28986257, -10.09898766,  -9.90811275,\n",
       "         -9.71723783,  -9.52636292,  -9.33548801,  -9.1446131 ,\n",
       "         -8.95373819,  -8.76286328,  -8.57198837,  -8.38111346,\n",
       "         -8.19023855,  -7.99936364,  -7.80848872,  -7.61761381,\n",
       "         -7.4267389 ,  -7.23586399,  -7.04498908,  -6.85411417,\n",
       "         -6.66323926,  -6.47236435,  -6.28148944,  -6.09061453,\n",
       "         -5.89973961,  -5.7088647 ,  -5.51798979,  -5.32711488,\n",
       "         -5.13623997,  -4.94536506,  -4.75449015,  -4.56361524,\n",
       "         -4.37274033,  -4.18186542,  -3.99099051,  -3.80011559,\n",
       "         -3.60924068]),\n",
       " <a list of 40 Patch objects>)"
      ]
     },
     "execution_count": 72,
     "metadata": {
      "tags": []
     },
     "output_type": "execute_result"
    },
    {
     "data": {
      "image/png": "[encoded data removed]",
      "text/plain": [
       "<Figure size 432x288 with 1 Axes>"
      ]
     },
     "metadata": {
      "needs_background": "light",
      "tags": []
     },
     "output_type": "display_data"
    }
   ],
   "source": [
    "plt.hist(relative, bins=40)"
   ]
  },
  {
   "cell_type": "markdown",
   "metadata": {
    "colab_type": "text",
    "id": "AXJk9-3hcuHC"
   },
   "source": [
    "Similar shape as Shannon entropy. Nice spread too. Now checking the correlation"
   ]
  },
  {
   "cell_type": "code",
   "execution_count": null,
   "metadata": {
    "colab": {
     "base_uri": "https://localhost:8080/",
     "height": 282
    },
    "colab_type": "code",
    "id": "miJXW2jDCfNR",
    "outputId": "6fe41f16-1a2c-4853-892a-8d201151897f"
   },
   "outputs": [
    {
     "data": {
      "text/plain": [
       "<matplotlib.collections.PathCollection at 0x7f6c9f160588>"
      ]
     },
     "execution_count": 73,
     "metadata": {
      "tags": []
     },
     "output_type": "execute_result"
    },
    {
     "data": {
      "image/png": "[encoded data removed]",
      "text/plain": [
       "<Figure size 432x288 with 1 Axes>"
      ]
     },
     "metadata": {
      "needs_background": "light",
      "tags": []
     },
     "output_type": "display_data"
    }
   ],
   "source": [
    "plt.scatter(shannon, relative)"
   ]
  },
  {
   "cell_type": "code",
   "execution_count": null,
   "metadata": {
    "colab": {
     "base_uri": "https://localhost:8080/",
     "height": 34
    },
    "colab_type": "code",
    "id": "76sqluQNDAgB",
    "outputId": "f49cd483-f14d-4f75-9dc1-84d0b1171996"
   },
   "outputs": [
    {
     "data": {
      "text/plain": [
       "(0.9056416068199128, 2.7138266032392544e-38)"
      ]
     },
     "execution_count": 76,
     "metadata": {
      "tags": []
     },
     "output_type": "execute_result"
    }
   ],
   "source": [
    "pearsonr(shannon, relative)"
   ]
  },
  {
   "cell_type": "markdown",
   "metadata": {
    "colab_type": "text",
    "id": "PjnbfgGcc4W_"
   },
   "source": [
    "Strong positive correlation as expected. There is some tendency for the users to have relativelly higher KL divergence score than the Shannon entropy score meaning that some users might be seen more mainstream generalist than they are seen generalist"
   ]
  },
  {
   "cell_type": "markdown",
   "metadata": {
    "colab_type": "text",
    "id": "pgiZZklXEXro"
   },
   "source": [
    "## Gini-index\n"
   ]
  },
  {
   "cell_type": "code",
   "execution_count": 13,
   "metadata": {
    "colab": {},
    "colab_type": "code",
    "id": "ylHe3--tEaQD"
   },
   "outputs": [],
   "source": [
    "# Gini function\n",
    "def gini(p):\n",
    "    c = []\n",
    "    for i in p:\n",
    "        b = i**2\n",
    "        c.append(b)\n",
    "    d = 1 - sum(c)    \n",
    "    return d"
   ]
  },
  {
   "cell_type": "code",
   "execution_count": 14,
   "metadata": {
    "colab": {},
    "colab_type": "code",
    "id": "kMLmubp4E1QS"
   },
   "outputs": [],
   "source": [
    "# getting gini index for each user independently\n",
    "gini_index = []\n",
    "for i in users:\n",
    "  b = toy_triplets[\"Count\"][toy_triplets[\"UserId\"]==i]/(np.sum(toy_triplets[\"Count\"][toy_triplets[\"UserId\"]==i]))\n",
    "  a = gini(b)\n",
    "  gini_index.append(a)"
   ]
  },
  {
   "cell_type": "code",
   "execution_count": null,
   "metadata": {
    "colab": {
     "base_uri": "https://localhost:8080/",
     "height": 503
    },
    "colab_type": "code",
    "id": "X-17w3OEE_67",
    "outputId": "7f75ea98-f203-4add-c41f-a4c25a463c5c"
   },
   "outputs": [
    {
     "data": {
      "text/plain": [
       "(array([ 1.,  0.,  0.,  0.,  0.,  0.,  0.,  0.,  0.,  0.,  0.,  0.,  0.,\n",
       "         0.,  0.,  0.,  0.,  0.,  0.,  0.,  0.,  0.,  0.,  0.,  0.,  5.,\n",
       "         0.,  1.,  1.,  2.,  2.,  2.,  2.,  3.,  2.,  4., 10., 13., 26.,\n",
       "        26.]),\n",
       " array([0.64724246, 0.65603315, 0.66482384, 0.67361453, 0.68240522,\n",
       "        0.69119591, 0.6999866 , 0.70877729, 0.71756798, 0.72635867,\n",
       "        0.73514936, 0.74394005, 0.75273074, 0.76152143, 0.77031212,\n",
       "        0.77910281, 0.7878935 , 0.79668419, 0.80547488, 0.81426557,\n",
       "        0.82305626, 0.83184695, 0.84063764, 0.84942833, 0.85821902,\n",
       "        0.86700971, 0.8758004 , 0.88459109, 0.89338178, 0.90217247,\n",
       "        0.91096316, 0.91975385, 0.92854454, 0.93733523, 0.94612592,\n",
       "        0.95491661, 0.9637073 , 0.97249799, 0.98128868, 0.99007937,\n",
       "        0.99887006]),\n",
       " <a list of 40 Patch objects>)"
      ]
     },
     "execution_count": 98,
     "metadata": {
      "tags": []
     },
     "output_type": "execute_result"
    },
    {
     "data": {
      "image/png": "[encoded data removed]",
      "text/plain": [
       "<Figure size 432x288 with 1 Axes>"
      ]
     },
     "metadata": {
      "needs_background": "light",
      "tags": []
     },
     "output_type": "display_data"
    }
   ],
   "source": [
    "plt.hist(gini_index, bins = 40)"
   ]
  },
  {
   "cell_type": "markdown",
   "metadata": {
    "colab_type": "text",
    "id": "rztvB80vdlyr"
   },
   "source": [
    "Most of the values are large - inbetween 0.9 and 1 indicating that according to Gini index, most of the users are rather generalist - the probability of two random draws with replacement to be different is large. The data spread is limited and that is an issue. I suppose this is due to the very small probabilities $p_{ij}$."
   ]
  },
  {
   "cell_type": "code",
   "execution_count": null,
   "metadata": {
    "colab": {
     "base_uri": "https://localhost:8080/",
     "height": 282
    },
    "colab_type": "code",
    "id": "aRomcApjFb1u",
    "outputId": "8419116d-a061-4adf-a997-61e0f4e4a174"
   },
   "outputs": [
    {
     "data": {
      "text/plain": [
       "<matplotlib.collections.PathCollection at 0x7f6cc6384470>"
      ]
     },
     "execution_count": 92,
     "metadata": {
      "tags": []
     },
     "output_type": "execute_result"
    },
    {
     "data": {
      "image/png": "[encoded data removed]",
      "text/plain": [
       "<Figure size 432x288 with 1 Axes>"
      ]
     },
     "metadata": {
      "needs_background": "light",
      "tags": []
     },
     "output_type": "display_data"
    }
   ],
   "source": [
    "plt.scatter(shannon, gini_index)"
   ]
  },
  {
   "cell_type": "code",
   "execution_count": null,
   "metadata": {
    "colab": {
     "base_uri": "https://localhost:8080/",
     "height": 34
    },
    "colab_type": "code",
    "id": "2H3AEkDyGVsU",
    "outputId": "ff05e141-5ce1-40f8-c5c2-fdd7c54c0cf5"
   },
   "outputs": [
    {
     "data": {
      "text/plain": [
       "(0.7569033232483608, 8.294982060204223e-20)"
      ]
     },
     "execution_count": 93,
     "metadata": {
      "tags": []
     },
     "output_type": "execute_result"
    }
   ],
   "source": [
    "pearsonr(shannon, gini_index)"
   ]
  },
  {
   "cell_type": "markdown",
   "metadata": {
    "colab_type": "text",
    "id": "vYpzzAz_d33B"
   },
   "source": [
    "Correlation between Gini index and Shannon entropy is lower thant that between the latter and the relative entropy. Also, we see a concave quadratic relationship between the Shannon entropy and Gini index. It is still positive."
   ]
  },
  {
   "cell_type": "code",
   "execution_count": 25,
   "metadata": {
    "colab": {
     "base_uri": "https://localhost:8080/",
     "height": 282
    },
    "colab_type": "code",
    "id": "VmH6dg6xjWNJ",
    "outputId": "c9696d47-9dd3-4819-a2e1-ff58de4e3fb5"
   },
   "outputs": [
    {
     "data": {
      "text/plain": [
       "<matplotlib.collections.PathCollection at 0x7fe2b72dd7f0>"
      ]
     },
     "execution_count": 25,
     "metadata": {
      "tags": []
     },
     "output_type": "execute_result"
    },
    {
     "data": {
      "image/png": "[encoded data removed]",
      "text/plain": [
       "<Figure size 432x288 with 1 Axes>"
      ]
     },
     "metadata": {
      "needs_background": "light",
      "tags": []
     },
     "output_type": "display_data"
    }
   ],
   "source": [
    "plt.scatter(relative, gini_index)"
   ]
  },
  {
   "cell_type": "markdown",
   "metadata": {
    "colab_type": "text",
    "id": "1ldqdPaxjbeH"
   },
   "source": [
    "Relationship between the Gini index and the KL divergence is very similar to the one between Gini and Shannon entropy with more noise added due to the different benchmark measurement of the KL divergence."
   ]
  },
  {
   "cell_type": "markdown",
   "metadata": {
    "colab_type": "text",
    "id": "8Hqp98CrII1T"
   },
   "source": [
    "## Hill number\n"
   ]
  },
  {
   "cell_type": "code",
   "execution_count": 8,
   "metadata": {
    "colab": {},
    "colab_type": "code",
    "id": "dM9e9q6kIL6a"
   },
   "outputs": [],
   "source": [
    "# Hill number function\n",
    "def hill(p,q):\n",
    "    c =[]\n",
    "    for i in p:\n",
    "        b = i**q\n",
    "        c.append(b)\n",
    "    d = sum(c)**(1/(1-q))   \n",
    "    return d"
   ]
  },
  {
   "cell_type": "code",
   "execution_count": 9,
   "metadata": {
    "colab": {},
    "colab_type": "code",
    "id": "n-cMPcjgIPg0"
   },
   "outputs": [],
   "source": [
    "# implementation for each user and then aggregating in list \"hill_no\"\n",
    "hill_no = []\n",
    "for i in users:\n",
    "  b = toy_triplets[\"Count\"][toy_triplets[\"UserId\"]==i]/(np.sum(toy_triplets[\"Count\"][toy_triplets[\"UserId\"]==i]))\n",
    "  a = hill(b,3)\n",
    "  hill_no.append(a)"
   ]
  },
  {
   "cell_type": "code",
   "execution_count": null,
   "metadata": {
    "colab": {
     "base_uri": "https://localhost:8080/",
     "height": 506
    },
    "colab_type": "code",
    "id": "piLugM3-Iauz",
    "outputId": "9ba08cd7-8857-4bb7-9723-908cab770a86"
   },
   "outputs": [
    {
     "data": {
      "text/plain": [
       "(array([24., 24., 15., 10.,  8.,  5.,  4.,  1.,  1.,  3.,  0.,  0.,  1.,\n",
       "         1.,  0.,  0.,  0.,  0.,  0.,  0.,  0.,  1.,  0.,  0.,  1.,  0.,\n",
       "         0.,  0.,  0.,  0.,  0.,  0.,  0.,  0.,  0.,  0.,  0.,  0.,  0.,\n",
       "         1.]), array([  2.25645923,  20.47331002,  38.6901608 ,  56.90701158,\n",
       "         75.12386237,  93.34071315, 111.55756393, 129.77441472,\n",
       "        147.9912655 , 166.20811628, 184.42496706, 202.64181785,\n",
       "        220.85866863, 239.07551941, 257.2923702 , 275.50922098,\n",
       "        293.72607176, 311.94292255, 330.15977333, 348.37662411,\n",
       "        366.5934749 , 384.81032568, 403.02717646, 421.24402724,\n",
       "        439.46087803, 457.67772881, 475.89457959, 494.11143038,\n",
       "        512.32828116, 530.54513194, 548.76198273, 566.97883351,\n",
       "        585.19568429, 603.41253508, 621.62938586, 639.84623664,\n",
       "        658.06308742, 676.27993821, 694.49678899, 712.71363977,\n",
       "        730.93049056]), <a list of 40 Patch objects>)"
      ]
     },
     "execution_count": 105,
     "metadata": {
      "tags": []
     },
     "output_type": "execute_result"
    },
    {
     "data": {
      "image/png": "[encoded data removed]",
      "text/plain": [
       "<Figure size 432x288 with 1 Axes>"
      ]
     },
     "metadata": {
      "needs_background": "light",
      "tags": []
     },
     "output_type": "display_data"
    }
   ],
   "source": [
    "plt.hist(hill_no, bins = 40)"
   ]
  },
  {
   "cell_type": "markdown",
   "metadata": {
    "colab_type": "text",
    "id": "Q_v5uTd9fJxx"
   },
   "source": [
    "There is somewhat more spread than with the Gini index with most of the Hill values ranging from 2 to just bellow 200 categories indicating that it would be easier to define a threashold for the specialist/ generialist labeling."
   ]
  },
  {
   "cell_type": "code",
   "execution_count": 10,
   "metadata": {
    "colab": {
     "base_uri": "https://localhost:8080/",
     "height": 282
    },
    "colab_type": "code",
    "id": "z2Yvw-8sfYiX",
    "outputId": "bef06286-5938-407c-cd34-2489b6c3f0e7"
   },
   "outputs": [
    {
     "data": {
      "text/plain": [
       "<matplotlib.collections.PathCollection at 0x7fe2b7e85320>"
      ]
     },
     "execution_count": 10,
     "metadata": {
      "tags": []
     },
     "output_type": "execute_result"
    },
    {
     "data": {
      "image/png": "[encoded data removed]",
      "text/plain": [
       "<Figure size 432x288 with 1 Axes>"
      ]
     },
     "metadata": {
      "needs_background": "light",
      "tags": []
     },
     "output_type": "display_data"
    }
   ],
   "source": [
    "plt.scatter(shannon, hill_no)"
   ]
  },
  {
   "cell_type": "code",
   "execution_count": 11,
   "metadata": {
    "colab": {
     "base_uri": "https://localhost:8080/",
     "height": 34
    },
    "colab_type": "code",
    "id": "n3LrAsfxgoIB",
    "outputId": "e31cf13c-cf9e-4cd2-acd0-bd176cb61f33"
   },
   "outputs": [
    {
     "data": {
      "text/plain": [
       "(0.7286355815928001, 8.521424069815568e-18)"
      ]
     },
     "execution_count": 11,
     "metadata": {
      "tags": []
     },
     "output_type": "execute_result"
    }
   ],
   "source": [
    "pearsonr(shannon, hill_no)"
   ]
  },
  {
   "cell_type": "markdown",
   "metadata": {
    "colab_type": "text",
    "id": "D1wzDxd7gdxp"
   },
   "source": [
    "Now we have positive quadratic convex relationship. The data spread is clearly better than with Gini index. The correlation with the Shannon entropy is, however smaller. It seems that users with large entropy values tend to require fewer equifrequent songs that one would expect under the linear relationship case. "
   ]
  },
  {
   "cell_type": "code",
   "execution_count": 19,
   "metadata": {
    "colab": {
     "base_uri": "https://localhost:8080/",
     "height": 282
    },
    "colab_type": "code",
    "id": "1ArdPAklhQYp",
    "outputId": "d1652bd5-67cc-4197-aba8-f49a66b296dc"
   },
   "outputs": [
    {
     "data": {
      "text/plain": [
       "<matplotlib.collections.PathCollection at 0x7fe2b73e86a0>"
      ]
     },
     "execution_count": 19,
     "metadata": {
      "tags": []
     },
     "output_type": "execute_result"
    },
    {
     "data": {
      "image/png": "[encoded data removed]",
      "text/plain": [
       "<Figure size 432x288 with 1 Axes>"
      ]
     },
     "metadata": {
      "needs_background": "light",
      "tags": []
     },
     "output_type": "display_data"
    }
   ],
   "source": [
    "plt.scatter(hill_no, gini_index)"
   ]
  },
  {
   "cell_type": "code",
   "execution_count": 20,
   "metadata": {
    "colab": {
     "base_uri": "https://localhost:8080/",
     "height": 34
    },
    "colab_type": "code",
    "id": "aCxzb1YShxdK",
    "outputId": "fdb8b7f2-7122-46bb-cdb9-9cfc83844d5d"
   },
   "outputs": [
    {
     "data": {
      "text/plain": [
       "(0.354661385886188, 0.0002940824874292938)"
      ]
     },
     "execution_count": 20,
     "metadata": {
      "tags": []
     },
     "output_type": "execute_result"
    }
   ],
   "source": [
    "pearsonr(hill_no, gini_index)"
   ]
  },
  {
   "cell_type": "markdown",
   "metadata": {
    "colab_type": "text",
    "id": "O-sNUJLSh3lg"
   },
   "source": [
    "Extremelly low correlation between Hill number and Gini index and a rather non-sensial scatter plots indicates that these two measures are rather different and capture different aspect of the data."
   ]
  },
  {
   "cell_type": "code",
   "execution_count": 24,
   "metadata": {
    "colab": {
     "base_uri": "https://localhost:8080/",
     "height": 282
    },
    "colab_type": "code",
    "id": "qfjFOnaEiR5v",
    "outputId": "a37edffa-ef92-4a87-a0af-09bb464f8016"
   },
   "outputs": [
    {
     "data": {
      "text/plain": [
       "<matplotlib.collections.PathCollection at 0x7fe2b736bf98>"
      ]
     },
     "execution_count": 24,
     "metadata": {
      "tags": []
     },
     "output_type": "execute_result"
    },
    {
     "data": {
      "image/png": "[encoded data removed]",
      "text/plain": [
       "<Figure size 432x288 with 1 Axes>"
      ]
     },
     "metadata": {
      "needs_background": "light",
      "tags": []
     },
     "output_type": "display_data"
    }
   ],
   "source": [
    "plt.scatter(relative, hill_no)"
   ]
  },
  {
   "cell_type": "markdown",
   "metadata": {
    "colab_type": "text",
    "id": "Z9ftoKnkiY-N"
   },
   "source": [
    "The relationship between the Hill number and KL divergence is rather similar to the one between the former and the Shannon entropy, yet with more noise potentialy arising due to the KL divergence measuring similarity to the mainstream generalist as opposed to the overall generalist"
   ]
  }
 ],
 "metadata": {
  "colab": {
   "collapsed_sections": [],
   "name": "Entropy_subsample.ipynb",
   "provenance": [],
   "toc_visible": true
  },
  "kernelspec": {
   "display_name": "Python 3",
   "language": "python",
   "name": "python3"
  },
  "language_info": {
   "codemirror_mode": {
    "name": "ipython",
    "version": 3
   },
   "file_extension": ".py",
   "mimetype": "text/x-python",
   "name": "python",
   "nbconvert_exporter": "python",
   "pygments_lexer": "ipython3",
   "version": "3.7.4"
  },
  "toc": {
   "base_numbering": 1,
   "nav_menu": {},
   "number_sections": true,
   "sideBar": true,
   "skip_h1_title": false,
   "title_cell": "Table of Contents",
   "title_sidebar": "Contents",
   "toc_cell": false,
   "toc_position": {},
   "toc_section_display": true,
   "toc_window_display": false
  }
 },
 "nbformat": 4,
 "nbformat_minor": 4
}
