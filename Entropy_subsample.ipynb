{
  "nbformat": 4,
  "nbformat_minor": 0,
  "metadata": {
    "kernelspec": {
      "display_name": "Python 3",
      "language": "python",
      "name": "python3"
    },
    "language_info": {
      "codemirror_mode": {
        "name": "ipython",
        "version": 3
      },
      "file_extension": ".py",
      "mimetype": "text/x-python",
      "name": "python",
      "nbconvert_exporter": "python",
      "pygments_lexer": "ipython3",
      "version": "3.7.4"
    },
    "toc": {
      "base_numbering": 1,
      "nav_menu": {},
      "number_sections": true,
      "sideBar": true,
      "skip_h1_title": false,
      "title_cell": "Table of Contents",
      "title_sidebar": "Contents",
      "toc_cell": false,
      "toc_position": {},
      "toc_section_display": true,
      "toc_window_display": false
    },
    "colab": {
      "name": "Entropy_subsample.ipynb",
      "provenance": [],
      "collapsed_sections": [],
      "toc_visible": true
    }
  },
  "cells": [
    {
      "cell_type": "code",
      "metadata": {
        "id": "FtYMZRZFRMDX",
        "colab_type": "code",
        "colab": {}
      },
      "source": [
        "import numpy as np\n",
        "import pandas as pd \n",
        "from sklearn.decomposition import PCA\n",
        "import matplotlib.pyplot as plt\n",
        "import math\n",
        "from scipy.stats import pearsonr\n",
        "from sklearn.metrics import r2_score"
      ],
      "execution_count": 1,
      "outputs": []
    },
    {
      "cell_type": "code",
      "metadata": {
        "id": "cgHzIRWCRYV4",
        "colab_type": "code",
        "colab": {
          "base_uri": "https://localhost:8080/",
          "height": 122
        },
        "outputId": "b6ba092f-3cdb-445f-94c4-eddcc64e8569"
      },
      "source": [
        "from google.colab import drive\n",
        "drive.mount('/content/drive')"
      ],
      "execution_count": 2,
      "outputs": [
        {
          "output_type": "stream",
          "text": [
            "Go to this URL in a browser: https://accounts.google.com/o/oauth2/auth?client_id=947318989803-6bn6qk8qdgf4n4g3pfee6491hc0brc4i.apps.googleusercontent.com&redirect_uri=urn%3aietf%3awg%3aoauth%3a2.0%3aoob&response_type=code&scope=email%20https%3a%2f%2fwww.googleapis.com%2fauth%2fdocs.test%20https%3a%2f%2fwww.googleapis.com%2fauth%2fdrive%20https%3a%2f%2fwww.googleapis.com%2fauth%2fdrive.photos.readonly%20https%3a%2f%2fwww.googleapis.com%2fauth%2fpeopleapi.readonly\n",
            "\n",
            "Enter your authorization code:\n",
            "··········\n",
            "Mounted at /content/drive\n"
          ],
          "name": "stdout"
        }
      ]
    },
    {
      "cell_type": "markdown",
      "metadata": {
        "id": "ixJjUpiURMDj",
        "colab_type": "text"
      },
      "source": [
        "# Loading all data"
      ]
    },
    {
      "cell_type": "markdown",
      "metadata": {
        "id": "OlynwgMaRMDj",
        "colab_type": "text"
      },
      "source": [
        "Loading all datasets used - main triplet data, embedded vectors generates with Poisson factotization, bridge data that connects TrackId with SongId and song genre data. "
      ]
    },
    {
      "cell_type": "code",
      "metadata": {
        "id": "jxPDItebRMDk",
        "colab_type": "code",
        "colab": {}
      },
      "source": [
        "# main triplet data\n",
        "data = pd.read_csv(\"/content/drive/My Drive/MSc Statistics/train_triplets.txt\",\n",
        "                   delimiter=\"\\t\", header=None, names= [\"UserId\", \"SongId\", \"Count\"])"
      ],
      "execution_count": 3,
      "outputs": []
    },
    {
      "cell_type": "code",
      "metadata": {
        "id": "opNRe63-RMDr",
        "colab_type": "code",
        "colab": {},
        "outputId": "194b217d-0576-4d82-8175-3ebd703ac7a4"
      },
      "source": [
        "data.head()"
      ],
      "execution_count": null,
      "outputs": [
        {
          "output_type": "execute_result",
          "data": {
            "text/html": [
              "<div>\n",
              "<style scoped>\n",
              "    .dataframe tbody tr th:only-of-type {\n",
              "        vertical-align: middle;\n",
              "    }\n",
              "\n",
              "    .dataframe tbody tr th {\n",
              "        vertical-align: top;\n",
              "    }\n",
              "\n",
              "    .dataframe thead th {\n",
              "        text-align: right;\n",
              "    }\n",
              "</style>\n",
              "<table border=\"1\" class=\"dataframe\">\n",
              "  <thead>\n",
              "    <tr style=\"text-align: right;\">\n",
              "      <th></th>\n",
              "      <th>UserId</th>\n",
              "      <th>SongId</th>\n",
              "      <th>Count</th>\n",
              "    </tr>\n",
              "  </thead>\n",
              "  <tbody>\n",
              "    <tr>\n",
              "      <th>0</th>\n",
              "      <td>b80344d063b5ccb3212f76538f3d9e43d87dca9e</td>\n",
              "      <td>SOAKIMP12A8C130995</td>\n",
              "      <td>1</td>\n",
              "    </tr>\n",
              "    <tr>\n",
              "      <th>1</th>\n",
              "      <td>b80344d063b5ccb3212f76538f3d9e43d87dca9e</td>\n",
              "      <td>SOAPDEY12A81C210A9</td>\n",
              "      <td>1</td>\n",
              "    </tr>\n",
              "    <tr>\n",
              "      <th>2</th>\n",
              "      <td>b80344d063b5ccb3212f76538f3d9e43d87dca9e</td>\n",
              "      <td>SOBBMDR12A8C13253B</td>\n",
              "      <td>2</td>\n",
              "    </tr>\n",
              "    <tr>\n",
              "      <th>3</th>\n",
              "      <td>b80344d063b5ccb3212f76538f3d9e43d87dca9e</td>\n",
              "      <td>SOBFNSP12AF72A0E22</td>\n",
              "      <td>1</td>\n",
              "    </tr>\n",
              "    <tr>\n",
              "      <th>4</th>\n",
              "      <td>b80344d063b5ccb3212f76538f3d9e43d87dca9e</td>\n",
              "      <td>SOBFOVM12A58A7D494</td>\n",
              "      <td>1</td>\n",
              "    </tr>\n",
              "  </tbody>\n",
              "</table>\n",
              "</div>"
            ],
            "text/plain": [
              "                                     UserId              SongId  Count\n",
              "0  b80344d063b5ccb3212f76538f3d9e43d87dca9e  SOAKIMP12A8C130995      1\n",
              "1  b80344d063b5ccb3212f76538f3d9e43d87dca9e  SOAPDEY12A81C210A9      1\n",
              "2  b80344d063b5ccb3212f76538f3d9e43d87dca9e  SOBBMDR12A8C13253B      2\n",
              "3  b80344d063b5ccb3212f76538f3d9e43d87dca9e  SOBFNSP12AF72A0E22      1\n",
              "4  b80344d063b5ccb3212f76538f3d9e43d87dca9e  SOBFOVM12A58A7D494      1"
            ]
          },
          "metadata": {
            "tags": []
          },
          "execution_count": 6
        }
      ]
    },
    {
      "cell_type": "code",
      "metadata": {
        "id": "lAFaVL-1RMDv",
        "colab_type": "code",
        "colab": {}
      },
      "source": [
        "# embedded vectors data\n",
        "embeds = np.load(\"/content/drive/My Drive/MSc Statistics/track-embeddings-v2.npz\", allow_pickle=True)"
      ],
      "execution_count": null,
      "outputs": []
    },
    {
      "cell_type": "markdown",
      "metadata": {
        "id": "9K3NBbvwRMDy",
        "colab_type": "text"
      },
      "source": [
        "\"beta\" part corresponds to the 100 dimensional embedded vectors and \"mapping\" - to the corresponding SongId"
      ]
    },
    {
      "cell_type": "code",
      "metadata": {
        "id": "Tm7ji5zjRMDy",
        "colab_type": "code",
        "colab": {},
        "outputId": "58bd77b5-7e63-4f40-bd0c-742e1e75c92c"
      },
      "source": [
        "#shape of the song vectors\n",
        "embeds[\"beta\"].shape"
      ],
      "execution_count": null,
      "outputs": [
        {
          "output_type": "execute_result",
          "data": {
            "text/plain": [
              "(384546, 100)"
            ]
          },
          "metadata": {
            "tags": []
          },
          "execution_count": 12
        }
      ]
    },
    {
      "cell_type": "code",
      "metadata": {
        "id": "ZE-D-gYbRMD1",
        "colab_type": "code",
        "colab": {},
        "outputId": "8e6f4d60-562c-4c05-c15e-0df05e94831a"
      },
      "source": [
        "# shape of the link vector\n",
        "embeds[\"mapping\"].shape"
      ],
      "execution_count": null,
      "outputs": [
        {
          "output_type": "execute_result",
          "data": {
            "text/plain": [
              "(384546,)"
            ]
          },
          "metadata": {
            "tags": []
          },
          "execution_count": 13
        }
      ]
    },
    {
      "cell_type": "code",
      "metadata": {
        "id": "-_T7uF4LRMD5",
        "colab_type": "code",
        "colab": {},
        "outputId": "29eeb7ab-b3ae-4797-b904-df2485e32748"
      },
      "source": [
        "# these link vectors correspond to SongId\n",
        "embeds[\"mapping\"][1]"
      ],
      "execution_count": null,
      "outputs": [
        {
          "output_type": "execute_result",
          "data": {
            "text/plain": [
              "'SOAPDEY12A81C210A9'"
            ]
          },
          "metadata": {
            "tags": []
          },
          "execution_count": 14
        }
      ]
    },
    {
      "cell_type": "code",
      "metadata": {
        "id": "7tPlU80IRMED",
        "colab_type": "code",
        "colab": {
          "base_uri": "https://localhost:8080/",
          "height": 71
        },
        "outputId": "c9ef7424-4706-4ded-8049-c580cb5caeb4"
      },
      "source": [
        "# data to connect TrackId with SongId\n",
        "bridge = pd.read_csv(\"/content/drive/My Drive/MSc Statistics/unique_tracks.txt\",  delimiter=\"<SEP>\", header=None, \n",
        "                    names= [\"TrackId\", \"SongId\", \"Artist\", \"Song_name\"])"
      ],
      "execution_count": null,
      "outputs": [
        {
          "output_type": "stream",
          "text": [
            "/usr/local/lib/python3.6/dist-packages/ipykernel_launcher.py:3: ParserWarning: Falling back to the 'python' engine because the 'c' engine does not support regex separators (separators > 1 char and different from '\\s+' are interpreted as regex); you can avoid this warning by specifying engine='python'.\n",
            "  This is separate from the ipykernel package so we can avoid doing imports until\n"
          ],
          "name": "stderr"
        }
      ]
    },
    {
      "cell_type": "code",
      "metadata": {
        "id": "mxU0l_y7RMEH",
        "colab_type": "code",
        "colab": {},
        "outputId": "27d48c78-59d8-471c-a244-ed083fb92366"
      },
      "source": [
        "bridge.head()"
      ],
      "execution_count": null,
      "outputs": [
        {
          "output_type": "execute_result",
          "data": {
            "text/html": [
              "<div>\n",
              "<style scoped>\n",
              "    .dataframe tbody tr th:only-of-type {\n",
              "        vertical-align: middle;\n",
              "    }\n",
              "\n",
              "    .dataframe tbody tr th {\n",
              "        vertical-align: top;\n",
              "    }\n",
              "\n",
              "    .dataframe thead th {\n",
              "        text-align: right;\n",
              "    }\n",
              "</style>\n",
              "<table border=\"1\" class=\"dataframe\">\n",
              "  <thead>\n",
              "    <tr style=\"text-align: right;\">\n",
              "      <th></th>\n",
              "      <th>TrackId</th>\n",
              "      <th>SongId</th>\n",
              "      <th>Artist</th>\n",
              "      <th>Song_name</th>\n",
              "    </tr>\n",
              "  </thead>\n",
              "  <tbody>\n",
              "    <tr>\n",
              "      <th>0</th>\n",
              "      <td>TRMMMYQ128F932D901</td>\n",
              "      <td>SOQMMHC12AB0180CB8</td>\n",
              "      <td>Faster Pussy cat</td>\n",
              "      <td>Silent Night</td>\n",
              "    </tr>\n",
              "    <tr>\n",
              "      <th>1</th>\n",
              "      <td>TRMMMKD128F425225D</td>\n",
              "      <td>SOVFVAK12A8C1350D9</td>\n",
              "      <td>Karkkiautomaatti</td>\n",
              "      <td>Tanssi vaan</td>\n",
              "    </tr>\n",
              "    <tr>\n",
              "      <th>2</th>\n",
              "      <td>TRMMMRX128F93187D9</td>\n",
              "      <td>SOGTUKN12AB017F4F1</td>\n",
              "      <td>Hudson Mohawke</td>\n",
              "      <td>No One Could Ever</td>\n",
              "    </tr>\n",
              "    <tr>\n",
              "      <th>3</th>\n",
              "      <td>TRMMMCH128F425532C</td>\n",
              "      <td>SOBNYVR12A8C13558C</td>\n",
              "      <td>Yerba Brava</td>\n",
              "      <td>Si Vos Querés</td>\n",
              "    </tr>\n",
              "    <tr>\n",
              "      <th>4</th>\n",
              "      <td>TRMMMWA128F426B589</td>\n",
              "      <td>SOHSBXH12A8C13B0DF</td>\n",
              "      <td>Der Mystic</td>\n",
              "      <td>Tangle Of Aspens</td>\n",
              "    </tr>\n",
              "  </tbody>\n",
              "</table>\n",
              "</div>"
            ],
            "text/plain": [
              "              TrackId              SongId            Artist          Song_name\n",
              "0  TRMMMYQ128F932D901  SOQMMHC12AB0180CB8  Faster Pussy cat       Silent Night\n",
              "1  TRMMMKD128F425225D  SOVFVAK12A8C1350D9  Karkkiautomaatti        Tanssi vaan\n",
              "2  TRMMMRX128F93187D9  SOGTUKN12AB017F4F1    Hudson Mohawke  No One Could Ever\n",
              "3  TRMMMCH128F425532C  SOBNYVR12A8C13558C       Yerba Brava      Si Vos Querés\n",
              "4  TRMMMWA128F426B589  SOHSBXH12A8C13B0DF        Der Mystic   Tangle Of Aspens"
            ]
          },
          "metadata": {
            "tags": []
          },
          "execution_count": 15
        }
      ]
    },
    {
      "cell_type": "code",
      "metadata": {
        "id": "H97y4ayS3Wy9",
        "colab_type": "code",
        "colab": {
          "base_uri": "https://localhost:8080/",
          "height": 34
        },
        "outputId": "d4953669-0d8f-4955-d866-f973fda1d52c"
      },
      "source": [
        "bridge.shape"
      ],
      "execution_count": null,
      "outputs": [
        {
          "output_type": "execute_result",
          "data": {
            "text/plain": [
              "(1000000, 4)"
            ]
          },
          "metadata": {
            "tags": []
          },
          "execution_count": 73
        }
      ]
    },
    {
      "cell_type": "code",
      "metadata": {
        "id": "G9RKQX9xRMEM",
        "colab_type": "code",
        "colab": {}
      },
      "source": [
        "# song genre data\n",
        "genres = pd.read_csv(\"/content/drive/My Drive/MSc Statistics/ganres.txt\",  delimiter=\"\\t\", header=None,\n",
        "                     names= [\"TrackId\", \"Main_genre\", \"Minor_genre\"])"
      ],
      "execution_count": null,
      "outputs": []
    },
    {
      "cell_type": "code",
      "metadata": {
        "id": "POmwvOkoRMEV",
        "colab_type": "code",
        "colab": {},
        "outputId": "a61ee9e4-a2ec-4efd-e29c-ce5cfa055044"
      },
      "source": [
        "genres.head()"
      ],
      "execution_count": null,
      "outputs": [
        {
          "output_type": "execute_result",
          "data": {
            "text/html": [
              "<div>\n",
              "<style scoped>\n",
              "    .dataframe tbody tr th:only-of-type {\n",
              "        vertical-align: middle;\n",
              "    }\n",
              "\n",
              "    .dataframe tbody tr th {\n",
              "        vertical-align: top;\n",
              "    }\n",
              "\n",
              "    .dataframe thead th {\n",
              "        text-align: right;\n",
              "    }\n",
              "</style>\n",
              "<table border=\"1\" class=\"dataframe\">\n",
              "  <thead>\n",
              "    <tr style=\"text-align: right;\">\n",
              "      <th></th>\n",
              "      <th>TrackId</th>\n",
              "      <th>Main_genre</th>\n",
              "      <th>Minor_genre</th>\n",
              "    </tr>\n",
              "  </thead>\n",
              "  <tbody>\n",
              "    <tr>\n",
              "      <th>0</th>\n",
              "      <td>TRAAAAK128F9318786</td>\n",
              "      <td>Rock</td>\n",
              "      <td>NaN</td>\n",
              "    </tr>\n",
              "    <tr>\n",
              "      <th>1</th>\n",
              "      <td>TRAAAAW128F429D538</td>\n",
              "      <td>Rap</td>\n",
              "      <td>NaN</td>\n",
              "    </tr>\n",
              "    <tr>\n",
              "      <th>2</th>\n",
              "      <td>TRAAABD128F429CF47</td>\n",
              "      <td>Rock</td>\n",
              "      <td>RnB</td>\n",
              "    </tr>\n",
              "    <tr>\n",
              "      <th>3</th>\n",
              "      <td>TRAAADJ128F4287B47</td>\n",
              "      <td>Rock</td>\n",
              "      <td>NaN</td>\n",
              "    </tr>\n",
              "    <tr>\n",
              "      <th>4</th>\n",
              "      <td>TRAAADZ128F9348C2E</td>\n",
              "      <td>Latin</td>\n",
              "      <td>NaN</td>\n",
              "    </tr>\n",
              "  </tbody>\n",
              "</table>\n",
              "</div>"
            ],
            "text/plain": [
              "              TrackId Main_genre Minor_genre\n",
              "0  TRAAAAK128F9318786       Rock         NaN\n",
              "1  TRAAAAW128F429D538        Rap         NaN\n",
              "2  TRAAABD128F429CF47       Rock         RnB\n",
              "3  TRAAADJ128F4287B47       Rock         NaN\n",
              "4  TRAAADZ128F9348C2E      Latin         NaN"
            ]
          },
          "metadata": {
            "tags": []
          },
          "execution_count": 18
        }
      ]
    },
    {
      "cell_type": "code",
      "metadata": {
        "id": "s3EmnqJE3UCI",
        "colab_type": "code",
        "colab": {
          "base_uri": "https://localhost:8080/",
          "height": 34
        },
        "outputId": "212e55bb-dce7-43f5-b430-bbb71539d393"
      },
      "source": [
        "genres.shape"
      ],
      "execution_count": null,
      "outputs": [
        {
          "output_type": "execute_result",
          "data": {
            "text/plain": [
              "(280831, 3)"
            ]
          },
          "metadata": {
            "tags": []
          },
          "execution_count": 72
        }
      ]
    },
    {
      "cell_type": "markdown",
      "metadata": {
        "id": "x63fdR8BYPax",
        "colab_type": "text"
      },
      "source": [
        "We begin by analysing the main triplet data followed by the ganre data."
      ]
    },
    {
      "cell_type": "code",
      "metadata": {
        "id": "ghZPCMldRMEl",
        "colab_type": "code",
        "colab": {},
        "outputId": "0117388d-6d31-47df-d4bf-fcb9547d3ed0"
      },
      "source": [
        "print(\"Number of unique users\", len(data[\"UserId\"].unique().tolist()),\n",
        "      \"Number of unique tracks\", len(data[\"SongId\"].unique().tolist()))"
      ],
      "execution_count": null,
      "outputs": [
        {
          "output_type": "stream",
          "text": [
            "Number of unique users 1019318 Number of unique tracks 384546\n"
          ],
          "name": "stdout"
        }
      ]
    },
    {
      "cell_type": "code",
      "metadata": {
        "id": "j7T4BhISRMEr",
        "colab_type": "code",
        "colab": {},
        "outputId": "5962f2a7-8619-4e2e-bee3-3384dea32ee4"
      },
      "source": [
        "pd.options.display.float_format = '{:.2f}'.format # supresing scientific notation\n",
        "data[\"Count\"].describe()"
      ],
      "execution_count": null,
      "outputs": [
        {
          "output_type": "execute_result",
          "data": {
            "text/plain": [
              "count   48373586.00\n",
              "mean           2.87\n",
              "std            6.44\n",
              "min            1.00\n",
              "25%            1.00\n",
              "50%            1.00\n",
              "75%            3.00\n",
              "max         9667.00\n",
              "Name: Count, dtype: float64"
            ]
          },
          "metadata": {
            "tags": []
          },
          "execution_count": 33
        }
      ]
    },
    {
      "cell_type": "markdown",
      "metadata": {
        "id": "ingNWTBRRMEx",
        "colab_type": "text"
      },
      "source": [
        "\"Count\" data has a large skew - 75th percentile is 3, yet the max values is 9667. Also, the majority of the data (at least 50% of it) is 1."
      ]
    },
    {
      "cell_type": "code",
      "metadata": {
        "id": "0gNVyFpgRMEy",
        "colab_type": "code",
        "colab": {},
        "outputId": "07f9b5b9-b5eb-4a8f-f743-db95535126a8"
      },
      "source": [
        "print(\"Song playing count greater than 100:\", np.sum(data[\"Count\"]>100),\". \"\n",
        "     \"Song playing count greater than 1000:\", np.sum(data[\"Count\"]>1000))"
      ],
      "execution_count": null,
      "outputs": [
        {
          "output_type": "stream",
          "text": [
            "Song playing count greater than 100: 18811 . Song playing count greater than 1000: 62\n"
          ],
          "name": "stdout"
        }
      ]
    },
    {
      "cell_type": "code",
      "metadata": {
        "id": "3zLDIU6kRME1",
        "colab_type": "code",
        "colab": {},
        "outputId": "6d6edc89-384d-474b-95d5-fdad017e02ef"
      },
      "source": [
        "data[\"Count\"][data[\"Count\"]<100].hist(bins=40)"
      ],
      "execution_count": null,
      "outputs": [
        {
          "output_type": "execute_result",
          "data": {
            "text/plain": [
              "<matplotlib.axes._subplots.AxesSubplot at 0x7ffa94a84e10>"
            ]
          },
          "metadata": {
            "tags": []
          },
          "execution_count": 50
        },
        {
          "output_type": "display_data",
          "data": {
            "image/png": "[encoded data removed]",
            "text/plain": [
              "<Figure size 432x288 with 1 Axes>"
            ]
          },
          "metadata": {
            "tags": [],
            "needs_background": "light"
          }
        }
      ]
    },
    {
      "cell_type": "markdown",
      "metadata": {
        "id": "9m1Zflm7rxlB",
        "colab_type": "text"
      },
      "source": [
        "Now, let's examine how the song distribution by genre."
      ]
    },
    {
      "cell_type": "code",
      "metadata": {
        "id": "YPMdcbR0RME_",
        "colab_type": "code",
        "colab": {
          "base_uri": "https://localhost:8080/",
          "height": 102
        },
        "outputId": "7bf647b8-ee0c-4e33-be7d-6228c0d0b464"
      },
      "source": [
        "# Now looking into how many genres we have\n",
        "genres[\"Main_genre\"].describe()\n",
        "# 15 unique genres"
      ],
      "execution_count": null,
      "outputs": [
        {
          "output_type": "execute_result",
          "data": {
            "text/plain": [
              "count     280831\n",
              "unique        15\n",
              "top         Rock\n",
              "freq      113150\n",
              "Name: Main_genre, dtype: object"
            ]
          },
          "metadata": {
            "tags": []
          },
          "execution_count": 13
        }
      ]
    },
    {
      "cell_type": "code",
      "metadata": {
        "id": "GgtpVK3SSord",
        "colab_type": "code",
        "colab": {}
      },
      "source": [
        "all_genres = genres[\"Main_genre\"].unique().tolist()\n",
        "\n",
        "cat = []\n",
        "for i in all_genres:\n",
        "  cat.append(np.sum(genres[\"Main_genre\"]==i))"
      ],
      "execution_count": null,
      "outputs": []
    },
    {
      "cell_type": "code",
      "metadata": {
        "id": "G8U246xTTzya",
        "colab_type": "code",
        "colab": {
          "base_uri": "https://localhost:8080/",
          "height": 375
        },
        "outputId": "e58cafaa-e8f2-4af2-b710-a457ddb26d33"
      },
      "source": [
        "fig = plt.figure()\n",
        "ax = fig.add_axes([0,0,1,1])\n",
        "labels = all_genres\n",
        "val = cat\n",
        "ax.bar(labels,val)\n",
        "plt.xticks(rotation=90)\n",
        "plt.show()\n",
        "# Rock is the new pop?"
      ],
      "execution_count": null,
      "outputs": [
        {
          "output_type": "display_data",
          "data": {
            "image/png": "[encoded data removed]",
            "text/plain": [
              "<Figure size 432x288 with 1 Axes>"
            ]
          },
          "metadata": {
            "tags": [],
            "needs_background": "light"
          }
        }
      ]
    },
    {
      "cell_type": "code",
      "metadata": {
        "id": "t1vLUTNbs9wi",
        "colab_type": "code",
        "colab": {}
      },
      "source": [
        "A bit odd"
      ],
      "execution_count": null,
      "outputs": []
    },
    {
      "cell_type": "markdown",
      "metadata": {
        "id": "jHc5anD0Zi7n",
        "colab_type": "text"
      },
      "source": [
        "Merging the data so we could connect SongId with some metadata. Conducting the same data analysis below."
      ]
    },
    {
      "cell_type": "code",
      "metadata": {
        "id": "gpbdUAXdRMFB",
        "colab_type": "code",
        "colab": {}
      },
      "source": [
        "mid_merge = pd.merge(left = genres, right = bridge, left_on=\"TrackId\", right_on=\"TrackId\")"
      ],
      "execution_count": null,
      "outputs": []
    },
    {
      "cell_type": "code",
      "metadata": {
        "id": "RaEc1mx6RMFG",
        "colab_type": "code",
        "colab": {
          "base_uri": "https://localhost:8080/",
          "height": 204
        },
        "outputId": "aeb23f8e-a966-42dc-ba21-7863792d0188"
      },
      "source": [
        "mid_merge.head()"
      ],
      "execution_count": null,
      "outputs": [
        {
          "output_type": "execute_result",
          "data": {
            "text/html": [
              "<div>\n",
              "<style scoped>\n",
              "    .dataframe tbody tr th:only-of-type {\n",
              "        vertical-align: middle;\n",
              "    }\n",
              "\n",
              "    .dataframe tbody tr th {\n",
              "        vertical-align: top;\n",
              "    }\n",
              "\n",
              "    .dataframe thead th {\n",
              "        text-align: right;\n",
              "    }\n",
              "</style>\n",
              "<table border=\"1\" class=\"dataframe\">\n",
              "  <thead>\n",
              "    <tr style=\"text-align: right;\">\n",
              "      <th></th>\n",
              "      <th>TrackId</th>\n",
              "      <th>Main_genre</th>\n",
              "      <th>Minor_genre</th>\n",
              "      <th>SongId</th>\n",
              "      <th>Artist</th>\n",
              "      <th>Song_name</th>\n",
              "    </tr>\n",
              "  </thead>\n",
              "  <tbody>\n",
              "    <tr>\n",
              "      <th>0</th>\n",
              "      <td>TRAAAAK128F9318786</td>\n",
              "      <td>Rock</td>\n",
              "      <td>NaN</td>\n",
              "      <td>SOBLFFE12AF72AA5BA</td>\n",
              "      <td>Adelitas Way</td>\n",
              "      <td>Scream</td>\n",
              "    </tr>\n",
              "    <tr>\n",
              "      <th>1</th>\n",
              "      <td>TRAAAAW128F429D538</td>\n",
              "      <td>Rap</td>\n",
              "      <td>NaN</td>\n",
              "      <td>SOMZWCG12A8C13C480</td>\n",
              "      <td>Casual</td>\n",
              "      <td>I Didn't Mean To</td>\n",
              "    </tr>\n",
              "    <tr>\n",
              "      <th>2</th>\n",
              "      <td>TRAAABD128F429CF47</td>\n",
              "      <td>Rock</td>\n",
              "      <td>RnB</td>\n",
              "      <td>SOCIWDW12A8C13D406</td>\n",
              "      <td>The Box Tops</td>\n",
              "      <td>Soul Deep</td>\n",
              "    </tr>\n",
              "    <tr>\n",
              "      <th>3</th>\n",
              "      <td>TRAAADJ128F4287B47</td>\n",
              "      <td>Rock</td>\n",
              "      <td>NaN</td>\n",
              "      <td>SOCSNVI12A8C13ECC2</td>\n",
              "      <td>Big Brother &amp; The Holding Company</td>\n",
              "      <td>Heartache People</td>\n",
              "    </tr>\n",
              "    <tr>\n",
              "      <th>4</th>\n",
              "      <td>TRAAADZ128F9348C2E</td>\n",
              "      <td>Latin</td>\n",
              "      <td>NaN</td>\n",
              "      <td>SOXVLOJ12AB0189215</td>\n",
              "      <td>Sonora Santanera</td>\n",
              "      <td>Amor De Cabaret</td>\n",
              "    </tr>\n",
              "  </tbody>\n",
              "</table>\n",
              "</div>"
            ],
            "text/plain": [
              "              TrackId  ...         Song_name\n",
              "0  TRAAAAK128F9318786  ...            Scream\n",
              "1  TRAAAAW128F429D538  ...  I Didn't Mean To\n",
              "2  TRAAABD128F429CF47  ...         Soul Deep\n",
              "3  TRAAADJ128F4287B47  ...  Heartache People\n",
              "4  TRAAADZ128F9348C2E  ...   Amor De Cabaret\n",
              "\n",
              "[5 rows x 6 columns]"
            ]
          },
          "metadata": {
            "tags": []
          },
          "execution_count": 71
        }
      ]
    },
    {
      "cell_type": "code",
      "metadata": {
        "id": "A8o8UIYoRMFJ",
        "colab_type": "code",
        "colab": {
          "base_uri": "https://localhost:8080/",
          "height": 34
        },
        "outputId": "1576a2e3-9c09-4926-e0ce-1a868b9bd1ea"
      },
      "source": [
        "print(mid_merge.shape)"
      ],
      "execution_count": null,
      "outputs": [
        {
          "output_type": "stream",
          "text": [
            "(280831, 6)\n"
          ],
          "name": "stdout"
        }
      ]
    },
    {
      "cell_type": "code",
      "metadata": {
        "id": "65UX2RhvRMFN",
        "colab_type": "code",
        "colab": {}
      },
      "source": [
        "ganre_merge = pd.merge(left = mid_merge, right = data, left_on=\"SongId\", right_on=\"SongId\")"
      ],
      "execution_count": null,
      "outputs": []
    },
    {
      "cell_type": "code",
      "metadata": {
        "id": "jDSNylcNRMFS",
        "colab_type": "code",
        "colab": {
          "base_uri": "https://localhost:8080/",
          "height": 204
        },
        "outputId": "bad77901-2489-4617-ad37-cf8e1c82690d"
      },
      "source": [
        "ganre_merge.head()"
      ],
      "execution_count": null,
      "outputs": [
        {
          "output_type": "execute_result",
          "data": {
            "text/html": [
              "<div>\n",
              "<style scoped>\n",
              "    .dataframe tbody tr th:only-of-type {\n",
              "        vertical-align: middle;\n",
              "    }\n",
              "\n",
              "    .dataframe tbody tr th {\n",
              "        vertical-align: top;\n",
              "    }\n",
              "\n",
              "    .dataframe thead th {\n",
              "        text-align: right;\n",
              "    }\n",
              "</style>\n",
              "<table border=\"1\" class=\"dataframe\">\n",
              "  <thead>\n",
              "    <tr style=\"text-align: right;\">\n",
              "      <th></th>\n",
              "      <th>TrackId</th>\n",
              "      <th>Main_genre</th>\n",
              "      <th>Minor_genre</th>\n",
              "      <th>SongId</th>\n",
              "      <th>Artist</th>\n",
              "      <th>Song_name</th>\n",
              "      <th>UserId</th>\n",
              "      <th>Count</th>\n",
              "    </tr>\n",
              "  </thead>\n",
              "  <tbody>\n",
              "    <tr>\n",
              "      <th>0</th>\n",
              "      <td>TRAAAAK128F9318786</td>\n",
              "      <td>Rock</td>\n",
              "      <td>NaN</td>\n",
              "      <td>SOBLFFE12AF72AA5BA</td>\n",
              "      <td>Adelitas Way</td>\n",
              "      <td>Scream</td>\n",
              "      <td>cf9a8225b3626e668facf9dda53a2ef3da445bf6</td>\n",
              "      <td>1</td>\n",
              "    </tr>\n",
              "    <tr>\n",
              "      <th>1</th>\n",
              "      <td>TRAAAAK128F9318786</td>\n",
              "      <td>Rock</td>\n",
              "      <td>NaN</td>\n",
              "      <td>SOBLFFE12AF72AA5BA</td>\n",
              "      <td>Adelitas Way</td>\n",
              "      <td>Scream</td>\n",
              "      <td>6776279a369a04148a92597d270ac500ddc7a27c</td>\n",
              "      <td>3</td>\n",
              "    </tr>\n",
              "    <tr>\n",
              "      <th>2</th>\n",
              "      <td>TRAAAAK128F9318786</td>\n",
              "      <td>Rock</td>\n",
              "      <td>NaN</td>\n",
              "      <td>SOBLFFE12AF72AA5BA</td>\n",
              "      <td>Adelitas Way</td>\n",
              "      <td>Scream</td>\n",
              "      <td>8c412b22910a9c9531ac72ec742913d73317782d</td>\n",
              "      <td>1</td>\n",
              "    </tr>\n",
              "    <tr>\n",
              "      <th>3</th>\n",
              "      <td>TRAAAAK128F9318786</td>\n",
              "      <td>Rock</td>\n",
              "      <td>NaN</td>\n",
              "      <td>SOBLFFE12AF72AA5BA</td>\n",
              "      <td>Adelitas Way</td>\n",
              "      <td>Scream</td>\n",
              "      <td>74230c5555c9f4e929f8e6c25344b7ee1f37d9e3</td>\n",
              "      <td>2</td>\n",
              "    </tr>\n",
              "    <tr>\n",
              "      <th>4</th>\n",
              "      <td>TRAAAAK128F9318786</td>\n",
              "      <td>Rock</td>\n",
              "      <td>NaN</td>\n",
              "      <td>SOBLFFE12AF72AA5BA</td>\n",
              "      <td>Adelitas Way</td>\n",
              "      <td>Scream</td>\n",
              "      <td>dac762704dfe74075187e98623f92268727bf749</td>\n",
              "      <td>1</td>\n",
              "    </tr>\n",
              "  </tbody>\n",
              "</table>\n",
              "</div>"
            ],
            "text/plain": [
              "              TrackId  ... Count\n",
              "0  TRAAAAK128F9318786  ...     1\n",
              "1  TRAAAAK128F9318786  ...     3\n",
              "2  TRAAAAK128F9318786  ...     1\n",
              "3  TRAAAAK128F9318786  ...     2\n",
              "4  TRAAAAK128F9318786  ...     1\n",
              "\n",
              "[5 rows x 8 columns]"
            ]
          },
          "metadata": {
            "tags": []
          },
          "execution_count": 34
        }
      ]
    },
    {
      "cell_type": "code",
      "metadata": {
        "id": "WJNUy-4SXgn-",
        "colab_type": "code",
        "colab": {
          "base_uri": "https://localhost:8080/",
          "height": 34
        },
        "outputId": "ba0fce32-f8c4-4d19-c881-90be971f7b59"
      },
      "source": [
        "print(\"Number of unique users\", len(ganre_merge[\"UserId\"].unique().tolist()),\n",
        "      \"Number of unique tracks\", len(ganre_merge[\"SongId\"].unique().tolist()))"
      ],
      "execution_count": null,
      "outputs": [
        {
          "output_type": "stream",
          "text": [
            "Number of unique users 1018733 Number of unique tracks 173301\n"
          ],
          "name": "stdout"
        }
      ]
    },
    {
      "cell_type": "code",
      "metadata": {
        "id": "8FQfEDsmXhqs",
        "colab_type": "code",
        "colab": {
          "base_uri": "https://localhost:8080/",
          "height": 170
        },
        "outputId": "7dadc7c3-f730-41f8-96b5-0fc514ffd93c"
      },
      "source": [
        "pd.options.display.float_format = '{:.2f}'.format # supresing scientific notation\n",
        "ganre_merge[\"Count\"].describe()"
      ],
      "execution_count": null,
      "outputs": [
        {
          "output_type": "execute_result",
          "data": {
            "text/plain": [
              "count   30168816.00\n",
              "mean           2.77\n",
              "std            6.30\n",
              "min            1.00\n",
              "25%            1.00\n",
              "50%            1.00\n",
              "75%            2.00\n",
              "max         9667.00\n",
              "Name: Count, dtype: float64"
            ]
          },
          "metadata": {
            "tags": []
          },
          "execution_count": 37
        }
      ]
    },
    {
      "cell_type": "code",
      "metadata": {
        "id": "X0CT0m-TYqrh",
        "colab_type": "code",
        "colab": {
          "base_uri": "https://localhost:8080/",
          "height": 293
        },
        "outputId": "1aa64776-f746-4c74-895d-94b7270545fc"
      },
      "source": [
        "ganre_merge[\"Count\"][ganre_merge[\"Count\"]<100].hist(bins=40)"
      ],
      "execution_count": null,
      "outputs": [
        {
          "output_type": "execute_result",
          "data": {
            "text/plain": [
              "<matplotlib.axes._subplots.AxesSubplot at 0x7f9d64efb860>"
            ]
          },
          "metadata": {
            "tags": []
          },
          "execution_count": 38
        },
        {
          "output_type": "display_data",
          "data": {
            "image/png": "[encoded data removed]",
            "text/plain": [
              "<Figure size 432x288 with 1 Axes>"
            ]
          },
          "metadata": {
            "tags": [],
            "needs_background": "light"
          }
        }
      ]
    },
    {
      "cell_type": "code",
      "metadata": {
        "id": "JIGeDjShYxpX",
        "colab_type": "code",
        "colab": {
          "base_uri": "https://localhost:8080/",
          "height": 102
        },
        "outputId": "d7654b30-02fe-4de4-b19a-c6f3df62b6dd"
      },
      "source": [
        "# Now looking into how many genres we have\n",
        "ganre_merge[\"Main_genre\"].describe()\n",
        "# 15 unique genres"
      ],
      "execution_count": null,
      "outputs": [
        {
          "output_type": "execute_result",
          "data": {
            "text/plain": [
              "count     30168816\n",
              "unique          15\n",
              "top           Rock\n",
              "freq      14922297\n",
              "Name: Main_genre, dtype: object"
            ]
          },
          "metadata": {
            "tags": []
          },
          "execution_count": 41
        }
      ]
    },
    {
      "cell_type": "code",
      "metadata": {
        "id": "3fQtF0W4Y8X0",
        "colab_type": "code",
        "colab": {}
      },
      "source": [
        "cat2 = []\n",
        "for i in all_genres:\n",
        "  cat2.append(np.sum(ganre_merge[\"Main_genre\"]==i))"
      ],
      "execution_count": null,
      "outputs": []
    },
    {
      "cell_type": "code",
      "metadata": {
        "id": "sW5iy8FR9Khj",
        "colab_type": "code",
        "colab": {}
      },
      "source": [
        ""
      ],
      "execution_count": null,
      "outputs": []
    },
    {
      "cell_type": "code",
      "metadata": {
        "id": "FNyEbP27ZIOe",
        "colab_type": "code",
        "colab": {
          "base_uri": "https://localhost:8080/",
          "height": 386
        },
        "outputId": "9e98e54d-5eff-4883-dd43-36aeaa06a75c"
      },
      "source": [
        "fig = plt.figure()\n",
        "ax = fig.add_axes([0,0,1,1])\n",
        "labels = all_genres\n",
        "val = cat2\n",
        "ax.bar(labels,val)\n",
        "plt.xticks(rotation=90)\n",
        "plt.show()"
      ],
      "execution_count": null,
      "outputs": [
        {
          "output_type": "display_data",
          "data": {
            "image/png": "[encoded data removed]",
            "text/plain": [
              "<Figure size 432x288 with 1 Axes>"
            ]
          },
          "metadata": {
            "tags": [],
            "needs_background": "light"
          }
        }
      ]
    },
    {
      "cell_type": "markdown",
      "metadata": {
        "id": "oQvyg-YfiVVe",
        "colab_type": "text"
      },
      "source": [
        "Now we look into the Artist level metadata"
      ]
    },
    {
      "cell_type": "code",
      "metadata": {
        "id": "CWmSsfsRiKMk",
        "colab_type": "code",
        "colab": {
          "base_uri": "https://localhost:8080/",
          "height": 34
        },
        "outputId": "ba9c692e-6cf4-4cad-9da0-b71a6a7d7f0e"
      },
      "source": [
        "art_count = ganre_merge[\"Artist\"].unique().tolist()\n",
        "len(art_count)"
      ],
      "execution_count": null,
      "outputs": [
        {
          "output_type": "execute_result",
          "data": {
            "text/plain": [
              "21867"
            ]
          },
          "metadata": {
            "tags": []
          },
          "execution_count": 47
        }
      ]
    },
    {
      "cell_type": "code",
      "metadata": {
        "id": "w7TZxhH_vKE1",
        "colab_type": "code",
        "colab": {}
      },
      "source": [
        "sum_art = ganre_merge.groupby([\"Artist\"]).size()"
      ],
      "execution_count": null,
      "outputs": []
    },
    {
      "cell_type": "code",
      "metadata": {
        "id": "DrH0X1HEizpR",
        "colab_type": "code",
        "colab": {
          "base_uri": "https://localhost:8080/",
          "height": 170
        },
        "outputId": "fa6da5ce-bf9c-4b41-cc5b-c7f1ee078e5d"
      },
      "source": [
        "sum_art.describe()"
      ],
      "execution_count": null,
      "outputs": [
        {
          "output_type": "execute_result",
          "data": {
            "text/plain": [
              "count    21867.00\n",
              "mean      1379.65\n",
              "std       7036.85\n",
              "min          1.00\n",
              "25%         18.00\n",
              "50%         95.00\n",
              "75%        516.00\n",
              "max     322535.00\n",
              "dtype: float64"
            ]
          },
          "metadata": {
            "tags": []
          },
          "execution_count": 93
        }
      ]
    },
    {
      "cell_type": "code",
      "metadata": {
        "id": "fgRml0ok9sSL",
        "colab_type": "code",
        "colab": {
          "base_uri": "https://localhost:8080/",
          "height": 282
        },
        "outputId": "25b5b27a-8ba8-44d4-acad-6986377d5f1e"
      },
      "source": [
        "sum_art.plot.box()"
      ],
      "execution_count": null,
      "outputs": [
        {
          "output_type": "execute_result",
          "data": {
            "text/plain": [
              "<matplotlib.axes._subplots.AxesSubplot at 0x7f9d034ac6a0>"
            ]
          },
          "metadata": {
            "tags": []
          },
          "execution_count": 94
        },
        {
          "output_type": "display_data",
          "data": {
            "image/png": "[encoded data removed]",
            "text/plain": [
              "<Figure size 432x288 with 1 Axes>"
            ]
          },
          "metadata": {
            "tags": [],
            "needs_background": "light"
          }
        }
      ]
    },
    {
      "cell_type": "code",
      "metadata": {
        "id": "BIHNM_kd99hJ",
        "colab_type": "code",
        "colab": {
          "base_uri": "https://localhost:8080/",
          "height": 408
        },
        "outputId": "40ad4314-fae1-4ab3-fd7a-8b1627cadfff"
      },
      "source": [
        "sum_art[sum_art>100000]"
      ],
      "execution_count": null,
      "outputs": [
        {
          "output_type": "execute_result",
          "data": {
            "text/plain": [
              "Artist\n",
              "Beirut                    101549\n",
              "Björk                     108232\n",
              "Black Eyed Peas           109747\n",
              "Coldplay                  322535\n",
              "Daft Punk                 179538\n",
              "Eminem                    131666\n",
              "Florence + The Machine    110397\n",
              "Gorillaz                  106753\n",
              "Guns N' Roses             103653\n",
              "Harmonia                  110721\n",
              "Jack Johnson              170619\n",
              "John Mayer                125474\n",
              "Justin Bieber             188485\n",
              "Kings Of Leon             237685\n",
              "Metallica                 135459\n",
              "Muse                      164615\n",
              "OneRepublic               109811\n",
              "Radiohead                 189892\n",
              "Rise Against              109212\n",
              "The Black Keys            225624\n",
              "The Killers               127043\n",
              "dtype: int64"
            ]
          },
          "metadata": {
            "tags": []
          },
          "execution_count": 102
        }
      ]
    },
    {
      "cell_type": "code",
      "metadata": {
        "id": "EImqr6ue3mbN",
        "colab_type": "code",
        "colab": {}
      },
      "source": [
        "df1 = pd.DataFrame({\"TrackId\": [0, 1,2,3,4], \"Main_genre\": [\"rnb\", \"Rock\", \"Pop\", \"Soul\", \"Rock\"] })\n",
        "df2 = pd.DataFrame({\"TrackId\": [1,2,3,4,5,6], \"SongId\": [\"A\", \"B\", \"C\", \"D\", \"E\", \"F\"],\n",
        "                    \"Artist\": [\"Me\", \"You\", \"He\", \"She\", \"It\", \"They\"] })"
      ],
      "execution_count": null,
      "outputs": []
    },
    {
      "cell_type": "code",
      "metadata": {
        "id": "oJYwGogS4bdb",
        "colab_type": "code",
        "colab": {
          "base_uri": "https://localhost:8080/",
          "height": 204
        },
        "outputId": "e7b79c89-56c7-4513-b28b-c4107b06c4c2"
      },
      "source": [
        "df1"
      ],
      "execution_count": null,
      "outputs": [
        {
          "output_type": "execute_result",
          "data": {
            "text/html": [
              "<div>\n",
              "<style scoped>\n",
              "    .dataframe tbody tr th:only-of-type {\n",
              "        vertical-align: middle;\n",
              "    }\n",
              "\n",
              "    .dataframe tbody tr th {\n",
              "        vertical-align: top;\n",
              "    }\n",
              "\n",
              "    .dataframe thead th {\n",
              "        text-align: right;\n",
              "    }\n",
              "</style>\n",
              "<table border=\"1\" class=\"dataframe\">\n",
              "  <thead>\n",
              "    <tr style=\"text-align: right;\">\n",
              "      <th></th>\n",
              "      <th>TrackId</th>\n",
              "      <th>Main_genre</th>\n",
              "    </tr>\n",
              "  </thead>\n",
              "  <tbody>\n",
              "    <tr>\n",
              "      <th>0</th>\n",
              "      <td>0</td>\n",
              "      <td>rnb</td>\n",
              "    </tr>\n",
              "    <tr>\n",
              "      <th>1</th>\n",
              "      <td>1</td>\n",
              "      <td>Rock</td>\n",
              "    </tr>\n",
              "    <tr>\n",
              "      <th>2</th>\n",
              "      <td>2</td>\n",
              "      <td>Pop</td>\n",
              "    </tr>\n",
              "    <tr>\n",
              "      <th>3</th>\n",
              "      <td>3</td>\n",
              "      <td>Soul</td>\n",
              "    </tr>\n",
              "    <tr>\n",
              "      <th>4</th>\n",
              "      <td>4</td>\n",
              "      <td>Rock</td>\n",
              "    </tr>\n",
              "  </tbody>\n",
              "</table>\n",
              "</div>"
            ],
            "text/plain": [
              "   TrackId Main_genre\n",
              "0        0        rnb\n",
              "1        1       Rock\n",
              "2        2        Pop\n",
              "3        3       Soul\n",
              "4        4       Rock"
            ]
          },
          "metadata": {
            "tags": []
          },
          "execution_count": 81
        }
      ]
    },
    {
      "cell_type": "code",
      "metadata": {
        "id": "RctotrasuqnH",
        "colab_type": "code",
        "colab": {}
      },
      "source": [
        "first_merge = pd.merge(left = df1, right = df2, left_on=\"TrackId\", right_on=\"TrackId\")"
      ],
      "execution_count": null,
      "outputs": []
    },
    {
      "cell_type": "code",
      "metadata": {
        "id": "YxpOXq2e4kpT",
        "colab_type": "code",
        "colab": {
          "base_uri": "https://localhost:8080/",
          "height": 173
        },
        "outputId": "1cea59d6-d453-4423-8aae-054f7f4323a6"
      },
      "source": [
        "first_merge"
      ],
      "execution_count": null,
      "outputs": [
        {
          "output_type": "execute_result",
          "data": {
            "text/html": [
              "<div>\n",
              "<style scoped>\n",
              "    .dataframe tbody tr th:only-of-type {\n",
              "        vertical-align: middle;\n",
              "    }\n",
              "\n",
              "    .dataframe tbody tr th {\n",
              "        vertical-align: top;\n",
              "    }\n",
              "\n",
              "    .dataframe thead th {\n",
              "        text-align: right;\n",
              "    }\n",
              "</style>\n",
              "<table border=\"1\" class=\"dataframe\">\n",
              "  <thead>\n",
              "    <tr style=\"text-align: right;\">\n",
              "      <th></th>\n",
              "      <th>TrackId</th>\n",
              "      <th>Main_genre</th>\n",
              "      <th>SongId</th>\n",
              "      <th>Artist</th>\n",
              "    </tr>\n",
              "  </thead>\n",
              "  <tbody>\n",
              "    <tr>\n",
              "      <th>0</th>\n",
              "      <td>1</td>\n",
              "      <td>Rock</td>\n",
              "      <td>A</td>\n",
              "      <td>Me</td>\n",
              "    </tr>\n",
              "    <tr>\n",
              "      <th>1</th>\n",
              "      <td>2</td>\n",
              "      <td>Pop</td>\n",
              "      <td>B</td>\n",
              "      <td>You</td>\n",
              "    </tr>\n",
              "    <tr>\n",
              "      <th>2</th>\n",
              "      <td>3</td>\n",
              "      <td>Soul</td>\n",
              "      <td>C</td>\n",
              "      <td>He</td>\n",
              "    </tr>\n",
              "    <tr>\n",
              "      <th>3</th>\n",
              "      <td>4</td>\n",
              "      <td>Rock</td>\n",
              "      <td>D</td>\n",
              "      <td>She</td>\n",
              "    </tr>\n",
              "  </tbody>\n",
              "</table>\n",
              "</div>"
            ],
            "text/plain": [
              "   TrackId Main_genre SongId Artist\n",
              "0        1       Rock      A     Me\n",
              "1        2        Pop      B    You\n",
              "2        3       Soul      C     He\n",
              "3        4       Rock      D    She"
            ]
          },
          "metadata": {
            "tags": []
          },
          "execution_count": 83
        }
      ]
    },
    {
      "cell_type": "code",
      "metadata": {
        "id": "pSekLRDX6B0H",
        "colab_type": "code",
        "colab": {}
      },
      "source": [
        "df3 = pd.DataFrame({\"UserId\": [\"aaa\", \"aaa\", \"bbb\", \"ccc\", \"ccc\", \"ccc\"], \"SongId\": [\"A\", \"B\", \"A\", \"D\", \"E\", \"B\"],\n",
        "                    \"Count\" : [1,2,5,10,12,1] })"
      ],
      "execution_count": null,
      "outputs": []
    },
    {
      "cell_type": "code",
      "metadata": {
        "id": "2iJPP4BG6wFw",
        "colab_type": "code",
        "colab": {
          "base_uri": "https://localhost:8080/",
          "height": 235
        },
        "outputId": "1d13bdc0-d1f9-44c8-ad82-046efa90295e"
      },
      "source": [
        "df3"
      ],
      "execution_count": null,
      "outputs": [
        {
          "output_type": "execute_result",
          "data": {
            "text/html": [
              "<div>\n",
              "<style scoped>\n",
              "    .dataframe tbody tr th:only-of-type {\n",
              "        vertical-align: middle;\n",
              "    }\n",
              "\n",
              "    .dataframe tbody tr th {\n",
              "        vertical-align: top;\n",
              "    }\n",
              "\n",
              "    .dataframe thead th {\n",
              "        text-align: right;\n",
              "    }\n",
              "</style>\n",
              "<table border=\"1\" class=\"dataframe\">\n",
              "  <thead>\n",
              "    <tr style=\"text-align: right;\">\n",
              "      <th></th>\n",
              "      <th>UserId</th>\n",
              "      <th>SongId</th>\n",
              "      <th>Count</th>\n",
              "    </tr>\n",
              "  </thead>\n",
              "  <tbody>\n",
              "    <tr>\n",
              "      <th>0</th>\n",
              "      <td>aaa</td>\n",
              "      <td>A</td>\n",
              "      <td>1</td>\n",
              "    </tr>\n",
              "    <tr>\n",
              "      <th>1</th>\n",
              "      <td>aaa</td>\n",
              "      <td>B</td>\n",
              "      <td>2</td>\n",
              "    </tr>\n",
              "    <tr>\n",
              "      <th>2</th>\n",
              "      <td>bbb</td>\n",
              "      <td>A</td>\n",
              "      <td>5</td>\n",
              "    </tr>\n",
              "    <tr>\n",
              "      <th>3</th>\n",
              "      <td>ccc</td>\n",
              "      <td>D</td>\n",
              "      <td>10</td>\n",
              "    </tr>\n",
              "    <tr>\n",
              "      <th>4</th>\n",
              "      <td>ccc</td>\n",
              "      <td>E</td>\n",
              "      <td>12</td>\n",
              "    </tr>\n",
              "    <tr>\n",
              "      <th>5</th>\n",
              "      <td>ccc</td>\n",
              "      <td>B</td>\n",
              "      <td>1</td>\n",
              "    </tr>\n",
              "  </tbody>\n",
              "</table>\n",
              "</div>"
            ],
            "text/plain": [
              "  UserId SongId  Count\n",
              "0    aaa      A      1\n",
              "1    aaa      B      2\n",
              "2    bbb      A      5\n",
              "3    ccc      D     10\n",
              "4    ccc      E     12\n",
              "5    ccc      B      1"
            ]
          },
          "metadata": {
            "tags": []
          },
          "execution_count": 88
        }
      ]
    },
    {
      "cell_type": "code",
      "metadata": {
        "id": "k3rhmMFx6yIG",
        "colab_type": "code",
        "colab": {}
      },
      "source": [
        "second_merge = pd.merge(left = first_merge, right = df3, left_on=\"SongId\", right_on=\"SongId\")"
      ],
      "execution_count": null,
      "outputs": []
    },
    {
      "cell_type": "code",
      "metadata": {
        "id": "7Mxx-Opi7FK5",
        "colab_type": "code",
        "colab": {
          "base_uri": "https://localhost:8080/",
          "height": 204
        },
        "outputId": "7fa42186-fc9a-44f5-9894-e48a4b529065"
      },
      "source": [
        "second_merge"
      ],
      "execution_count": null,
      "outputs": [
        {
          "output_type": "execute_result",
          "data": {
            "text/html": [
              "<div>\n",
              "<style scoped>\n",
              "    .dataframe tbody tr th:only-of-type {\n",
              "        vertical-align: middle;\n",
              "    }\n",
              "\n",
              "    .dataframe tbody tr th {\n",
              "        vertical-align: top;\n",
              "    }\n",
              "\n",
              "    .dataframe thead th {\n",
              "        text-align: right;\n",
              "    }\n",
              "</style>\n",
              "<table border=\"1\" class=\"dataframe\">\n",
              "  <thead>\n",
              "    <tr style=\"text-align: right;\">\n",
              "      <th></th>\n",
              "      <th>TrackId</th>\n",
              "      <th>Main_genre</th>\n",
              "      <th>SongId</th>\n",
              "      <th>Artist</th>\n",
              "      <th>UserId</th>\n",
              "      <th>Count</th>\n",
              "    </tr>\n",
              "  </thead>\n",
              "  <tbody>\n",
              "    <tr>\n",
              "      <th>0</th>\n",
              "      <td>1</td>\n",
              "      <td>Rock</td>\n",
              "      <td>A</td>\n",
              "      <td>Me</td>\n",
              "      <td>aaa</td>\n",
              "      <td>1</td>\n",
              "    </tr>\n",
              "    <tr>\n",
              "      <th>1</th>\n",
              "      <td>1</td>\n",
              "      <td>Rock</td>\n",
              "      <td>A</td>\n",
              "      <td>Me</td>\n",
              "      <td>bbb</td>\n",
              "      <td>5</td>\n",
              "    </tr>\n",
              "    <tr>\n",
              "      <th>2</th>\n",
              "      <td>2</td>\n",
              "      <td>Pop</td>\n",
              "      <td>B</td>\n",
              "      <td>You</td>\n",
              "      <td>aaa</td>\n",
              "      <td>2</td>\n",
              "    </tr>\n",
              "    <tr>\n",
              "      <th>3</th>\n",
              "      <td>2</td>\n",
              "      <td>Pop</td>\n",
              "      <td>B</td>\n",
              "      <td>You</td>\n",
              "      <td>ccc</td>\n",
              "      <td>1</td>\n",
              "    </tr>\n",
              "    <tr>\n",
              "      <th>4</th>\n",
              "      <td>4</td>\n",
              "      <td>Rock</td>\n",
              "      <td>D</td>\n",
              "      <td>She</td>\n",
              "      <td>ccc</td>\n",
              "      <td>10</td>\n",
              "    </tr>\n",
              "  </tbody>\n",
              "</table>\n",
              "</div>"
            ],
            "text/plain": [
              "   TrackId Main_genre SongId Artist UserId  Count\n",
              "0        1       Rock      A     Me    aaa      1\n",
              "1        1       Rock      A     Me    bbb      5\n",
              "2        2        Pop      B    You    aaa      2\n",
              "3        2        Pop      B    You    ccc      1\n",
              "4        4       Rock      D    She    ccc     10"
            ]
          },
          "metadata": {
            "tags": []
          },
          "execution_count": 91
        }
      ]
    },
    {
      "cell_type": "code",
      "metadata": {
        "id": "SVlWf1ku5Bza",
        "colab_type": "code",
        "colab": {}
      },
      "source": [
        "mid_merge = pd.merge(left = data, right = bridge, left_on=\"SongId\", right_on=\"SongId\")"
      ],
      "execution_count": null,
      "outputs": []
    },
    {
      "cell_type": "code",
      "metadata": {
        "id": "1aRmSwiS6QwJ",
        "colab_type": "code",
        "colab": {
          "base_uri": "https://localhost:8080/",
          "height": 309
        },
        "outputId": "1202b7a5-4ca0-42fc-9cc5-17c8fc849874"
      },
      "source": [
        "mid_merge.head()"
      ],
      "execution_count": null,
      "outputs": [
        {
          "output_type": "execute_result",
          "data": {
            "text/html": [
              "<div>\n",
              "<style scoped>\n",
              "    .dataframe tbody tr th:only-of-type {\n",
              "        vertical-align: middle;\n",
              "    }\n",
              "\n",
              "    .dataframe tbody tr th {\n",
              "        vertical-align: top;\n",
              "    }\n",
              "\n",
              "    .dataframe thead th {\n",
              "        text-align: right;\n",
              "    }\n",
              "</style>\n",
              "<table border=\"1\" class=\"dataframe\">\n",
              "  <thead>\n",
              "    <tr style=\"text-align: right;\">\n",
              "      <th></th>\n",
              "      <th>UserId</th>\n",
              "      <th>SongId</th>\n",
              "      <th>Count</th>\n",
              "      <th>TrackId</th>\n",
              "      <th>Artist</th>\n",
              "      <th>Song_name</th>\n",
              "    </tr>\n",
              "  </thead>\n",
              "  <tbody>\n",
              "    <tr>\n",
              "      <th>0</th>\n",
              "      <td>b80344d063b5ccb3212f76538f3d9e43d87dca9e</td>\n",
              "      <td>SOAKIMP12A8C130995</td>\n",
              "      <td>1</td>\n",
              "      <td>TRIQAUQ128F42435AD</td>\n",
              "      <td>Jack Johnson</td>\n",
              "      <td>The Cove</td>\n",
              "    </tr>\n",
              "    <tr>\n",
              "      <th>1</th>\n",
              "      <td>7c86176941718984fed11b7c0674ff04c029b480</td>\n",
              "      <td>SOAKIMP12A8C130995</td>\n",
              "      <td>1</td>\n",
              "      <td>TRIQAUQ128F42435AD</td>\n",
              "      <td>Jack Johnson</td>\n",
              "      <td>The Cove</td>\n",
              "    </tr>\n",
              "    <tr>\n",
              "      <th>2</th>\n",
              "      <td>76235885b32c4e8c82760c340dc54f9b608d7d7e</td>\n",
              "      <td>SOAKIMP12A8C130995</td>\n",
              "      <td>3</td>\n",
              "      <td>TRIQAUQ128F42435AD</td>\n",
              "      <td>Jack Johnson</td>\n",
              "      <td>The Cove</td>\n",
              "    </tr>\n",
              "    <tr>\n",
              "      <th>3</th>\n",
              "      <td>250c0fa2a77bc6695046e7c47882ecd85c42d748</td>\n",
              "      <td>SOAKIMP12A8C130995</td>\n",
              "      <td>1</td>\n",
              "      <td>TRIQAUQ128F42435AD</td>\n",
              "      <td>Jack Johnson</td>\n",
              "      <td>The Cove</td>\n",
              "    </tr>\n",
              "    <tr>\n",
              "      <th>4</th>\n",
              "      <td>3f73f44560e822344b0fb7c6b463869743eb9860</td>\n",
              "      <td>SOAKIMP12A8C130995</td>\n",
              "      <td>6</td>\n",
              "      <td>TRIQAUQ128F42435AD</td>\n",
              "      <td>Jack Johnson</td>\n",
              "      <td>The Cove</td>\n",
              "    </tr>\n",
              "  </tbody>\n",
              "</table>\n",
              "</div>"
            ],
            "text/plain": [
              "                                     UserId  ... Song_name\n",
              "0  b80344d063b5ccb3212f76538f3d9e43d87dca9e  ...  The Cove\n",
              "1  7c86176941718984fed11b7c0674ff04c029b480  ...  The Cove\n",
              "2  76235885b32c4e8c82760c340dc54f9b608d7d7e  ...  The Cove\n",
              "3  250c0fa2a77bc6695046e7c47882ecd85c42d748  ...  The Cove\n",
              "4  3f73f44560e822344b0fb7c6b463869743eb9860  ...  The Cove\n",
              "\n",
              "[5 rows x 6 columns]"
            ]
          },
          "metadata": {
            "tags": []
          },
          "execution_count": 58
        }
      ]
    },
    {
      "cell_type": "code",
      "metadata": {
        "id": "tlYN4SEfEugD",
        "colab_type": "code",
        "colab": {}
      },
      "source": [
        "if 'boobs' in mid_merge[\"Artist\"].values:\n",
        "    print('Element exists in Dataframe')"
      ],
      "execution_count": null,
      "outputs": []
    },
    {
      "cell_type": "code",
      "metadata": {
        "id": "cmvy6JWI6UN8",
        "colab_type": "code",
        "colab": {
          "base_uri": "https://localhost:8080/",
          "height": 34
        },
        "outputId": "b9b0a589-b61e-4968-8f11-506136c35ba2"
      },
      "source": [
        "print(\"Number of unique songs:\",len(mid_merge[\"SongId\"].unique().tolist()), \n",
        "      \"Number of unique users:\", len(mid_merge[\"UserId\"].unique().tolist()))"
      ],
      "execution_count": null,
      "outputs": [
        {
          "output_type": "stream",
          "text": [
            "Number of unique songs: 384546 Number of unique users: 1019318\n"
          ],
          "name": "stdout"
        }
      ]
    },
    {
      "cell_type": "markdown",
      "metadata": {
        "id": "9WlQhLfV7--b",
        "colab_type": "text"
      },
      "source": [
        "Nothing is lost.\n"
      ]
    },
    {
      "cell_type": "code",
      "metadata": {
        "id": "qUIj_fSU6gZ1",
        "colab_type": "code",
        "colab": {}
      },
      "source": [
        "genres_merge = pd.merge(left = mid_merge, right = genres, left_on=\"TrackId\", right_on=\"TrackId\")"
      ],
      "execution_count": null,
      "outputs": []
    },
    {
      "cell_type": "code",
      "metadata": {
        "id": "VDiBoAUb7-H9",
        "colab_type": "code",
        "colab": {
          "base_uri": "https://localhost:8080/",
          "height": 34
        },
        "outputId": "52856d5a-e397-4aa4-d3c5-5040ea964c3e"
      },
      "source": [
        "print(\"Number of unique songs:\",len(genres_merge[\"SongId\"].unique().tolist()), \n",
        "      \"Number of unique users:\", len(genres_merge[\"UserId\"].unique().tolist()))"
      ],
      "execution_count": null,
      "outputs": [
        {
          "output_type": "stream",
          "text": [
            "Number of unique songs: 173301 Number of unique users: 1018733\n"
          ],
          "name": "stdout"
        }
      ]
    },
    {
      "cell_type": "markdown",
      "metadata": {
        "id": "kMsWK91G8f6p",
        "colab_type": "text"
      },
      "source": [
        "Onyly 45% of the songs remain with 99.9% of the users. Why?"
      ]
    },
    {
      "cell_type": "code",
      "metadata": {
        "id": "M_cpNKCz6dsM",
        "colab_type": "code",
        "colab": {}
      },
      "source": [
        "artist_1dist = mid_merge.groupby([\"Artist\"]).size()"
      ],
      "execution_count": null,
      "outputs": []
    },
    {
      "cell_type": "code",
      "metadata": {
        "id": "7XYLOsKH-1xs",
        "colab_type": "code",
        "colab": {
          "base_uri": "https://localhost:8080/",
          "height": 54
        },
        "outputId": "973d3e39-de2d-4cfc-f5a3-20cb50d88f19"
      },
      "source": [
        "with pd.option_context('display.max_rows', None, 'display.max_columns', None):\n",
        "  print(sorted(mid_merge[\"Artist\"].unique().tolist())[19000:20000])"
      ],
      "execution_count": null,
      "outputs": [
        {
          "output_type": "stream",
          "text": [
            "['Judy Garland & Johnny Mercer', 'Judy Henske', 'Judy Holliday', 'Judy Holliday;Ensemble', 'Judy Kuhn', 'Judy Kuhn / Robert Billig', 'Judy Kuhn / Robert Billig / Various Artists', 'Judy Mowatt', 'Judy Rodman', 'Judy Torres', 'Juelz Santana', 'Juelz Santana / Bezel', \"Juelz Santana / Cam'Ron\", 'Juelz Santana / Freekey Zeekey', 'Juelz Santana / Freekey Zeekey / Monique Garnett', 'Juelz Santana / Hell Rell', 'Juelz Santana / JR Writer', 'Juelz Santana / Jimmy Jones', \"Juelz Santana / Sizzla / Cam'Ron\", 'Juelz Santana / Young Jeezy / Lil Wayne', 'Juelz Santana and Jim Jones feat. Product GNB', 'Juelz Santana_ Jim Jones_ Tobb Cobain', 'Juelz Santana_ Lil Wayne', 'Juggy D', \"Jughead's Revenge\", 'Juha Tapio', 'Juice', 'Juice & Molemen', 'Juice Leskinen', 'Juice Leskinen Slam', 'Juice Newton', 'Juicy J', 'Juilliard String Quartet', 'Juiz Electric vs DJ Katakis', 'Juke Kartel', 'Jukebox The Ghost', 'Jule Styne', 'Julee Cruise', 'Jules Shear', 'Juli', 'Julia Fordham', 'Julia Migenes Johnson_ Plácido Domingo & Lorin Maazel', 'Julian Casablancas', 'Julian Cope', 'Julian Fane', 'Julian Jabre', 'Julian Jay Savarin', 'Julian Jeiweil', 'Julian Jeweil', \"Julian Jumpin' Perez\", 'Julian Lennon', 'Julian Marley', 'Julian Marley / Damian \"Jr. Gong\" Marley', 'Julian Marley / Stephen Marley', 'Julian Plenti', 'Julian Sas Band', 'Julian Velard', 'Juliana Diniz', 'Juliana Diniz / Mauro Diniz', 'Juliana Hatfield', 'Juliane Werding', 'Julianna Barwick', 'Julianne Hough', 'Julianne Hough / Derek Hough', 'Julie Andrews', 'Julie Andrews;John Hewer;Anton Coppola', 'Julie Anne [Judy Mowatt]', 'Julie Collings', 'Julie Doiron', 'Julie Driscoll_ Brian Auger & The Trinity', 'Julie Feeney', 'Julie Fowlis', 'Julie London', 'Julie Mcknight', 'Julie Miller', 'Julie Peel', 'Julie Roberts', 'Julie Ruin', 'Julie Walters / Stellan Skarsgard', 'Julie Zenatti', 'Julien Clerc', 'Julien Doré', 'Julien Jabre', 'Julien Lourau', 'Julien Plaisir de.. France', 'Julien creance', 'Juliet', 'Juliet Jonesin Sydan', 'Juliet Jonesin Sydän', 'Juliet Roberts', 'Juliet Turner', 'Julieta Venegas', 'Julieta Venegas A Dueto Con Anita Tijoux', 'Julieta Venegas A Dueto Con Dante', 'Juliette & The Licks', 'Juliette Gréco', 'Juliette Lewis', 'Julio Iglesias', 'Julio Iglesias Jr', 'Julio Iglesias Jr.', 'Julio Iglesias duet with Frank Sinatra', 'Julio Iglesias duet with Paul Anka', 'Julio Iglesias duet with Stevie Wonder', 'Julio Iglesias duet with Willie Nelson', 'Julio Jaramillo', 'Julissa', 'Julius Beat', 'Julius Katchen', 'Julius La Rosa', 'Julius Papp', 'Julius Papp*', 'Jully Black', 'Juluka', 'July', 'July For Kings', 'July Skies', 'Jumbo', 'Jumbonics', \"Jump 'N' The Saddle Band\", 'Jump (Little Children)', 'Jump Little Children', 'Jump Project', 'Jump Smokers', 'Jump5', 'Jump_ Little Children', \"Jumpin' Gene Simmons\", 'Jumping Jacks', 'Jumpsteady', 'Junaid Jamshed', 'Junction 18', 'June Carter Cash', 'June Carter Cash;Homer & Jethro', 'June Carter Cash;Johnny Cash', 'June Christy', 'June Hutton', 'June Of 44', 'June Star', 'June Tabor', 'Jungle Brothers', 'Jungle Rot', 'Jungle Wonz', 'Junior Boys', 'Junior Brown', 'Junior Byles', 'Junior Byles / Lee Perry', 'Junior Caldera / Vika Kova', 'Junior Delahaye', 'Junior Delgado', 'Junior Jack', 'Junior Kelly', 'Junior Kelly & Calibe', 'Junior Kelly (feat. Brian & Tony Gold)', 'Junior Kelly featuring Chukki Starr', 'Junior Kimbrough', 'Junior Kimbrough And The Soul Blues Boys', 'Junior M.A.F.I.A.', \"Junior M.A.F.I.A. ft. The Notorious B.I.G._ Lil' Cease & Lil' Kim\", \"Junior M.A.F.I.A. ft. The Notorious B.I.G._ Puff Daddy & Lil' Kim\", 'Junior Mance', 'Junior Murvin', 'Junior Murvin & Trinity', 'Junior Murvin / Dillinger', 'Junior Parker', 'Junior Reid', 'Junior Senior', 'Junior Vasquez', 'Junior Walker', 'Junior Wells', 'Junip', 'Juniper', 'Juniper Moon', 'Junitoshi', 'Junk Project', 'Junk Science', 'Junkfood Junkies', 'Junkfood Junkies Vs. Peran', 'Junkie XL', 'Junkie XL featuring Electrocute', 'Junko Onishi', 'Junkyard', 'Juno Reactor', 'Juno Reactor Vs. Don Davis', 'Jupiter Jones', 'Jupiter One', 'Jupiter Rising', 'Jupiter Sunrise', 'Jurassic 5', 'Jurassic 5 / Brick & Lace', 'Jurassic 5 / Dave Matthews Band', 'Jurassic 5 / Kool Keith', 'Jurassic 5 / Nelly Furtado', 'Jurassic 5 / Percy P / Big Daddy Kane', 'Jurga', 'Jurgen Vries', 'Juri Gagarin', 'Juryman', 'Jus Allah', 'Jus Wan', 'Just Jack', 'Just Left', 'Just Luis', 'Just Say Yes', 'Just Surrender', 'Just a Band', 'JustMe', 'Justice', 'Justice Vs Simian', 'Justin', 'Justin Bieber', 'Justin Bieber / Jessica Jarrell', 'Justin Bieber / Usher', 'Justin Currie', 'Justin Faust', 'Justin Guarini', 'Justin Guarini (duet with Kelly Clarkson)', 'Justin Hayward', 'Justin Hayward / John Lodge', 'Justin Hinds & The Dominoes', 'Justin Hinds And The Dominoes', 'Justin Michael & Blake Reary', 'Justin Nozuka', 'Justin Rutledge', 'Justin Sane', 'Justin Timberlake', 'Justin Timberlake / Timbaland', 'Justin Timberlake Featuring T.I.', 'Justin Timberlake Featuring Timbaland', 'Justin Timberlake duet with Beyonce', 'Justin Timberlake;Justin Timberlake featuring will.i.am', 'Justin Tubb', 'Justin Vernon + Aaron Dessner', 'Justin Young', 'Justincase', 'Justincase (Featuring Michelle Branch)', 'Justine Electra', 'Justus Köhncke', 'Justyna Steczkowska', 'Juvelen', 'Juvenile', 'Juvenile / BG', 'Juvenile / Big Tymers', 'Juvenile / Big Tymers / Hot Boys', 'Juvenile / Hot Boys', 'Juvenile / Lil Wayne', 'Juvenile / Lil Wayne / BG', 'Juvenile / Mannie Fresh', 'Juvenile / Mannie Fresh / Lil Wayne', 'Juvenile / Paparue / Turk / Lil Wayne', 'Juvenile / Skip / Wacko', 'Juvenile / Turk', 'Jyve V', 'Jäger 90', 'Jónsi & Alex', 'Jörn Schlönvoigt', 'Jürgen', 'Jürgen Paape', 'K B Caps', \"K'Naan\", \"K'naan / Adam Levine\", \"K'naan / Chubb Rock\", \"K'naan / Damian Marley\", \"K'naan / Kirk Hammett\", \"K'naan / Mos Def / Chali 2na\", \"K's Choice\", \"K's Choice;Ensemble Polyfoon\", 'K-Ci & JoJo', 'K-Klass', 'K-OS', 'K-Otix', 'K-Rino', 'K. D. Lang', 'K. Sparks', 'K. Sparks featuring Chris Young & Julius Francis', 'K. Sparks featuring Dave Barz', 'K. Sparks featuring Julius Francis', 'K. Sparks featuring Sean Price & Julius Francis', 'K.C. Accidental', 'K.C. And The Sunshine Band', 'K.I.Z feat. Rhymin Simon', 'K.I.Z.', 'K.I.Z. / Bela B.', 'K.I.Z. / Kuba / Cannibal Rob', 'K.I.Z. / Massimo', 'K.Maro', 'K.T. Oslin', 'K.U.K.L', 'K7', 'KA SO RE', 'KALIMBA', 'KAT', 'KATAKLYSM', 'KAUKO  RÖYHKÄ', 'KC & The Sunshine Band', 'KC And The Sunshine Band', 'KC Flightt', 'KC Flightt vs Funky Junction', 'KDC', 'KDD', 'KEROSENE CLUB', 'KIKO', \"KING'S COLLEGE CHOIR OF CAMBRIDGE\", 'KJ Sawka', 'KJ Sawka (featuring Blake Lewis)', 'KJ Sawka (featuring Christa Wells)', 'KJ-52', \"KJ-52 Featuring Da' T.R.U.T.H.\", 'KJ-52 Featuring Funky', 'KJ-52 Featuring J.R.', 'KJELL', 'KMC', 'KMC Feat. Dhany', 'KMC Featuring Beenie Man', 'KMD', 'KMFDM vs. Skold', 'KO and the Knockouts', 'KORE', 'KORE featuring KORE', 'KOVENANT_ THE', 'KRIS KRISTOFFERSON & RITA COOLIDGE', 'KRS ONE', 'KRS-ONE_ Rakim', 'KRS-One', 'KRS-One & Buckshot', 'KRS-One featuring Basta Rhymes', 'KRS-One featuring Channel Live', 'KRS-One featuring Fat Joe', 'KRS-One_ Buckshot', 'KSM', 'KT Tunstall', 'KTU', 'KURRAN AND THE WOLFNOTES', 'KWS', 'Kaada', 'Kaada/Patton', 'Kabale und Liebe', 'Kabat', 'Kabosh', 'Kabát', 'Kaci Brown', 'Kaddisfly', 'Kadoc', 'Kafani', 'Kagerou', 'Kageyama Hironobu', 'Kahimi Karie', 'Kahvas Jute', 'Kai Tracid', 'Kai Winding', 'Kaija Koo', 'Kailash Kher', 'Kailash Kher & Kailasa', 'Kailash Kher;Caralisa Monteiro', 'Kaipa', 'Kaiser Chiefs', 'KaiserCartel', 'Kaizers Orchestra', 'Kajagoogoo', 'Kaje', 'Kake Randelin', 'Kaksio', 'Kalafut', 'Kaleidoscope', 'Kaleth Morales', 'Kali', 'Kalibas', 'Kaliber', 'Kalilaskov AS', 'Kalisto', 'Kalle Baah', 'Kalle J', 'Kalliope', 'Kalmah', 'Kalmano', 'Kalwi & Remi', 'Kaly Live Dub', 'Kam Moye aka Supastition', 'Kamal', 'Kamaya Painters', 'Kamchatka', 'Kamelot', 'Kamera', 'Kamil Polner', 'Kamil Polner & Michelle Richer', 'Kammarheit', 'Kammerflimmer Kollektief', 'Kammerorchester Berlin & Katrin Scholz', 'Kamui', 'Kan Cold', 'Kanda Bongo Man', 'Kandi', 'Kane', 'Kane Hodder', 'Kane Roth', 'Kang/Kodos/Singer', 'Kanji Kinetic', 'Kanka', 'Kanka Feat. Brother Culture', 'Kanka Feat. Mc Oliva', 'Kankick', 'Kannon', 'Kano', 'Kansas', 'Kansas City Kitty & Georgia Tom', 'Kante', 'Kany Garcia', 'Kanye West', \"Kanye West / Consequence / Cam'Ron\", 'Kanye West / GLC / Consequence', 'Kanye West / Jay-Z', 'Kanye West / Jay-Z / J. Ivy', 'Kanye West / John Legend / Consequence', 'Kanye West / Kid Cudi', 'Kanye West / Lil Wayne', 'Kanye West / Mos Def', 'Kanye West / Mos Def / Al Be Back', 'Kanye West / Mos Def / Freeway / The Boys Choir Of Harlem', 'Kanye West / Nas / Really Doe', 'Kanye West / Paul Wall / GLC', 'Kanye West / Syleena Johnson', 'Kanye West / T-Pain', 'Kanye West / Talib Kweli / Q-Tip / Common / Rhymefest', 'Kanye West / Twista / Keyshia Cole / BJ', 'Kaolin', 'Kaoma', 'Kaos featuring Khan', 'Kap Bambino', 'Kapanga', 'Kapasiteettiyksikkö', 'Kapasiteettiyksikkö feat. Diaz', 'Kapasiteettiyksikkö feat. Hector', 'Kara Dioguardi/Mitch Allan', 'Karamelo Santo', 'Karan Casey', 'Karaoke', 'Karaoke Star Explosion', 'Karaokefun.cc VA', 'Karat', 'Kardinal Offishal', 'Kardinal Offishall', 'Kardinal Offishall / Akon', 'Kardinal Offishall / Akon / Sean Paul', 'Kardinal Offishall / Estelle', 'Kardinal Offishall / Glenn Lewis', 'Kardinal Offishall / J. Davey', 'Kardinal Offishall / Lindo P', 'Kardinal Offishall / Rihanna', 'Kardinal Offishall / T-Pain', 'Kardinal Offishall / The Clipse', 'Kardinal Offishall / The Dream', 'Kareen Antonn;Bonnie Tyler', 'Karel Kryl', 'Karen Bernod', 'Karen Carpenter', 'Karen Casey', 'Karen Clark Sheard', 'Karen Clark Sheard Featuring Dorinda Clark Cole', 'Karen Clark Sheard Featuring Kierra Sheard And Angel Chisholm', 'Karen Clark Sheard feat. Yolanda Adams', 'Karen Dalton', 'Karen Elson', 'Karen Jo Fields', 'Karen Matheson', 'Karen Mok', 'Karen O And The Kids', 'Karen O.', 'Karen Overton', 'Karen Peck & New River', 'Karen Peck And New River', 'Karen Souza', 'Karen Taylor-Good', 'Karen Young', 'Kari Bremnes', 'Kari Hansa & Gregers Hes', 'Kari Kuuva', 'Kari Tapio', 'Karin Krog', 'Karin Krog & John Surman', 'Karine Polwart', 'Karizma', 'Karjalan Sissit', 'Karkkiautomaatti', 'Karl Denson', \"Karl Denson's Tiny Universe\", 'Karl Jenkins', 'Karl Jenkins;Caitrin Finch', 'Karl Kalbaugh', 'Karl Martindahl', 'Karl Wolf', 'Karl Wolf Feat. Culture', 'Karla Bonoff', 'Karla Devito', 'Karling Abbeygate', 'Karma', 'Karma To Burn', 'Karmah', 'Karmakanic', 'Karminsky Experience', 'Karminsky Experience Inc.', 'Karnivool', 'Karol XVII & MB Valence', 'Karolis featuring Cecilia', 'Karotte', 'Karpatenhund', 'Karpe Diem', 'Karramba', 'Karrin Allyson', 'Karsh Kale', 'Kartik Seshadri', 'Karunesh', 'Kary Ng', 'Karyn White', 'Kasabian', 'Kasey Anderson', 'Kasey Chambers', 'Kasey Chambers Featuring The Living End', 'Kashief Lindo', 'Kashif', \"Kashif with Meli'sa Morgan\", 'Kashiwa Daisuke', 'Kashmir', 'Kashmir;Randi Laubek', 'Kasia Kowalska', 'Kasia Stankiewicz', 'Kaskade', 'Kaskade featuring Melissa', 'Kaskade with Tamra', 'Kasms', 'Kasper Bjorke', 'Kasper Bjørke', 'Kassav', \"Kassav'\", 'Kasse Mady Diabate', 'Kasso', 'Kat DeLuna', 'Kat DeLuna featuring Busta Rhymes', 'Kat DeLuna featuring Elephant Man', 'Kat Deluna / Akon', 'Kat Meets Gerardo Roschini', 'Katalyst', 'Katan', 'Katatonia', 'Kate & Anna McGarrigle', 'Kate & Anna McGarrigle featuring Chaim Tannenbaum', 'Kate & Anna McGarrigle featuring Chaim Tannenbaum_ Lily Lanken', 'Kate & Anna McGarrigle featuring Emmylou Harris', 'Kate & Anna McGarrigle featuring Jane McGarrigle', 'Kate & Anna McGarrigle featuring Lily Lanken_ Martha Wainwright', 'Kate & Anna McGarrigle featuring Lily Lanken_ Rufus Wainwright', 'Kate & Anna McGarrigle featuring Linda Ronstadt', 'Kate & Anna McGarrigle featuring Loudon Wainwright_ Rufus Wainwright_ Martha Wainwright_ Chaim Tannenbaum', 'Kate & Anna McGarrigle featuring Loudon Wainwright_ Rufus Wainwright_ Martha Wainwright_ Chaim Tannenbaum_ Lily Lanken_ Dane Lanken_ Sylvan Lanken', 'Kate & Anna McGarrigle featuring Loudon_ Martha Wainwright_ Rufus Wainwright', 'Kate & Anna McGarrigle featuring Martha Wainwright_ Rufus Wainwright', 'Kate & Anna McGarrigle featuring Rufus Wainwright', 'Kate & Anna McGarrigle_ featuring Loudon Wainwright_ Martha Wainwright_ Rufus Wainwright_ Chaim Tannenbaum', 'Kate Bush', 'Kate Campbell', 'Kate Ceberano', 'Kate Clinton', 'Kate Havnevik', 'Kate Havnevik / Carmen Rizzo', 'Kate Mc Gregor', 'Kate McGarry', 'Kate Miller-Heidke', 'Kate Nash', 'Kate Rusby', 'Kate Ryan', 'Kate Ryan / Soraya', 'Kate Smith', 'Kate Voegele', 'Kate Walsh', 'Kate Winslet', 'Kate Wolf', 'Kate Wolf & The Wildwood Flower', 'Kate York', 'Katell Keineg', 'Katerine', 'Kath Bloom', 'Katharine McPhee', 'Katherine Jenkins', 'Katherine Jenkins / Crouch End Festival Chorus', 'Katherine Jenkins / Steffan Hughes', 'Katherine Jenkins [with Amaury Vassili]', 'Kathleen Edwards', 'Kathleen Madigan', 'Kathryn Williams', 'KathrynWilliams', 'Kathy Brown', 'Kathy Brown vs. Miami Calling', 'Kathy Hussey', 'Kathy Kallick', 'Kathy Kallick & The Little Big Band', 'Kathy Linden', 'Kathy Mattea', 'Kathy Troccoli', 'Kathy Troccoli with Aaron Jeoffrey', 'Katia B', 'Katiana', 'Katie Armiger', 'Katie Herzig', 'Katie Melua', 'Katie Noonan', 'Katie Webster', 'Katja Ebstein', 'Katla', 'Kato', 'Kato feat. Ian Dawn', 'Katra', 'Katri Ylander', 'Katrina & The Waves', 'Katrina And The Waves', 'Katty B.', 'Katy Garbi With Christos Dantis', 'Katy Perry', 'Kauko Royhka', 'Kauko Röyhkä', 'Kaveh Yaghmaei', 'Kavinsky', 'Kawasaki 3P', 'Kawasaki 3P feat. Nered', 'Kay D. Smith', 'Kay Starr', 'Kay Starr/Tennessee Ernie Ford', 'Kay Stone', 'Kaya Project', 'Kayah', 'Kayah & Goran Bregovic', 'Kaye Styles', 'Kayo Dot', 'Kaysh', 'Kaysha', 'Kaze', 'Kaze & 9th Wonder', 'Kazushi Ono', 'Ke$ha', 'KeKe Wyatt', 'KeKe Wyatt / Avant', 'Keak Da Sneak', 'Keak Da Sneak featuring Big Cheese', 'Keak Da Sneak featuring Frank Sticks_ Killa Klump', 'Keak Da Sneak_ Mac Dre_ & Dola Ike', 'Keali I Reichel', 'Kealii Reichel', 'Keane', \"Keane / K'NAAN\", 'Keaton Simons', \"Keb' Mo'\", \"Keb'Mo'\", 'Keef Hartley', 'Keef Hartley Band', 'Keek Dogg_ Konvict_ V-Dub_ Mr. Nacho', 'Keel', 'Keely Smith', 'Keene_ Tommy', 'Keenhouse', 'Keep Of Kalessin', 'Keepaway', 'Kef', 'Keiko Matsui', 'Keimzeit', 'Keira Green', 'Keisha White', 'Keith Anderson', 'Keith Caputo', 'Keith Emerson', 'Keith Fullerton Whitman', 'Keith Harling', 'Keith Hudson', 'Keith Jarrett', 'Keith Jarrett_ Gary Peacock_ Jack DeJohnette', 'Keith John Adams', 'Keith Mansfield', 'Keith Martin', 'Keith Murray', 'Keith Murray / Redman', 'Keith Richards', 'Keith Rowe', 'Keith Sweat', 'Keith Sweat (Duet With Gerald Levert)', 'Keith Sweat (Featuring Gerald Levert_ Aaron Hall and Buddy Banks)', 'Keith Sweat (Featuring Roger Troutman)', 'Keith Sweat (Featuring Ronald Isley)', 'Keith Sweat Featuring Athena Cage', 'Keith Sweat Featuring Snoop Dogg', 'Keith Sweat_ featuring Athena Cage', 'Keith Sweat_ featuring Paisley Bettis', 'Keith Washington', 'Keith Whitley', 'Kejsi Tola', 'Keke Palmer', 'Keke Palmer feat. Big Meech', 'Kekele', 'Kele Le Roc', 'Kelis', 'Kelis Featuring André 3000', 'Kelis Featuring John Ostby', 'Kelis Featuring Justin Vince', 'Kelis Featuring Malice Of Clipse', 'Kelis Featuring Marc Dorsey And N.E.R.D.', 'Kelis Featuring Markita', 'Kelis Featuring Nas', 'Kelis Featuring Roscoe', 'Kelis Featuring Spragga', 'Kelis Featuring Too $hort', 'Kelis Featuring will.i.am', 'Kelis featuring Cee-Lo', 'Kelis featuring Raphael Saadiq', 'Kelley Polar', 'Kelley Stoltz', 'Kelli Sae', 'Kellie Coffey', 'Kellie Pickler', 'Kells', 'Kelly Clarkson', 'Kelly Hogan', 'Kelly Jo Phelps', 'Kelly Joe Phelps', 'Kelly Jones', 'Kelly Key', 'Kelly Llorenna', 'Kelly Marie', 'Kelly Price', 'Kelly Price / Faith Evans', 'Kelly Price / Keith Murray', 'Kelly Price / Lil Ceas', 'Kelly Price / Mary Mary', 'Kelly Price / R. Kelly / Kelly Price', 'Kelly Price / Ronald Isley / R. Kelly', 'Kelly Price / The Clark Sisters', 'Kelly Rowland', \"Kelly Rowland of Destiny's Child\", 'Kelly Sweet', 'Kelly Willis', 'Kellys', 'Kelpe', 'Kemo The Blaxican', 'Kemopetrol', 'Kemper Crabb', 'Kempi', 'Kempi feat. The Opposites', 'Ken Boothe', 'Ken Doh', 'Ken Ishii', 'Ken Laszlo', 'Ken Laszlo_ Jenny', 'Ken Mellons', 'Ken Navarro', 'Ken Nordine', 'Ken Parker', 'Ken Stringfellow', \"Ken Vandermark\\\\'s Sound in action Trio\", 'Ken Yokoyama', 'Ken-Ming Yang', 'Kendall Payne', 'Kendel Carson', 'Kendi', 'Kendra Smith', 'Kengurumeininki', 'Keni Burke', 'Kenickie', 'Kenji Eno', 'Kenji Kawai', 'Kenji Williams', 'Kenn Starr', 'Kenn Starr feat. Kev Brown', 'Kenn Starr feat. Median & M-Phazes', 'Kenn Starr feat. Oddisee', 'Kenn Starr feat. Sean Born', 'Kenn Starr feat. Sean Born & Chronkite', 'Kenn Starr feat. Supastition & Darien Brockington', 'Kenn Starr feat. Talib Kweli & Asheru', 'Kenn Starr feat. Wayna', 'Kenneth Bager', 'Kenneth Bager Feat. Julee Cruise - Fragment Two', 'Kenneth Graham', 'Kenny', 'Kenny \"Babyface\" Edmonds', 'Kenny \"Dope\" Presents the Bucketheads', 'Kenny Arkana', 'Kenny Barron', 'Kenny Barron / Charlie Haden / Roy Haynes', 'Kenny Barron / Regina Carter', 'Kenny Brown', 'Kenny Burrell', 'Kenny Clarke', 'Kenny Dale', 'Kenny Dope', 'Kenny Dope Presents The Bucketheads', 'Kenny Dorham', 'Kenny G', 'Kenny G Featuring Brian McKnight', 'Kenny G featuring Arturo Sandoval', 'Kenny G featuring Bebel Gilberto', 'Kenny G featuring Burt Bacharach', 'Kenny G featuring Chaka Khan', 'Kenny G featuring Daryl Hall', 'Kenny G featuring David Benoit', 'Kenny G featuring Earth_ Wind & Fire', 'Kenny G featuring Gladys Knight', 'Kenny G featuring LeAnn Rimes', 'Kenny G featuring Richard Marx', 'Kenny G featuring Yolanda Adams', 'Kenny G with Babyface', 'Kenny G with Michael Bolton', 'Kenny G with Peabo Bryson', 'Kenny G with Toni Braxton', 'Kenny Garrett', 'Kenny Hayes', 'Kenny Larkin', 'Kenny Lattimore', 'Kenny Loggins', 'Kenny Loggins;Steve Perry', 'Kenny Neal', 'Kenny Price', 'Kenny Rankin', 'Kenny Rogers', 'Kenny Rogers & Kim Carnes', 'Kenny Rogers & The First Edition', 'Kenny Rogers And Dottie West', 'Kenny Rogers And Sheena Easton', 'Kenny Takito', 'Kenny Wayne Shepherd', 'Kenny Wayne Shepherd (Featuring Kid Rock)', 'Kenny Wayne Shepherd (Featuring Noah Hunt)', 'Kenny Wayne Shepherd Band', 'Kenny Werner', 'Kenny Werner Trio', 'Kenobi', 'Kenso', 'Kent', 'Keny Arkana', 'Kenyon Hopkins', 'Kenzo', 'Keoki', 'Keola Beamer', 'Kerbdog', 'Keren Ann', 'Keren Ann - Benjamin Biolay', 'Keri Hilson', 'Keri Hilson / Lil Wayne', 'Keri Noble', 'Kerkko Koskinen', 'Kermit Ruffins', 'Kermit The Frog', 'Kero One', 'Kerowack', 'Kerri Chandler', 'Kerrigan', 'Kerry Livgren', 'Kerson', 'Kery James', 'Kery James feat. Anissa Stili', 'Keston & Westdal', 'Ketama', 'Ketama / Antonio Vega Talles', 'Ketama / Khaled', 'Ketho', 'Ketil Bjørnstad', 'Ketil Bjørnstad_ David Darling', 'Kettcar', 'Keur Samba Orchestra', 'Kev Brown_ Critically Acclaimed', 'Kev Brown_ Cy Young', 'Kevie Kev (Waterbed Kev)', 'Kevin Ayers', 'Kevin Blechdom', 'Kevin Braheny', 'Kevin Burke', 'Kevin Ceballo', 'Kevin Costner & Modern West', 'Kevin Costner / The Modern West', 'Kevin Devine', 'Kevin Drew', 'Kevin Drumm', 'Kevin Energy', 'Kevin Eubanks', 'Kevin Federline', 'Kevin Fowler', 'Kevin Gilbert', 'Kevin Gordon', 'Kevin Hearn And Thin Buckle', 'Kevin Johansen', 'Kevin Johansen / The Nada', 'Kevin Kern', 'Kevin Kinsella', 'Kevin Little', 'Kevin Locke', 'Kevin Lyttle', 'Kevin Lyttle featuring Problem Child', 'Kevin Lyttle featuring Skinny Fabulous', 'Kevin Max', 'Kevin Michael', 'Kevin Michael feat. Claudette Ortiz', 'Kevin Michael feat. Shorty Da Kid', 'Kevin Michael feat. Wyclef Jean', 'Kevin Michael featuring Lupe Fiasco', 'Kevin Moore', 'Kevin Rudolf', 'Kevin Rudolf / Nas', 'Kevin Rudolf / Rick Ross', 'Kevin Saunderson', 'Kevin Seconds', 'Kevin Toney', 'Kevn Kinney', 'Kevon Edmonds', 'Key Of Life', 'Key Players', 'Keyshia Cole', 'Keyshia Cole / Amina', 'Keyshia Cole / Anthony Hamilton', 'Keyshia Cole / Chink Santana', 'Keyshia Cole / Jadakiss', \"Keyshia Cole / Missy Elliott / Lil' Kim\", 'Keyshia Cole / T.I. / Missy Elliott / Young Dro', 'Keyshia Cole / Too Short', 'Keziah Jones', 'Khadja Nin', 'Khago', 'Khaled', 'Khaled / Noa', 'Khaled / Rachid Taha / Faudel', 'Khalifan Matitu', 'Khalil Chahine', 'Khalil Fong', 'Khalil Gibran', 'Khan', 'Khan / Steve Hillage / Dave Stewart', 'Khari Kill', 'Khia', 'Khia / DSD', 'Khia / Markus Vance', 'Khia featuring Gucci Mane', 'Khoiba', 'Khold', 'Khonnor', 'Khujo Goodie', 'Khujo Goodie featuring Srtait\"A\" & Cement Gutz', 'Khymera', 'KiEw', 'Kia Shine', 'Kia Shine / Erika \"Kane\" Yancey', 'Kia Shine / Jack Frost', 'Kiave', 'Kiave feat. Cario_ Brigante & Dj Jumbo', 'Kiave feat. Clementino_ Negrè & Dj Jumbo', 'Kiave feat. Dj Danko', 'Kiave feat. Ghemon & Hyst', 'Kiave feat. Hyst', 'Kiave feat. Patrick Benifei', 'Kick Bong', 'Kick-Bong', 'Kicking K8', 'Kid 606', 'Kid Abelha', 'Kid Abelha / Edgard Scandurra', 'Kid Abelha / Lenine', 'Kid Bailey', 'Kid Blue', 'Kid British', 'Kid Carpet', 'Kid Congo and the Pink Monkey Birds', 'Kid Creme Featuring Charlise', 'Kid Creole & The Coconuts', 'Kid Creole And The Coconuts', 'Kid Crème featuring Shawnee Taylor', 'Kid Cudi', 'Kid Cudi / Billy Craven', 'Kid Cudi / Kanye West / Common', 'Kid Cudi / MGMT / Ratatat', 'Kid Cudi / Ratatat', 'Kid Cudi Vs Crookers', 'Kid Cudi Vs. Crookers', 'Kid Dakota', 'Kid Down', 'Kid Dynamite', 'Kid Frost', 'Kid Harpoon', 'Kid Koala', 'Kid Loco', 'Kid Rock', 'Kid Sensation', 'Kid Sister', 'Kid Spatula', 'Kid606', 'Kidda', 'Kids In Glass Houses', 'Kids In The Kitchen', 'Kids In The Way', 'Kids Like Us', 'Kids Of 88', 'Kidz Bop Kids', 'Kieran', 'Kieran Goss', 'Kieran Kane', 'Kierra Sheard', 'Kieser.Velten', 'Kiholm', 'Kikki Danielsson', 'Kiko & Shara', 'Kiko Loureiro']\n"
          ],
          "name": "stdout"
        }
      ]
    },
    {
      "cell_type": "code",
      "metadata": {
        "id": "YkBvdR9--43i",
        "colab_type": "code",
        "colab": {
          "base_uri": "https://localhost:8080/",
          "height": 54
        },
        "outputId": "789e7f69-0feb-414d-9a16-b67e65b09e05"
      },
      "source": [
        "with pd.option_context('display.max_rows', None, 'display.max_columns', None):\n",
        "  print(sorted(genres_merge[\"Artist\"].unique().tolist())[2000:2200])"
      ],
      "execution_count": null,
      "outputs": [
        {
          "output_type": "stream",
          "text": [
            "['Beyond Twilight', 'Biagio Antonacci', 'Bianca Ryan', 'Bic Runga', 'Bic Runga;Strawpeople', 'Bicycle Thief', 'Bif Naked', 'Biffy Clyro', 'Big & Rich', 'Big & Rich (With Gretchen Wilson And Cowboy Troy)', 'Big Audio Dynamite', 'Big Audio Dynamite II', 'Big B', 'Big Bad Voodoo Daddy', 'Big Bang', 'Big Bill Broonzy', 'Big Bill Morganfield', 'Big Boi', 'Big Boss Man', 'Big Brother & The Holding Company', 'Big Brother & The Holding Company;Janis Joplin', 'Big Brovaz', 'Big Bud', 'Big Country', 'Big D and The Kids Table', 'Big Dada Sound', 'Big Daddy Kane', 'Big Dee Irwin', 'Big Dismal', 'Big Drill Car', 'Big Dumb Face', 'Big Electric Cat', 'Big Face', 'Big Head Todd and The Monsters', 'Big Herk', 'Big House', 'Big In Japan', 'Big Jack Johnson', 'Big Jay McNeely', 'Big Joe Turner', 'Big Joe Williams', 'Big John Patton', 'Big L', 'Big L / Sadat X / Guru', 'Big Mama Thornton', 'Big Maybelle', 'Big Mello', 'Big Moe', 'Big Money', 'Big Muff', 'Big Punisher', 'Big Punisher featuring Fat Joe', 'Big Punisher featuring Joe', 'Big Rock Candy Mountain', 'Big Sandy and his Fly-Rite Boys', 'Big Shug', 'Big Star', 'Big Sugar', 'Big Tuck', 'Big Tymers', 'Big Tymers / Lil Wayne', 'Big Tymers / Tateeze / Boo And Gotti', 'Big Wreck', 'Big Yoga Muffin', 'Big Youth', 'BigElf', 'Bigbang', 'Bigg Jus', 'Bigwig', 'Biirdie', 'Bijelo Dugme', 'Bikini Kill', 'Bikstok Røgsystem', 'Bilal', 'Bill Anderson', \"Bill Black's Combo\", 'Bill Bruford', \"Bill Bruford's Earthworks\", 'Bill Conti', 'Bill Douglas', 'Bill Engvall', 'Bill Evans', 'Bill Evans And Jim Hall', 'Bill Evans Quintet', 'Bill Evans Trio', 'Bill Fay', 'Bill Frisell', 'Bill Haley & His Comets', 'Bill Haley & The Comets', 'Bill Haley And The Comets', 'Bill Haley and The Saddlemen', 'Bill Haley and his Comets', 'Bill Haley_ His Comets', 'Bill Laswell', 'Bill Monroe', 'Bill Monroe & His Blue Grass Boys', 'Bill Monroe & The Bluegrass Boys', 'Bill Nelson', 'Bill Parsons', 'Bill Perkins', 'Bill Perry', 'Bill Pursell', 'Bill Ricchini', 'Bill Wells & Maher Shalal Hash Baz', 'Bill Whelan', 'Bill Withers', 'Bill Wyman', \"Bill Wyman's Rhythm Kings\", 'Billie Davis', 'Billie Holiday', 'Billie Holiday & Her Orchestra', 'Billie Jo Spears', 'Billie Myers', 'Billie Piper', 'Billie Ray Martin', 'Billie The Vision & The Dancers', \"Billo's Caracas Boys\", 'Billy Bob Thornton', 'Billy Boy Arnold', 'Billy Bragg', 'Billy Bremner', 'Billy Butler', 'Billy Childish', 'Billy Childish & Holly Golightly', 'Billy Cobham', 'Billy Corgan', 'Billy Crash Craddock', 'Billy Curringham', 'Billy Currington', 'Billy Dean', 'Billy Faer', 'Billy Fury', 'Billy Gilman', 'Billy Idol', 'Billy J Kramer', 'Billy J Kramer & The Dakotas', 'Billy Joe Royal', 'Billy Joe Shaver', 'Billy Joe Shaver_ Tanya Tucker', 'Billy Joel', 'Billy Klippert', 'Billy Lee Riley', 'Billy May', 'Billy Miles', 'Billy Ocean', 'Billy Paul', 'Billy Porter', 'Billy Preston', 'Billy Ray Cyrus', 'Billy Sheehan', 'Billy Squier', 'Billy Stewart', 'Billy Talent', 'Billy Thorpe', 'Billy Vaughn', 'Billy Walker', 'Billy Wright', 'Bim Skala Bim', 'Binary Finary', 'Binary Star', 'Bing Crosby', 'Bing Crosby_ The Andrews Sisters', 'Bingo Players', 'Bintangs', 'Bio-Tonic', 'Biohazard', 'Biosphere', 'Biosphere & Higher Intelligence Agency', 'Biquini Cavadão', 'Birchville Cat Motel', 'Bird York', 'Birdie', 'Birdman', 'Birdman & Lil Wayne', 'Birdman & Lil Wayne / Rick Ross / T-Pain', 'Birdman / Jason Derulo', 'Birdman / Lil Wayne', 'Birdman / Lil Wayne / Drake', \"Birdman / Lil' Kim / Nicki Minaj\", 'Birds Of Avalon', 'Birdy Nam Nam', 'Bireli Lagrene', 'Birth Control', 'Biréli Lagrène', 'Bis', 'Bishop Allen', 'Bissen presents The Crossover', 'Bitch Alert', 'Bitchee Bitchee Ya Ya Ya', 'Bitman & Roban', 'Bitstream Dream', 'Bitty McLean', 'Biz Markie', 'Bizarre Inc', 'Bizzy Bone', 'Bjorn Berge', 'Björk', 'Björn Afzelius', 'Björn Rosenström', 'Björn Skifs']\n"
          ],
          "name": "stdout"
        }
      ]
    },
    {
      "cell_type": "markdown",
      "metadata": {
        "id": "7t0WUlSX8sN2",
        "colab_type": "text"
      },
      "source": [
        "Only 52% of the artist remain. Which ones?"
      ]
    },
    {
      "cell_type": "code",
      "metadata": {
        "id": "jd2Kc_IT_SqX",
        "colab_type": "code",
        "colab": {}
      },
      "source": [
        "if '!!!' in genres_merge[\"Artist\"].values:\n",
        "    print('Element exists in Dataframe')"
      ],
      "execution_count": null,
      "outputs": []
    },
    {
      "cell_type": "code",
      "metadata": {
        "id": "h8JyYH7PBdVb",
        "colab_type": "code",
        "colab": {
          "base_uri": "https://localhost:8080/",
          "height": 34
        },
        "outputId": "cc310151-d50a-4a64-df72-154111cffb2e"
      },
      "source": [
        "if 'Coldplay' in mid_merge[\"Artist\"].values:\n",
        "    print('Element exists in Dataframe')"
      ],
      "execution_count": null,
      "outputs": [
        {
          "output_type": "stream",
          "text": [
            "Element exists in Dataframe\n"
          ],
          "name": "stdout"
        }
      ]
    },
    {
      "cell_type": "code",
      "metadata": {
        "id": "5_KbwPDD_WtB",
        "colab_type": "code",
        "colab": {
          "base_uri": "https://localhost:8080/",
          "height": 609
        },
        "outputId": "1cc61672-0230-4e25-cc43-2859651eb0db"
      },
      "source": [
        "genres_merge[genres_merge.Artist == \"Army Navy\"]"
      ],
      "execution_count": null,
      "outputs": [
        {
          "output_type": "execute_result",
          "data": {
            "text/html": [
              "<div>\n",
              "<style scoped>\n",
              "    .dataframe tbody tr th:only-of-type {\n",
              "        vertical-align: middle;\n",
              "    }\n",
              "\n",
              "    .dataframe tbody tr th {\n",
              "        vertical-align: top;\n",
              "    }\n",
              "\n",
              "    .dataframe thead th {\n",
              "        text-align: right;\n",
              "    }\n",
              "</style>\n",
              "<table border=\"1\" class=\"dataframe\">\n",
              "  <thead>\n",
              "    <tr style=\"text-align: right;\">\n",
              "      <th></th>\n",
              "      <th>UserId</th>\n",
              "      <th>SongId</th>\n",
              "      <th>Count</th>\n",
              "      <th>TrackId</th>\n",
              "      <th>Artist</th>\n",
              "      <th>Song_name</th>\n",
              "      <th>Main_genre</th>\n",
              "      <th>Minor_genre</th>\n",
              "    </tr>\n",
              "  </thead>\n",
              "  <tbody>\n",
              "    <tr>\n",
              "      <th>28033957</th>\n",
              "      <td>3469255e2e03069c7a616c8ecf2e0a026bb6ce6e</td>\n",
              "      <td>SOYLQIH12AB01854A8</td>\n",
              "      <td>5</td>\n",
              "      <td>TROIAAT128F9338CDE</td>\n",
              "      <td>Army Navy</td>\n",
              "      <td>Slight of Hand</td>\n",
              "      <td>Rock</td>\n",
              "      <td>NaN</td>\n",
              "    </tr>\n",
              "    <tr>\n",
              "      <th>28033958</th>\n",
              "      <td>64b57383ca78ee2ab805dfa8a2d390fc4d149745</td>\n",
              "      <td>SOYLQIH12AB01854A8</td>\n",
              "      <td>1</td>\n",
              "      <td>TROIAAT128F9338CDE</td>\n",
              "      <td>Army Navy</td>\n",
              "      <td>Slight of Hand</td>\n",
              "      <td>Rock</td>\n",
              "      <td>NaN</td>\n",
              "    </tr>\n",
              "    <tr>\n",
              "      <th>28033959</th>\n",
              "      <td>0b8ea47a1863d45544156eac8bb4a6f8a1382897</td>\n",
              "      <td>SOYLQIH12AB01854A8</td>\n",
              "      <td>1</td>\n",
              "      <td>TROIAAT128F9338CDE</td>\n",
              "      <td>Army Navy</td>\n",
              "      <td>Slight of Hand</td>\n",
              "      <td>Rock</td>\n",
              "      <td>NaN</td>\n",
              "    </tr>\n",
              "    <tr>\n",
              "      <th>28033960</th>\n",
              "      <td>198acb685b1c2d408b7c56e797214f3def12b48c</td>\n",
              "      <td>SOYLQIH12AB01854A8</td>\n",
              "      <td>2</td>\n",
              "      <td>TROIAAT128F9338CDE</td>\n",
              "      <td>Army Navy</td>\n",
              "      <td>Slight of Hand</td>\n",
              "      <td>Rock</td>\n",
              "      <td>NaN</td>\n",
              "    </tr>\n",
              "    <tr>\n",
              "      <th>28033961</th>\n",
              "      <td>a23db3bf19ac0111028dfafc276db6d33f262067</td>\n",
              "      <td>SOYLQIH12AB01854A8</td>\n",
              "      <td>1</td>\n",
              "      <td>TROIAAT128F9338CDE</td>\n",
              "      <td>Army Navy</td>\n",
              "      <td>Slight of Hand</td>\n",
              "      <td>Rock</td>\n",
              "      <td>NaN</td>\n",
              "    </tr>\n",
              "    <tr>\n",
              "      <th>...</th>\n",
              "      <td>...</td>\n",
              "      <td>...</td>\n",
              "      <td>...</td>\n",
              "      <td>...</td>\n",
              "      <td>...</td>\n",
              "      <td>...</td>\n",
              "      <td>...</td>\n",
              "      <td>...</td>\n",
              "    </tr>\n",
              "    <tr>\n",
              "      <th>29736112</th>\n",
              "      <td>1aa7b77bbff7f582a2455a5ba665ba2a38ecfa57</td>\n",
              "      <td>SOTCHTS12A8C13FF13</td>\n",
              "      <td>1</td>\n",
              "      <td>TRHGCXE128F9306408</td>\n",
              "      <td>Army Navy</td>\n",
              "      <td>Dark as Days</td>\n",
              "      <td>Rock</td>\n",
              "      <td>Pop</td>\n",
              "    </tr>\n",
              "    <tr>\n",
              "      <th>29827327</th>\n",
              "      <td>3ba2cbddb9d6efadfc9b1e2b35f8411e241dd1cc</td>\n",
              "      <td>SOKHQWL12A58A7D9BA</td>\n",
              "      <td>2</td>\n",
              "      <td>TRNFUNX128F9338CE4</td>\n",
              "      <td>Army Navy</td>\n",
              "      <td>Ignite</td>\n",
              "      <td>Rock</td>\n",
              "      <td>NaN</td>\n",
              "    </tr>\n",
              "    <tr>\n",
              "      <th>29827328</th>\n",
              "      <td>0b8ea47a1863d45544156eac8bb4a6f8a1382897</td>\n",
              "      <td>SOKHQWL12A58A7D9BA</td>\n",
              "      <td>1</td>\n",
              "      <td>TRNFUNX128F9338CE4</td>\n",
              "      <td>Army Navy</td>\n",
              "      <td>Ignite</td>\n",
              "      <td>Rock</td>\n",
              "      <td>NaN</td>\n",
              "    </tr>\n",
              "    <tr>\n",
              "      <th>29827329</th>\n",
              "      <td>e8021f31db98a97d9358a87484418563d646cb33</td>\n",
              "      <td>SOKHQWL12A58A7D9BA</td>\n",
              "      <td>1</td>\n",
              "      <td>TRNFUNX128F9338CE4</td>\n",
              "      <td>Army Navy</td>\n",
              "      <td>Ignite</td>\n",
              "      <td>Rock</td>\n",
              "      <td>NaN</td>\n",
              "    </tr>\n",
              "    <tr>\n",
              "      <th>29827330</th>\n",
              "      <td>1aa7b77bbff7f582a2455a5ba665ba2a38ecfa57</td>\n",
              "      <td>SOKHQWL12A58A7D9BA</td>\n",
              "      <td>1</td>\n",
              "      <td>TRNFUNX128F9338CE4</td>\n",
              "      <td>Army Navy</td>\n",
              "      <td>Ignite</td>\n",
              "      <td>Rock</td>\n",
              "      <td>NaN</td>\n",
              "    </tr>\n",
              "  </tbody>\n",
              "</table>\n",
              "<p>202 rows × 8 columns</p>\n",
              "</div>"
            ],
            "text/plain": [
              "                                            UserId  ... Minor_genre\n",
              "28033957  3469255e2e03069c7a616c8ecf2e0a026bb6ce6e  ...         NaN\n",
              "28033958  64b57383ca78ee2ab805dfa8a2d390fc4d149745  ...         NaN\n",
              "28033959  0b8ea47a1863d45544156eac8bb4a6f8a1382897  ...         NaN\n",
              "28033960  198acb685b1c2d408b7c56e797214f3def12b48c  ...         NaN\n",
              "28033961  a23db3bf19ac0111028dfafc276db6d33f262067  ...         NaN\n",
              "...                                            ...  ...         ...\n",
              "29736112  1aa7b77bbff7f582a2455a5ba665ba2a38ecfa57  ...         Pop\n",
              "29827327  3ba2cbddb9d6efadfc9b1e2b35f8411e241dd1cc  ...         NaN\n",
              "29827328  0b8ea47a1863d45544156eac8bb4a6f8a1382897  ...         NaN\n",
              "29827329  e8021f31db98a97d9358a87484418563d646cb33  ...         NaN\n",
              "29827330  1aa7b77bbff7f582a2455a5ba665ba2a38ecfa57  ...         NaN\n",
              "\n",
              "[202 rows x 8 columns]"
            ]
          },
          "metadata": {
            "tags": []
          },
          "execution_count": 28
        }
      ]
    },
    {
      "cell_type": "markdown",
      "metadata": {
        "id": "LRy5rHeA__2V",
        "colab_type": "text"
      },
      "source": [
        "# Subsampling triplets"
      ]
    },
    {
      "cell_type": "markdown",
      "metadata": {
        "id": "uxSU-lMKYpyf",
        "colab_type": "text"
      },
      "source": [
        "Creating a 100 user subsample of dataset for quick concept checking."
      ]
    },
    {
      "cell_type": "code",
      "metadata": {
        "id": "-bI51iy8AERK",
        "colab_type": "code",
        "colab": {}
      },
      "source": [
        "toy_triplets = data['UserId'].sample(n=100, random_state=1)"
      ],
      "execution_count": 4,
      "outputs": []
    },
    {
      "cell_type": "code",
      "metadata": {
        "id": "s1-__-egAVQS",
        "colab_type": "code",
        "colab": {}
      },
      "source": [
        "toy_triplets = pd.merge(left = toy_triplets, right = data, left_on=\"UserId\", right_on=\"UserId\")"
      ],
      "execution_count": 5,
      "outputs": []
    },
    {
      "cell_type": "code",
      "metadata": {
        "id": "sM23pP8NAv1R",
        "colab_type": "code",
        "colab": {
          "base_uri": "https://localhost:8080/",
          "height": 34
        },
        "outputId": "9280af44-401a-44be-d112-1a43a9386f35"
      },
      "source": [
        "toy_triplets.shape"
      ],
      "execution_count": null,
      "outputs": [
        {
          "output_type": "execute_result",
          "data": {
            "text/plain": [
              "(16055, 3)"
            ]
          },
          "metadata": {
            "tags": []
          },
          "execution_count": 12
        }
      ]
    },
    {
      "cell_type": "code",
      "metadata": {
        "id": "1YPOswpdDYt8",
        "colab_type": "code",
        "colab": {
          "base_uri": "https://localhost:8080/",
          "height": 204
        },
        "outputId": "831d1d1a-32b1-4327-f48f-c8aa9feaf499"
      },
      "source": [
        "toy_triplets.head()"
      ],
      "execution_count": null,
      "outputs": [
        {
          "output_type": "execute_result",
          "data": {
            "text/html": [
              "<div>\n",
              "<style scoped>\n",
              "    .dataframe tbody tr th:only-of-type {\n",
              "        vertical-align: middle;\n",
              "    }\n",
              "\n",
              "    .dataframe tbody tr th {\n",
              "        vertical-align: top;\n",
              "    }\n",
              "\n",
              "    .dataframe thead th {\n",
              "        text-align: right;\n",
              "    }\n",
              "</style>\n",
              "<table border=\"1\" class=\"dataframe\">\n",
              "  <thead>\n",
              "    <tr style=\"text-align: right;\">\n",
              "      <th></th>\n",
              "      <th>UserId</th>\n",
              "      <th>SongId</th>\n",
              "      <th>Count</th>\n",
              "    </tr>\n",
              "  </thead>\n",
              "  <tbody>\n",
              "    <tr>\n",
              "      <th>0</th>\n",
              "      <td>6151509c99d22614f2ffb97693234d8c068b3b22</td>\n",
              "      <td>SOAAFAC12A67ADF7EB</td>\n",
              "      <td>2</td>\n",
              "    </tr>\n",
              "    <tr>\n",
              "      <th>1</th>\n",
              "      <td>6151509c99d22614f2ffb97693234d8c068b3b22</td>\n",
              "      <td>SOAAQWU12A8C13F908</td>\n",
              "      <td>1</td>\n",
              "    </tr>\n",
              "    <tr>\n",
              "      <th>2</th>\n",
              "      <td>6151509c99d22614f2ffb97693234d8c068b3b22</td>\n",
              "      <td>SOACHXA12A58A7BE3E</td>\n",
              "      <td>1</td>\n",
              "    </tr>\n",
              "    <tr>\n",
              "      <th>3</th>\n",
              "      <td>6151509c99d22614f2ffb97693234d8c068b3b22</td>\n",
              "      <td>SOACJLF12A6D4F657D</td>\n",
              "      <td>1</td>\n",
              "    </tr>\n",
              "    <tr>\n",
              "      <th>4</th>\n",
              "      <td>6151509c99d22614f2ffb97693234d8c068b3b22</td>\n",
              "      <td>SOACYUL12A6D4F9C79</td>\n",
              "      <td>1</td>\n",
              "    </tr>\n",
              "  </tbody>\n",
              "</table>\n",
              "</div>"
            ],
            "text/plain": [
              "                                     UserId              SongId  Count\n",
              "0  6151509c99d22614f2ffb97693234d8c068b3b22  SOAAFAC12A67ADF7EB      2\n",
              "1  6151509c99d22614f2ffb97693234d8c068b3b22  SOAAQWU12A8C13F908      1\n",
              "2  6151509c99d22614f2ffb97693234d8c068b3b22  SOACHXA12A58A7BE3E      1\n",
              "3  6151509c99d22614f2ffb97693234d8c068b3b22  SOACJLF12A6D4F657D      1\n",
              "4  6151509c99d22614f2ffb97693234d8c068b3b22  SOACYUL12A6D4F9C79      1"
            ]
          },
          "metadata": {
            "tags": []
          },
          "execution_count": 107
        }
      ]
    },
    {
      "cell_type": "code",
      "metadata": {
        "id": "LTBmYYoyA3qd",
        "colab_type": "code",
        "colab": {
          "base_uri": "https://localhost:8080/",
          "height": 34
        },
        "outputId": "3774deab-7e10-4c29-d56d-a74472fdde27"
      },
      "source": [
        "print(\"Number of unique users:\", len(toy_triplets[\"UserId\"].unique().tolist()), \",\",\n",
        "\"Number of unique songs:\", len(toy_triplets[\"SongId\"].unique().tolist()))"
      ],
      "execution_count": null,
      "outputs": [
        {
          "output_type": "stream",
          "text": [
            "Number of unique users: 100 Number of unique songs: 12572\n"
          ],
          "name": "stdout"
        }
      ]
    },
    {
      "cell_type": "markdown",
      "metadata": {
        "id": "dLyulv0ZWYgF",
        "colab_type": "text"
      },
      "source": [
        "#Entropy implementation"
      ]
    },
    {
      "cell_type": "markdown",
      "metadata": {
        "id": "top8hrOiWd-q",
        "colab_type": "text"
      },
      "source": [
        "## Shannon Entropy\n"
      ]
    },
    {
      "cell_type": "code",
      "metadata": {
        "id": "MB2wqYcQA7bC",
        "colab_type": "code",
        "colab": {}
      },
      "source": [
        "def entropy_me(p):\n",
        "    c = []\n",
        "    for i in p:\n",
        "        if i == 0:\n",
        "            b = 0\n",
        "        else:\n",
        "            b = -i*math.log2(i)\n",
        "        c.append(b)\n",
        "    d = sum(c)\n",
        "    return d"
      ],
      "execution_count": 6,
      "outputs": []
    },
    {
      "cell_type": "code",
      "metadata": {
        "id": "BrCu-_tRB5ST",
        "colab_type": "code",
        "colab": {}
      },
      "source": [
        "# getting a list of unique UserIds\n",
        "users = toy_triplets[\"UserId\"].unique().tolist()\n",
        "\n",
        "# calculating the Shannon entropy for each user separatelly and stacking\n",
        "# everything into the list \"shannon\"\n",
        "shannon = []\n",
        "for i in users:\n",
        "  b = toy_triplets[\"Count\"][toy_triplets[\"UserId\"]==i]/(np.sum(toy_triplets[\"Count\"][toy_triplets[\"UserId\"]==i]))\n",
        "  a = entropy_me(b)\n",
        "  shannon.append(a)"
      ],
      "execution_count": 7,
      "outputs": []
    },
    {
      "cell_type": "code",
      "metadata": {
        "id": "mDP5iBeQHlDs",
        "colab_type": "code",
        "colab": {
          "base_uri": "https://localhost:8080/",
          "height": 486
        },
        "outputId": "877f582b-3484-4318-8357-624d73e9d2d8"
      },
      "source": [
        "# histograms\n",
        "plt.hist(shannon, bins=40)"
      ],
      "execution_count": null,
      "outputs": [
        {
          "output_type": "execute_result",
          "data": {
            "text/plain": [
              "(array([1., 0., 0., 2., 1., 1., 4., 2., 0., 1., 2., 3., 2., 3., 5., 4., 4.,\n",
              "        5., 6., 7., 2., 7., 5., 4., 9., 3., 2., 4., 1., 1., 2., 1., 2., 1.,\n",
              "        0., 0., 1., 0., 0., 2.]),\n",
              " array([ 2.46843341,  2.65722974,  2.84602606,  3.03482239,  3.22361872,\n",
              "         3.41241505,  3.60121138,  3.79000771,  3.97880404,  4.16760037,\n",
              "         4.35639669,  4.54519302,  4.73398935,  4.92278568,  5.11158201,\n",
              "         5.30037834,  5.48917467,  5.677971  ,  5.86676732,  6.05556365,\n",
              "         6.24435998,  6.43315631,  6.62195264,  6.81074897,  6.9995453 ,\n",
              "         7.18834163,  7.37713795,  7.56593428,  7.75473061,  7.94352694,\n",
              "         8.13232327,  8.3211196 ,  8.50991593,  8.69871226,  8.88750858,\n",
              "         9.07630491,  9.26510124,  9.45389757,  9.6426939 ,  9.83149023,\n",
              "        10.02028656]),\n",
              " <a list of 40 Patch objects>)"
            ]
          },
          "metadata": {
            "tags": []
          },
          "execution_count": 68
        },
        {
          "output_type": "display_data",
          "data": {
            "image/png": "[encoded data removed]",
            "text/plain": [
              "<Figure size 432x288 with 1 Axes>"
            ]
          },
          "metadata": {
            "tags": [],
            "needs_background": "light"
          }
        }
      ]
    },
    {
      "cell_type": "markdown",
      "metadata": {
        "id": "kFYqxyY4ZcUs",
        "colab_type": "text"
      },
      "source": [
        "Gaussian resemblence which might become more apparent with all the data. Overall, a nice spread of entropies - might be easier to decide on a threshold of specialist vs generialist."
      ]
    },
    {
      "cell_type": "markdown",
      "metadata": {
        "id": "tEAIGDCDIhM7",
        "colab_type": "text"
      },
      "source": [
        "## Kulback-Leibler divergence"
      ]
    },
    {
      "cell_type": "code",
      "metadata": {
        "id": "1PVsMdrjKj3d",
        "colab_type": "code",
        "colab": {}
      },
      "source": [
        "# Kullback-Leibner divergence function\n",
        "def KL(p,q):\n",
        "    c = []\n",
        "    for i, j in zip(p,q):\n",
        "        if i == 0:\n",
        "            b = 0\n",
        "        else:\n",
        "            b = -i*math.log2(i/j)\n",
        "        c.append(b)\n",
        "    d = sum(c)\n",
        "    return d"
      ],
      "execution_count": 21,
      "outputs": []
    },
    {
      "cell_type": "code",
      "metadata": {
        "id": "cNHXEiYIWn6Y",
        "colab_type": "code",
        "colab": {}
      },
      "source": [
        "# getting Q - theoretical distribution\n",
        "\n",
        "# getting a list of unique SongId\n",
        "songs = toy_triplets[\"SongId\"].unique().tolist()\n",
        "\n",
        "# define q^1 - each instance of song being played at least onces corresponds to\n",
        "# a one count in q^1\n",
        "Q = []\n",
        "for i in songs:\n",
        "  a = np.sum(toy_triplets[\"SongId\"]==i)\n",
        "  Q.append(a)\n",
        "\n",
        "# shaping into probabilities\n",
        "Q = Q/sum(Q)\n",
        "\n",
        "# placing into pandas\n",
        "Q_joint = {\"SongId\": songs, \"Freq_q\": Q}\n",
        "Q_joint = pd.DataFrame(Q_joint, columns = [\"SongId\", \"Freq_q\"])"
      ],
      "execution_count": 22,
      "outputs": []
    },
    {
      "cell_type": "code",
      "metadata": {
        "id": "54tGujE9QLjn",
        "colab_type": "code",
        "colab": {
          "base_uri": "https://localhost:8080/",
          "height": 34
        },
        "outputId": "1772d908-9377-48f5-b0e2-da4eb14b2f1d"
      },
      "source": [
        "Q_joint.shape"
      ],
      "execution_count": null,
      "outputs": [
        {
          "output_type": "execute_result",
          "data": {
            "text/plain": [
              "(12572, 2)"
            ]
          },
          "metadata": {
            "tags": []
          },
          "execution_count": 16
        }
      ]
    },
    {
      "cell_type": "code",
      "metadata": {
        "id": "ki3PlsvnLTe3",
        "colab_type": "code",
        "colab": {}
      },
      "source": [
        "# list users from above (Shannon entropy)\n",
        "relative = []\n",
        "for u in users:\n",
        "  # subset the Count and SongID data for each user\n",
        "  p = toy_triplets[toy_triplets[\"UserId\"] == u]\n",
        "  # merge with Q so that the absent songs would disappear (p_ij = 0 contributes\n",
        "  # 0 to KL, hence it is equivalent to discard it a priori)\n",
        "  mid = pd.merge(left = p, right = Q_joint, left_on = \"SongId\", \n",
        "                 right_on = \"SongId\")\n",
        "  # defining a p_ij variable as a percentage \n",
        "  a = mid[\"Count\"]/np.sum(mid[\"Count\"])\n",
        "  # KL function aggregate\n",
        "  relative.append(KL(a, mid[\"Freq_q\"]))"
      ],
      "execution_count": 23,
      "outputs": []
    },
    {
      "cell_type": "code",
      "metadata": {
        "id": "rm11WKHYQWow",
        "colab_type": "code",
        "colab": {
          "base_uri": "https://localhost:8080/",
          "height": 520
        },
        "outputId": "2be64480-0b4a-4397-9c64-2722c914ef50"
      },
      "source": [
        "plt.hist(relative, bins=40)"
      ],
      "execution_count": null,
      "outputs": [
        {
          "output_type": "execute_result",
          "data": {
            "text/plain": [
              "(array([1., 0., 0., 0., 0., 4., 1., 1., 0., 0., 1., 3., 2., 1., 6., 2., 5.,\n",
              "        4., 3., 6., 6., 4., 7., 2., 9., 2., 5., 2., 3., 3., 4., 4., 1., 3.,\n",
              "        2., 0., 0., 1., 0., 2.]),\n",
              " array([-11.24423712, -11.05336221, -10.8624873 , -10.67161239,\n",
              "        -10.48073748, -10.28986257, -10.09898766,  -9.90811275,\n",
              "         -9.71723783,  -9.52636292,  -9.33548801,  -9.1446131 ,\n",
              "         -8.95373819,  -8.76286328,  -8.57198837,  -8.38111346,\n",
              "         -8.19023855,  -7.99936364,  -7.80848872,  -7.61761381,\n",
              "         -7.4267389 ,  -7.23586399,  -7.04498908,  -6.85411417,\n",
              "         -6.66323926,  -6.47236435,  -6.28148944,  -6.09061453,\n",
              "         -5.89973961,  -5.7088647 ,  -5.51798979,  -5.32711488,\n",
              "         -5.13623997,  -4.94536506,  -4.75449015,  -4.56361524,\n",
              "         -4.37274033,  -4.18186542,  -3.99099051,  -3.80011559,\n",
              "         -3.60924068]),\n",
              " <a list of 40 Patch objects>)"
            ]
          },
          "metadata": {
            "tags": []
          },
          "execution_count": 72
        },
        {
          "output_type": "display_data",
          "data": {
            "image/png": "[encoded data removed]",
            "text/plain": [
              "<Figure size 432x288 with 1 Axes>"
            ]
          },
          "metadata": {
            "tags": [],
            "needs_background": "light"
          }
        }
      ]
    },
    {
      "cell_type": "markdown",
      "metadata": {
        "id": "AXJk9-3hcuHC",
        "colab_type": "text"
      },
      "source": [
        "Similar shape as Shannon entropy. Nice spread too. Now checking the correlation"
      ]
    },
    {
      "cell_type": "code",
      "metadata": {
        "id": "miJXW2jDCfNR",
        "colab_type": "code",
        "colab": {
          "base_uri": "https://localhost:8080/",
          "height": 282
        },
        "outputId": "6fe41f16-1a2c-4853-892a-8d201151897f"
      },
      "source": [
        "plt.scatter(shannon, relative)"
      ],
      "execution_count": null,
      "outputs": [
        {
          "output_type": "execute_result",
          "data": {
            "text/plain": [
              "<matplotlib.collections.PathCollection at 0x7f6c9f160588>"
            ]
          },
          "metadata": {
            "tags": []
          },
          "execution_count": 73
        },
        {
          "output_type": "display_data",
          "data": {
            "image/png": "[encoded data removed]",
            "text/plain": [
              "<Figure size 432x288 with 1 Axes>"
            ]
          },
          "metadata": {
            "tags": [],
            "needs_background": "light"
          }
        }
      ]
    },
    {
      "cell_type": "code",
      "metadata": {
        "id": "76sqluQNDAgB",
        "colab_type": "code",
        "colab": {
          "base_uri": "https://localhost:8080/",
          "height": 34
        },
        "outputId": "f49cd483-f14d-4f75-9dc1-84d0b1171996"
      },
      "source": [
        "pearsonr(shannon, relative)"
      ],
      "execution_count": null,
      "outputs": [
        {
          "output_type": "execute_result",
          "data": {
            "text/plain": [
              "(0.9056416068199128, 2.7138266032392544e-38)"
            ]
          },
          "metadata": {
            "tags": []
          },
          "execution_count": 76
        }
      ]
    },
    {
      "cell_type": "markdown",
      "metadata": {
        "id": "PjnbfgGcc4W_",
        "colab_type": "text"
      },
      "source": [
        "Strong positive correlation as expected. There is some tendency for the users to have relativelly higher KL divergence score than the Shannon entropy score meaning that some users might be seen more mainstream generalist than they are seen generalist"
      ]
    },
    {
      "cell_type": "markdown",
      "metadata": {
        "id": "pgiZZklXEXro",
        "colab_type": "text"
      },
      "source": [
        "## Gini-index\n"
      ]
    },
    {
      "cell_type": "code",
      "metadata": {
        "id": "ylHe3--tEaQD",
        "colab_type": "code",
        "colab": {}
      },
      "source": [
        "# Gini function\n",
        "def gini(p):\n",
        "    c = []\n",
        "    for i in p:\n",
        "        b = i**2\n",
        "        c.append(b)\n",
        "    d = 1 - sum(c)    \n",
        "    return d"
      ],
      "execution_count": 13,
      "outputs": []
    },
    {
      "cell_type": "code",
      "metadata": {
        "id": "kMLmubp4E1QS",
        "colab_type": "code",
        "colab": {}
      },
      "source": [
        "# getting gini index for each user independently\n",
        "gini_index = []\n",
        "for i in users:\n",
        "  b = toy_triplets[\"Count\"][toy_triplets[\"UserId\"]==i]/(np.sum(toy_triplets[\"Count\"][toy_triplets[\"UserId\"]==i]))\n",
        "  a = gini(b)\n",
        "  gini_index.append(a)"
      ],
      "execution_count": 14,
      "outputs": []
    },
    {
      "cell_type": "code",
      "metadata": {
        "id": "X-17w3OEE_67",
        "colab_type": "code",
        "colab": {
          "base_uri": "https://localhost:8080/",
          "height": 503
        },
        "outputId": "7f75ea98-f203-4add-c41f-a4c25a463c5c"
      },
      "source": [
        "plt.hist(gini_index, bins = 40)"
      ],
      "execution_count": null,
      "outputs": [
        {
          "output_type": "execute_result",
          "data": {
            "text/plain": [
              "(array([ 1.,  0.,  0.,  0.,  0.,  0.,  0.,  0.,  0.,  0.,  0.,  0.,  0.,\n",
              "         0.,  0.,  0.,  0.,  0.,  0.,  0.,  0.,  0.,  0.,  0.,  0.,  5.,\n",
              "         0.,  1.,  1.,  2.,  2.,  2.,  2.,  3.,  2.,  4., 10., 13., 26.,\n",
              "        26.]),\n",
              " array([0.64724246, 0.65603315, 0.66482384, 0.67361453, 0.68240522,\n",
              "        0.69119591, 0.6999866 , 0.70877729, 0.71756798, 0.72635867,\n",
              "        0.73514936, 0.74394005, 0.75273074, 0.76152143, 0.77031212,\n",
              "        0.77910281, 0.7878935 , 0.79668419, 0.80547488, 0.81426557,\n",
              "        0.82305626, 0.83184695, 0.84063764, 0.84942833, 0.85821902,\n",
              "        0.86700971, 0.8758004 , 0.88459109, 0.89338178, 0.90217247,\n",
              "        0.91096316, 0.91975385, 0.92854454, 0.93733523, 0.94612592,\n",
              "        0.95491661, 0.9637073 , 0.97249799, 0.98128868, 0.99007937,\n",
              "        0.99887006]),\n",
              " <a list of 40 Patch objects>)"
            ]
          },
          "metadata": {
            "tags": []
          },
          "execution_count": 98
        },
        {
          "output_type": "display_data",
          "data": {
            "image/png": "[encoded data removed]",
            "text/plain": [
              "<Figure size 432x288 with 1 Axes>"
            ]
          },
          "metadata": {
            "tags": [],
            "needs_background": "light"
          }
        }
      ]
    },
    {
      "cell_type": "markdown",
      "metadata": {
        "id": "rztvB80vdlyr",
        "colab_type": "text"
      },
      "source": [
        "Most of the values are large - inbetween 0.9 and 1 indicating that according to Gini index, most of the users are rather generalist - the probability of two random draws with replacement to be different is large. The data spread is limited and that is an issue. I suppose this is due to the very small probabilities $p_{ij}$."
      ]
    },
    {
      "cell_type": "code",
      "metadata": {
        "id": "aRomcApjFb1u",
        "colab_type": "code",
        "colab": {
          "base_uri": "https://localhost:8080/",
          "height": 282
        },
        "outputId": "8419116d-a061-4adf-a997-61e0f4e4a174"
      },
      "source": [
        "plt.scatter(shannon, gini_index)"
      ],
      "execution_count": null,
      "outputs": [
        {
          "output_type": "execute_result",
          "data": {
            "text/plain": [
              "<matplotlib.collections.PathCollection at 0x7f6cc6384470>"
            ]
          },
          "metadata": {
            "tags": []
          },
          "execution_count": 92
        },
        {
          "output_type": "display_data",
          "data": {
            "image/png": "[encoded data removed]",
            "text/plain": [
              "<Figure size 432x288 with 1 Axes>"
            ]
          },
          "metadata": {
            "tags": [],
            "needs_background": "light"
          }
        }
      ]
    },
    {
      "cell_type": "code",
      "metadata": {
        "id": "2H3AEkDyGVsU",
        "colab_type": "code",
        "colab": {
          "base_uri": "https://localhost:8080/",
          "height": 34
        },
        "outputId": "ff05e141-5ce1-40f8-c5c2-fdd7c54c0cf5"
      },
      "source": [
        "pearsonr(shannon, gini_index)"
      ],
      "execution_count": null,
      "outputs": [
        {
          "output_type": "execute_result",
          "data": {
            "text/plain": [
              "(0.7569033232483608, 8.294982060204223e-20)"
            ]
          },
          "metadata": {
            "tags": []
          },
          "execution_count": 93
        }
      ]
    },
    {
      "cell_type": "markdown",
      "metadata": {
        "id": "vYpzzAz_d33B",
        "colab_type": "text"
      },
      "source": [
        "Correlation between Gini index and Shannon entropy is lower thant that between the latter and the relative entropy. Also, we see a concave quadratic relationship between the Shannon entropy and Gini index. It is still positive."
      ]
    },
    {
      "cell_type": "code",
      "metadata": {
        "id": "VmH6dg6xjWNJ",
        "colab_type": "code",
        "colab": {
          "base_uri": "https://localhost:8080/",
          "height": 282
        },
        "outputId": "c9696d47-9dd3-4819-a2e1-ff58de4e3fb5"
      },
      "source": [
        "plt.scatter(relative, gini_index)"
      ],
      "execution_count": 25,
      "outputs": [
        {
          "output_type": "execute_result",
          "data": {
            "text/plain": [
              "<matplotlib.collections.PathCollection at 0x7fe2b72dd7f0>"
            ]
          },
          "metadata": {
            "tags": []
          },
          "execution_count": 25
        },
        {
          "output_type": "display_data",
          "data": {
            "image/png": "[encoded data removed]",
            "text/plain": [
              "<Figure size 432x288 with 1 Axes>"
            ]
          },
          "metadata": {
            "tags": [],
            "needs_background": "light"
          }
        }
      ]
    },
    {
      "cell_type": "markdown",
      "metadata": {
        "id": "1ldqdPaxjbeH",
        "colab_type": "text"
      },
      "source": [
        "Relationship between the Gini index and the KL divergence is very similar to the one between Gini and Shannon entropy with more noise added due to the different benchmark measurement of the KL divergence."
      ]
    },
    {
      "cell_type": "markdown",
      "metadata": {
        "id": "8Hqp98CrII1T",
        "colab_type": "text"
      },
      "source": [
        "## Hill number\n"
      ]
    },
    {
      "cell_type": "code",
      "metadata": {
        "id": "dM9e9q6kIL6a",
        "colab_type": "code",
        "colab": {}
      },
      "source": [
        "# Hill number function\n",
        "def hill(p,q):\n",
        "    c =[]\n",
        "    for i in p:\n",
        "        b = i**q\n",
        "        c.append(b)\n",
        "    d = sum(c)**(1/(1-q))   \n",
        "    return d"
      ],
      "execution_count": 8,
      "outputs": []
    },
    {
      "cell_type": "code",
      "metadata": {
        "id": "n-cMPcjgIPg0",
        "colab_type": "code",
        "colab": {}
      },
      "source": [
        "# implementation for each user and then aggregating in list \"hill_no\"\n",
        "hill_no = []\n",
        "for i in users:\n",
        "  b = toy_triplets[\"Count\"][toy_triplets[\"UserId\"]==i]/(np.sum(toy_triplets[\"Count\"][toy_triplets[\"UserId\"]==i]))\n",
        "  a = hill(b,3)\n",
        "  hill_no.append(a)"
      ],
      "execution_count": 9,
      "outputs": []
    },
    {
      "cell_type": "code",
      "metadata": {
        "id": "piLugM3-Iauz",
        "colab_type": "code",
        "colab": {
          "base_uri": "https://localhost:8080/",
          "height": 506
        },
        "outputId": "9ba08cd7-8857-4bb7-9723-908cab770a86"
      },
      "source": [
        "plt.hist(hill_no, bins = 40)"
      ],
      "execution_count": null,
      "outputs": [
        {
          "output_type": "execute_result",
          "data": {
            "text/plain": [
              "(array([24., 24., 15., 10.,  8.,  5.,  4.,  1.,  1.,  3.,  0.,  0.,  1.,\n",
              "         1.,  0.,  0.,  0.,  0.,  0.,  0.,  0.,  1.,  0.,  0.,  1.,  0.,\n",
              "         0.,  0.,  0.,  0.,  0.,  0.,  0.,  0.,  0.,  0.,  0.,  0.,  0.,\n",
              "         1.]), array([  2.25645923,  20.47331002,  38.6901608 ,  56.90701158,\n",
              "         75.12386237,  93.34071315, 111.55756393, 129.77441472,\n",
              "        147.9912655 , 166.20811628, 184.42496706, 202.64181785,\n",
              "        220.85866863, 239.07551941, 257.2923702 , 275.50922098,\n",
              "        293.72607176, 311.94292255, 330.15977333, 348.37662411,\n",
              "        366.5934749 , 384.81032568, 403.02717646, 421.24402724,\n",
              "        439.46087803, 457.67772881, 475.89457959, 494.11143038,\n",
              "        512.32828116, 530.54513194, 548.76198273, 566.97883351,\n",
              "        585.19568429, 603.41253508, 621.62938586, 639.84623664,\n",
              "        658.06308742, 676.27993821, 694.49678899, 712.71363977,\n",
              "        730.93049056]), <a list of 40 Patch objects>)"
            ]
          },
          "metadata": {
            "tags": []
          },
          "execution_count": 105
        },
        {
          "output_type": "display_data",
          "data": {
            "image/png": "[encoded data removed]",
            "text/plain": [
              "<Figure size 432x288 with 1 Axes>"
            ]
          },
          "metadata": {
            "tags": [],
            "needs_background": "light"
          }
        }
      ]
    },
    {
      "cell_type": "markdown",
      "metadata": {
        "id": "Q_v5uTd9fJxx",
        "colab_type": "text"
      },
      "source": [
        "There is somewhat more spread than with the Gini index with most of the Hill values ranging from 2 to just bellow 200 categories indicating that it would be easier to define a threashold for the specialist/ generialist labeling."
      ]
    },
    {
      "cell_type": "code",
      "metadata": {
        "id": "z2Yvw-8sfYiX",
        "colab_type": "code",
        "colab": {
          "base_uri": "https://localhost:8080/",
          "height": 282
        },
        "outputId": "bef06286-5938-407c-cd34-2489b6c3f0e7"
      },
      "source": [
        "plt.scatter(shannon, hill_no)"
      ],
      "execution_count": 10,
      "outputs": [
        {
          "output_type": "execute_result",
          "data": {
            "text/plain": [
              "<matplotlib.collections.PathCollection at 0x7fe2b7e85320>"
            ]
          },
          "metadata": {
            "tags": []
          },
          "execution_count": 10
        },
        {
          "output_type": "display_data",
          "data": {
            "image/png": "[encoded data removed]",
            "text/plain": [
              "<Figure size 432x288 with 1 Axes>"
            ]
          },
          "metadata": {
            "tags": [],
            "needs_background": "light"
          }
        }
      ]
    },
    {
      "cell_type": "code",
      "metadata": {
        "id": "n3LrAsfxgoIB",
        "colab_type": "code",
        "colab": {
          "base_uri": "https://localhost:8080/",
          "height": 34
        },
        "outputId": "e31cf13c-cf9e-4cd2-acd0-bd176cb61f33"
      },
      "source": [
        "pearsonr(shannon, hill_no)"
      ],
      "execution_count": 11,
      "outputs": [
        {
          "output_type": "execute_result",
          "data": {
            "text/plain": [
              "(0.7286355815928001, 8.521424069815568e-18)"
            ]
          },
          "metadata": {
            "tags": []
          },
          "execution_count": 11
        }
      ]
    },
    {
      "cell_type": "markdown",
      "metadata": {
        "id": "D1wzDxd7gdxp",
        "colab_type": "text"
      },
      "source": [
        "Now we have positive quadratic convex relationship. The data spread is clearly better than with Gini index. The correlation with the Shannon entropy is, however smaller. It seems that users with large entropy values tend to require fewer equifrequent songs that one would expect under the linear relationship case. "
      ]
    },
    {
      "cell_type": "code",
      "metadata": {
        "id": "1ArdPAklhQYp",
        "colab_type": "code",
        "colab": {
          "base_uri": "https://localhost:8080/",
          "height": 282
        },
        "outputId": "d1652bd5-67cc-4197-aba8-f49a66b296dc"
      },
      "source": [
        "plt.scatter(hill_no, gini_index)"
      ],
      "execution_count": 19,
      "outputs": [
        {
          "output_type": "execute_result",
          "data": {
            "text/plain": [
              "<matplotlib.collections.PathCollection at 0x7fe2b73e86a0>"
            ]
          },
          "metadata": {
            "tags": []
          },
          "execution_count": 19
        },
        {
          "output_type": "display_data",
          "data": {
            "image/png": "[encoded data removed]",
            "text/plain": [
              "<Figure size 432x288 with 1 Axes>"
            ]
          },
          "metadata": {
            "tags": [],
            "needs_background": "light"
          }
        }
      ]
    },
    {
      "cell_type": "code",
      "metadata": {
        "id": "aCxzb1YShxdK",
        "colab_type": "code",
        "colab": {
          "base_uri": "https://localhost:8080/",
          "height": 34
        },
        "outputId": "fdb8b7f2-7122-46bb-cdb9-9cfc83844d5d"
      },
      "source": [
        "pearsonr(hill_no, gini_index)"
      ],
      "execution_count": 20,
      "outputs": [
        {
          "output_type": "execute_result",
          "data": {
            "text/plain": [
              "(0.354661385886188, 0.0002940824874292938)"
            ]
          },
          "metadata": {
            "tags": []
          },
          "execution_count": 20
        }
      ]
    },
    {
      "cell_type": "markdown",
      "metadata": {
        "id": "O-sNUJLSh3lg",
        "colab_type": "text"
      },
      "source": [
        "Extremelly low correlation between Hill number and Gini index and a rather non-sensial scatter plots indicates that these two measures are rather different and capture different aspect of the data."
      ]
    },
    {
      "cell_type": "code",
      "metadata": {
        "id": "qfjFOnaEiR5v",
        "colab_type": "code",
        "colab": {
          "base_uri": "https://localhost:8080/",
          "height": 282
        },
        "outputId": "a37edffa-ef92-4a87-a0af-09bb464f8016"
      },
      "source": [
        "plt.scatter(relative, hill_no)"
      ],
      "execution_count": 24,
      "outputs": [
        {
          "output_type": "execute_result",
          "data": {
            "text/plain": [
              "<matplotlib.collections.PathCollection at 0x7fe2b736bf98>"
            ]
          },
          "metadata": {
            "tags": []
          },
          "execution_count": 24
        },
        {
          "output_type": "display_data",
          "data": {
            "image/png": "[encoded data removed]",
            "text/plain": [
              "<Figure size 432x288 with 1 Axes>"
            ]
          },
          "metadata": {
            "tags": [],
            "needs_background": "light"
          }
        }
      ]
    },
    {
      "cell_type": "markdown",
      "metadata": {
        "id": "Z9ftoKnkiY-N",
        "colab_type": "text"
      },
      "source": [
        "The relationship between the Hill number and KL divergence is rather similar to the one between the former and the Shannon entropy, yet with more noise potentialy arising due to the KL divergence measuring similarity to the mainstream generalist as opposed to the overall generalist"
      ]
    }
  ]
}