{
 "cells": [
  {
   "cell_type": "markdown",
   "metadata": {
    "colab_type": "text",
    "id": "4oTlxhTQoy_0"
   },
   "source": [
    "# Loading function and libraries"
   ]
  },
  {
   "cell_type": "code",
   "execution_count": 1,
   "metadata": {
    "colab": {
     "base_uri": "https://localhost:8080/",
     "height": 255
    },
    "colab_type": "code",
    "executionInfo": {
     "elapsed": 6101,
     "status": "ok",
     "timestamp": 1598538113718,
     "user": {
      "displayName": "Gabrielė Stravinskaitė",
      "photoUrl": "",
      "userId": "00275060314149820189"
     },
     "user_tz": -120
    },
    "id": "ZL4Qg-NvWghT",
    "outputId": "82149233-2f29-471b-9531-9869c4d0c7f0"
   },
   "outputs": [
    {
     "name": "stdout",
     "output_type": "stream",
     "text": [
      "Collecting lowess\n",
      "  Downloading https://files.pythonhosted.org/packages/04/e3/ce90bb45eca24f728cfaff9529cb8e70bcf5cb7ffdaddfc82109ee227046/lowess-1.0.2.tar.gz\n",
      "Requirement already satisfied: pandas>=1.0.3 in /usr/local/lib/python3.6/dist-packages (from lowess) (1.0.5)\n",
      "Requirement already satisfied: pytz>=2017.2 in /usr/local/lib/python3.6/dist-packages (from pandas>=1.0.3->lowess) (2018.9)\n",
      "Requirement already satisfied: numpy>=1.13.3 in /usr/local/lib/python3.6/dist-packages (from pandas>=1.0.3->lowess) (1.18.5)\n",
      "Requirement already satisfied: python-dateutil>=2.6.1 in /usr/local/lib/python3.6/dist-packages (from pandas>=1.0.3->lowess) (2.8.1)\n",
      "Requirement already satisfied: six>=1.5 in /usr/local/lib/python3.6/dist-packages (from python-dateutil>=2.6.1->pandas>=1.0.3->lowess) (1.15.0)\n",
      "Building wheels for collected packages: lowess\n",
      "  Building wheel for lowess (setup.py) ... \u001b[?25l\u001b[?25hdone\n",
      "  Created wheel for lowess: filename=lowess-1.0.2-cp36-none-any.whl size=6114 sha256=294098a1312a6c24912e9114df7bd0ece9d8add6594a8be66ed6cbf5d0488da9\n",
      "  Stored in directory: /root/.cache/pip/wheels/32/45/c2/e70ca4ad60fb118d193cae63ca7a83bb5a443c1eba58e46672\n",
      "Successfully built lowess\n",
      "Installing collected packages: lowess\n",
      "Successfully installed lowess-1.0.2\n"
     ]
    }
   ],
   "source": [
    "!pip install lowess"
   ]
  },
  {
   "cell_type": "code",
   "execution_count": 2,
   "metadata": {
    "colab": {
     "base_uri": "https://localhost:8080/",
     "height": 71
    },
    "colab_type": "code",
    "executionInfo": {
     "elapsed": 7296,
     "status": "ok",
     "timestamp": 1598538114951,
     "user": {
      "displayName": "Gabrielė Stravinskaitė",
      "photoUrl": "",
      "userId": "00275060314149820189"
     },
     "user_tz": -120
    },
    "id": "oOZ4nLlWofiu",
    "outputId": "16dd6809-32d6-4528-bfba-30c201b6d322"
   },
   "outputs": [
    {
     "name": "stderr",
     "output_type": "stream",
     "text": [
      "/usr/local/lib/python3.6/dist-packages/statsmodels/tools/_testing.py:19: FutureWarning: pandas.util.testing is deprecated. Use the functions in the public API at pandas.testing instead.\n",
      "  import pandas.util.testing as tm\n"
     ]
    }
   ],
   "source": [
    "import numpy as np\n",
    "import pandas as pd \n",
    "from sklearn.decomposition import PCA\n",
    "import matplotlib.pyplot as plt\n",
    "import math\n",
    "from scipy.stats import pearsonr\n",
    "from sklearn.metrics import r2_score\n",
    "from scipy.stats import entropy\n",
    "from tqdm.notebook import tqdm, trange\n",
    "import statsmodels.api as sm\n",
    "import statistics \n",
    "from scipy.stats import gaussian_kde\n",
    "import lowess as lo"
   ]
  },
  {
   "cell_type": "code",
   "execution_count": 3,
   "metadata": {
    "colab": {
     "base_uri": "https://localhost:8080/",
     "height": 122
    },
    "colab_type": "code",
    "executionInfo": {
     "elapsed": 29511,
     "status": "ok",
     "timestamp": 1598538137175,
     "user": {
      "displayName": "Gabrielė Stravinskaitė",
      "photoUrl": "",
      "userId": "00275060314149820189"
     },
     "user_tz": -120
    },
    "id": "qzztyondoyYh",
    "outputId": "4a1181d4-ec52-4a49-9183-ad87adf120fd"
   },
   "outputs": [
    {
     "name": "stdout",
     "output_type": "stream",
     "text": [
      "Go to this URL in a browser: https://accounts.google.com/o/oauth2/auth?client_id=947318989803-6bn6qk8qdgf4n4g3pfee6491hc0brc4i.apps.googleusercontent.com&redirect_uri=urn%3aietf%3awg%3aoauth%3a2.0%3aoob&scope=email%20https%3a%2f%2fwww.googleapis.com%2fauth%2fdocs.test%20https%3a%2f%2fwww.googleapis.com%2fauth%2fdrive%20https%3a%2f%2fwww.googleapis.com%2fauth%2fdrive.photos.readonly%20https%3a%2f%2fwww.googleapis.com%2fauth%2fpeopleapi.readonly&response_type=code\n",
      "\n",
      "Enter your authorization code:\n",
      "··········\n",
      "Mounted at /content/drive\n"
     ]
    }
   ],
   "source": [
    "from google.colab import drive\n",
    "drive.mount('/content/drive')"
   ]
  },
  {
   "cell_type": "code",
   "execution_count": 4,
   "metadata": {
    "colab": {},
    "colab_type": "code",
    "executionInfo": {
     "elapsed": 5518,
     "status": "ok",
     "timestamp": 1598538171625,
     "user": {
      "displayName": "Gabrielė Stravinskaitė",
      "photoUrl": "",
      "userId": "00275060314149820189"
     },
     "user_tz": -120
    },
    "id": "kqQMWlS-o68Y"
   },
   "outputs": [],
   "source": [
    "total_playcount = np.load(\"/content/drive/My Drive/MSc Statistics/total_playcount.npy\")\n",
    "gini_index = np.load(\"/content/drive/My Drive/MSc Statistics/gini_index.npy\")\n",
    "hill_no = np.load(\"/content/drive/My Drive/MSc Statistics/hill_no.npy\")\n",
    "distinct_songs = np.load(\"/content/drive/My Drive/MSc Statistics/distinct_songs.npy\", allow_pickle=True)\n",
    "distinct_artists = np.load(\"/content/drive/My Drive/MSc Statistics/distinct_artists.npy\")\n",
    "shannon = np.load(\"/content/drive/My Drive/MSc Statistics/shannon-artist.npy\")\n",
    "pop_score = np.load(\"/content/drive/My Drive/MSc Statistics/pop_score.npy\")\n",
    "relative = np.load(\"/content/drive/My Drive/MSc Statistics/KL-artist.npy\")\n",
    "gini_index = np.load(\"/content/drive/My Drive/MSc Statistics/gini-artist.npy\")\n",
    "hill_no = np.load(\"/content/drive/My Drive/MSc Statistics/hill-artist.npy\")\n",
    "toy_triplets = np.load(\"/content/drive/My Drive/MSc Statistics/toy_triplets.npy\", allow_pickle=True)\n",
    "toy_triplets = pd.DataFrame(toy_triplets, columns = [\"UserId\", \"SongId\", \"Count\", \"TrackId\", \"Artist\", \"Song\" ])"
   ]
  },
  {
   "cell_type": "code",
   "execution_count": null,
   "metadata": {
    "colab": {
     "base_uri": "https://localhost:8080/",
     "height": 170
    },
    "colab_type": "code",
    "executionInfo": {
     "elapsed": 2612,
     "status": "ok",
     "timestamp": 1596437953034,
     "user": {
      "displayName": "Gabrielė Stravinskaitė",
      "photoUrl": "",
      "userId": "00275060314149820189"
     },
     "user_tz": -180
    },
    "id": "bgF_JIv1Hcom",
    "outputId": "d704f7b9-0810-45a3-e4c7-7d697bc78035"
   },
   "outputs": [
    {
     "data": {
      "text/html": [
       "<div>\n",
       "<style scoped>\n",
       "    .dataframe tbody tr th:only-of-type {\n",
       "        vertical-align: middle;\n",
       "    }\n",
       "\n",
       "    .dataframe tbody tr th {\n",
       "        vertical-align: top;\n",
       "    }\n",
       "\n",
       "    .dataframe thead th {\n",
       "        text-align: right;\n",
       "    }\n",
       "</style>\n",
       "<table border=\"1\" class=\"dataframe\">\n",
       "  <thead>\n",
       "    <tr style=\"text-align: right;\">\n",
       "      <th></th>\n",
       "      <th>UserId</th>\n",
       "      <th>SongId</th>\n",
       "      <th>Count</th>\n",
       "      <th>TrackId</th>\n",
       "      <th>Artist</th>\n",
       "      <th>Song</th>\n",
       "    </tr>\n",
       "  </thead>\n",
       "  <tbody>\n",
       "    <tr>\n",
       "      <th>count</th>\n",
       "      <td>472358</td>\n",
       "      <td>472358</td>\n",
       "      <td>472358</td>\n",
       "      <td>472358</td>\n",
       "      <td>472358</td>\n",
       "      <td>472358</td>\n",
       "    </tr>\n",
       "    <tr>\n",
       "      <th>unique</th>\n",
       "      <td>10000</td>\n",
       "      <td>105296</td>\n",
       "      <td>203</td>\n",
       "      <td>105296</td>\n",
       "      <td>21360</td>\n",
       "      <td>91260</td>\n",
       "    </tr>\n",
       "    <tr>\n",
       "      <th>top</th>\n",
       "      <td>dc61155e20289dcd089ac40181cb88f042404602</td>\n",
       "      <td>SOFRQTD12A81C233C0</td>\n",
       "      <td>1</td>\n",
       "      <td>TRDMBIJ128F4290431</td>\n",
       "      <td>Coldplay</td>\n",
       "      <td>Sehr kosmisch</td>\n",
       "    </tr>\n",
       "    <tr>\n",
       "      <th>freq</th>\n",
       "      <td>704</td>\n",
       "      <td>1045</td>\n",
       "      <td>280978</td>\n",
       "      <td>1045</td>\n",
       "      <td>4053</td>\n",
       "      <td>1045</td>\n",
       "    </tr>\n",
       "  </tbody>\n",
       "</table>\n",
       "</div>"
      ],
      "text/plain": [
       "                                          UserId  ...           Song\n",
       "count                                     472358  ...         472358\n",
       "unique                                     10000  ...          91260\n",
       "top     dc61155e20289dcd089ac40181cb88f042404602  ...  Sehr kosmisch\n",
       "freq                                         704  ...           1045\n",
       "\n",
       "[4 rows x 6 columns]"
      ]
     },
     "execution_count": 10,
     "metadata": {
      "tags": []
     },
     "output_type": "execute_result"
    }
   ],
   "source": [
    "toy_triplets.describe()"
   ]
  },
  {
   "cell_type": "code",
   "execution_count": null,
   "metadata": {
    "colab": {},
    "colab_type": "code",
    "id": "OcgUgTXNo-Yd"
   },
   "outputs": [],
   "source": [
    "def plot(p,q, xlab, ylab, filename, frac=0.2):\n",
    "  # Plots scatterplot with mass gradient and LOwESS\n",
    "  # p - x variable\n",
    "  # q - y variable\n",
    "\n",
    "  # stacking data for the density gradient\n",
    "  xy = np.vstack([p,q])\n",
    "  # calling \n",
    "  z = gaussian_kde(xy)(xy)\n",
    "\n",
    "  idx = z.argsort()\n",
    "  x, y, z = p[idx], q[idx], z[idx]\n",
    "\n",
    "  df = pd.DataFrame({'x': x, 'Raw': y})\n",
    "  df[\"pred\"] = lo.lowess(df[\"Raw\"], df[\"x\"], frac, 2)\n",
    "\n",
    "  # sorting so that could plot a somehow monotonic line\n",
    "  sorted_index = np.argsort(df[\"Raw\"])\n",
    "  X_sort = df[\"Raw\"][sorted_index]\n",
    "  y_sort = df[\"pred\"][sorted_index]  \n",
    "\n",
    "  fig, ax = plt.subplots()\n",
    "  # main scatter\n",
    "  ax.scatter(df[\"Raw\"], df[\"x\"], c=z, s=50, edgecolor='', cmap=plt.cm.summer)\n",
    "  # LOWESS \n",
    "  ax.plot(X_sort, y_sort, \"r\", label=\"LOWESS\")\n",
    "  leg = ax.legend(loc=7)\n",
    "  plt.xlabel(xlab)\n",
    "  plt.ylabel(ylab)\n",
    "  plt.savefig(filename, format = \"png\", transparent = True)\n",
    "  plt.show()"
   ]
  },
  {
   "cell_type": "code",
   "execution_count": null,
   "metadata": {
    "colab": {},
    "colab_type": "code",
    "id": "etI1RGXypBqx"
   },
   "outputs": [],
   "source": [
    "def plot_hill(p,q, xlab, ylab, filename):\n",
    "  # Plots scatterplot with mass gradient and LOESS\n",
    "  # p - x variable\n",
    "  # q - y variable\n",
    "  xy = np.vstack([p,q])\n",
    "  z = gaussian_kde(xy)(xy)\n",
    "\n",
    "  idx = z.argsort()\n",
    "  x, y, z = p[idx], q[idx], z[idx]\n",
    "\n",
    "  m, b = np.polyfit(p, q, 1)\n",
    "\n",
    "  fig, ax = plt.subplots()\n",
    "  ax.scatter(x, y, c=z, s=50, edgecolor='', cmap=plt.cm.summer)\n",
    "  ax.plot(p, m*p + b, label=\"OLS\", color=\"r\")\n",
    "  leg = ax.legend(loc=1)\n",
    "  plt.xlabel(xlab)\n",
    "  plt.ylabel(ylab)\n",
    "  plt.savefig(filename, format = \"png\", transparent = True)\n",
    "  plt.show()"
   ]
  },
  {
   "cell_type": "markdown",
   "metadata": {
    "colab_type": "text",
    "id": "FDeeMYtMppNQ"
   },
   "source": [
    "# Shannon entropy"
   ]
  },
  {
   "cell_type": "code",
   "execution_count": null,
   "metadata": {
    "colab": {},
    "colab_type": "code",
    "id": "u_a6UzSLpq2C"
   },
   "outputs": [],
   "source": [
    "def entropy_me(p):\n",
    "    c = []\n",
    "    for i in p:\n",
    "        if i == 0:\n",
    "            b = 0\n",
    "        else:\n",
    "            b = -i*math.log2(i)\n",
    "        c.append(b)\n",
    "    d = sum(c)\n",
    "    return d"
   ]
  },
  {
   "cell_type": "code",
   "execution_count": null,
   "metadata": {
    "colab": {},
    "colab_type": "code",
    "id": "URFPpeF_Lyem"
   },
   "outputs": [],
   "source": [
    "users = toy_triplets[\"UserId\"].unique().tolist()"
   ]
  },
  {
   "cell_type": "code",
   "execution_count": null,
   "metadata": {
    "colab": {
     "base_uri": "https://localhost:8080/",
     "height": 34
    },
    "colab_type": "code",
    "executionInfo": {
     "elapsed": 971,
     "status": "ok",
     "timestamp": 1596552306680,
     "user": {
      "displayName": "Gabrielė Stravinskaitė",
      "photoUrl": "",
      "userId": "00275060314149820189"
     },
     "user_tz": -180
    },
    "id": "LvQO7Akc7iLn",
    "outputId": "98369f4d-870b-4330-f2d2-89c2a110335f"
   },
   "outputs": [
    {
     "data": {
      "application/vnd.google.colaboratory.intrinsic+json": {
       "type": "string"
      },
      "text/plain": [
       "'d54b1df567fbc4d8a4be16471e6024ae6524bbcf'"
      ]
     },
     "execution_count": 43,
     "metadata": {
      "tags": []
     },
     "output_type": "execute_result"
    }
   ],
   "source": [
    "users[100]"
   ]
  },
  {
   "cell_type": "code",
   "execution_count": null,
   "metadata": {
    "colab": {
     "base_uri": "https://localhost:8080/",
     "height": 65,
     "referenced_widgets": [
      "ef05f4de63534428a56647d60e32ca35",
      "516145ab45634a3baeddcf822d2db2ef",
      "9c4e2b7e942b4d50b9dfc626c59ea840",
      "3f2a49a4e12f45908798341553d8daca",
      "da6b00c803244a2dbac2dbc10f03c382",
      "df94cfe5446e45179084c97d3dce26e2",
      "039a654e84244c028e58824c7ffc873e",
      "c51134ff12b647aa90f9d51f45641fa0"
     ]
    },
    "colab_type": "code",
    "executionInfo": {
     "elapsed": 667357,
     "status": "ok",
     "timestamp": 1596453008703,
     "user": {
      "displayName": "Gabrielė Stravinskaitė",
      "photoUrl": "",
      "userId": "00275060314149820189"
     },
     "user_tz": -180
    },
    "id": "8MjHzIoqqr6E",
    "outputId": "d1e29405-a0ee-4d7d-a76c-aaf6e088d76f"
   },
   "outputs": [
    {
     "data": {
      "application/vnd.jupyter.widget-view+json": {
       "model_id": "ef05f4de63534428a56647d60e32ca35",
       "version_major": 2,
       "version_minor": 0
      },
      "text/plain": [
       "HBox(children=(FloatProgress(value=0.0, max=10000.0), HTML(value='')))"
      ]
     },
     "metadata": {
      "tags": []
     },
     "output_type": "display_data"
    },
    {
     "name": "stdout",
     "output_type": "stream",
     "text": [
      "\n"
     ]
    }
   ],
   "source": [
    "# getting a list of unique UserIds\n",
    "users = toy_triplets[\"UserId\"].unique().tolist()\n",
    "\n",
    "# calculating the Shannon entropy for each user separatelly and stacking\n",
    "# everything into the list \"shannon\"\n",
    "shannon = []\n",
    "for i in tqdm(users):\n",
    "  un_art = toy_triplets[toy_triplets[\"UserId\"]==i].groupby([\"Artist\"])[\"Count\"].sum()\n",
    "  p = un_art/np.sum(toy_triplets[\"Count\"][toy_triplets[\"UserId\"]==i])\n",
    "  #a = entropy_me(b)\n",
    "  a = entropy(p, base = 2)\n",
    "  shannon.append(a)"
   ]
  },
  {
   "cell_type": "code",
   "execution_count": null,
   "metadata": {
    "colab": {},
    "colab_type": "code",
    "id": "espZSWEaHA4C"
   },
   "outputs": [],
   "source": [
    "np.save(\"shannon-artist\", shannon)"
   ]
  },
  {
   "cell_type": "code",
   "execution_count": null,
   "metadata": {
    "colab": {
     "base_uri": "https://localhost:8080/",
     "height": 291
    },
    "colab_type": "code",
    "executionInfo": {
     "elapsed": 684,
     "status": "ok",
     "timestamp": 1596527691910,
     "user": {
      "displayName": "Gabrielė Stravinskaitė",
      "photoUrl": "",
      "userId": "00275060314149820189"
     },
     "user_tz": -180
    },
    "id": "3ZzYYktEPhjK",
    "outputId": "d1f39971-d667-4573-f7c3-be19323ba079"
   },
   "outputs": [
    {
     "data": {
      "text/html": [
       "<div>\n",
       "<style scoped>\n",
       "    .dataframe tbody tr th:only-of-type {\n",
       "        vertical-align: middle;\n",
       "    }\n",
       "\n",
       "    .dataframe tbody tr th {\n",
       "        vertical-align: top;\n",
       "    }\n",
       "\n",
       "    .dataframe thead th {\n",
       "        text-align: right;\n",
       "    }\n",
       "</style>\n",
       "<table border=\"1\" class=\"dataframe\">\n",
       "  <thead>\n",
       "    <tr style=\"text-align: right;\">\n",
       "      <th></th>\n",
       "      <th>0</th>\n",
       "    </tr>\n",
       "  </thead>\n",
       "  <tbody>\n",
       "    <tr>\n",
       "      <th>count</th>\n",
       "      <td>10000.000000</td>\n",
       "    </tr>\n",
       "    <tr>\n",
       "      <th>mean</th>\n",
       "      <td>3.690172</td>\n",
       "    </tr>\n",
       "    <tr>\n",
       "      <th>std</th>\n",
       "      <td>1.153100</td>\n",
       "    </tr>\n",
       "    <tr>\n",
       "      <th>min</th>\n",
       "      <td>0.000000</td>\n",
       "    </tr>\n",
       "    <tr>\n",
       "      <th>25%</th>\n",
       "      <td>2.997543</td>\n",
       "    </tr>\n",
       "    <tr>\n",
       "      <th>50%</th>\n",
       "      <td>3.640224</td>\n",
       "    </tr>\n",
       "    <tr>\n",
       "      <th>75%</th>\n",
       "      <td>4.414576</td>\n",
       "    </tr>\n",
       "    <tr>\n",
       "      <th>max</th>\n",
       "      <td>7.873588</td>\n",
       "    </tr>\n",
       "  </tbody>\n",
       "</table>\n",
       "</div>"
      ],
      "text/plain": [
       "                  0\n",
       "count  10000.000000\n",
       "mean       3.690172\n",
       "std        1.153100\n",
       "min        0.000000\n",
       "25%        2.997543\n",
       "50%        3.640224\n",
       "75%        4.414576\n",
       "max        7.873588"
      ]
     },
     "execution_count": 14,
     "metadata": {
      "tags": []
     },
     "output_type": "execute_result"
    }
   ],
   "source": [
    "pd.DataFrame(shannon).describe()"
   ]
  },
  {
   "cell_type": "code",
   "execution_count": null,
   "metadata": {
    "colab": {
     "base_uri": "https://localhost:8080/",
     "height": 280
    },
    "colab_type": "code",
    "executionInfo": {
     "elapsed": 1417,
     "status": "ok",
     "timestamp": 1596457166257,
     "user": {
      "displayName": "Gabrielė Stravinskaitė",
      "photoUrl": "",
      "userId": "00275060314149820189"
     },
     "user_tz": -180
    },
    "id": "QKp6RSqzPZHy",
    "outputId": "3b7b0cab-9fdf-4157-d87e-e45d70390d1c"
   },
   "outputs": [
    {
     "data": {
      "image/png": "[encoded data removed]",
      "text/plain": [
       "<Figure size 432x288 with 1 Axes>"
      ]
     },
     "metadata": {
      "needs_background": "light",
      "tags": []
     },
     "output_type": "display_data"
    }
   ],
   "source": [
    "plt.hist(shannon, bins=40,\n",
    "                          color = \"olivedrab\", density = False)\n",
    "plt.title(\"Histogram of the Shannon entropy | artists\")\n",
    "plt.savefig(\"shannon_hist_art\", format = \"png\", transparent = True)"
   ]
  },
  {
   "cell_type": "code",
   "execution_count": null,
   "metadata": {
    "colab": {
     "base_uri": "https://localhost:8080/",
     "height": 294
    },
    "colab_type": "code",
    "executionInfo": {
     "elapsed": 1352,
     "status": "ok",
     "timestamp": 1596524861810,
     "user": {
      "displayName": "Gabrielė Stravinskaitė",
      "photoUrl": "",
      "userId": "00275060314149820189"
     },
     "user_tz": -180
    },
    "id": "3xQy0HCVQ24w",
    "outputId": "09efb419-f616-4c49-ae3a-688d716cac61"
   },
   "outputs": [
    {
     "data": {
      "image/png": "[encoded data removed]",
      "text/plain": [
       "<Figure size 432x288 with 1 Axes>"
      ]
     },
     "metadata": {
      "needs_background": "light",
      "tags": []
     },
     "output_type": "display_data"
    }
   ],
   "source": [
    "fig = sm.qqplot(np.array(shannon), fit=True, line='45', color = \"olivedrab\")\n",
    "plt.title(\"Q-Q plot for the relative entropy\")\n",
    "plt.savefig(\"QQ_shannon\", format = \"png\", transparent = True)\n",
    "plt.show()"
   ]
  },
  {
   "cell_type": "code",
   "execution_count": null,
   "metadata": {
    "colab": {
     "base_uri": "https://localhost:8080/",
     "height": 32
    },
    "colab_type": "code",
    "executionInfo": {
     "elapsed": 762,
     "status": "ok",
     "timestamp": 1596524863438,
     "user": {
      "displayName": "Gabrielė Stravinskaitė",
      "photoUrl": "",
      "userId": "00275060314149820189"
     },
     "user_tz": -180
    },
    "id": "-22Mm9zbS-5A",
    "outputId": "933d5f88-a4bf-4def-ec42-5e007ec750ea"
   },
   "outputs": [
    {
     "name": "stdout",
     "output_type": "stream",
     "text": [
      "5.04655138944929 11.743908910208448\n"
     ]
    }
   ],
   "source": [
    "low = np.mean(relative) - 1.96*np.std(relative)\n",
    "high = np.mean(relative) + 1.96*np.std(relative)\n",
    "print(low, high)"
   ]
  },
  {
   "cell_type": "markdown",
   "metadata": {
    "colab_type": "text",
    "id": "nGp7C0jqpvU_"
   },
   "source": [
    "# KL divergence"
   ]
  },
  {
   "cell_type": "code",
   "execution_count": null,
   "metadata": {
    "colab": {
     "base_uri": "https://localhost:8080/",
     "height": 65,
     "referenced_widgets": [
      "213e90b6a59b466dbd061eae580b6652",
      "1207da17c2e4483cb6b0836cd0aaa10b",
      "3435ce929cdb40ee8d3dba34cfeba5f4",
      "ab4e3244c1e44aabaf37b4f95e669371",
      "b39bb270bf74498a8021011936ce3a79",
      "0fca6ec485444f30a1022e80608933bd",
      "502cfdba790247f691de9abb7df806ef",
      "6a0740c679954555bab28796210bc807"
     ]
    },
    "colab_type": "code",
    "executionInfo": {
     "elapsed": 1075164,
     "status": "ok",
     "timestamp": 1596439039865,
     "user": {
      "displayName": "Gabrielė Stravinskaitė",
      "photoUrl": "",
      "userId": "00275060314149820189"
     },
     "user_tz": -180
    },
    "id": "QInBMTB1tLTg",
    "outputId": "20172cd4-7d1a-467b-fd86-4043aa561259"
   },
   "outputs": [
    {
     "data": {
      "application/vnd.jupyter.widget-view+json": {
       "model_id": "213e90b6a59b466dbd061eae580b6652",
       "version_major": 2,
       "version_minor": 0
      },
      "text/plain": [
       "HBox(children=(FloatProgress(value=0.0, max=10000.0), HTML(value='')))"
      ]
     },
     "metadata": {
      "tags": []
     },
     "output_type": "display_data"
    },
    {
     "name": "stdout",
     "output_type": "stream",
     "text": [
      "\n"
     ]
    }
   ],
   "source": [
    "# defining Q. \n",
    "big_list = []\n",
    "for u in tqdm(users):\n",
    "  # How many distinct artist a user is listening to\n",
    "  art_unique_user = toy_triplets[\"Artist\"][toy_triplets[\"UserId\"]==u].unique().tolist()\n",
    "  # stacking all of these users together\n",
    "  big_list = np.hstack([big_list, np.array(art_unique_user)])"
   ]
  },
  {
   "cell_type": "code",
   "execution_count": null,
   "metadata": {
    "colab": {},
    "colab_type": "code",
    "id": "jWuUjkD8NJX0"
   },
   "outputs": [],
   "source": [
    "np.save(\"Big_list\", big_list)"
   ]
  },
  {
   "cell_type": "code",
   "execution_count": null,
   "metadata": {
    "colab": {},
    "colab_type": "code",
    "id": "MUhrgV4gw1v8"
   },
   "outputs": [],
   "source": [
    "# the total number of time artist was mentioned is q_j\n",
    "sum_art = pd.DataFrame(big_list, columns=[\"Artists\"]).groupby([\"Artists\"]).size().to_frame()"
   ]
  },
  {
   "cell_type": "code",
   "execution_count": null,
   "metadata": {
    "colab": {},
    "colab_type": "code",
    "id": "DfdsUoPCw_r5"
   },
   "outputs": [],
   "source": [
    "# cleaning for better representation\n",
    "sum_art[\"Artist\"] = sum_art.index\n",
    "sum_art.columns = [\"Count_q\", \"Artist\"]\n",
    "sum_art.index.names = [\"Index\"]"
   ]
  },
  {
   "cell_type": "code",
   "execution_count": null,
   "metadata": {
    "colab": {
     "base_uri": "https://localhost:8080/",
     "height": 442
    },
    "colab_type": "code",
    "executionInfo": {
     "elapsed": 888,
     "status": "ok",
     "timestamp": 1596440878452,
     "user": {
      "displayName": "Gabrielė Stravinskaitė",
      "photoUrl": "",
      "userId": "00275060314149820189"
     },
     "user_tz": -180
    },
    "id": "5KPfcsnHxNd6",
    "outputId": "787b861a-e9b6-4a49-d7a7-9fd8023af7c1"
   },
   "outputs": [
    {
     "data": {
      "text/html": [
       "<div>\n",
       "<style scoped>\n",
       "    .dataframe tbody tr th:only-of-type {\n",
       "        vertical-align: middle;\n",
       "    }\n",
       "\n",
       "    .dataframe tbody tr th {\n",
       "        vertical-align: top;\n",
       "    }\n",
       "\n",
       "    .dataframe thead th {\n",
       "        text-align: right;\n",
       "    }\n",
       "</style>\n",
       "<table border=\"1\" class=\"dataframe\">\n",
       "  <thead>\n",
       "    <tr style=\"text-align: right;\">\n",
       "      <th></th>\n",
       "      <th>Count_q</th>\n",
       "      <th>Artist</th>\n",
       "    </tr>\n",
       "    <tr>\n",
       "      <th>Index</th>\n",
       "      <th></th>\n",
       "      <th></th>\n",
       "    </tr>\n",
       "  </thead>\n",
       "  <tbody>\n",
       "    <tr>\n",
       "      <th>!!!</th>\n",
       "      <td>0.000079</td>\n",
       "      <td>!!!</td>\n",
       "    </tr>\n",
       "    <tr>\n",
       "      <th>&amp; And Oceans</th>\n",
       "      <td>0.000007</td>\n",
       "      <td>&amp; And Oceans</td>\n",
       "    </tr>\n",
       "    <tr>\n",
       "      <th>'68 Comeback</th>\n",
       "      <td>0.000007</td>\n",
       "      <td>'68 Comeback</td>\n",
       "    </tr>\n",
       "    <tr>\n",
       "      <th>'N Sync/Phil Collins</th>\n",
       "      <td>0.000045</td>\n",
       "      <td>'N Sync/Phil Collins</td>\n",
       "    </tr>\n",
       "    <tr>\n",
       "      <th>'Til Tuesday</th>\n",
       "      <td>0.000021</td>\n",
       "      <td>'Til Tuesday</td>\n",
       "    </tr>\n",
       "    <tr>\n",
       "      <th>...</th>\n",
       "      <td>...</td>\n",
       "      <td>...</td>\n",
       "    </tr>\n",
       "    <tr>\n",
       "      <th>Íon</th>\n",
       "      <td>0.000007</td>\n",
       "      <td>Íon</td>\n",
       "    </tr>\n",
       "    <tr>\n",
       "      <th>Ólafur Arnalds</th>\n",
       "      <td>0.000024</td>\n",
       "      <td>Ólafur Arnalds</td>\n",
       "    </tr>\n",
       "    <tr>\n",
       "      <th>Órla Fallon</th>\n",
       "      <td>0.000003</td>\n",
       "      <td>Órla Fallon</td>\n",
       "    </tr>\n",
       "    <tr>\n",
       "      <th>Özlem Tekin</th>\n",
       "      <td>0.000003</td>\n",
       "      <td>Özlem Tekin</td>\n",
       "    </tr>\n",
       "    <tr>\n",
       "      <th>üNN</th>\n",
       "      <td>0.000003</td>\n",
       "      <td>üNN</td>\n",
       "    </tr>\n",
       "  </tbody>\n",
       "</table>\n",
       "<p>21360 rows × 2 columns</p>\n",
       "</div>"
      ],
      "text/plain": [
       "                       Count_q                Artist\n",
       "Index                                               \n",
       "!!!                   0.000079                   !!!\n",
       "& And Oceans          0.000007          & And Oceans\n",
       "'68 Comeback          0.000007          '68 Comeback\n",
       "'N Sync/Phil Collins  0.000045  'N Sync/Phil Collins\n",
       "'Til Tuesday          0.000021          'Til Tuesday\n",
       "...                        ...                   ...\n",
       "Íon                   0.000007                   Íon\n",
       "Ólafur Arnalds        0.000024        Ólafur Arnalds\n",
       "Órla Fallon           0.000003           Órla Fallon\n",
       "Özlem Tekin           0.000003           Özlem Tekin\n",
       "üNN                   0.000003                   üNN\n",
       "\n",
       "[21360 rows x 2 columns]"
      ]
     },
     "execution_count": 27,
     "metadata": {
      "tags": []
     },
     "output_type": "execute_result"
    }
   ],
   "source": [
    "sum_art"
   ]
  },
  {
   "cell_type": "code",
   "execution_count": null,
   "metadata": {
    "colab": {
     "base_uri": "https://localhost:8080/",
     "height": 442
    },
    "colab_type": "code",
    "executionInfo": {
     "elapsed": 1617,
     "status": "ok",
     "timestamp": 1596440480857,
     "user": {
      "displayName": "Gabrielė Stravinskaitė",
      "photoUrl": "",
      "userId": "00275060314149820189"
     },
     "user_tz": -180
    },
    "id": "fTZth0vjp_O9",
    "outputId": "8bbe48f1-a0a0-42b8-e57d-e1e4b8f3e881"
   },
   "outputs": [
    {
     "data": {
      "text/html": [
       "<div>\n",
       "<style scoped>\n",
       "    .dataframe tbody tr th:only-of-type {\n",
       "        vertical-align: middle;\n",
       "    }\n",
       "\n",
       "    .dataframe tbody tr th {\n",
       "        vertical-align: top;\n",
       "    }\n",
       "\n",
       "    .dataframe thead th {\n",
       "        text-align: right;\n",
       "    }\n",
       "</style>\n",
       "<table border=\"1\" class=\"dataframe\">\n",
       "  <thead>\n",
       "    <tr style=\"text-align: right;\">\n",
       "      <th></th>\n",
       "      <th>0</th>\n",
       "    </tr>\n",
       "    <tr>\n",
       "      <th>Artists</th>\n",
       "      <th></th>\n",
       "    </tr>\n",
       "  </thead>\n",
       "  <tbody>\n",
       "    <tr>\n",
       "      <th>!!!</th>\n",
       "      <td>23</td>\n",
       "    </tr>\n",
       "    <tr>\n",
       "      <th>&amp; And Oceans</th>\n",
       "      <td>2</td>\n",
       "    </tr>\n",
       "    <tr>\n",
       "      <th>'68 Comeback</th>\n",
       "      <td>2</td>\n",
       "    </tr>\n",
       "    <tr>\n",
       "      <th>'N Sync/Phil Collins</th>\n",
       "      <td>13</td>\n",
       "    </tr>\n",
       "    <tr>\n",
       "      <th>'Til Tuesday</th>\n",
       "      <td>6</td>\n",
       "    </tr>\n",
       "    <tr>\n",
       "      <th>...</th>\n",
       "      <td>...</td>\n",
       "    </tr>\n",
       "    <tr>\n",
       "      <th>Íon</th>\n",
       "      <td>2</td>\n",
       "    </tr>\n",
       "    <tr>\n",
       "      <th>Ólafur Arnalds</th>\n",
       "      <td>7</td>\n",
       "    </tr>\n",
       "    <tr>\n",
       "      <th>Órla Fallon</th>\n",
       "      <td>1</td>\n",
       "    </tr>\n",
       "    <tr>\n",
       "      <th>Özlem Tekin</th>\n",
       "      <td>1</td>\n",
       "    </tr>\n",
       "    <tr>\n",
       "      <th>üNN</th>\n",
       "      <td>1</td>\n",
       "    </tr>\n",
       "  </tbody>\n",
       "</table>\n",
       "<p>21360 rows × 1 columns</p>\n",
       "</div>"
      ],
      "text/plain": [
       "                       0\n",
       "Artists                 \n",
       "!!!                   23\n",
       "& And Oceans           2\n",
       "'68 Comeback           2\n",
       "'N Sync/Phil Collins  13\n",
       "'Til Tuesday           6\n",
       "...                   ..\n",
       "Íon                    2\n",
       "Ólafur Arnalds         7\n",
       "Órla Fallon            1\n",
       "Özlem Tekin            1\n",
       "üNN                    1\n",
       "\n",
       "[21360 rows x 1 columns]"
      ]
     },
     "execution_count": 18,
     "metadata": {
      "tags": []
     },
     "output_type": "execute_result"
    }
   ],
   "source": [
    "pd.DataFrame(big_list, columns=[\"Artists\"]).groupby([\"Artists\"]).size().to_frame()"
   ]
  },
  {
   "cell_type": "code",
   "execution_count": null,
   "metadata": {
    "colab": {
     "base_uri": "https://localhost:8080/",
     "height": 132
    },
    "colab_type": "code",
    "executionInfo": {
     "elapsed": 900,
     "status": "ok",
     "timestamp": 1596440902016,
     "user": {
      "displayName": "Gabrielė Stravinskaitė",
      "photoUrl": "",
      "userId": "00275060314149820189"
     },
     "user_tz": -180
    },
    "id": "nW2c33dYlS9U",
    "outputId": "e11b88ca-11e7-4d17-99dc-7d196664da75"
   },
   "outputs": [
    {
     "data": {
      "application/vnd.google.colaboratory.intrinsic+json": {
       "type": "string"
      },
      "text/plain": [
       "'\\\\begin{tabular}{lrl}\\n\\\\toprule\\n{} &   Count\\\\_q &                  Artist \\\\\\\\\\nIndex                  &           &                         \\\\\\\\\\n\\\\midrule\\nKings Of Leon          &  0.004684 &           Kings Of Leon \\\\\\\\\\nColdplay               &  0.004316 &                Coldplay \\\\\\\\\\nHarmonia               &  0.003610 &                Harmonia \\\\\\\\\\nBjörk                  &  0.003534 &                   Björk \\\\\\\\\\nFlorence + The Machine &  0.003503 &  Florence + The Machine \\\\\\\\\\nOneRepublic            &  0.003328 &             OneRepublic \\\\\\\\\\nTrain                  &  0.003287 &                   Train \\\\\\\\\\nThe Killers            &  0.003108 &             The Killers \\\\\\\\\\nRadiohead              &  0.002825 &               Radiohead \\\\\\\\\\nDwight Yoakam          &  0.002760 &           Dwight Yoakam \\\\\\\\\\n\\\\bottomrule\\n\\\\end{tabular}\\n'"
      ]
     },
     "execution_count": 28,
     "metadata": {
      "tags": []
     },
     "output_type": "execute_result"
    }
   ],
   "source": [
    "sum_art.sort_values(by = \"Count_q\", ascending=False)[:10].to_latex()"
   ]
  },
  {
   "cell_type": "code",
   "execution_count": null,
   "metadata": {
    "colab": {},
    "colab_type": "code",
    "id": "Dt-S3F6AYd3-"
   },
   "outputs": [],
   "source": [
    "# getting q_j as probability\n",
    "Q_joint_art = sum_art\n",
    "Q_joint_art[\"Count_q\"] = Q_joint_art[\"Count_q\"]/np.sum(Q_joint_art[\"Count_q\"])"
   ]
  },
  {
   "cell_type": "code",
   "execution_count": null,
   "metadata": {
    "colab": {
     "base_uri": "https://localhost:8080/",
     "height": 383
    },
    "colab_type": "code",
    "executionInfo": {
     "elapsed": 963,
     "status": "ok",
     "timestamp": 1596440545990,
     "user": {
      "displayName": "Gabrielė Stravinskaitė",
      "photoUrl": "",
      "userId": "00275060314149820189"
     },
     "user_tz": -180
    },
    "id": "g6bJ_efClW05",
    "outputId": "7b9f4245-6a56-4d11-c4ca-02505b939e89"
   },
   "outputs": [
    {
     "data": {
      "text/html": [
       "<div>\n",
       "<style scoped>\n",
       "    .dataframe tbody tr th:only-of-type {\n",
       "        vertical-align: middle;\n",
       "    }\n",
       "\n",
       "    .dataframe tbody tr th {\n",
       "        vertical-align: top;\n",
       "    }\n",
       "\n",
       "    .dataframe thead th {\n",
       "        text-align: right;\n",
       "    }\n",
       "</style>\n",
       "<table border=\"1\" class=\"dataframe\">\n",
       "  <thead>\n",
       "    <tr style=\"text-align: right;\">\n",
       "      <th></th>\n",
       "      <th>Count_q</th>\n",
       "      <th>Artist</th>\n",
       "    </tr>\n",
       "    <tr>\n",
       "      <th>Index</th>\n",
       "      <th></th>\n",
       "      <th></th>\n",
       "    </tr>\n",
       "  </thead>\n",
       "  <tbody>\n",
       "    <tr>\n",
       "      <th>Kings Of Leon</th>\n",
       "      <td>0.004684</td>\n",
       "      <td>Kings Of Leon</td>\n",
       "    </tr>\n",
       "    <tr>\n",
       "      <th>Coldplay</th>\n",
       "      <td>0.004316</td>\n",
       "      <td>Coldplay</td>\n",
       "    </tr>\n",
       "    <tr>\n",
       "      <th>Harmonia</th>\n",
       "      <td>0.003610</td>\n",
       "      <td>Harmonia</td>\n",
       "    </tr>\n",
       "    <tr>\n",
       "      <th>Björk</th>\n",
       "      <td>0.003534</td>\n",
       "      <td>Björk</td>\n",
       "    </tr>\n",
       "    <tr>\n",
       "      <th>Florence + The Machine</th>\n",
       "      <td>0.003503</td>\n",
       "      <td>Florence + The Machine</td>\n",
       "    </tr>\n",
       "    <tr>\n",
       "      <th>OneRepublic</th>\n",
       "      <td>0.003328</td>\n",
       "      <td>OneRepublic</td>\n",
       "    </tr>\n",
       "    <tr>\n",
       "      <th>Train</th>\n",
       "      <td>0.003287</td>\n",
       "      <td>Train</td>\n",
       "    </tr>\n",
       "    <tr>\n",
       "      <th>The Killers</th>\n",
       "      <td>0.003108</td>\n",
       "      <td>The Killers</td>\n",
       "    </tr>\n",
       "    <tr>\n",
       "      <th>Radiohead</th>\n",
       "      <td>0.002825</td>\n",
       "      <td>Radiohead</td>\n",
       "    </tr>\n",
       "    <tr>\n",
       "      <th>Dwight Yoakam</th>\n",
       "      <td>0.002760</td>\n",
       "      <td>Dwight Yoakam</td>\n",
       "    </tr>\n",
       "  </tbody>\n",
       "</table>\n",
       "</div>"
      ],
      "text/plain": [
       "                         Count_q                  Artist\n",
       "Index                                                   \n",
       "Kings Of Leon           0.004684           Kings Of Leon\n",
       "Coldplay                0.004316                Coldplay\n",
       "Harmonia                0.003610                Harmonia\n",
       "Björk                   0.003534                   Björk\n",
       "Florence + The Machine  0.003503  Florence + The Machine\n",
       "OneRepublic             0.003328             OneRepublic\n",
       "Train                   0.003287                   Train\n",
       "The Killers             0.003108             The Killers\n",
       "Radiohead               0.002825               Radiohead\n",
       "Dwight Yoakam           0.002760           Dwight Yoakam"
      ]
     },
     "execution_count": 23,
     "metadata": {
      "tags": []
     },
     "output_type": "execute_result"
    }
   ],
   "source": [
    "Q_joint_art.sort_values(by = \"Count_q\", ascending=False)[:10]"
   ]
  },
  {
   "cell_type": "code",
   "execution_count": null,
   "metadata": {
    "colab": {},
    "colab_type": "code",
    "id": "Z00dAXMDprcn"
   },
   "outputs": [],
   "source": [
    "# Kullback-Leibner divergence function\n",
    "# Must use it since the inbuilt \"entrpy\" command normalizes q by default\n",
    "def KL(p,q):\n",
    "    c = []\n",
    "    for i, j in zip(p,q):\n",
    "        if i == 0:\n",
    "            b = 0\n",
    "        else:\n",
    "            b = i*math.log2(i/j)\n",
    "        c.append(b)\n",
    "    d = sum(c)\n",
    "    return d"
   ]
  },
  {
   "cell_type": "code",
   "execution_count": null,
   "metadata": {
    "colab": {
     "base_uri": "https://localhost:8080/",
     "height": 65,
     "referenced_widgets": [
      "32cc068fb833410aba93ce3b5fa19f25",
      "5661f52439bc40b0868eb126deeb70a4",
      "aff42467c2c64df3bbf2f83072911cca",
      "11d699e0a9d0427aa6098656c1b5fb5a",
      "2542530ef5e94dbd8c87e2ddd07d01ac",
      "75f3787cc0ce4189a46fdce2747f4144",
      "c10ab20664cc407e8ce5095c9b8d88b0",
      "6f5621b4a3da44be949e4bcdc97c76dd"
     ]
    },
    "colab_type": "code",
    "executionInfo": {
     "elapsed": 527517,
     "status": "ok",
     "timestamp": 1596447811539,
     "user": {
      "displayName": "Gabrielė Stravinskaitė",
      "photoUrl": "",
      "userId": "00275060314149820189"
     },
     "user_tz": -180
    },
    "id": "aVvJj7rJW0E8",
    "outputId": "cc59581b-ca40-4606-c9ee-e7ac9c1b0592"
   },
   "outputs": [
    {
     "data": {
      "application/vnd.jupyter.widget-view+json": {
       "model_id": "32cc068fb833410aba93ce3b5fa19f25",
       "version_major": 2,
       "version_minor": 0
      },
      "text/plain": [
       "HBox(children=(FloatProgress(value=0.0, max=10000.0), HTML(value='')))"
      ]
     },
     "metadata": {
      "tags": []
     },
     "output_type": "display_data"
    },
    {
     "name": "stdout",
     "output_type": "stream",
     "text": [
      "\n"
     ]
    }
   ],
   "source": [
    "# list users from above (Shannon entropy)\n",
    "relative = []\n",
    "for u in tqdm(users):\n",
    "  # subset the Count and SongID data for each user\n",
    "  p = toy_triplets[toy_triplets[\"UserId\"] == u]\n",
    "  # summing the counts of distinct songs by the same artist and getting p_ij\n",
    "  a = p.groupby([\"Artist\"])[\"Count\"].sum()/np.sum(p[\"Count\"])\n",
    "  # merge with Q so that the absent artists would disappear (p_ij = 0 contributes\n",
    "  # 0 to KL, hence it is equivalent to discard it a priori)\n",
    "  mid = pd.merge(left = a, right = Q_joint_art, left_on = \"Artist\", \n",
    "                 right_on = \"Artist\")\n",
    "  # KL function aggregate\n",
    "  relative.append(KL(mid[\"Count\"], mid[\"Count_q\"]))"
   ]
  },
  {
   "cell_type": "code",
   "execution_count": null,
   "metadata": {
    "colab": {},
    "colab_type": "code",
    "id": "aCaGn_30tqdh"
   },
   "outputs": [],
   "source": [
    "np.save(\"KL-artist\", relative)"
   ]
  },
  {
   "cell_type": "code",
   "execution_count": null,
   "metadata": {
    "colab": {},
    "colab_type": "code",
    "id": "AlwQSSsjumjv"
   },
   "outputs": [],
   "source": [
    "np.save(\"Q-artist\", Q_joint_art)"
   ]
  },
  {
   "cell_type": "code",
   "execution_count": null,
   "metadata": {
    "colab": {
     "base_uri": "https://localhost:8080/",
     "height": 291
    },
    "colab_type": "code",
    "executionInfo": {
     "elapsed": 974,
     "status": "ok",
     "timestamp": 1596456891504,
     "user": {
      "displayName": "Gabrielė Stravinskaitė",
      "photoUrl": "",
      "userId": "00275060314149820189"
     },
     "user_tz": -180
    },
    "id": "NPnz0Sp3Pssk",
    "outputId": "c41c24f0-7c56-4faf-f835-d37d221457a4"
   },
   "outputs": [
    {
     "data": {
      "text/html": [
       "<div>\n",
       "<style scoped>\n",
       "    .dataframe tbody tr th:only-of-type {\n",
       "        vertical-align: middle;\n",
       "    }\n",
       "\n",
       "    .dataframe tbody tr th {\n",
       "        vertical-align: top;\n",
       "    }\n",
       "\n",
       "    .dataframe thead th {\n",
       "        text-align: right;\n",
       "    }\n",
       "</style>\n",
       "<table border=\"1\" class=\"dataframe\">\n",
       "  <thead>\n",
       "    <tr style=\"text-align: right;\">\n",
       "      <th></th>\n",
       "      <th>0</th>\n",
       "    </tr>\n",
       "  </thead>\n",
       "  <tbody>\n",
       "    <tr>\n",
       "      <th>count</th>\n",
       "      <td>10000.000000</td>\n",
       "    </tr>\n",
       "    <tr>\n",
       "      <th>mean</th>\n",
       "      <td>8.395230</td>\n",
       "    </tr>\n",
       "    <tr>\n",
       "      <th>std</th>\n",
       "      <td>1.708595</td>\n",
       "    </tr>\n",
       "    <tr>\n",
       "      <th>min</th>\n",
       "      <td>2.656501</td>\n",
       "    </tr>\n",
       "    <tr>\n",
       "      <th>25%</th>\n",
       "      <td>7.236087</td>\n",
       "    </tr>\n",
       "    <tr>\n",
       "      <th>50%</th>\n",
       "      <td>8.320692</td>\n",
       "    </tr>\n",
       "    <tr>\n",
       "      <th>75%</th>\n",
       "      <td>9.448856</td>\n",
       "    </tr>\n",
       "    <tr>\n",
       "      <th>max</th>\n",
       "      <td>17.148521</td>\n",
       "    </tr>\n",
       "  </tbody>\n",
       "</table>\n",
       "</div>"
      ],
      "text/plain": [
       "                  0\n",
       "count  10000.000000\n",
       "mean       8.395230\n",
       "std        1.708595\n",
       "min        2.656501\n",
       "25%        7.236087\n",
       "50%        8.320692\n",
       "75%        9.448856\n",
       "max       17.148521"
      ]
     },
     "execution_count": 98,
     "metadata": {
      "tags": []
     },
     "output_type": "execute_result"
    }
   ],
   "source": [
    "pd.DataFrame(relative).describe()"
   ]
  },
  {
   "cell_type": "code",
   "execution_count": null,
   "metadata": {
    "colab": {
     "base_uri": "https://localhost:8080/",
     "height": 280
    },
    "colab_type": "code",
    "executionInfo": {
     "elapsed": 1274,
     "status": "ok",
     "timestamp": 1596457155725,
     "user": {
      "displayName": "Gabrielė Stravinskaitė",
      "photoUrl": "",
      "userId": "00275060314149820189"
     },
     "user_tz": -180
    },
    "id": "fH1ReoG7q1ur",
    "outputId": "9680df5f-6a3e-4959-92f1-d4048d1bea7f"
   },
   "outputs": [
    {
     "data": {
      "image/png": "[encoded data removed]",
      "text/plain": [
       "<Figure size 432x288 with 1 Axes>"
      ]
     },
     "metadata": {
      "needs_background": "light",
      "tags": []
     },
     "output_type": "display_data"
    }
   ],
   "source": [
    "plt.hist(relative, bins = 40,                \n",
    "         color = \"olivedrab\", density = False)\n",
    "plt.title(\"Histogram of the relative entropy | artists\")\n",
    "plt.savefig(\"KL_hist_art\", format = \"png\", transparent = True)"
   ]
  },
  {
   "cell_type": "code",
   "execution_count": null,
   "metadata": {
    "colab": {
     "base_uri": "https://localhost:8080/",
     "height": 294
    },
    "colab_type": "code",
    "executionInfo": {
     "elapsed": 674,
     "status": "ok",
     "timestamp": 1596524547743,
     "user": {
      "displayName": "Gabrielė Stravinskaitė",
      "photoUrl": "",
      "userId": "00275060314149820189"
     },
     "user_tz": -180
    },
    "id": "Pa7fMFhYRyVv",
    "outputId": "5fcff7a9-20f2-45b4-aed3-bdc0e0cca205"
   },
   "outputs": [
    {
     "data": {
      "image/png": "[encoded data removed]",
      "text/plain": [
       "<Figure size 432x288 with 1 Axes>"
      ]
     },
     "metadata": {
      "needs_background": "light",
      "tags": []
     },
     "output_type": "display_data"
    }
   ],
   "source": [
    "fig = sm.qqplot(np.array(relative), fit=True, line='45', color = \"olivedrab\")\n",
    "plt.title(\"Q-Q plot for the relative entropy\")\n",
    "#plt.savefig(\"QQ\", format = \"png\", transparent = True)\n",
    "plt.show()"
   ]
  },
  {
   "cell_type": "markdown",
   "metadata": {
    "colab_type": "text",
    "id": "L-TKJiApp1Jn"
   },
   "source": [
    "# Gini index"
   ]
  },
  {
   "cell_type": "code",
   "execution_count": null,
   "metadata": {
    "colab": {},
    "colab_type": "code",
    "id": "666VzjfSptYR"
   },
   "outputs": [],
   "source": [
    "# Gini function\n",
    "def gini(p):\n",
    "    c = []\n",
    "    for i in p:\n",
    "        b = i**2\n",
    "        c.append(b)\n",
    "    d = 1 - sum(c)    \n",
    "    return d"
   ]
  },
  {
   "cell_type": "code",
   "execution_count": null,
   "metadata": {
    "colab": {
     "base_uri": "https://localhost:8080/",
     "height": 65,
     "referenced_widgets": [
      "e33a8ae3e5774199af3dd3921753a0c3",
      "35d29384b34a41538bf3fd298690dcd1",
      "89307956876245b0b71fbf735670f9f1",
      "87c1db3938624e569f2415c1bbd39168",
      "b4d3ce89ded14008a5b26034cd95a74f",
      "086704dfcbd44cb89083b572bc5144d4",
      "777e5f6823714e15a53c57aadaf93d34",
      "3275dc44732e4ead980db7f29fd7f9f6"
     ]
    },
    "colab_type": "code",
    "executionInfo": {
     "elapsed": 661143,
     "status": "ok",
     "timestamp": 1596449254273,
     "user": {
      "displayName": "Gabrielė Stravinskaitė",
      "photoUrl": "",
      "userId": "00275060314149820189"
     },
     "user_tz": -180
    },
    "id": "vqw76yGxkbGS",
    "outputId": "87948ed9-fb0d-48e2-cb19-d9bd56f01cb4"
   },
   "outputs": [
    {
     "data": {
      "application/vnd.jupyter.widget-view+json": {
       "model_id": "e33a8ae3e5774199af3dd3921753a0c3",
       "version_major": 2,
       "version_minor": 0
      },
      "text/plain": [
       "HBox(children=(FloatProgress(value=0.0, max=10000.0), HTML(value='')))"
      ]
     },
     "metadata": {
      "tags": []
     },
     "output_type": "display_data"
    },
    {
     "name": "stdout",
     "output_type": "stream",
     "text": [
      "\n"
     ]
    }
   ],
   "source": [
    "# calculating the Gini index  for each user separatelly and stacking\n",
    "# everything into the list \"shannon\"\n",
    "gini_index = []\n",
    "for i in tqdm(users):\n",
    "  un_art = toy_triplets[toy_triplets[\"UserId\"]==i].groupby([\"Artist\"])[\"Count\"].sum()\n",
    "  p = un_art/np.sum(toy_triplets[\"Count\"][toy_triplets[\"UserId\"]==i])\n",
    "  a = gini(p)\n",
    "  gini_index.append(a)"
   ]
  },
  {
   "cell_type": "code",
   "execution_count": null,
   "metadata": {
    "colab": {},
    "colab_type": "code",
    "id": "vf0tN0Fi-g-Y"
   },
   "outputs": [],
   "source": [
    "np.save(\"gini-artist\", gini_index)"
   ]
  },
  {
   "cell_type": "code",
   "execution_count": null,
   "metadata": {
    "colab": {
     "base_uri": "https://localhost:8080/",
     "height": 291
    },
    "colab_type": "code",
    "executionInfo": {
     "elapsed": 1090,
     "status": "ok",
     "timestamp": 1596456914779,
     "user": {
      "displayName": "Gabrielė Stravinskaitė",
      "photoUrl": "",
      "userId": "00275060314149820189"
     },
     "user_tz": -180
    },
    "id": "SO9kialJPx87",
    "outputId": "0d62c38b-2886-44b8-b7a8-5a15834c14c9"
   },
   "outputs": [
    {
     "data": {
      "text/html": [
       "<div>\n",
       "<style scoped>\n",
       "    .dataframe tbody tr th:only-of-type {\n",
       "        vertical-align: middle;\n",
       "    }\n",
       "\n",
       "    .dataframe tbody tr th {\n",
       "        vertical-align: top;\n",
       "    }\n",
       "\n",
       "    .dataframe thead th {\n",
       "        text-align: right;\n",
       "    }\n",
       "</style>\n",
       "<table border=\"1\" class=\"dataframe\">\n",
       "  <thead>\n",
       "    <tr style=\"text-align: right;\">\n",
       "      <th></th>\n",
       "      <th>0</th>\n",
       "    </tr>\n",
       "  </thead>\n",
       "  <tbody>\n",
       "    <tr>\n",
       "      <th>count</th>\n",
       "      <td>10000.000000</td>\n",
       "    </tr>\n",
       "    <tr>\n",
       "      <th>mean</th>\n",
       "      <td>0.853818</td>\n",
       "    </tr>\n",
       "    <tr>\n",
       "      <th>std</th>\n",
       "      <td>0.137624</td>\n",
       "    </tr>\n",
       "    <tr>\n",
       "      <th>min</th>\n",
       "      <td>0.000000</td>\n",
       "    </tr>\n",
       "    <tr>\n",
       "      <th>25%</th>\n",
       "      <td>0.826623</td>\n",
       "    </tr>\n",
       "    <tr>\n",
       "      <th>50%</th>\n",
       "      <td>0.892800</td>\n",
       "    </tr>\n",
       "    <tr>\n",
       "      <th>75%</th>\n",
       "      <td>0.934140</td>\n",
       "    </tr>\n",
       "    <tr>\n",
       "      <th>max</th>\n",
       "      <td>0.993263</td>\n",
       "    </tr>\n",
       "  </tbody>\n",
       "</table>\n",
       "</div>"
      ],
      "text/plain": [
       "                  0\n",
       "count  10000.000000\n",
       "mean       0.853818\n",
       "std        0.137624\n",
       "min        0.000000\n",
       "25%        0.826623\n",
       "50%        0.892800\n",
       "75%        0.934140\n",
       "max        0.993263"
      ]
     },
     "execution_count": 99,
     "metadata": {
      "tags": []
     },
     "output_type": "execute_result"
    }
   ],
   "source": [
    "pd.DataFrame(gini_index).describe()"
   ]
  },
  {
   "cell_type": "code",
   "execution_count": null,
   "metadata": {
    "colab": {
     "base_uri": "https://localhost:8080/",
     "height": 280
    },
    "colab_type": "code",
    "executionInfo": {
     "elapsed": 1090,
     "status": "ok",
     "timestamp": 1596457107913,
     "user": {
      "displayName": "Gabrielė Stravinskaitė",
      "photoUrl": "",
      "userId": "00275060314149820189"
     },
     "user_tz": -180
    },
    "id": "rWkD3-0xvlRo",
    "outputId": "e8d9b490-71b8-492f-d884-dbc1de82d1d6"
   },
   "outputs": [
    {
     "data": {
      "image/png": "[encoded data removed]",
      "text/plain": [
       "<Figure size 432x288 with 1 Axes>"
      ]
     },
     "metadata": {
      "needs_background": "light",
      "tags": []
     },
     "output_type": "display_data"
    }
   ],
   "source": [
    "plt.hist(gini_index, bins=40,\n",
    "                          color = \"olivedrab\", density = False)\n",
    "plt.title(\"Histogram of the Gini index | artists\")\n",
    "plt.savefig(\"gini_hist_art\", format = \"png\", transparent = True)"
   ]
  },
  {
   "cell_type": "code",
   "execution_count": null,
   "metadata": {
    "colab": {
     "base_uri": "https://localhost:8080/",
     "height": 65
    },
    "colab_type": "code",
    "executionInfo": {
     "elapsed": 1490,
     "status": "ok",
     "timestamp": 1596449742048,
     "user": {
      "displayName": "Gabrielė Stravinskaitė",
      "photoUrl": "",
      "userId": "00275060314149820189"
     },
     "user_tz": -180
    },
    "id": "HitWbA1qv6AP",
    "outputId": "a087cfd0-f221-4b48-f322-b4331c9a029e"
   },
   "outputs": [
    {
     "data": {
      "text/plain": [
       "(array([ 163,  604,  835,  936, 1200, 1691, 1764, 2013, 2732, 2818, 3368,\n",
       "        4603, 4934, 5803, 6076, 6359, 6417, 6425, 6763, 7323, 7455, 7458,\n",
       "        8144, 8206, 8316, 8487, 8711, 9081, 9221, 9279, 9590, 9735, 9804]),)"
      ]
     },
     "execution_count": 85,
     "metadata": {
      "tags": []
     },
     "output_type": "execute_result"
    }
   ],
   "source": [
    "np.where(np.array(gini_index)==0)"
   ]
  },
  {
   "cell_type": "code",
   "execution_count": null,
   "metadata": {
    "colab": {
     "base_uri": "https://localhost:8080/",
     "height": 842
    },
    "colab_type": "code",
    "executionInfo": {
     "elapsed": 915,
     "status": "ok",
     "timestamp": 1596449763616,
     "user": {
      "displayName": "Gabrielė Stravinskaitė",
      "photoUrl": "",
      "userId": "00275060314149820189"
     },
     "user_tz": -180
    },
    "id": "YrjktPHa0eUH",
    "outputId": "15b50600-73e2-4466-e58b-967887d4d782"
   },
   "outputs": [
    {
     "data": {
      "text/html": [
       "<div>\n",
       "<style scoped>\n",
       "    .dataframe tbody tr th:only-of-type {\n",
       "        vertical-align: middle;\n",
       "    }\n",
       "\n",
       "    .dataframe tbody tr th {\n",
       "        vertical-align: top;\n",
       "    }\n",
       "\n",
       "    .dataframe thead th {\n",
       "        text-align: right;\n",
       "    }\n",
       "</style>\n",
       "<table border=\"1\" class=\"dataframe\">\n",
       "  <thead>\n",
       "    <tr style=\"text-align: right;\">\n",
       "      <th></th>\n",
       "      <th>UserId</th>\n",
       "      <th>SongId</th>\n",
       "      <th>Count</th>\n",
       "      <th>TrackId</th>\n",
       "      <th>Artist</th>\n",
       "      <th>Song</th>\n",
       "    </tr>\n",
       "  </thead>\n",
       "  <tbody>\n",
       "    <tr>\n",
       "      <th>7393</th>\n",
       "      <td>05a3451ef5981887272bb259fe1662697d5297f0</td>\n",
       "      <td>SOMEAMC12A8C13C53A</td>\n",
       "      <td>1</td>\n",
       "      <td>TRNMAED128F426AA9A</td>\n",
       "      <td>Meshuggah</td>\n",
       "      <td>Autonomy Lost</td>\n",
       "    </tr>\n",
       "    <tr>\n",
       "      <th>7394</th>\n",
       "      <td>05a3451ef5981887272bb259fe1662697d5297f0</td>\n",
       "      <td>SODLBBW12A6D4F932B</td>\n",
       "      <td>1</td>\n",
       "      <td>TRUYVPM128F14A14F2</td>\n",
       "      <td>Meshuggah</td>\n",
       "      <td>Corridor of chameleons</td>\n",
       "    </tr>\n",
       "    <tr>\n",
       "      <th>7395</th>\n",
       "      <td>05a3451ef5981887272bb259fe1662697d5297f0</td>\n",
       "      <td>SOAFOYS12A58A7DB75</td>\n",
       "      <td>1</td>\n",
       "      <td>TRODNKM128F42B3705</td>\n",
       "      <td>Meshuggah</td>\n",
       "      <td>Elastic</td>\n",
       "    </tr>\n",
       "    <tr>\n",
       "      <th>7396</th>\n",
       "      <td>05a3451ef5981887272bb259fe1662697d5297f0</td>\n",
       "      <td>SOEKLPS12A81C23246</td>\n",
       "      <td>1</td>\n",
       "      <td>TRTPRBC128F424C416</td>\n",
       "      <td>Meshuggah</td>\n",
       "      <td>Internal evidence</td>\n",
       "    </tr>\n",
       "    <tr>\n",
       "      <th>7397</th>\n",
       "      <td>05a3451ef5981887272bb259fe1662697d5297f0</td>\n",
       "      <td>SOFTDAG12A8C139A3F</td>\n",
       "      <td>1</td>\n",
       "      <td>TRNYPCA128F4292F89</td>\n",
       "      <td>Meshuggah</td>\n",
       "      <td>Personate Non Gratae</td>\n",
       "    </tr>\n",
       "    <tr>\n",
       "      <th>7398</th>\n",
       "      <td>05a3451ef5981887272bb259fe1662697d5297f0</td>\n",
       "      <td>SOVRRLT12A8C139BC5</td>\n",
       "      <td>1</td>\n",
       "      <td>TRBSUTH128F426AAA5</td>\n",
       "      <td>Meshuggah</td>\n",
       "      <td>Entrapment</td>\n",
       "    </tr>\n",
       "    <tr>\n",
       "      <th>7399</th>\n",
       "      <td>05a3451ef5981887272bb259fe1662697d5297f0</td>\n",
       "      <td>SOVYOXT12A8C13C57A</td>\n",
       "      <td>1</td>\n",
       "      <td>TRFIYGT128F426AAAA</td>\n",
       "      <td>Meshuggah</td>\n",
       "      <td>In Death - Is Life</td>\n",
       "    </tr>\n",
       "    <tr>\n",
       "      <th>7400</th>\n",
       "      <td>05a3451ef5981887272bb259fe1662697d5297f0</td>\n",
       "      <td>SOYANUT12A81C2321C</td>\n",
       "      <td>1</td>\n",
       "      <td>TRZIDTV128F424C3F5</td>\n",
       "      <td>Meshuggah</td>\n",
       "      <td>Cadaverous mastication</td>\n",
       "    </tr>\n",
       "    <tr>\n",
       "      <th>7401</th>\n",
       "      <td>05a3451ef5981887272bb259fe1662697d5297f0</td>\n",
       "      <td>SOOFKQE12A8C13299A</td>\n",
       "      <td>1</td>\n",
       "      <td>TRLSHUM128F4291492</td>\n",
       "      <td>Meshuggah</td>\n",
       "      <td>Abnegating cecity</td>\n",
       "    </tr>\n",
       "    <tr>\n",
       "      <th>7402</th>\n",
       "      <td>05a3451ef5981887272bb259fe1662697d5297f0</td>\n",
       "      <td>SOXBEJI12A6D4F932E</td>\n",
       "      <td>1</td>\n",
       "      <td>TREXTIY128F427FBA2</td>\n",
       "      <td>Meshuggah</td>\n",
       "      <td>Sane</td>\n",
       "    </tr>\n",
       "    <tr>\n",
       "      <th>7403</th>\n",
       "      <td>05a3451ef5981887272bb259fe1662697d5297f0</td>\n",
       "      <td>SOHOYYL12A8C139A4B</td>\n",
       "      <td>1</td>\n",
       "      <td>TRFZPOM128F426AABD</td>\n",
       "      <td>Meshuggah</td>\n",
       "      <td>Sum</td>\n",
       "    </tr>\n",
       "    <tr>\n",
       "      <th>7404</th>\n",
       "      <td>05a3451ef5981887272bb259fe1662697d5297f0</td>\n",
       "      <td>SOKAIFL12A6D4F932D</td>\n",
       "      <td>1</td>\n",
       "      <td>TRTMBJX128F427FBA1</td>\n",
       "      <td>Meshuggah</td>\n",
       "      <td>The mouth licking what you've bled</td>\n",
       "    </tr>\n",
       "    <tr>\n",
       "      <th>7405</th>\n",
       "      <td>05a3451ef5981887272bb259fe1662697d5297f0</td>\n",
       "      <td>SOORQCN12A8C13C570</td>\n",
       "      <td>1</td>\n",
       "      <td>TRSQUOG128F426AAA7</td>\n",
       "      <td>Meshuggah</td>\n",
       "      <td>Mind's Mirrors</td>\n",
       "    </tr>\n",
       "    <tr>\n",
       "      <th>7406</th>\n",
       "      <td>05a3451ef5981887272bb259fe1662697d5297f0</td>\n",
       "      <td>SOVCXRG12A6D4FB0ED</td>\n",
       "      <td>1</td>\n",
       "      <td>TRSFGBN128F426AAB6</td>\n",
       "      <td>Meshuggah</td>\n",
       "      <td>Shed</td>\n",
       "    </tr>\n",
       "    <tr>\n",
       "      <th>7407</th>\n",
       "      <td>05a3451ef5981887272bb259fe1662697d5297f0</td>\n",
       "      <td>SOVOCMB12A8C13C550</td>\n",
       "      <td>1</td>\n",
       "      <td>TRZTHAK128F426AA9F</td>\n",
       "      <td>Meshuggah</td>\n",
       "      <td>The Paradoxical Spiral</td>\n",
       "    </tr>\n",
       "    <tr>\n",
       "      <th>7408</th>\n",
       "      <td>05a3451ef5981887272bb259fe1662697d5297f0</td>\n",
       "      <td>SOXMPFH12A8C139A40</td>\n",
       "      <td>1</td>\n",
       "      <td>TRZUPLK128F426AABA</td>\n",
       "      <td>Meshuggah</td>\n",
       "      <td>Dehumanization</td>\n",
       "    </tr>\n",
       "    <tr>\n",
       "      <th>7409</th>\n",
       "      <td>05a3451ef5981887272bb259fe1662697d5297f0</td>\n",
       "      <td>SOVRAHW12A8C13C54C</td>\n",
       "      <td>1</td>\n",
       "      <td>TRVKZWR128F426AA9E</td>\n",
       "      <td>Meshuggah</td>\n",
       "      <td>Disenchantment</td>\n",
       "    </tr>\n",
       "    <tr>\n",
       "      <th>7410</th>\n",
       "      <td>05a3451ef5981887272bb259fe1662697d5297f0</td>\n",
       "      <td>SONIVNI12AF72A44A4</td>\n",
       "      <td>1</td>\n",
       "      <td>TRJVCHB128F4292F5E</td>\n",
       "      <td>Meshuggah</td>\n",
       "      <td>In Death - Is Death</td>\n",
       "    </tr>\n",
       "    <tr>\n",
       "      <th>7411</th>\n",
       "      <td>05a3451ef5981887272bb259fe1662697d5297f0</td>\n",
       "      <td>SOLQVZR12AF72A8518</td>\n",
       "      <td>1</td>\n",
       "      <td>TRPJRIT128F426AAA3</td>\n",
       "      <td>Meshuggah</td>\n",
       "      <td>Re-inanimate</td>\n",
       "    </tr>\n",
       "    <tr>\n",
       "      <th>7412</th>\n",
       "      <td>05a3451ef5981887272bb259fe1662697d5297f0</td>\n",
       "      <td>SOHOPJI12A6D4F932C</td>\n",
       "      <td>1</td>\n",
       "      <td>TRGSRSH128F14A14F3</td>\n",
       "      <td>Meshuggah</td>\n",
       "      <td>Neurotica</td>\n",
       "    </tr>\n",
       "    <tr>\n",
       "      <th>7413</th>\n",
       "      <td>05a3451ef5981887272bb259fe1662697d5297f0</td>\n",
       "      <td>SOOSQTJ12A58A7ABEF</td>\n",
       "      <td>1</td>\n",
       "      <td>TRXRJIC128F4257AAE</td>\n",
       "      <td>Meshuggah</td>\n",
       "      <td>Erroneous Manipulation</td>\n",
       "    </tr>\n",
       "    <tr>\n",
       "      <th>7414</th>\n",
       "      <td>05a3451ef5981887272bb259fe1662697d5297f0</td>\n",
       "      <td>SOBLHSK12A6D4F92C0</td>\n",
       "      <td>1</td>\n",
       "      <td>TRMHPRD128F4257AB3</td>\n",
       "      <td>Meshuggah</td>\n",
       "      <td>Greed</td>\n",
       "    </tr>\n",
       "    <tr>\n",
       "      <th>7415</th>\n",
       "      <td>05a3451ef5981887272bb259fe1662697d5297f0</td>\n",
       "      <td>SOKMPDA12A6D4F932F</td>\n",
       "      <td>1</td>\n",
       "      <td>TRIUYFR128F425369B</td>\n",
       "      <td>Meshuggah</td>\n",
       "      <td>The exquisite machinery of torture</td>\n",
       "    </tr>\n",
       "    <tr>\n",
       "      <th>7416</th>\n",
       "      <td>05a3451ef5981887272bb259fe1662697d5297f0</td>\n",
       "      <td>SOQNQYP12A81C2324B</td>\n",
       "      <td>1</td>\n",
       "      <td>TRNZXUL128F424C41B</td>\n",
       "      <td>Meshuggah</td>\n",
       "      <td>Concatenation</td>\n",
       "    </tr>\n",
       "    <tr>\n",
       "      <th>7417</th>\n",
       "      <td>05a3451ef5981887272bb259fe1662697d5297f0</td>\n",
       "      <td>SOPJBVY12A8C138712</td>\n",
       "      <td>1</td>\n",
       "      <td>TRYGQIO128F4257AAD</td>\n",
       "      <td>Meshuggah</td>\n",
       "      <td>Paralyzing Ignorance</td>\n",
       "    </tr>\n",
       "  </tbody>\n",
       "</table>\n",
       "</div>"
      ],
      "text/plain": [
       "                                        UserId  ...                                Song\n",
       "7393  05a3451ef5981887272bb259fe1662697d5297f0  ...                       Autonomy Lost\n",
       "7394  05a3451ef5981887272bb259fe1662697d5297f0  ...              Corridor of chameleons\n",
       "7395  05a3451ef5981887272bb259fe1662697d5297f0  ...                             Elastic\n",
       "7396  05a3451ef5981887272bb259fe1662697d5297f0  ...                   Internal evidence\n",
       "7397  05a3451ef5981887272bb259fe1662697d5297f0  ...                Personate Non Gratae\n",
       "7398  05a3451ef5981887272bb259fe1662697d5297f0  ...                          Entrapment\n",
       "7399  05a3451ef5981887272bb259fe1662697d5297f0  ...                  In Death - Is Life\n",
       "7400  05a3451ef5981887272bb259fe1662697d5297f0  ...              Cadaverous mastication\n",
       "7401  05a3451ef5981887272bb259fe1662697d5297f0  ...                   Abnegating cecity\n",
       "7402  05a3451ef5981887272bb259fe1662697d5297f0  ...                                Sane\n",
       "7403  05a3451ef5981887272bb259fe1662697d5297f0  ...                                 Sum\n",
       "7404  05a3451ef5981887272bb259fe1662697d5297f0  ...  The mouth licking what you've bled\n",
       "7405  05a3451ef5981887272bb259fe1662697d5297f0  ...                      Mind's Mirrors\n",
       "7406  05a3451ef5981887272bb259fe1662697d5297f0  ...                                Shed\n",
       "7407  05a3451ef5981887272bb259fe1662697d5297f0  ...              The Paradoxical Spiral\n",
       "7408  05a3451ef5981887272bb259fe1662697d5297f0  ...                      Dehumanization\n",
       "7409  05a3451ef5981887272bb259fe1662697d5297f0  ...                      Disenchantment\n",
       "7410  05a3451ef5981887272bb259fe1662697d5297f0  ...                 In Death - Is Death\n",
       "7411  05a3451ef5981887272bb259fe1662697d5297f0  ...                        Re-inanimate\n",
       "7412  05a3451ef5981887272bb259fe1662697d5297f0  ...                           Neurotica\n",
       "7413  05a3451ef5981887272bb259fe1662697d5297f0  ...              Erroneous Manipulation\n",
       "7414  05a3451ef5981887272bb259fe1662697d5297f0  ...                               Greed\n",
       "7415  05a3451ef5981887272bb259fe1662697d5297f0  ...  The exquisite machinery of torture\n",
       "7416  05a3451ef5981887272bb259fe1662697d5297f0  ...                       Concatenation\n",
       "7417  05a3451ef5981887272bb259fe1662697d5297f0  ...                Paralyzing Ignorance\n",
       "\n",
       "[25 rows x 6 columns]"
      ]
     },
     "execution_count": 86,
     "metadata": {
      "tags": []
     },
     "output_type": "execute_result"
    }
   ],
   "source": [
    "toy_triplets[toy_triplets[\"UserId\"]==users[163]]"
   ]
  },
  {
   "cell_type": "markdown",
   "metadata": {
    "colab_type": "text",
    "id": "OjapegXTp84L"
   },
   "source": [
    "# Hill number"
   ]
  },
  {
   "cell_type": "code",
   "execution_count": null,
   "metadata": {
    "colab": {},
    "colab_type": "code",
    "id": "4RAKWfgBp-30"
   },
   "outputs": [],
   "source": [
    "# Hill number function\n",
    "def hill(p,q):\n",
    "    c =[]\n",
    "    for i in p:\n",
    "        b = i**q\n",
    "        c.append(b)\n",
    "    d = sum(c)**(1/(1-q))   \n",
    "    return d"
   ]
  },
  {
   "cell_type": "code",
   "execution_count": null,
   "metadata": {
    "colab": {
     "base_uri": "https://localhost:8080/",
     "height": 65,
     "referenced_widgets": [
      "63fa5cb932bf4246b4ae52d62e216daa",
      "31dad4364cc24a249d77b4ded283b1e6",
      "afa6cbd53d7941ac9daddfa50c040f35",
      "af5bf8642e3b45c3875b70ee819cf81d",
      "8cf73d643a1d47a4a5e76e264181de5a",
      "4c0dbe74b8424c5e8aa8c528fd1eee24",
      "ded7bfea28b84d71a17d86a17b4fcff7",
      "46a430260eca46ca83df8700cb4d7e6c"
     ]
    },
    "colab_type": "code",
    "executionInfo": {
     "elapsed": 668552,
     "status": "ok",
     "timestamp": 1596450490362,
     "user": {
      "displayName": "Gabrielė Stravinskaitė",
      "photoUrl": "",
      "userId": "00275060314149820189"
     },
     "user_tz": -180
    },
    "id": "ZBOnpzJYp5aD",
    "outputId": "045b4cf2-d7ee-4f51-8199-f63ce178e3ca"
   },
   "outputs": [
    {
     "data": {
      "application/vnd.jupyter.widget-view+json": {
       "model_id": "63fa5cb932bf4246b4ae52d62e216daa",
       "version_major": 2,
       "version_minor": 0
      },
      "text/plain": [
       "HBox(children=(FloatProgress(value=0.0, max=10000.0), HTML(value='')))"
      ]
     },
     "metadata": {
      "tags": []
     },
     "output_type": "display_data"
    },
    {
     "name": "stdout",
     "output_type": "stream",
     "text": [
      "\n"
     ]
    }
   ],
   "source": [
    "# calculating the Hill number for each user separatelly and stacking\n",
    "# everything into the list \"hill_no\"\n",
    "hill_no= []\n",
    "for i in tqdm(users):\n",
    "  un_art = toy_triplets[toy_triplets[\"UserId\"]==i].groupby([\"Artist\"])[\"Count\"].sum()\n",
    "  p = un_art/np.sum(toy_triplets[\"Count\"][toy_triplets[\"UserId\"]==i])\n",
    "  a = hill(p, 3)\n",
    "  hill_no.append(a)"
   ]
  },
  {
   "cell_type": "code",
   "execution_count": null,
   "metadata": {
    "colab": {},
    "colab_type": "code",
    "id": "NRXeajqW-F1h"
   },
   "outputs": [],
   "source": [
    "np.save(\"hill-artist\", hill_no)"
   ]
  },
  {
   "cell_type": "code",
   "execution_count": null,
   "metadata": {
    "colab": {
     "base_uri": "https://localhost:8080/",
     "height": 280
    },
    "colab_type": "code",
    "executionInfo": {
     "elapsed": 1220,
     "status": "ok",
     "timestamp": 1596457143693,
     "user": {
      "displayName": "Gabrielė Stravinskaitė",
      "photoUrl": "",
      "userId": "00275060314149820189"
     },
     "user_tz": -180
    },
    "id": "5PJYpD9k-A9Y",
    "outputId": "f4efb209-d559-43cf-9726-664283ceffac"
   },
   "outputs": [
    {
     "data": {
      "image/png": "[encoded data removed]",
      "text/plain": [
       "<Figure size 432x288 with 1 Axes>"
      ]
     },
     "metadata": {
      "needs_background": "light",
      "tags": []
     },
     "output_type": "display_data"
    }
   ],
   "source": [
    "plt.hist(hill_no, bins=40,                 \n",
    "         color = \"olivedrab\", density = False)\n",
    "plt.title(\"Histogram of the Hill number (q=3) | artists\")\n",
    "plt.savefig(\"Hill_hist_art\", format = \"png\", transparent = True)"
   ]
  },
  {
   "cell_type": "code",
   "execution_count": null,
   "metadata": {
    "colab": {
     "base_uri": "https://localhost:8080/",
     "height": 291
    },
    "colab_type": "code",
    "executionInfo": {
     "elapsed": 859,
     "status": "ok",
     "timestamp": 1596456934584,
     "user": {
      "displayName": "Gabrielė Stravinskaitė",
      "photoUrl": "",
      "userId": "00275060314149820189"
     },
     "user_tz": -180
    },
    "id": "UZTDRXx8P3Qv",
    "outputId": "14f7b0cb-e51f-4fd4-d922-9d3fbaaa4e55"
   },
   "outputs": [
    {
     "data": {
      "text/html": [
       "<div>\n",
       "<style scoped>\n",
       "    .dataframe tbody tr th:only-of-type {\n",
       "        vertical-align: middle;\n",
       "    }\n",
       "\n",
       "    .dataframe tbody tr th {\n",
       "        vertical-align: top;\n",
       "    }\n",
       "\n",
       "    .dataframe thead th {\n",
       "        text-align: right;\n",
       "    }\n",
       "</style>\n",
       "<table border=\"1\" class=\"dataframe\">\n",
       "  <thead>\n",
       "    <tr style=\"text-align: right;\">\n",
       "      <th></th>\n",
       "      <th>0</th>\n",
       "    </tr>\n",
       "  </thead>\n",
       "  <tbody>\n",
       "    <tr>\n",
       "      <th>count</th>\n",
       "      <td>10000.000000</td>\n",
       "    </tr>\n",
       "    <tr>\n",
       "      <th>mean</th>\n",
       "      <td>10.248795</td>\n",
       "    </tr>\n",
       "    <tr>\n",
       "      <th>std</th>\n",
       "      <td>8.724092</td>\n",
       "    </tr>\n",
       "    <tr>\n",
       "      <th>min</th>\n",
       "      <td>1.000000</td>\n",
       "    </tr>\n",
       "    <tr>\n",
       "      <th>25%</th>\n",
       "      <td>4.822216</td>\n",
       "    </tr>\n",
       "    <tr>\n",
       "      <th>50%</th>\n",
       "      <td>7.902655</td>\n",
       "    </tr>\n",
       "    <tr>\n",
       "      <th>75%</th>\n",
       "      <td>12.534342</td>\n",
       "    </tr>\n",
       "    <tr>\n",
       "      <th>max</th>\n",
       "      <td>118.131390</td>\n",
       "    </tr>\n",
       "  </tbody>\n",
       "</table>\n",
       "</div>"
      ],
      "text/plain": [
       "                  0\n",
       "count  10000.000000\n",
       "mean      10.248795\n",
       "std        8.724092\n",
       "min        1.000000\n",
       "25%        4.822216\n",
       "50%        7.902655\n",
       "75%       12.534342\n",
       "max      118.131390"
      ]
     },
     "execution_count": 100,
     "metadata": {
      "tags": []
     },
     "output_type": "execute_result"
    }
   ],
   "source": [
    "pd.DataFrame(hill_no).describe()"
   ]
  },
  {
   "cell_type": "markdown",
   "metadata": {
    "colab_type": "text",
    "id": "hSIQagR2c7NX"
   },
   "source": [
    "# Total user activity\n"
   ]
  },
  {
   "cell_type": "code",
   "execution_count": null,
   "metadata": {
    "colab": {
     "base_uri": "https://localhost:8080/",
     "height": 314
    },
    "colab_type": "code",
    "executionInfo": {
     "elapsed": 66863,
     "status": "ok",
     "timestamp": 1596530435461,
     "user": {
      "displayName": "Gabrielė Stravinskaitė",
      "photoUrl": "",
      "userId": "00275060314149820189"
     },
     "user_tz": -180
    },
    "id": "P-WdWHLmc6rV",
    "outputId": "37c1f6c9-b754-4003-f055-b73443eae18f"
   },
   "outputs": [
    {
     "name": "stderr",
     "output_type": "stream",
     "text": [
      "/usr/local/lib/python3.6/dist-packages/ipykernel_launcher.py:24: MatplotlibDeprecationWarning: Using a string of single character colors as a color sequence is deprecated. Use an explicit list instead.\n"
     ]
    },
    {
     "data": {
      "image/png": "[encoded data removed]",
      "text/plain": [
       "<Figure size 432x288 with 1 Axes>"
      ]
     },
     "metadata": {
      "needs_background": "light",
      "tags": []
     },
     "output_type": "display_data"
    }
   ],
   "source": [
    "plot(shannon, total_playcount, \"Total User Activity\", \"Shannon entropy\", \"art_shannon_playcount\")"
   ]
  },
  {
   "cell_type": "code",
   "execution_count": null,
   "metadata": {
    "colab": {
     "base_uri": "https://localhost:8080/",
     "height": 314
    },
    "colab_type": "code",
    "executionInfo": {
     "elapsed": 67393,
     "status": "ok",
     "timestamp": 1596527763325,
     "user": {
      "displayName": "Gabrielė Stravinskaitė",
      "photoUrl": "",
      "userId": "00275060314149820189"
     },
     "user_tz": -180
    },
    "id": "-uJnzyebddLZ",
    "outputId": "92d7a42c-bdc4-4768-af2f-03e48e8e154f"
   },
   "outputs": [
    {
     "name": "stderr",
     "output_type": "stream",
     "text": [
      "/usr/local/lib/python3.6/dist-packages/ipykernel_launcher.py:24: MatplotlibDeprecationWarning: Using a string of single character colors as a color sequence is deprecated. Use an explicit list instead.\n"
     ]
    },
    {
     "data": {
      "image/png": "[encoded data removed]",
      "text/plain": [
       "<Figure size 432x288 with 1 Axes>"
      ]
     },
     "metadata": {
      "needs_background": "light",
      "tags": []
     },
     "output_type": "display_data"
    }
   ],
   "source": [
    "plot(relative, total_playcount, \"Total User Activity\", \"Relative entropy\", \"art_relative_playcount\")"
   ]
  },
  {
   "cell_type": "code",
   "execution_count": null,
   "metadata": {
    "colab": {
     "base_uri": "https://localhost:8080/",
     "height": 314
    },
    "colab_type": "code",
    "executionInfo": {
     "elapsed": 66971,
     "status": "ok",
     "timestamp": 1596527847397,
     "user": {
      "displayName": "Gabrielė Stravinskaitė",
      "photoUrl": "",
      "userId": "00275060314149820189"
     },
     "user_tz": -180
    },
    "id": "1r6b07c6d80S",
    "outputId": "4a478efc-da44-4e6d-9e05-5106e78d88ea"
   },
   "outputs": [
    {
     "name": "stderr",
     "output_type": "stream",
     "text": [
      "/usr/local/lib/python3.6/dist-packages/ipykernel_launcher.py:24: MatplotlibDeprecationWarning: Using a string of single character colors as a color sequence is deprecated. Use an explicit list instead.\n"
     ]
    },
    {
     "data": {
      "image/png": "[encoded data removed]",
      "text/plain": [
       "<Figure size 432x288 with 1 Axes>"
      ]
     },
     "metadata": {
      "needs_background": "light",
      "tags": []
     },
     "output_type": "display_data"
    }
   ],
   "source": [
    "plot(gini_index, total_playcount, \"Total User Activity\", \"Gini index\", \"art_gini_playcount\")"
   ]
  },
  {
   "cell_type": "code",
   "execution_count": null,
   "metadata": {
    "colab": {
     "base_uri": "https://localhost:8080/",
     "height": 330
    },
    "colab_type": "code",
    "executionInfo": {
     "elapsed": 3624,
     "status": "ok",
     "timestamp": 1596531108228,
     "user": {
      "displayName": "Gabrielė Stravinskaitė",
      "photoUrl": "",
      "userId": "00275060314149820189"
     },
     "user_tz": -180
    },
    "id": "4MA9R9VieB1Q",
    "outputId": "d0ad07cf-7de1-4690-aa23-754f4b6918ba"
   },
   "outputs": [
    {
     "name": "stderr",
     "output_type": "stream",
     "text": [
      "/usr/local/lib/python3.6/dist-packages/ipykernel_launcher.py:14: MatplotlibDeprecationWarning: Using a string of single character colors as a color sequence is deprecated. Use an explicit list instead.\n",
      "  \n"
     ]
    },
    {
     "data": {
      "image/png": "[encoded data removed]",
      "text/plain": [
       "<Figure size 432x288 with 1 Axes>"
      ]
     },
     "metadata": {
      "needs_background": "light",
      "tags": []
     },
     "output_type": "display_data"
    }
   ],
   "source": [
    "plot_hill(total_playcount, hill_no, \"Total User Activity\", \"Hill number\", \"art_hill_playcount\")"
   ]
  },
  {
   "cell_type": "markdown",
   "metadata": {
    "colab_type": "text",
    "id": "3oMZNONanw-y"
   },
   "source": [
    "# Coverage: songs\n"
   ]
  },
  {
   "cell_type": "markdown",
   "metadata": {
    "colab_type": "text",
    "id": "aTWsNfR-pRK3"
   },
   "source": [
    "# New Section"
   ]
  },
  {
   "cell_type": "code",
   "execution_count": null,
   "metadata": {
    "colab": {
     "base_uri": "https://localhost:8080/",
     "height": 314
    },
    "colab_type": "code",
    "executionInfo": {
     "elapsed": 66216,
     "status": "ok",
     "timestamp": 1596553426257,
     "user": {
      "displayName": "Gabrielė Stravinskaitė",
      "photoUrl": "",
      "userId": "00275060314149820189"
     },
     "user_tz": -180
    },
    "id": "EgIMRFnpn085",
    "outputId": "e572b749-3b0f-45f3-de9f-9dea66d35d56"
   },
   "outputs": [
    {
     "name": "stderr",
     "output_type": "stream",
     "text": [
      "/usr/local/lib/python3.6/dist-packages/ipykernel_launcher.py:24: MatplotlibDeprecationWarning: Using a string of single character colors as a color sequence is deprecated. Use an explicit list instead.\n"
     ]
    },
    {
     "data": {
      "image/png": "[encoded data removed]",
      "text/plain": [
       "<Figure size 432x288 with 1 Axes>"
      ]
     },
     "metadata": {
      "needs_background": "light",
      "tags": []
     },
     "output_type": "display_data"
    }
   ],
   "source": [
    "plot(shannon, distinct_songs[:,1].astype('float'), \"Distinct songs\", \"Shannon entropy\", \"art_shannon_songs\")"
   ]
  },
  {
   "cell_type": "code",
   "execution_count": null,
   "metadata": {
    "colab": {
     "base_uri": "https://localhost:8080/",
     "height": 314
    },
    "colab_type": "code",
    "executionInfo": {
     "elapsed": 67623,
     "status": "ok",
     "timestamp": 1596553497063,
     "user": {
      "displayName": "Gabrielė Stravinskaitė",
      "photoUrl": "",
      "userId": "00275060314149820189"
     },
     "user_tz": -180
    },
    "id": "cbfScLk-n7S_",
    "outputId": "10589ebd-5d1c-47c1-ea0f-6f0ebb7489cd"
   },
   "outputs": [
    {
     "name": "stderr",
     "output_type": "stream",
     "text": [
      "/usr/local/lib/python3.6/dist-packages/ipykernel_launcher.py:24: MatplotlibDeprecationWarning: Using a string of single character colors as a color sequence is deprecated. Use an explicit list instead.\n"
     ]
    },
    {
     "data": {
      "image/png": "[encoded data removed]",
      "text/plain": [
       "<Figure size 432x288 with 1 Axes>"
      ]
     },
     "metadata": {
      "needs_background": "light",
      "tags": []
     },
     "output_type": "display_data"
    }
   ],
   "source": [
    "plot(relative, distinct_songs[:,1].astype('float'), \"Distinct songs\", \"Relative entropy\", \"art_relative_songs\")"
   ]
  },
  {
   "cell_type": "code",
   "execution_count": null,
   "metadata": {
    "colab": {
     "base_uri": "https://localhost:8080/",
     "height": 314
    },
    "colab_type": "code",
    "executionInfo": {
     "elapsed": 67506,
     "status": "ok",
     "timestamp": 1596553616058,
     "user": {
      "displayName": "Gabrielė Stravinskaitė",
      "photoUrl": "",
      "userId": "00275060314149820189"
     },
     "user_tz": -180
    },
    "id": "KWw1hPtBn8vu",
    "outputId": "e113c2e9-c989-49cd-d379-6eb91e14a122"
   },
   "outputs": [
    {
     "name": "stderr",
     "output_type": "stream",
     "text": [
      "/usr/local/lib/python3.6/dist-packages/ipykernel_launcher.py:24: MatplotlibDeprecationWarning: Using a string of single character colors as a color sequence is deprecated. Use an explicit list instead.\n"
     ]
    },
    {
     "data": {
      "image/png": "[encoded data removed]",
      "text/plain": [
       "<Figure size 432x288 with 1 Axes>"
      ]
     },
     "metadata": {
      "needs_background": "light",
      "tags": []
     },
     "output_type": "display_data"
    }
   ],
   "source": [
    "plot(gini_index, distinct_songs[:,1].astype('float'), \"Distinct songs\", \"Gini index\", \"art_gini_songs\")"
   ]
  },
  {
   "cell_type": "code",
   "execution_count": null,
   "metadata": {
    "colab": {
     "base_uri": "https://localhost:8080/",
     "height": 330
    },
    "colab_type": "code",
    "executionInfo": {
     "elapsed": 3573,
     "status": "ok",
     "timestamp": 1596555461964,
     "user": {
      "displayName": "Gabrielė Stravinskaitė",
      "photoUrl": "",
      "userId": "00275060314149820189"
     },
     "user_tz": -180
    },
    "id": "VfxTEOULoR5w",
    "outputId": "b01541bc-de9a-4b87-a21b-78b3d1856d70"
   },
   "outputs": [
    {
     "name": "stderr",
     "output_type": "stream",
     "text": [
      "/usr/local/lib/python3.6/dist-packages/ipykernel_launcher.py:14: MatplotlibDeprecationWarning: Using a string of single character colors as a color sequence is deprecated. Use an explicit list instead.\n",
      "  \n"
     ]
    },
    {
     "data": {
      "image/png": "[encoded data removed]",
      "text/plain": [
       "<Figure size 432x288 with 1 Axes>"
      ]
     },
     "metadata": {
      "needs_background": "light",
      "tags": []
     },
     "output_type": "display_data"
    }
   ],
   "source": [
    "plot_hill(distinct_songs[:,1].astype('float'), hill_no, \"Distinct songs\", \"Hill number\", \"art_hill_songs\")"
   ]
  },
  {
   "cell_type": "markdown",
   "metadata": {
    "colab_type": "text",
    "id": "2IbBuFl1pTRW"
   },
   "source": [
    "# Coverage: artists"
   ]
  },
  {
   "cell_type": "code",
   "execution_count": null,
   "metadata": {
    "colab": {
     "base_uri": "https://localhost:8080/",
     "height": 314
    },
    "colab_type": "code",
    "executionInfo": {
     "elapsed": 67984,
     "status": "ok",
     "timestamp": 1596530800916,
     "user": {
      "displayName": "Gabrielė Stravinskaitė",
      "photoUrl": "",
      "userId": "00275060314149820189"
     },
     "user_tz": -180
    },
    "id": "-jiWWpwLpWmu",
    "outputId": "7a3e28b8-3c22-4ca4-f5f6-f2be6256f21c"
   },
   "outputs": [
    {
     "name": "stderr",
     "output_type": "stream",
     "text": [
      "/usr/local/lib/python3.6/dist-packages/ipykernel_launcher.py:24: MatplotlibDeprecationWarning: Using a string of single character colors as a color sequence is deprecated. Use an explicit list instead.\n"
     ]
    },
    {
     "data": {
      "image/png": "[encoded data removed]",
      "text/plain": [
       "<Figure size 432x288 with 1 Axes>"
      ]
     },
     "metadata": {
      "needs_background": "light",
      "tags": []
     },
     "output_type": "display_data"
    }
   ],
   "source": [
    "plot(shannon, distinct_artists, \"Distinct artists\", \"Shannon entropy\", \"art_shannon_art\")"
   ]
  },
  {
   "cell_type": "code",
   "execution_count": null,
   "metadata": {
    "colab": {
     "base_uri": "https://localhost:8080/",
     "height": 314
    },
    "colab_type": "code",
    "executionInfo": {
     "elapsed": 69611,
     "status": "ok",
     "timestamp": 1596530874329,
     "user": {
      "displayName": "Gabrielė Stravinskaitė",
      "photoUrl": "",
      "userId": "00275060314149820189"
     },
     "user_tz": -180
    },
    "id": "LgxrImtypbdy",
    "outputId": "0df2c792-f767-456e-aaf4-6b29fa31ef83"
   },
   "outputs": [
    {
     "name": "stderr",
     "output_type": "stream",
     "text": [
      "/usr/local/lib/python3.6/dist-packages/ipykernel_launcher.py:24: MatplotlibDeprecationWarning: Using a string of single character colors as a color sequence is deprecated. Use an explicit list instead.\n"
     ]
    },
    {
     "data": {
      "image/png": "[encoded data removed]",
      "text/plain": [
       "<Figure size 432x288 with 1 Axes>"
      ]
     },
     "metadata": {
      "needs_background": "light",
      "tags": []
     },
     "output_type": "display_data"
    }
   ],
   "source": [
    "plot(relative, distinct_artists, \"Distinct artists\", \"Relative entropy\", \"art_relative_art\")"
   ]
  },
  {
   "cell_type": "code",
   "execution_count": null,
   "metadata": {
    "colab": {
     "base_uri": "https://localhost:8080/",
     "height": 314
    },
    "colab_type": "code",
    "executionInfo": {
     "elapsed": 70456,
     "status": "ok",
     "timestamp": 1596530944824,
     "user": {
      "displayName": "Gabrielė Stravinskaitė",
      "photoUrl": "",
      "userId": "00275060314149820189"
     },
     "user_tz": -180
    },
    "id": "3KThwLqWpgj1",
    "outputId": "7817e5f1-b351-48ec-c8ad-c4dab2de7584"
   },
   "outputs": [
    {
     "name": "stderr",
     "output_type": "stream",
     "text": [
      "/usr/local/lib/python3.6/dist-packages/ipykernel_launcher.py:24: MatplotlibDeprecationWarning: Using a string of single character colors as a color sequence is deprecated. Use an explicit list instead.\n"
     ]
    },
    {
     "data": {
      "image/png": "[encoded data removed]",
      "text/plain": [
       "<Figure size 432x288 with 1 Axes>"
      ]
     },
     "metadata": {
      "needs_background": "light",
      "tags": []
     },
     "output_type": "display_data"
    }
   ],
   "source": [
    "plot(gini_index, distinct_artists, \"Distinct artists\", \"Gini index\", \"art_gini_art\")"
   ]
  },
  {
   "cell_type": "code",
   "execution_count": null,
   "metadata": {
    "colab": {
     "base_uri": "https://localhost:8080/",
     "height": 330
    },
    "colab_type": "code",
    "executionInfo": {
     "elapsed": 3534,
     "status": "ok",
     "timestamp": 1596531066500,
     "user": {
      "displayName": "Gabrielė Stravinskaitė",
      "photoUrl": "",
      "userId": "00275060314149820189"
     },
     "user_tz": -180
    },
    "id": "oKLHsaZBpnRe",
    "outputId": "446fc314-52ed-4593-a223-abd57e1d75b8"
   },
   "outputs": [
    {
     "name": "stderr",
     "output_type": "stream",
     "text": [
      "/usr/local/lib/python3.6/dist-packages/ipykernel_launcher.py:14: MatplotlibDeprecationWarning: Using a string of single character colors as a color sequence is deprecated. Use an explicit list instead.\n",
      "  \n"
     ]
    },
    {
     "data": {
      "image/png": "[encoded data removed]",
      "text/plain": [
       "<Figure size 432x288 with 1 Axes>"
      ]
     },
     "metadata": {
      "needs_background": "light",
      "tags": []
     },
     "output_type": "display_data"
    }
   ],
   "source": [
    "plot_hill(distinct_artists, hill_no, \"Distinct artists\", \"Hill number\", \"art_hill_art\")"
   ]
  },
  {
   "cell_type": "markdown",
   "metadata": {
    "colab_type": "text",
    "id": "VrXnyWI9hUiW"
   },
   "source": [
    "# Popularity\n"
   ]
  },
  {
   "cell_type": "markdown",
   "metadata": {
    "colab_type": "text",
    "id": "IHf_awUIoGoh"
   },
   "source": [
    "# New Section"
   ]
  },
  {
   "cell_type": "code",
   "execution_count": null,
   "metadata": {
    "colab": {
     "base_uri": "https://localhost:8080/",
     "height": 314
    },
    "colab_type": "code",
    "executionInfo": {
     "elapsed": 71155,
     "status": "ok",
     "timestamp": 1596545538432,
     "user": {
      "displayName": "Gabrielė Stravinskaitė",
      "photoUrl": "",
      "userId": "00275060314149820189"
     },
     "user_tz": -180
    },
    "id": "bw_yBO2PhXIM",
    "outputId": "a419eb55-db1d-4e1c-c67e-0f93d14d100f"
   },
   "outputs": [
    {
     "name": "stderr",
     "output_type": "stream",
     "text": [
      "/usr/local/lib/python3.6/dist-packages/ipykernel_launcher.py:24: MatplotlibDeprecationWarning: Using a string of single character colors as a color sequence is deprecated. Use an explicit list instead.\n"
     ]
    },
    {
     "data": {
      "image/png": "[encoded data removed]",
      "text/plain": [
       "<Figure size 432x288 with 1 Axes>"
      ]
     },
     "metadata": {
      "needs_background": "light",
      "tags": []
     },
     "output_type": "display_data"
    }
   ],
   "source": [
    "plot(shannon, pop_score, \"Popularity\", \"Shannon entropy\", \"art_shannon_pop\", frac=0.3)"
   ]
  },
  {
   "cell_type": "code",
   "execution_count": null,
   "metadata": {
    "colab": {
     "base_uri": "https://localhost:8080/",
     "height": 314
    },
    "colab_type": "code",
    "executionInfo": {
     "elapsed": 73211,
     "status": "ok",
     "timestamp": 1596545613268,
     "user": {
      "displayName": "Gabrielė Stravinskaitė",
      "photoUrl": "",
      "userId": "00275060314149820189"
     },
     "user_tz": -180
    },
    "id": "ac0zjniOhhwl",
    "outputId": "9e1314b8-10ab-48d6-a739-d474750c327b"
   },
   "outputs": [
    {
     "name": "stderr",
     "output_type": "stream",
     "text": [
      "/usr/local/lib/python3.6/dist-packages/ipykernel_launcher.py:24: MatplotlibDeprecationWarning: Using a string of single character colors as a color sequence is deprecated. Use an explicit list instead.\n"
     ]
    },
    {
     "data": {
      "image/png": "[encoded data removed]",
      "text/plain": [
       "<Figure size 432x288 with 1 Axes>"
      ]
     },
     "metadata": {
      "needs_background": "light",
      "tags": []
     },
     "output_type": "display_data"
    }
   ],
   "source": [
    "plot(relative, pop_score, \"Popularity\", \"Relative entropy\", \"art_relative_pop\", frac = 0.3)"
   ]
  },
  {
   "cell_type": "code",
   "execution_count": null,
   "metadata": {
    "colab": {
     "base_uri": "https://localhost:8080/",
     "height": 314
    },
    "colab_type": "code",
    "executionInfo": {
     "elapsed": 143145,
     "status": "ok",
     "timestamp": 1596545685426,
     "user": {
      "displayName": "Gabrielė Stravinskaitė",
      "photoUrl": "",
      "userId": "00275060314149820189"
     },
     "user_tz": -180
    },
    "id": "zrYx3Ezshp8K",
    "outputId": "2bd3e84b-11f0-47df-ef5d-a957156de4b9"
   },
   "outputs": [
    {
     "name": "stderr",
     "output_type": "stream",
     "text": [
      "/usr/local/lib/python3.6/dist-packages/ipykernel_launcher.py:24: MatplotlibDeprecationWarning: Using a string of single character colors as a color sequence is deprecated. Use an explicit list instead.\n"
     ]
    },
    {
     "data": {
      "image/png": "[encoded data removed]",
      "text/plain": [
       "<Figure size 432x288 with 1 Axes>"
      ]
     },
     "metadata": {
      "needs_background": "light",
      "tags": []
     },
     "output_type": "display_data"
    }
   ],
   "source": [
    "plot(gini_index, pop_score, \"Popularity\", \"Gini index\", \"art_gini_pop\", frac = 0.3)"
   ]
  },
  {
   "cell_type": "code",
   "execution_count": null,
   "metadata": {
    "colab": {
     "base_uri": "https://localhost:8080/",
     "height": 330
    },
    "colab_type": "code",
    "executionInfo": {
     "elapsed": 143281,
     "status": "ok",
     "timestamp": 1596545686946,
     "user": {
      "displayName": "Gabrielė Stravinskaitė",
      "photoUrl": "",
      "userId": "00275060314149820189"
     },
     "user_tz": -180
    },
    "id": "Ioqe1y8vhzZB",
    "outputId": "7798a8b7-0ffd-4623-b760-f7c88e132d20"
   },
   "outputs": [
    {
     "name": "stderr",
     "output_type": "stream",
     "text": [
      "/usr/local/lib/python3.6/dist-packages/ipykernel_launcher.py:14: MatplotlibDeprecationWarning: Using a string of single character colors as a color sequence is deprecated. Use an explicit list instead.\n",
      "  \n"
     ]
    },
    {
     "data": {
      "image/png": "[encoded data removed]",
      "text/plain": [
       "<Figure size 432x288 with 1 Axes>"
      ]
     },
     "metadata": {
      "needs_background": "light",
      "tags": []
     },
     "output_type": "display_data"
    }
   ],
   "source": [
    "plot_hill(pop_score, hill_no, \"Popularity\", \"Hill number\", \"art_hill_pop\")"
   ]
  },
  {
   "cell_type": "markdown",
   "metadata": {
    "colab_type": "text",
    "id": "9CrwevWyoKal"
   },
   "source": [
    "# Concordance"
   ]
  },
  {
   "cell_type": "code",
   "execution_count": null,
   "metadata": {
    "colab": {
     "base_uri": "https://localhost:8080/",
     "height": 52
    },
    "colab_type": "code",
    "executionInfo": {
     "elapsed": 686,
     "status": "ok",
     "timestamp": 1597131340005,
     "user": {
      "displayName": "Gabrielė Stravinskaitė",
      "photoUrl": "",
      "userId": "00275060314149820189"
     },
     "user_tz": -180
    },
    "id": "ijeJsBYGoYVy",
    "outputId": "7e10c8e0-d835-46b8-d8ef-f8e93faed95d"
   },
   "outputs": [
    {
     "name": "stdout",
     "output_type": "stream",
     "text": [
      "KendalltauResult(correlation=-0.43092104854763885, pvalue=0.0) KendalltauResult(correlation=0.7684458826371109, pvalue=0.0) KendalltauResult(correlation=0.8423360196813174, pvalue=0.0) KendalltauResult(correlation=-0.41819137718457455, pvalue=0.0) KendalltauResult(correlation=-0.40140901329835427, pvalue=0.0) KendalltauResult(correlation=0.92273730355223, pvalue=0.0)\n"
     ]
    }
   ],
   "source": [
    "import scipy.stats as stats\n",
    "\n",
    "print(stats.kendalltau(shannon, relative),\n",
    "      stats.kendalltau(shannon,hill_no),\n",
    "      stats.kendalltau(shannon, gini_index),\n",
    "      stats.kendalltau(relative, gini_index),\n",
    "      stats.kendalltau(relative, hill_no),\n",
    "      stats.kendalltau(gini_index, hill_no))"
   ]
  },
  {
   "cell_type": "code",
   "execution_count": null,
   "metadata": {
    "colab": {},
    "colab_type": "code",
    "id": "OiK5_yF_s6_2"
   },
   "outputs": [],
   "source": [
    "shannon_r = stats.rankdata(shannon)\n",
    "relative_r = 10000 -stats.rankdata(relative)\n",
    "hill_no_r = stats.rankdata(hill_no)\n",
    "gini_r = stats.rankdata(gini_index)"
   ]
  },
  {
   "cell_type": "code",
   "execution_count": null,
   "metadata": {
    "colab": {},
    "colab_type": "code",
    "id": "mHZCbDj1s-T2"
   },
   "outputs": [],
   "source": [
    "diff_a = shannon_r-relative_r\n",
    "diff_b = shannon_r-hill_no_r\n",
    "diff_c = hill_no_r - relative_r\n",
    "diff_d = shannon_r - gini_r"
   ]
  },
  {
   "cell_type": "code",
   "execution_count": null,
   "metadata": {
    "colab": {},
    "colab_type": "code",
    "id": "r2e6fpS5tAjp"
   },
   "outputs": [],
   "source": [
    "diffs = np.vstack((diff_a, diff_b))\n",
    "diffs = np.vstack((diffs, diff_c))\n",
    "diffs = np.vstack((diffs, diff_d))"
   ]
  },
  {
   "cell_type": "code",
   "execution_count": null,
   "metadata": {
    "colab": {
     "base_uri": "https://localhost:8080/",
     "height": 264
    },
    "colab_type": "code",
    "executionInfo": {
     "elapsed": 2106,
     "status": "ok",
     "timestamp": 1597131375082,
     "user": {
      "displayName": "Gabrielė Stravinskaitė",
      "photoUrl": "",
      "userId": "00275060314149820189"
     },
     "user_tz": -180
    },
    "id": "STHD-WOOtBEx",
    "outputId": "e4a85a48-6c2b-4085-976c-e800e6811ee4"
   },
   "outputs": [
    {
     "data": {
      "image/png": "[encoded data removed]",
      "text/plain": [
       "<Figure size 432x288 with 1 Axes>"
      ]
     },
     "metadata": {
      "needs_background": "light",
      "tags": []
     },
     "output_type": "display_data"
    }
   ],
   "source": [
    "fig, axes = plt.subplots(nrows=1, ncols=1)\n",
    "labels = [\"Delta_5\", \"Delta_6\", \"Delta_7\", \"Delta_8\"]\n",
    "\n",
    "bplot = axes.boxplot(np.transpose(diffs),\n",
    "                         vert=True,  # vertical box alignment\n",
    "                         patch_artist=True,  # fill with color\n",
    "                         labels=labels)  # will be used to label x-ticks\n",
    "# lots of negative values meaning shannon<relative. \n",
    "\n",
    "# fill with colors\n",
    "colors = ['pink', 'lightblue', 'lightgreen', \"lightsteelblue\"]\n",
    "\n",
    "for patch, color in zip(bplot['boxes'], colors):\n",
    "      patch.set_facecolor(color)\n",
    "\n",
    "# adding horizontal grid lines\n",
    "\n",
    "axes.yaxis.grid(True)\n",
    "\n",
    "plt.savefig(\"box_plots_2\", format = \"png\", transparent = True, dpi=500)\n",
    "plt.show()"
   ]
  },
  {
   "cell_type": "code",
   "execution_count": null,
   "metadata": {
    "colab": {
     "base_uri": "https://localhost:8080/",
     "height": 291
    },
    "colab_type": "code",
    "executionInfo": {
     "elapsed": 892,
     "status": "ok",
     "timestamp": 1596700277650,
     "user": {
      "displayName": "Gabrielė Stravinskaitė",
      "photoUrl": "",
      "userId": "00275060314149820189"
     },
     "user_tz": -180
    },
    "id": "zAGcam7lwGXu",
    "outputId": "fea1ab81-6b36-4166-8ef6-3a58b9a174e9"
   },
   "outputs": [
    {
     "data": {
      "text/html": [
       "<div>\n",
       "<style scoped>\n",
       "    .dataframe tbody tr th:only-of-type {\n",
       "        vertical-align: middle;\n",
       "    }\n",
       "\n",
       "    .dataframe tbody tr th {\n",
       "        vertical-align: top;\n",
       "    }\n",
       "\n",
       "    .dataframe thead th {\n",
       "        text-align: right;\n",
       "    }\n",
       "</style>\n",
       "<table border=\"1\" class=\"dataframe\">\n",
       "  <thead>\n",
       "    <tr style=\"text-align: right;\">\n",
       "      <th></th>\n",
       "      <th>0</th>\n",
       "    </tr>\n",
       "  </thead>\n",
       "  <tbody>\n",
       "    <tr>\n",
       "      <th>count</th>\n",
       "      <td>10000.00000</td>\n",
       "    </tr>\n",
       "    <tr>\n",
       "      <th>mean</th>\n",
       "      <td>1.00000</td>\n",
       "    </tr>\n",
       "    <tr>\n",
       "      <th>std</th>\n",
       "      <td>2562.65414</td>\n",
       "    </tr>\n",
       "    <tr>\n",
       "      <th>min</th>\n",
       "      <td>-8288.00000</td>\n",
       "    </tr>\n",
       "    <tr>\n",
       "      <th>25%</th>\n",
       "      <td>-1450.50000</td>\n",
       "    </tr>\n",
       "    <tr>\n",
       "      <th>50%</th>\n",
       "      <td>139.00000</td>\n",
       "    </tr>\n",
       "    <tr>\n",
       "      <th>75%</th>\n",
       "      <td>1641.25000</td>\n",
       "    </tr>\n",
       "    <tr>\n",
       "      <th>max</th>\n",
       "      <td>7562.00000</td>\n",
       "    </tr>\n",
       "  </tbody>\n",
       "</table>\n",
       "</div>"
      ],
      "text/plain": [
       "                 0\n",
       "count  10000.00000\n",
       "mean       1.00000\n",
       "std     2562.65414\n",
       "min    -8288.00000\n",
       "25%    -1450.50000\n",
       "50%      139.00000\n",
       "75%     1641.25000\n",
       "max     7562.00000"
      ]
     },
     "execution_count": 10,
     "metadata": {
      "tags": []
     },
     "output_type": "execute_result"
    }
   ],
   "source": [
    "pd.DataFrame(diff_a).describe()"
   ]
  },
  {
   "cell_type": "code",
   "execution_count": null,
   "metadata": {
    "colab": {
     "base_uri": "https://localhost:8080/",
     "height": 291
    },
    "colab_type": "code",
    "executionInfo": {
     "elapsed": 731,
     "status": "ok",
     "timestamp": 1596700390017,
     "user": {
      "displayName": "Gabrielė Stravinskaitė",
      "photoUrl": "",
      "userId": "00275060314149820189"
     },
     "user_tz": -180
    },
    "id": "BD02v1YIwhIV",
    "outputId": "3c086814-f79d-470a-f2ea-74490ee47d4d"
   },
   "outputs": [
    {
     "data": {
      "text/html": [
       "<div>\n",
       "<style scoped>\n",
       "    .dataframe tbody tr th:only-of-type {\n",
       "        vertical-align: middle;\n",
       "    }\n",
       "\n",
       "    .dataframe tbody tr th {\n",
       "        vertical-align: top;\n",
       "    }\n",
       "\n",
       "    .dataframe thead th {\n",
       "        text-align: right;\n",
       "    }\n",
       "</style>\n",
       "<table border=\"1\" class=\"dataframe\">\n",
       "  <thead>\n",
       "    <tr style=\"text-align: right;\">\n",
       "      <th></th>\n",
       "      <th>0</th>\n",
       "    </tr>\n",
       "  </thead>\n",
       "  <tbody>\n",
       "    <tr>\n",
       "      <th>count</th>\n",
       "      <td>10000.000000</td>\n",
       "    </tr>\n",
       "    <tr>\n",
       "      <th>mean</th>\n",
       "      <td>1.000000</td>\n",
       "    </tr>\n",
       "    <tr>\n",
       "      <th>std</th>\n",
       "      <td>2680.063206</td>\n",
       "    </tr>\n",
       "    <tr>\n",
       "      <th>min</th>\n",
       "      <td>-8248.000000</td>\n",
       "    </tr>\n",
       "    <tr>\n",
       "      <th>25%</th>\n",
       "      <td>-1604.250000</td>\n",
       "    </tr>\n",
       "    <tr>\n",
       "      <th>50%</th>\n",
       "      <td>106.000000</td>\n",
       "    </tr>\n",
       "    <tr>\n",
       "      <th>75%</th>\n",
       "      <td>1720.625000</td>\n",
       "    </tr>\n",
       "    <tr>\n",
       "      <th>max</th>\n",
       "      <td>7888.000000</td>\n",
       "    </tr>\n",
       "  </tbody>\n",
       "</table>\n",
       "</div>"
      ],
      "text/plain": [
       "                  0\n",
       "count  10000.000000\n",
       "mean       1.000000\n",
       "std     2680.063206\n",
       "min    -8248.000000\n",
       "25%    -1604.250000\n",
       "50%      106.000000\n",
       "75%     1720.625000\n",
       "max     7888.000000"
      ]
     },
     "execution_count": 11,
     "metadata": {
      "tags": []
     },
     "output_type": "execute_result"
    }
   ],
   "source": [
    "pd.DataFrame(diff_c).describe()"
   ]
  },
  {
   "cell_type": "code",
   "execution_count": null,
   "metadata": {
    "colab": {
     "base_uri": "https://localhost:8080/",
     "height": 291
    },
    "colab_type": "code",
    "executionInfo": {
     "elapsed": 797,
     "status": "ok",
     "timestamp": 1596708336972,
     "user": {
      "displayName": "Gabrielė Stravinskaitė",
      "photoUrl": "",
      "userId": "00275060314149820189"
     },
     "user_tz": -180
    },
    "id": "HbCJTJECO4KA",
    "outputId": "e7e3cc65-ce3a-44b9-a90b-e21a926c2350"
   },
   "outputs": [
    {
     "data": {
      "text/html": [
       "<div>\n",
       "<style scoped>\n",
       "    .dataframe tbody tr th:only-of-type {\n",
       "        vertical-align: middle;\n",
       "    }\n",
       "\n",
       "    .dataframe tbody tr th {\n",
       "        vertical-align: top;\n",
       "    }\n",
       "\n",
       "    .dataframe thead th {\n",
       "        text-align: right;\n",
       "    }\n",
       "</style>\n",
       "<table border=\"1\" class=\"dataframe\">\n",
       "  <thead>\n",
       "    <tr style=\"text-align: right;\">\n",
       "      <th></th>\n",
       "      <th>0</th>\n",
       "    </tr>\n",
       "  </thead>\n",
       "  <tbody>\n",
       "    <tr>\n",
       "      <th>count</th>\n",
       "      <td>10000.000000</td>\n",
       "    </tr>\n",
       "    <tr>\n",
       "      <th>mean</th>\n",
       "      <td>0.000000</td>\n",
       "    </tr>\n",
       "    <tr>\n",
       "      <th>std</th>\n",
       "      <td>1140.092405</td>\n",
       "    </tr>\n",
       "    <tr>\n",
       "      <th>min</th>\n",
       "      <td>-2623.000000</td>\n",
       "    </tr>\n",
       "    <tr>\n",
       "      <th>25%</th>\n",
       "      <td>-675.125000</td>\n",
       "    </tr>\n",
       "    <tr>\n",
       "      <th>50%</th>\n",
       "      <td>-76.750000</td>\n",
       "    </tr>\n",
       "    <tr>\n",
       "      <th>75%</th>\n",
       "      <td>466.250000</td>\n",
       "    </tr>\n",
       "    <tr>\n",
       "      <th>max</th>\n",
       "      <td>5828.000000</td>\n",
       "    </tr>\n",
       "  </tbody>\n",
       "</table>\n",
       "</div>"
      ],
      "text/plain": [
       "                  0\n",
       "count  10000.000000\n",
       "mean       0.000000\n",
       "std     1140.092405\n",
       "min    -2623.000000\n",
       "25%     -675.125000\n",
       "50%      -76.750000\n",
       "75%      466.250000\n",
       "max     5828.000000"
      ]
     },
     "execution_count": 30,
     "metadata": {
      "tags": []
     },
     "output_type": "execute_result"
    }
   ],
   "source": [
    "pd.DataFrame(diff_b).describe()"
   ]
  },
  {
   "cell_type": "code",
   "execution_count": null,
   "metadata": {
    "colab": {
     "base_uri": "https://localhost:8080/",
     "height": 32
    },
    "colab_type": "code",
    "executionInfo": {
     "elapsed": 655,
     "status": "ok",
     "timestamp": 1596705558485,
     "user": {
      "displayName": "Gabrielė Stravinskaitė",
      "photoUrl": "",
      "userId": "00275060314149820189"
     },
     "user_tz": -180
    },
    "id": "pcjPwHQPDbt9",
    "outputId": "be973e1b-8d19-468f-f488-a0db5d16c5c7"
   },
   "outputs": [
    {
     "name": "stdout",
     "output_type": "stream",
     "text": [
      "(array([5703]),)\n"
     ]
    }
   ],
   "source": [
    "loc = np.where(diff_a==-8288)\n",
    "print(loc)"
   ]
  },
  {
   "cell_type": "code",
   "execution_count": null,
   "metadata": {
    "colab": {
     "base_uri": "https://localhost:8080/",
     "height": 32
    },
    "colab_type": "code",
    "executionInfo": {
     "elapsed": 1078,
     "status": "ok",
     "timestamp": 1596706489574,
     "user": {
      "displayName": "Gabrielė Stravinskaitė",
      "photoUrl": "",
      "userId": "00275060314149820189"
     },
     "user_tz": -180
    },
    "id": "FL8bMOPdDvxJ",
    "outputId": "e2497707-f406-4bfb-fab2-082113f2b686"
   },
   "outputs": [
    {
     "name": "stdout",
     "output_type": "stream",
     "text": [
      "(array([3075]),)\n"
     ]
    }
   ],
   "source": [
    "loc = np.where(diff_c==-8248)\n",
    "print(loc)"
   ]
  },
  {
   "cell_type": "code",
   "execution_count": null,
   "metadata": {
    "colab": {
     "base_uri": "https://localhost:8080/",
     "height": 32
    },
    "colab_type": "code",
    "executionInfo": {
     "elapsed": 411,
     "status": "ok",
     "timestamp": 1596708415087,
     "user": {
      "displayName": "Gabrielė Stravinskaitė",
      "photoUrl": "",
      "userId": "00275060314149820189"
     },
     "user_tz": -180
    },
    "id": "bljIKSr-O83g",
    "outputId": "a6a92e19-7b3c-4c19-cd77-5297da8d082f"
   },
   "outputs": [
    {
     "name": "stdout",
     "output_type": "stream",
     "text": [
      "(array([8536]),)\n"
     ]
    }
   ],
   "source": [
    "loc = np.where(diff_b==5828)\n",
    "print(loc)"
   ]
  },
  {
   "cell_type": "code",
   "execution_count": null,
   "metadata": {
    "colab": {
     "base_uri": "https://localhost:8080/",
     "height": 32
    },
    "colab_type": "code",
    "executionInfo": {
     "elapsed": 1649,
     "status": "ok",
     "timestamp": 1596708417808,
     "user": {
      "displayName": "Gabrielė Stravinskaitė",
      "photoUrl": "",
      "userId": "00275060314149820189"
     },
     "user_tz": -180
    },
    "id": "6Lb43hkdDmbb",
    "outputId": "1f89a86b-d34e-4e25-f718-6883ff0625c3"
   },
   "outputs": [
    {
     "name": "stdout",
     "output_type": "stream",
     "text": [
      "[2032.] [7860.] [4.28764756] [4.57910974]\n"
     ]
    }
   ],
   "source": [
    "print(hill_no_r[loc], shannon_r[loc], \n",
    "      hill_no[loc], shannon[loc])"
   ]
  },
  {
   "cell_type": "code",
   "execution_count": null,
   "metadata": {
    "colab": {
     "base_uri": "https://localhost:8080/",
     "height": 32
    },
    "colab_type": "code",
    "executionInfo": {
     "elapsed": 852,
     "status": "ok",
     "timestamp": 1596709673352,
     "user": {
      "displayName": "Gabrielė Stravinskaitė",
      "photoUrl": "",
      "userId": "00275060314149820189"
     },
     "user_tz": -180
    },
    "id": "s5xbgnsTEZ-k",
    "outputId": "354ba7f5-32c0-41f9-a694-26c94d9588f3"
   },
   "outputs": [
    {
     "name": "stdout",
     "output_type": "stream",
     "text": [
      "[201.] [[137]] [79] [8]\n"
     ]
    }
   ],
   "source": [
    "print(total_playcount[loc], distinct_songs[loc,1], distinct_artists[loc], pop_score[loc])"
   ]
  },
  {
   "cell_type": "code",
   "execution_count": null,
   "metadata": {
    "colab": {
     "base_uri": "https://localhost:8080/",
     "height": 411
    },
    "colab_type": "code",
    "executionInfo": {
     "elapsed": 706,
     "status": "ok",
     "timestamp": 1596708762582,
     "user": {
      "displayName": "Gabrielė Stravinskaitė",
      "photoUrl": "",
      "userId": "00275060314149820189"
     },
     "user_tz": -180
    },
    "id": "boaNcqRnGFWL",
    "outputId": "8fceab2c-e2d7-4c75-b4c4-c3f8e2755dbe"
   },
   "outputs": [
    {
     "data": {
      "text/html": [
       "<div>\n",
       "<style scoped>\n",
       "    .dataframe tbody tr th:only-of-type {\n",
       "        vertical-align: middle;\n",
       "    }\n",
       "\n",
       "    .dataframe tbody tr th {\n",
       "        vertical-align: top;\n",
       "    }\n",
       "\n",
       "    .dataframe thead th {\n",
       "        text-align: right;\n",
       "    }\n",
       "</style>\n",
       "<table border=\"1\" class=\"dataframe\">\n",
       "  <thead>\n",
       "    <tr style=\"text-align: right;\">\n",
       "      <th></th>\n",
       "      <th>Count</th>\n",
       "      <th>Artist</th>\n",
       "      <th>Song</th>\n",
       "    </tr>\n",
       "  </thead>\n",
       "  <tbody>\n",
       "    <tr>\n",
       "      <th>401837</th>\n",
       "      <td>1</td>\n",
       "      <td>Harmonia</td>\n",
       "      <td>Sehr kosmisch</td>\n",
       "    </tr>\n",
       "    <tr>\n",
       "      <th>401838</th>\n",
       "      <td>1</td>\n",
       "      <td>Counting Crows</td>\n",
       "      <td>Mr. Jones</td>\n",
       "    </tr>\n",
       "    <tr>\n",
       "      <th>401839</th>\n",
       "      <td>1</td>\n",
       "      <td>Björk</td>\n",
       "      <td>Undo</td>\n",
       "    </tr>\n",
       "    <tr>\n",
       "      <th>401840</th>\n",
       "      <td>1</td>\n",
       "      <td>Florence + The Machine</td>\n",
       "      <td>Dog Days Are Over (Radio Edit)</td>\n",
       "    </tr>\n",
       "    <tr>\n",
       "      <th>401841</th>\n",
       "      <td>1</td>\n",
       "      <td>Dwight Yoakam</td>\n",
       "      <td>You're The One</td>\n",
       "    </tr>\n",
       "    <tr>\n",
       "      <th>...</th>\n",
       "      <td>...</td>\n",
       "      <td>...</td>\n",
       "      <td>...</td>\n",
       "    </tr>\n",
       "    <tr>\n",
       "      <th>401969</th>\n",
       "      <td>1</td>\n",
       "      <td>Rubén Blades</td>\n",
       "      <td>La Ruta</td>\n",
       "    </tr>\n",
       "    <tr>\n",
       "      <th>401970</th>\n",
       "      <td>2</td>\n",
       "      <td>Natalie Cole</td>\n",
       "      <td>Starting Over Again</td>\n",
       "    </tr>\n",
       "    <tr>\n",
       "      <th>401971</th>\n",
       "      <td>1</td>\n",
       "      <td>Juanes</td>\n",
       "      <td>Ficcion</td>\n",
       "    </tr>\n",
       "    <tr>\n",
       "      <th>401972</th>\n",
       "      <td>2</td>\n",
       "      <td>Natalie Cole</td>\n",
       "      <td>Inseparable</td>\n",
       "    </tr>\n",
       "    <tr>\n",
       "      <th>401973</th>\n",
       "      <td>1</td>\n",
       "      <td>Otis Rush</td>\n",
       "      <td>Right Place_ Wrong Time</td>\n",
       "    </tr>\n",
       "  </tbody>\n",
       "</table>\n",
       "<p>137 rows × 3 columns</p>\n",
       "</div>"
      ],
      "text/plain": [
       "       Count                  Artist                            Song\n",
       "401837     1                Harmonia                   Sehr kosmisch\n",
       "401838     1          Counting Crows                       Mr. Jones\n",
       "401839     1                   Björk                            Undo\n",
       "401840     1  Florence + The Machine  Dog Days Are Over (Radio Edit)\n",
       "401841     1           Dwight Yoakam                  You're The One\n",
       "...      ...                     ...                             ...\n",
       "401969     1            Rubén Blades                         La Ruta\n",
       "401970     2            Natalie Cole             Starting Over Again\n",
       "401971     1                  Juanes                         Ficcion\n",
       "401972     2            Natalie Cole                     Inseparable\n",
       "401973     1               Otis Rush         Right Place_ Wrong Time\n",
       "\n",
       "[137 rows x 3 columns]"
      ]
     },
     "execution_count": 43,
     "metadata": {
      "tags": []
     },
     "output_type": "execute_result"
    }
   ],
   "source": [
    "toy_triplets[[\"Count\", \"Artist\", \"Song\"]][toy_triplets[\"UserId\"]==users[8536]]"
   ]
  },
  {
   "cell_type": "code",
   "execution_count": null,
   "metadata": {
    "colab": {
     "base_uri": "https://localhost:8080/",
     "height": 1000
    },
    "colab_type": "code",
    "executionInfo": {
     "elapsed": 804,
     "status": "ok",
     "timestamp": 1596711948800,
     "user": {
      "displayName": "Gabrielė Stravinskaitė",
      "photoUrl": "",
      "userId": "00275060314149820189"
     },
     "user_tz": -180
    },
    "id": "lqDjSqtqQnP-",
    "outputId": "ab9dab14-e84b-4114-ffb4-508106d2b8f4"
   },
   "outputs": [
    {
     "data": {
      "text/html": [
       "<div>\n",
       "<style scoped>\n",
       "    .dataframe tbody tr th:only-of-type {\n",
       "        vertical-align: middle;\n",
       "    }\n",
       "\n",
       "    .dataframe tbody tr th {\n",
       "        vertical-align: top;\n",
       "    }\n",
       "\n",
       "    .dataframe thead th {\n",
       "        text-align: right;\n",
       "    }\n",
       "</style>\n",
       "<table border=\"1\" class=\"dataframe\">\n",
       "  <thead>\n",
       "    <tr style=\"text-align: right;\">\n",
       "      <th></th>\n",
       "      <th>Count</th>\n",
       "      <th>Song</th>\n",
       "    </tr>\n",
       "    <tr>\n",
       "      <th>Artist</th>\n",
       "      <th></th>\n",
       "      <th></th>\n",
       "    </tr>\n",
       "  </thead>\n",
       "  <tbody>\n",
       "    <tr>\n",
       "      <th>Adriana Calcanhotto</th>\n",
       "      <td>1</td>\n",
       "      <td>Music/Impressive Instant</td>\n",
       "    </tr>\n",
       "    <tr>\n",
       "      <th>John Brown's Body</th>\n",
       "      <td>1</td>\n",
       "      <td>Poor Man's Prayer</td>\n",
       "    </tr>\n",
       "    <tr>\n",
       "      <th>Jorge Alfano</th>\n",
       "      <td>1</td>\n",
       "      <td>Rivers of Zimbabwe (Album Version)</td>\n",
       "    </tr>\n",
       "    <tr>\n",
       "      <th>Kanye West</th>\n",
       "      <td>1</td>\n",
       "      <td>Street Lights</td>\n",
       "    </tr>\n",
       "    <tr>\n",
       "      <th>Limp Bizkit</th>\n",
       "      <td>1</td>\n",
       "      <td>Rollin' (Air Raid Vehicle)</td>\n",
       "    </tr>\n",
       "    <tr>\n",
       "      <th>MGMT</th>\n",
       "      <td>1</td>\n",
       "      <td>Brian Eno</td>\n",
       "    </tr>\n",
       "    <tr>\n",
       "      <th>Metro Area</th>\n",
       "      <td>1</td>\n",
       "      <td>Caught Up</td>\n",
       "    </tr>\n",
       "    <tr>\n",
       "      <th>Modest Mouse</th>\n",
       "      <td>1</td>\n",
       "      <td>Dance Hall</td>\n",
       "    </tr>\n",
       "    <tr>\n",
       "      <th>Nathan Fake</th>\n",
       "      <td>1</td>\n",
       "      <td>The Sky Was Pink (Holden Remix)</td>\n",
       "    </tr>\n",
       "    <tr>\n",
       "      <th>Neri Per Caso</th>\n",
       "      <td>1</td>\n",
       "      <td>Fortuna</td>\n",
       "    </tr>\n",
       "    <tr>\n",
       "      <th>Nick Cave/Shane MacGowan</th>\n",
       "      <td>1</td>\n",
       "      <td>What A Wonderful World</td>\n",
       "    </tr>\n",
       "    <tr>\n",
       "      <th>Nick Drake</th>\n",
       "      <td>1</td>\n",
       "      <td>Bryter Layter</td>\n",
       "    </tr>\n",
       "    <tr>\n",
       "      <th>OneRepublic</th>\n",
       "      <td>1</td>\n",
       "      <td>Secrets</td>\n",
       "    </tr>\n",
       "    <tr>\n",
       "      <th>Otis Rush</th>\n",
       "      <td>1</td>\n",
       "      <td>Right Place_ Wrong Time</td>\n",
       "    </tr>\n",
       "    <tr>\n",
       "      <th>Ponto De Equilíbrio</th>\n",
       "      <td>1</td>\n",
       "      <td>Poder Da Palavra</td>\n",
       "    </tr>\n",
       "    <tr>\n",
       "      <th>Rex Mundi</th>\n",
       "      <td>1</td>\n",
       "      <td>Kalua Islands</td>\n",
       "    </tr>\n",
       "    <tr>\n",
       "      <th>Ricky Martin</th>\n",
       "      <td>1</td>\n",
       "      <td>She Bangs</td>\n",
       "    </tr>\n",
       "    <tr>\n",
       "      <th>Righteous Jams</th>\n",
       "      <td>1</td>\n",
       "      <td>Bust It</td>\n",
       "    </tr>\n",
       "    <tr>\n",
       "      <th>Rubin Steiner</th>\n",
       "      <td>1</td>\n",
       "      <td>Take your time</td>\n",
       "    </tr>\n",
       "    <tr>\n",
       "      <th>Rufus Thomas</th>\n",
       "      <td>1</td>\n",
       "      <td>Walking the dog</td>\n",
       "    </tr>\n",
       "    <tr>\n",
       "      <th>SUPREME BEINGS OF LEISURE</th>\n",
       "      <td>1</td>\n",
       "      <td>Never the Same</td>\n",
       "    </tr>\n",
       "    <tr>\n",
       "      <th>Saga</th>\n",
       "      <td>1</td>\n",
       "      <td>Rise and shine</td>\n",
       "    </tr>\n",
       "    <tr>\n",
       "      <th>Sam and Dave</th>\n",
       "      <td>1</td>\n",
       "      <td>Hold on I'm Coming</td>\n",
       "    </tr>\n",
       "    <tr>\n",
       "      <th>Santana</th>\n",
       "      <td>1</td>\n",
       "      <td>Daughter Of The Night</td>\n",
       "    </tr>\n",
       "    <tr>\n",
       "      <th>Slightly Stoopid</th>\n",
       "      <td>1</td>\n",
       "      <td>Everything You Need</td>\n",
       "    </tr>\n",
       "    <tr>\n",
       "      <th>Stevie B</th>\n",
       "      <td>1</td>\n",
       "      <td>I Wanna Be The One</td>\n",
       "    </tr>\n",
       "    <tr>\n",
       "      <th>Talib Kweli</th>\n",
       "      <td>1</td>\n",
       "      <td>Around My Way</td>\n",
       "    </tr>\n",
       "    <tr>\n",
       "      <th>The Church</th>\n",
       "      <td>1</td>\n",
       "      <td>Night Flower</td>\n",
       "    </tr>\n",
       "    <tr>\n",
       "      <th>The Koffin Kats</th>\n",
       "      <td>1</td>\n",
       "      <td>Purgatory</td>\n",
       "    </tr>\n",
       "    <tr>\n",
       "      <th>The Police</th>\n",
       "      <td>1</td>\n",
       "      <td>Spirits In The Material World</td>\n",
       "    </tr>\n",
       "    <tr>\n",
       "      <th>Inner Circle</th>\n",
       "      <td>1</td>\n",
       "      <td>I Spy</td>\n",
       "    </tr>\n",
       "    <tr>\n",
       "      <th>Inaya Day</th>\n",
       "      <td>1</td>\n",
       "      <td>Hold Your Head Up High</td>\n",
       "    </tr>\n",
       "    <tr>\n",
       "      <th>Vinícius de Moraes</th>\n",
       "      <td>1</td>\n",
       "      <td>Minha Namorada</td>\n",
       "    </tr>\n",
       "    <tr>\n",
       "      <th>Grupo Gale</th>\n",
       "      <td>1</td>\n",
       "      <td>Perdóname</td>\n",
       "    </tr>\n",
       "    <tr>\n",
       "      <th>Harmonia</th>\n",
       "      <td>1</td>\n",
       "      <td>Sehr kosmisch</td>\n",
       "    </tr>\n",
       "    <tr>\n",
       "      <th>Delerium</th>\n",
       "      <td>1</td>\n",
       "      <td>Just A Dream</td>\n",
       "    </tr>\n",
       "    <tr>\n",
       "      <th>Darren Styles</th>\n",
       "      <td>1</td>\n",
       "      <td>Flashlight</td>\n",
       "    </tr>\n",
       "    <tr>\n",
       "      <th>DJ Quik</th>\n",
       "      <td>1</td>\n",
       "      <td>Get Up</td>\n",
       "    </tr>\n",
       "    <tr>\n",
       "      <th>Céline Dion</th>\n",
       "      <td>1</td>\n",
       "      <td>My Heart Will Go On</td>\n",
       "    </tr>\n",
       "    <tr>\n",
       "      <th>Counting Crows</th>\n",
       "      <td>1</td>\n",
       "      <td>Mr. Jones</td>\n",
       "    </tr>\n",
       "    <tr>\n",
       "      <th>Cirrus</th>\n",
       "      <td>1</td>\n",
       "      <td>Breakbeat Suckers</td>\n",
       "    </tr>\n",
       "    <tr>\n",
       "      <th>Cartola</th>\n",
       "      <td>1</td>\n",
       "      <td>Tive Sim</td>\n",
       "    </tr>\n",
       "    <tr>\n",
       "      <th>Busta Rhymes / Swizz Beatz</th>\n",
       "      <td>1</td>\n",
       "      <td>New York Shit</td>\n",
       "    </tr>\n",
       "    <tr>\n",
       "      <th>Buju Banton</th>\n",
       "      <td>1</td>\n",
       "      <td>No Respect</td>\n",
       "    </tr>\n",
       "    <tr>\n",
       "      <th>Brant Bjork</th>\n",
       "      <td>1</td>\n",
       "      <td>Searchin'</td>\n",
       "    </tr>\n",
       "    <tr>\n",
       "      <th>Björk</th>\n",
       "      <td>1</td>\n",
       "      <td>Undo</td>\n",
       "    </tr>\n",
       "    <tr>\n",
       "      <th>Bedouin Soundclash</th>\n",
       "      <td>1</td>\n",
       "      <td>Nothing To Say</td>\n",
       "    </tr>\n",
       "    <tr>\n",
       "      <th>Aventura</th>\n",
       "      <td>1</td>\n",
       "      <td>Amor De Madre</td>\n",
       "    </tr>\n",
       "    <tr>\n",
       "      <th>Antonio Vivaldi</th>\n",
       "      <td>1</td>\n",
       "      <td>The Four Seasons - Winter - Allegro Non Molto</td>\n",
       "    </tr>\n",
       "    <tr>\n",
       "      <th>Andres Calamaro</th>\n",
       "      <td>1</td>\n",
       "      <td>Nunca lo sabran</td>\n",
       "    </tr>\n",
       "    <tr>\n",
       "      <th>America</th>\n",
       "      <td>1</td>\n",
       "      <td>Sister Golden Hair</td>\n",
       "    </tr>\n",
       "    <tr>\n",
       "      <th>Dora The Explorer</th>\n",
       "      <td>1</td>\n",
       "      <td>Oye Como Va</td>\n",
       "    </tr>\n",
       "    <tr>\n",
       "      <th>Dwight Yoakam</th>\n",
       "      <td>1</td>\n",
       "      <td>You're The One</td>\n",
       "    </tr>\n",
       "    <tr>\n",
       "      <th>Dido</th>\n",
       "      <td>1</td>\n",
       "      <td>My Lover's Gone</td>\n",
       "    </tr>\n",
       "    <tr>\n",
       "      <th>Elbow</th>\n",
       "      <td>1</td>\n",
       "      <td>Grounds For Divorce</td>\n",
       "    </tr>\n",
       "    <tr>\n",
       "      <th>Elton John</th>\n",
       "      <td>1</td>\n",
       "      <td>Reverie</td>\n",
       "    </tr>\n",
       "    <tr>\n",
       "      <th>Elva Hsiao</th>\n",
       "      <td>1</td>\n",
       "      <td>Honey Honey Honey</td>\n",
       "    </tr>\n",
       "    <tr>\n",
       "      <th>Emilio Navaira</th>\n",
       "      <td>1</td>\n",
       "      <td>Lucero De Mi Alma</td>\n",
       "    </tr>\n",
       "    <tr>\n",
       "      <th>Grave Plott</th>\n",
       "      <td>1</td>\n",
       "      <td>Killa Season featuring Brotha Lynch Hung</td>\n",
       "    </tr>\n",
       "    <tr>\n",
       "      <th>Florence + The Machine</th>\n",
       "      <td>1</td>\n",
       "      <td>Dog Days Are Over (Radio Edit)</td>\n",
       "    </tr>\n",
       "    <tr>\n",
       "      <th>Enrique Iglesias</th>\n",
       "      <td>1</td>\n",
       "      <td>Al Despertar</td>\n",
       "    </tr>\n",
       "    <tr>\n",
       "      <th>Ennio Morricone</th>\n",
       "      <td>1</td>\n",
       "      <td>Chi Mai (El Profesional)</td>\n",
       "    </tr>\n",
       "    <tr>\n",
       "      <th>Nick Cave</th>\n",
       "      <td>2</td>\n",
       "      <td>Fire Down BelowPinery Boy</td>\n",
       "    </tr>\n",
       "    <tr>\n",
       "      <th>Thievery Corporation</th>\n",
       "      <td>2</td>\n",
       "      <td>Racing East</td>\n",
       "    </tr>\n",
       "    <tr>\n",
       "      <th>Jerry Rivera</th>\n",
       "      <td>2</td>\n",
       "      <td>Rubias De New YorkYira Yira</td>\n",
       "    </tr>\n",
       "    <tr>\n",
       "      <th>George Lopez</th>\n",
       "      <td>2</td>\n",
       "      <td>Grandma (America'S Mexican)</td>\n",
       "    </tr>\n",
       "    <tr>\n",
       "      <th>Vilma Palma e Vampiros</th>\n",
       "      <td>2</td>\n",
       "      <td>Auto rojoLa pachanga</td>\n",
       "    </tr>\n",
       "    <tr>\n",
       "      <th>Carlos Santana &amp; Mahavishnu John McLaughlin</th>\n",
       "      <td>2</td>\n",
       "      <td>MeditationNaima</td>\n",
       "    </tr>\n",
       "    <tr>\n",
       "      <th>Ruben Blades</th>\n",
       "      <td>2</td>\n",
       "      <td>Pedro Navaja (Live LP Version)Sin Tu Carino</td>\n",
       "    </tr>\n",
       "    <tr>\n",
       "      <th>Nick Cave &amp; The Bad Seeds</th>\n",
       "      <td>2</td>\n",
       "      <td>Henry Lee (1998 Digital Remaster)The Ship Song...</td>\n",
       "    </tr>\n",
       "    <tr>\n",
       "      <th>Just Jack</th>\n",
       "      <td>2</td>\n",
       "      <td>No TimeStarz In Their Eyes</td>\n",
       "    </tr>\n",
       "    <tr>\n",
       "      <th>Maelo Ruiz</th>\n",
       "      <td>4</td>\n",
       "      <td>Asi Eres TuNo Más MentirasTe Necesito Mi AmorF...</td>\n",
       "    </tr>\n",
       "    <tr>\n",
       "      <th>Rubén Blades</th>\n",
       "      <td>4</td>\n",
       "      <td>Como NosotrosEstampaConsideraciónLa Ruta</td>\n",
       "    </tr>\n",
       "    <tr>\n",
       "      <th>Marc Anthony;Jennifer Lopez</th>\n",
       "      <td>5</td>\n",
       "      <td>Escapémonos</td>\n",
       "    </tr>\n",
       "    <tr>\n",
       "      <th>Juanes / Nelly Furtado</th>\n",
       "      <td>7</td>\n",
       "      <td>Fotografía</td>\n",
       "    </tr>\n",
       "    <tr>\n",
       "      <th>Portishead</th>\n",
       "      <td>7</td>\n",
       "      <td>Mourning AirAll MineCowboysOverSeven MonthsOnl...</td>\n",
       "    </tr>\n",
       "    <tr>\n",
       "      <th>Natalie Cole</th>\n",
       "      <td>7</td>\n",
       "      <td>Miss You Like CrazyI Can't Say NoStarting Over...</td>\n",
       "    </tr>\n",
       "    <tr>\n",
       "      <th>Marc Anthony</th>\n",
       "      <td>11</td>\n",
       "      <td>Si Te VasHasta Que Te ConociDímeloPalabras De ...</td>\n",
       "    </tr>\n",
       "    <tr>\n",
       "      <th>Juanes</th>\n",
       "      <td>76</td>\n",
       "      <td>Bandera De Manos (Remix)Para Tu AmorFijate Bie...</td>\n",
       "    </tr>\n",
       "  </tbody>\n",
       "</table>\n",
       "</div>"
      ],
      "text/plain": [
       "                                             Count                                               Song\n",
       "Artist                                                                                               \n",
       "Adriana Calcanhotto                              1                           Music/Impressive Instant\n",
       "John Brown's Body                                1                                  Poor Man's Prayer\n",
       "Jorge Alfano                                     1                 Rivers of Zimbabwe (Album Version)\n",
       "Kanye West                                       1                                      Street Lights\n",
       "Limp Bizkit                                      1                         Rollin' (Air Raid Vehicle)\n",
       "MGMT                                             1                                          Brian Eno\n",
       "Metro Area                                       1                                          Caught Up\n",
       "Modest Mouse                                     1                                         Dance Hall\n",
       "Nathan Fake                                      1                    The Sky Was Pink (Holden Remix)\n",
       "Neri Per Caso                                    1                                            Fortuna\n",
       "Nick Cave/Shane MacGowan                         1                             What A Wonderful World\n",
       "Nick Drake                                       1                                      Bryter Layter\n",
       "OneRepublic                                      1                                            Secrets\n",
       "Otis Rush                                        1                            Right Place_ Wrong Time\n",
       "Ponto De Equilíbrio                              1                                   Poder Da Palavra\n",
       "Rex Mundi                                        1                                      Kalua Islands\n",
       "Ricky Martin                                     1                                          She Bangs\n",
       "Righteous Jams                                   1                                            Bust It\n",
       "Rubin Steiner                                    1                                     Take your time\n",
       "Rufus Thomas                                     1                                    Walking the dog\n",
       "SUPREME BEINGS OF LEISURE                        1                                     Never the Same\n",
       "Saga                                             1                                     Rise and shine\n",
       "Sam and Dave                                     1                                 Hold on I'm Coming\n",
       "Santana                                          1                              Daughter Of The Night\n",
       "Slightly Stoopid                                 1                                Everything You Need\n",
       "Stevie B                                         1                                 I Wanna Be The One\n",
       "Talib Kweli                                      1                                      Around My Way\n",
       "The Church                                       1                                       Night Flower\n",
       "The Koffin Kats                                  1                                          Purgatory\n",
       "The Police                                       1                      Spirits In The Material World\n",
       "Inner Circle                                     1                                              I Spy\n",
       "Inaya Day                                        1                             Hold Your Head Up High\n",
       "Vinícius de Moraes                               1                                     Minha Namorada\n",
       "Grupo Gale                                       1                                          Perdóname\n",
       "Harmonia                                         1                                      Sehr kosmisch\n",
       "Delerium                                         1                                       Just A Dream\n",
       "Darren Styles                                    1                                         Flashlight\n",
       "DJ Quik                                          1                                             Get Up\n",
       "Céline Dion                                      1                                My Heart Will Go On\n",
       "Counting Crows                                   1                                          Mr. Jones\n",
       "Cirrus                                           1                                  Breakbeat Suckers\n",
       "Cartola                                          1                                           Tive Sim\n",
       "Busta Rhymes / Swizz Beatz                       1                                      New York Shit\n",
       "Buju Banton                                      1                                         No Respect\n",
       "Brant Bjork                                      1                                          Searchin'\n",
       "Björk                                            1                                               Undo\n",
       "Bedouin Soundclash                               1                                     Nothing To Say\n",
       "Aventura                                         1                                      Amor De Madre\n",
       "Antonio Vivaldi                                  1      The Four Seasons - Winter - Allegro Non Molto\n",
       "Andres Calamaro                                  1                                    Nunca lo sabran\n",
       "America                                          1                                 Sister Golden Hair\n",
       "Dora The Explorer                                1                                        Oye Como Va\n",
       "Dwight Yoakam                                    1                                     You're The One\n",
       "Dido                                             1                                    My Lover's Gone\n",
       "Elbow                                            1                                Grounds For Divorce\n",
       "Elton John                                       1                                            Reverie\n",
       "Elva Hsiao                                       1                                  Honey Honey Honey\n",
       "Emilio Navaira                                   1                                  Lucero De Mi Alma\n",
       "Grave Plott                                      1           Killa Season featuring Brotha Lynch Hung\n",
       "Florence + The Machine                           1                     Dog Days Are Over (Radio Edit)\n",
       "Enrique Iglesias                                 1                                       Al Despertar\n",
       "Ennio Morricone                                  1                           Chi Mai (El Profesional)\n",
       "Nick Cave                                        2                          Fire Down BelowPinery Boy\n",
       "Thievery Corporation                             2                                        Racing East\n",
       "Jerry Rivera                                     2                        Rubias De New YorkYira Yira\n",
       "George Lopez                                     2                        Grandma (America'S Mexican)\n",
       "Vilma Palma e Vampiros                           2                               Auto rojoLa pachanga\n",
       "Carlos Santana & Mahavishnu John McLaughlin      2                                    MeditationNaima\n",
       "Ruben Blades                                     2        Pedro Navaja (Live LP Version)Sin Tu Carino\n",
       "Nick Cave & The Bad Seeds                        2  Henry Lee (1998 Digital Remaster)The Ship Song...\n",
       "Just Jack                                        2                         No TimeStarz In Their Eyes\n",
       "Maelo Ruiz                                       4  Asi Eres TuNo Más MentirasTe Necesito Mi AmorF...\n",
       "Rubén Blades                                     4           Como NosotrosEstampaConsideraciónLa Ruta\n",
       "Marc Anthony;Jennifer Lopez                      5                                        Escapémonos\n",
       "Juanes / Nelly Furtado                           7                                         Fotografía\n",
       "Portishead                                       7  Mourning AirAll MineCowboysOverSeven MonthsOnl...\n",
       "Natalie Cole                                     7  Miss You Like CrazyI Can't Say NoStarting Over...\n",
       "Marc Anthony                                    11  Si Te VasHasta Que Te ConociDímeloPalabras De ...\n",
       "Juanes                                          76  Bandera De Manos (Remix)Para Tu AmorFijate Bie..."
      ]
     },
     "execution_count": 60,
     "metadata": {
      "tags": []
     },
     "output_type": "execute_result"
    }
   ],
   "source": [
    "toy_triplets[[\"Count\", \"Artist\", \"Song\"]][toy_triplets[\"UserId\"]==users[8536]].groupby([\"Artist\"]).sum().sort_values(by=[\"Count\"])"
   ]
  },
  {
   "cell_type": "markdown",
   "metadata": {
    "colab_type": "text",
    "id": "XjsiHl0ATPrp"
   },
   "source": [
    "# Uniqueness"
   ]
  },
  {
   "cell_type": "code",
   "execution_count": 6,
   "metadata": {
    "colab": {
     "base_uri": "https://localhost:8080/",
     "height": 34
    },
    "colab_type": "code",
    "executionInfo": {
     "elapsed": 584,
     "status": "ok",
     "timestamp": 1598538337225,
     "user": {
      "displayName": "Gabrielė Stravinskaitė",
      "photoUrl": "",
      "userId": "00275060314149820189"
     },
     "user_tz": -120
    },
    "id": "DjhJcl_7TYP8",
    "outputId": "076b8b15-bd17-4db1-8b23-915703c09b33"
   },
   "outputs": [
    {
     "name": "stdout",
     "output_type": "stream",
     "text": [
      "0.928 0.9996 0.8052 0.9106\n"
     ]
    }
   ],
   "source": [
    "print(len(np.unique(shannon))/len(shannon), len(np.unique(relative))/len(relative), len(np.unique(gini_index))/len(gini_index), \n",
    "      len(np.unique(hill_no))/len(hill_no))"
   ]
  },
  {
   "cell_type": "code",
   "execution_count": 7,
   "metadata": {
    "colab": {
     "base_uri": "https://localhost:8080/",
     "height": 34
    },
    "colab_type": "code",
    "executionInfo": {
     "elapsed": 2572,
     "status": "ok",
     "timestamp": 1598538353433,
     "user": {
      "displayName": "Gabrielė Stravinskaitė",
      "photoUrl": "",
      "userId": "00275060314149820189"
     },
     "user_tz": -120
    },
    "id": "gUGXkBOgTfo2",
    "outputId": "5702651c-f8cc-4769-c1f0-085cfb81004c"
   },
   "outputs": [
    {
     "data": {
      "text/plain": [
       "9996"
      ]
     },
     "execution_count": 7,
     "metadata": {
      "tags": []
     },
     "output_type": "execute_result"
    }
   ],
   "source": [
    "len(np.unique(relative))"
   ]
  }
 ],
 "metadata": {
  "colab": {
   "authorship_tag": "ABX9TyNQl62TeEuGJahiS7cOxowb",
   "name": "Hierarchical_entropies.ipynb",
   "provenance": [],
   "toc_visible": true
  },
  "kernelspec": {
   "display_name": "Python 3",
   "language": "python",
   "name": "python3"
  },
  "language_info": {
   "codemirror_mode": {
    "name": "ipython",
    "version": 3
   },
   "file_extension": ".py",
   "mimetype": "text/x-python",
   "name": "python",
   "nbconvert_exporter": "python",
   "pygments_lexer": "ipython3",
   "version": "3.7.4"
  },
  "toc": {
   "base_numbering": 1,
   "nav_menu": {},
   "number_sections": true,
   "sideBar": true,
   "skip_h1_title": false,
   "title_cell": "Table of Contents",
   "title_sidebar": "Contents",
   "toc_cell": false,
   "toc_position": {},
   "toc_section_display": true,
   "toc_window_display": false
  },
  "widgets": {
   "application/vnd.jupyter.widget-state+json": {
    "039a654e84244c028e58824c7ffc873e": {
     "model_module": "@jupyter-widgets/controls",
     "model_name": "DescriptionStyleModel",
     "state": {
      "_model_module": "@jupyter-widgets/controls",
      "_model_module_version": "1.5.0",
      "_model_name": "DescriptionStyleModel",
      "_view_count": null,
      "_view_module": "@jupyter-widgets/base",
      "_view_module_version": "1.2.0",
      "_view_name": "StyleView",
      "description_width": ""
     }
    },
    "086704dfcbd44cb89083b572bc5144d4": {
     "model_module": "@jupyter-widgets/base",
     "model_name": "LayoutModel",
     "state": {
      "_model_module": "@jupyter-widgets/base",
      "_model_module_version": "1.2.0",
      "_model_name": "LayoutModel",
      "_view_count": null,
      "_view_module": "@jupyter-widgets/base",
      "_view_module_version": "1.2.0",
      "_view_name": "LayoutView",
      "align_content": null,
      "align_items": null,
      "align_self": null,
      "border": null,
      "bottom": null,
      "display": null,
      "flex": null,
      "flex_flow": null,
      "grid_area": null,
      "grid_auto_columns": null,
      "grid_auto_flow": null,
      "grid_auto_rows": null,
      "grid_column": null,
      "grid_gap": null,
      "grid_row": null,
      "grid_template_areas": null,
      "grid_template_columns": null,
      "grid_template_rows": null,
      "height": null,
      "justify_content": null,
      "justify_items": null,
      "left": null,
      "margin": null,
      "max_height": null,
      "max_width": null,
      "min_height": null,
      "min_width": null,
      "object_fit": null,
      "object_position": null,
      "order": null,
      "overflow": null,
      "overflow_x": null,
      "overflow_y": null,
      "padding": null,
      "right": null,
      "top": null,
      "visibility": null,
      "width": null
     }
    },
    "0fca6ec485444f30a1022e80608933bd": {
     "model_module": "@jupyter-widgets/base",
     "model_name": "LayoutModel",
     "state": {
      "_model_module": "@jupyter-widgets/base",
      "_model_module_version": "1.2.0",
      "_model_name": "LayoutModel",
      "_view_count": null,
      "_view_module": "@jupyter-widgets/base",
      "_view_module_version": "1.2.0",
      "_view_name": "LayoutView",
      "align_content": null,
      "align_items": null,
      "align_self": null,
      "border": null,
      "bottom": null,
      "display": null,
      "flex": null,
      "flex_flow": null,
      "grid_area": null,
      "grid_auto_columns": null,
      "grid_auto_flow": null,
      "grid_auto_rows": null,
      "grid_column": null,
      "grid_gap": null,
      "grid_row": null,
      "grid_template_areas": null,
      "grid_template_columns": null,
      "grid_template_rows": null,
      "height": null,
      "justify_content": null,
      "justify_items": null,
      "left": null,
      "margin": null,
      "max_height": null,
      "max_width": null,
      "min_height": null,
      "min_width": null,
      "object_fit": null,
      "object_position": null,
      "order": null,
      "overflow": null,
      "overflow_x": null,
      "overflow_y": null,
      "padding": null,
      "right": null,
      "top": null,
      "visibility": null,
      "width": null
     }
    },
    "11d699e0a9d0427aa6098656c1b5fb5a": {
     "model_module": "@jupyter-widgets/controls",
     "model_name": "HTMLModel",
     "state": {
      "_dom_classes": [],
      "_model_module": "@jupyter-widgets/controls",
      "_model_module_version": "1.5.0",
      "_model_name": "HTMLModel",
      "_view_count": null,
      "_view_module": "@jupyter-widgets/controls",
      "_view_module_version": "1.5.0",
      "_view_name": "HTMLView",
      "description": "",
      "description_tooltip": null,
      "layout": "IPY_MODEL_6f5621b4a3da44be949e4bcdc97c76dd",
      "placeholder": "​",
      "style": "IPY_MODEL_c10ab20664cc407e8ce5095c9b8d88b0",
      "value": " 10000/10000 [10:58&lt;00:00, 15.18it/s]"
     }
    },
    "1207da17c2e4483cb6b0836cd0aaa10b": {
     "model_module": "@jupyter-widgets/base",
     "model_name": "LayoutModel",
     "state": {
      "_model_module": "@jupyter-widgets/base",
      "_model_module_version": "1.2.0",
      "_model_name": "LayoutModel",
      "_view_count": null,
      "_view_module": "@jupyter-widgets/base",
      "_view_module_version": "1.2.0",
      "_view_name": "LayoutView",
      "align_content": null,
      "align_items": null,
      "align_self": null,
      "border": null,
      "bottom": null,
      "display": null,
      "flex": null,
      "flex_flow": null,
      "grid_area": null,
      "grid_auto_columns": null,
      "grid_auto_flow": null,
      "grid_auto_rows": null,
      "grid_column": null,
      "grid_gap": null,
      "grid_row": null,
      "grid_template_areas": null,
      "grid_template_columns": null,
      "grid_template_rows": null,
      "height": null,
      "justify_content": null,
      "justify_items": null,
      "left": null,
      "margin": null,
      "max_height": null,
      "max_width": null,
      "min_height": null,
      "min_width": null,
      "object_fit": null,
      "object_position": null,
      "order": null,
      "overflow": null,
      "overflow_x": null,
      "overflow_y": null,
      "padding": null,
      "right": null,
      "top": null,
      "visibility": null,
      "width": null
     }
    },
    "213e90b6a59b466dbd061eae580b6652": {
     "model_module": "@jupyter-widgets/controls",
     "model_name": "HBoxModel",
     "state": {
      "_dom_classes": [],
      "_model_module": "@jupyter-widgets/controls",
      "_model_module_version": "1.5.0",
      "_model_name": "HBoxModel",
      "_view_count": null,
      "_view_module": "@jupyter-widgets/controls",
      "_view_module_version": "1.5.0",
      "_view_name": "HBoxView",
      "box_style": "",
      "children": [
       "IPY_MODEL_3435ce929cdb40ee8d3dba34cfeba5f4",
       "IPY_MODEL_ab4e3244c1e44aabaf37b4f95e669371"
      ],
      "layout": "IPY_MODEL_1207da17c2e4483cb6b0836cd0aaa10b"
     }
    },
    "2542530ef5e94dbd8c87e2ddd07d01ac": {
     "model_module": "@jupyter-widgets/controls",
     "model_name": "ProgressStyleModel",
     "state": {
      "_model_module": "@jupyter-widgets/controls",
      "_model_module_version": "1.5.0",
      "_model_name": "ProgressStyleModel",
      "_view_count": null,
      "_view_module": "@jupyter-widgets/base",
      "_view_module_version": "1.2.0",
      "_view_name": "StyleView",
      "bar_color": null,
      "description_width": "initial"
     }
    },
    "31dad4364cc24a249d77b4ded283b1e6": {
     "model_module": "@jupyter-widgets/base",
     "model_name": "LayoutModel",
     "state": {
      "_model_module": "@jupyter-widgets/base",
      "_model_module_version": "1.2.0",
      "_model_name": "LayoutModel",
      "_view_count": null,
      "_view_module": "@jupyter-widgets/base",
      "_view_module_version": "1.2.0",
      "_view_name": "LayoutView",
      "align_content": null,
      "align_items": null,
      "align_self": null,
      "border": null,
      "bottom": null,
      "display": null,
      "flex": null,
      "flex_flow": null,
      "grid_area": null,
      "grid_auto_columns": null,
      "grid_auto_flow": null,
      "grid_auto_rows": null,
      "grid_column": null,
      "grid_gap": null,
      "grid_row": null,
      "grid_template_areas": null,
      "grid_template_columns": null,
      "grid_template_rows": null,
      "height": null,
      "justify_content": null,
      "justify_items": null,
      "left": null,
      "margin": null,
      "max_height": null,
      "max_width": null,
      "min_height": null,
      "min_width": null,
      "object_fit": null,
      "object_position": null,
      "order": null,
      "overflow": null,
      "overflow_x": null,
      "overflow_y": null,
      "padding": null,
      "right": null,
      "top": null,
      "visibility": null,
      "width": null
     }
    },
    "3275dc44732e4ead980db7f29fd7f9f6": {
     "model_module": "@jupyter-widgets/base",
     "model_name": "LayoutModel",
     "state": {
      "_model_module": "@jupyter-widgets/base",
      "_model_module_version": "1.2.0",
      "_model_name": "LayoutModel",
      "_view_count": null,
      "_view_module": "@jupyter-widgets/base",
      "_view_module_version": "1.2.0",
      "_view_name": "LayoutView",
      "align_content": null,
      "align_items": null,
      "align_self": null,
      "border": null,
      "bottom": null,
      "display": null,
      "flex": null,
      "flex_flow": null,
      "grid_area": null,
      "grid_auto_columns": null,
      "grid_auto_flow": null,
      "grid_auto_rows": null,
      "grid_column": null,
      "grid_gap": null,
      "grid_row": null,
      "grid_template_areas": null,
      "grid_template_columns": null,
      "grid_template_rows": null,
      "height": null,
      "justify_content": null,
      "justify_items": null,
      "left": null,
      "margin": null,
      "max_height": null,
      "max_width": null,
      "min_height": null,
      "min_width": null,
      "object_fit": null,
      "object_position": null,
      "order": null,
      "overflow": null,
      "overflow_x": null,
      "overflow_y": null,
      "padding": null,
      "right": null,
      "top": null,
      "visibility": null,
      "width": null
     }
    },
    "32cc068fb833410aba93ce3b5fa19f25": {
     "model_module": "@jupyter-widgets/controls",
     "model_name": "HBoxModel",
     "state": {
      "_dom_classes": [],
      "_model_module": "@jupyter-widgets/controls",
      "_model_module_version": "1.5.0",
      "_model_name": "HBoxModel",
      "_view_count": null,
      "_view_module": "@jupyter-widgets/controls",
      "_view_module_version": "1.5.0",
      "_view_name": "HBoxView",
      "box_style": "",
      "children": [
       "IPY_MODEL_aff42467c2c64df3bbf2f83072911cca",
       "IPY_MODEL_11d699e0a9d0427aa6098656c1b5fb5a"
      ],
      "layout": "IPY_MODEL_5661f52439bc40b0868eb126deeb70a4"
     }
    },
    "3435ce929cdb40ee8d3dba34cfeba5f4": {
     "model_module": "@jupyter-widgets/controls",
     "model_name": "FloatProgressModel",
     "state": {
      "_dom_classes": [],
      "_model_module": "@jupyter-widgets/controls",
      "_model_module_version": "1.5.0",
      "_model_name": "FloatProgressModel",
      "_view_count": null,
      "_view_module": "@jupyter-widgets/controls",
      "_view_module_version": "1.5.0",
      "_view_name": "ProgressView",
      "bar_style": "success",
      "description": "100%",
      "description_tooltip": null,
      "layout": "IPY_MODEL_0fca6ec485444f30a1022e80608933bd",
      "max": 10000,
      "min": 0,
      "orientation": "horizontal",
      "style": "IPY_MODEL_b39bb270bf74498a8021011936ce3a79",
      "value": 10000
     }
    },
    "35d29384b34a41538bf3fd298690dcd1": {
     "model_module": "@jupyter-widgets/base",
     "model_name": "LayoutModel",
     "state": {
      "_model_module": "@jupyter-widgets/base",
      "_model_module_version": "1.2.0",
      "_model_name": "LayoutModel",
      "_view_count": null,
      "_view_module": "@jupyter-widgets/base",
      "_view_module_version": "1.2.0",
      "_view_name": "LayoutView",
      "align_content": null,
      "align_items": null,
      "align_self": null,
      "border": null,
      "bottom": null,
      "display": null,
      "flex": null,
      "flex_flow": null,
      "grid_area": null,
      "grid_auto_columns": null,
      "grid_auto_flow": null,
      "grid_auto_rows": null,
      "grid_column": null,
      "grid_gap": null,
      "grid_row": null,
      "grid_template_areas": null,
      "grid_template_columns": null,
      "grid_template_rows": null,
      "height": null,
      "justify_content": null,
      "justify_items": null,
      "left": null,
      "margin": null,
      "max_height": null,
      "max_width": null,
      "min_height": null,
      "min_width": null,
      "object_fit": null,
      "object_position": null,
      "order": null,
      "overflow": null,
      "overflow_x": null,
      "overflow_y": null,
      "padding": null,
      "right": null,
      "top": null,
      "visibility": null,
      "width": null
     }
    },
    "3f2a49a4e12f45908798341553d8daca": {
     "model_module": "@jupyter-widgets/controls",
     "model_name": "HTMLModel",
     "state": {
      "_dom_classes": [],
      "_model_module": "@jupyter-widgets/controls",
      "_model_module_version": "1.5.0",
      "_model_name": "HTMLModel",
      "_view_count": null,
      "_view_module": "@jupyter-widgets/controls",
      "_view_module_version": "1.5.0",
      "_view_name": "HTMLView",
      "description": "",
      "description_tooltip": null,
      "layout": "IPY_MODEL_c51134ff12b647aa90f9d51f45641fa0",
      "placeholder": "​",
      "style": "IPY_MODEL_039a654e84244c028e58824c7ffc873e",
      "value": " 10000/10000 [1:14:28&lt;00:00,  2.24it/s]"
     }
    },
    "46a430260eca46ca83df8700cb4d7e6c": {
     "model_module": "@jupyter-widgets/base",
     "model_name": "LayoutModel",
     "state": {
      "_model_module": "@jupyter-widgets/base",
      "_model_module_version": "1.2.0",
      "_model_name": "LayoutModel",
      "_view_count": null,
      "_view_module": "@jupyter-widgets/base",
      "_view_module_version": "1.2.0",
      "_view_name": "LayoutView",
      "align_content": null,
      "align_items": null,
      "align_self": null,
      "border": null,
      "bottom": null,
      "display": null,
      "flex": null,
      "flex_flow": null,
      "grid_area": null,
      "grid_auto_columns": null,
      "grid_auto_flow": null,
      "grid_auto_rows": null,
      "grid_column": null,
      "grid_gap": null,
      "grid_row": null,
      "grid_template_areas": null,
      "grid_template_columns": null,
      "grid_template_rows": null,
      "height": null,
      "justify_content": null,
      "justify_items": null,
      "left": null,
      "margin": null,
      "max_height": null,
      "max_width": null,
      "min_height": null,
      "min_width": null,
      "object_fit": null,
      "object_position": null,
      "order": null,
      "overflow": null,
      "overflow_x": null,
      "overflow_y": null,
      "padding": null,
      "right": null,
      "top": null,
      "visibility": null,
      "width": null
     }
    },
    "4c0dbe74b8424c5e8aa8c528fd1eee24": {
     "model_module": "@jupyter-widgets/base",
     "model_name": "LayoutModel",
     "state": {
      "_model_module": "@jupyter-widgets/base",
      "_model_module_version": "1.2.0",
      "_model_name": "LayoutModel",
      "_view_count": null,
      "_view_module": "@jupyter-widgets/base",
      "_view_module_version": "1.2.0",
      "_view_name": "LayoutView",
      "align_content": null,
      "align_items": null,
      "align_self": null,
      "border": null,
      "bottom": null,
      "display": null,
      "flex": null,
      "flex_flow": null,
      "grid_area": null,
      "grid_auto_columns": null,
      "grid_auto_flow": null,
      "grid_auto_rows": null,
      "grid_column": null,
      "grid_gap": null,
      "grid_row": null,
      "grid_template_areas": null,
      "grid_template_columns": null,
      "grid_template_rows": null,
      "height": null,
      "justify_content": null,
      "justify_items": null,
      "left": null,
      "margin": null,
      "max_height": null,
      "max_width": null,
      "min_height": null,
      "min_width": null,
      "object_fit": null,
      "object_position": null,
      "order": null,
      "overflow": null,
      "overflow_x": null,
      "overflow_y": null,
      "padding": null,
      "right": null,
      "top": null,
      "visibility": null,
      "width": null
     }
    },
    "502cfdba790247f691de9abb7df806ef": {
     "model_module": "@jupyter-widgets/controls",
     "model_name": "DescriptionStyleModel",
     "state": {
      "_model_module": "@jupyter-widgets/controls",
      "_model_module_version": "1.5.0",
      "_model_name": "DescriptionStyleModel",
      "_view_count": null,
      "_view_module": "@jupyter-widgets/base",
      "_view_module_version": "1.2.0",
      "_view_name": "StyleView",
      "description_width": ""
     }
    },
    "516145ab45634a3baeddcf822d2db2ef": {
     "model_module": "@jupyter-widgets/base",
     "model_name": "LayoutModel",
     "state": {
      "_model_module": "@jupyter-widgets/base",
      "_model_module_version": "1.2.0",
      "_model_name": "LayoutModel",
      "_view_count": null,
      "_view_module": "@jupyter-widgets/base",
      "_view_module_version": "1.2.0",
      "_view_name": "LayoutView",
      "align_content": null,
      "align_items": null,
      "align_self": null,
      "border": null,
      "bottom": null,
      "display": null,
      "flex": null,
      "flex_flow": null,
      "grid_area": null,
      "grid_auto_columns": null,
      "grid_auto_flow": null,
      "grid_auto_rows": null,
      "grid_column": null,
      "grid_gap": null,
      "grid_row": null,
      "grid_template_areas": null,
      "grid_template_columns": null,
      "grid_template_rows": null,
      "height": null,
      "justify_content": null,
      "justify_items": null,
      "left": null,
      "margin": null,
      "max_height": null,
      "max_width": null,
      "min_height": null,
      "min_width": null,
      "object_fit": null,
      "object_position": null,
      "order": null,
      "overflow": null,
      "overflow_x": null,
      "overflow_y": null,
      "padding": null,
      "right": null,
      "top": null,
      "visibility": null,
      "width": null
     }
    },
    "5661f52439bc40b0868eb126deeb70a4": {
     "model_module": "@jupyter-widgets/base",
     "model_name": "LayoutModel",
     "state": {
      "_model_module": "@jupyter-widgets/base",
      "_model_module_version": "1.2.0",
      "_model_name": "LayoutModel",
      "_view_count": null,
      "_view_module": "@jupyter-widgets/base",
      "_view_module_version": "1.2.0",
      "_view_name": "LayoutView",
      "align_content": null,
      "align_items": null,
      "align_self": null,
      "border": null,
      "bottom": null,
      "display": null,
      "flex": null,
      "flex_flow": null,
      "grid_area": null,
      "grid_auto_columns": null,
      "grid_auto_flow": null,
      "grid_auto_rows": null,
      "grid_column": null,
      "grid_gap": null,
      "grid_row": null,
      "grid_template_areas": null,
      "grid_template_columns": null,
      "grid_template_rows": null,
      "height": null,
      "justify_content": null,
      "justify_items": null,
      "left": null,
      "margin": null,
      "max_height": null,
      "max_width": null,
      "min_height": null,
      "min_width": null,
      "object_fit": null,
      "object_position": null,
      "order": null,
      "overflow": null,
      "overflow_x": null,
      "overflow_y": null,
      "padding": null,
      "right": null,
      "top": null,
      "visibility": null,
      "width": null
     }
    },
    "63fa5cb932bf4246b4ae52d62e216daa": {
     "model_module": "@jupyter-widgets/controls",
     "model_name": "HBoxModel",
     "state": {
      "_dom_classes": [],
      "_model_module": "@jupyter-widgets/controls",
      "_model_module_version": "1.5.0",
      "_model_name": "HBoxModel",
      "_view_count": null,
      "_view_module": "@jupyter-widgets/controls",
      "_view_module_version": "1.5.0",
      "_view_name": "HBoxView",
      "box_style": "",
      "children": [
       "IPY_MODEL_afa6cbd53d7941ac9daddfa50c040f35",
       "IPY_MODEL_af5bf8642e3b45c3875b70ee819cf81d"
      ],
      "layout": "IPY_MODEL_31dad4364cc24a249d77b4ded283b1e6"
     }
    },
    "6a0740c679954555bab28796210bc807": {
     "model_module": "@jupyter-widgets/base",
     "model_name": "LayoutModel",
     "state": {
      "_model_module": "@jupyter-widgets/base",
      "_model_module_version": "1.2.0",
      "_model_name": "LayoutModel",
      "_view_count": null,
      "_view_module": "@jupyter-widgets/base",
      "_view_module_version": "1.2.0",
      "_view_name": "LayoutView",
      "align_content": null,
      "align_items": null,
      "align_self": null,
      "border": null,
      "bottom": null,
      "display": null,
      "flex": null,
      "flex_flow": null,
      "grid_area": null,
      "grid_auto_columns": null,
      "grid_auto_flow": null,
      "grid_auto_rows": null,
      "grid_column": null,
      "grid_gap": null,
      "grid_row": null,
      "grid_template_areas": null,
      "grid_template_columns": null,
      "grid_template_rows": null,
      "height": null,
      "justify_content": null,
      "justify_items": null,
      "left": null,
      "margin": null,
      "max_height": null,
      "max_width": null,
      "min_height": null,
      "min_width": null,
      "object_fit": null,
      "object_position": null,
      "order": null,
      "overflow": null,
      "overflow_x": null,
      "overflow_y": null,
      "padding": null,
      "right": null,
      "top": null,
      "visibility": null,
      "width": null
     }
    },
    "6f5621b4a3da44be949e4bcdc97c76dd": {
     "model_module": "@jupyter-widgets/base",
     "model_name": "LayoutModel",
     "state": {
      "_model_module": "@jupyter-widgets/base",
      "_model_module_version": "1.2.0",
      "_model_name": "LayoutModel",
      "_view_count": null,
      "_view_module": "@jupyter-widgets/base",
      "_view_module_version": "1.2.0",
      "_view_name": "LayoutView",
      "align_content": null,
      "align_items": null,
      "align_self": null,
      "border": null,
      "bottom": null,
      "display": null,
      "flex": null,
      "flex_flow": null,
      "grid_area": null,
      "grid_auto_columns": null,
      "grid_auto_flow": null,
      "grid_auto_rows": null,
      "grid_column": null,
      "grid_gap": null,
      "grid_row": null,
      "grid_template_areas": null,
      "grid_template_columns": null,
      "grid_template_rows": null,
      "height": null,
      "justify_content": null,
      "justify_items": null,
      "left": null,
      "margin": null,
      "max_height": null,
      "max_width": null,
      "min_height": null,
      "min_width": null,
      "object_fit": null,
      "object_position": null,
      "order": null,
      "overflow": null,
      "overflow_x": null,
      "overflow_y": null,
      "padding": null,
      "right": null,
      "top": null,
      "visibility": null,
      "width": null
     }
    },
    "75f3787cc0ce4189a46fdce2747f4144": {
     "model_module": "@jupyter-widgets/base",
     "model_name": "LayoutModel",
     "state": {
      "_model_module": "@jupyter-widgets/base",
      "_model_module_version": "1.2.0",
      "_model_name": "LayoutModel",
      "_view_count": null,
      "_view_module": "@jupyter-widgets/base",
      "_view_module_version": "1.2.0",
      "_view_name": "LayoutView",
      "align_content": null,
      "align_items": null,
      "align_self": null,
      "border": null,
      "bottom": null,
      "display": null,
      "flex": null,
      "flex_flow": null,
      "grid_area": null,
      "grid_auto_columns": null,
      "grid_auto_flow": null,
      "grid_auto_rows": null,
      "grid_column": null,
      "grid_gap": null,
      "grid_row": null,
      "grid_template_areas": null,
      "grid_template_columns": null,
      "grid_template_rows": null,
      "height": null,
      "justify_content": null,
      "justify_items": null,
      "left": null,
      "margin": null,
      "max_height": null,
      "max_width": null,
      "min_height": null,
      "min_width": null,
      "object_fit": null,
      "object_position": null,
      "order": null,
      "overflow": null,
      "overflow_x": null,
      "overflow_y": null,
      "padding": null,
      "right": null,
      "top": null,
      "visibility": null,
      "width": null
     }
    },
    "777e5f6823714e15a53c57aadaf93d34": {
     "model_module": "@jupyter-widgets/controls",
     "model_name": "DescriptionStyleModel",
     "state": {
      "_model_module": "@jupyter-widgets/controls",
      "_model_module_version": "1.5.0",
      "_model_name": "DescriptionStyleModel",
      "_view_count": null,
      "_view_module": "@jupyter-widgets/base",
      "_view_module_version": "1.2.0",
      "_view_name": "StyleView",
      "description_width": ""
     }
    },
    "87c1db3938624e569f2415c1bbd39168": {
     "model_module": "@jupyter-widgets/controls",
     "model_name": "HTMLModel",
     "state": {
      "_dom_classes": [],
      "_model_module": "@jupyter-widgets/controls",
      "_model_module_version": "1.5.0",
      "_model_name": "HTMLModel",
      "_view_count": null,
      "_view_module": "@jupyter-widgets/controls",
      "_view_module_version": "1.5.0",
      "_view_name": "HTMLView",
      "description": "",
      "description_tooltip": null,
      "layout": "IPY_MODEL_3275dc44732e4ead980db7f29fd7f9f6",
      "placeholder": "​",
      "style": "IPY_MODEL_777e5f6823714e15a53c57aadaf93d34",
      "value": " 10000/10000 [17:31&lt;00:00,  9.51it/s]"
     }
    },
    "89307956876245b0b71fbf735670f9f1": {
     "model_module": "@jupyter-widgets/controls",
     "model_name": "FloatProgressModel",
     "state": {
      "_dom_classes": [],
      "_model_module": "@jupyter-widgets/controls",
      "_model_module_version": "1.5.0",
      "_model_name": "FloatProgressModel",
      "_view_count": null,
      "_view_module": "@jupyter-widgets/controls",
      "_view_module_version": "1.5.0",
      "_view_name": "ProgressView",
      "bar_style": "success",
      "description": "100%",
      "description_tooltip": null,
      "layout": "IPY_MODEL_086704dfcbd44cb89083b572bc5144d4",
      "max": 10000,
      "min": 0,
      "orientation": "horizontal",
      "style": "IPY_MODEL_b4d3ce89ded14008a5b26034cd95a74f",
      "value": 10000
     }
    },
    "8cf73d643a1d47a4a5e76e264181de5a": {
     "model_module": "@jupyter-widgets/controls",
     "model_name": "ProgressStyleModel",
     "state": {
      "_model_module": "@jupyter-widgets/controls",
      "_model_module_version": "1.5.0",
      "_model_name": "ProgressStyleModel",
      "_view_count": null,
      "_view_module": "@jupyter-widgets/base",
      "_view_module_version": "1.2.0",
      "_view_name": "StyleView",
      "bar_color": null,
      "description_width": "initial"
     }
    },
    "9c4e2b7e942b4d50b9dfc626c59ea840": {
     "model_module": "@jupyter-widgets/controls",
     "model_name": "FloatProgressModel",
     "state": {
      "_dom_classes": [],
      "_model_module": "@jupyter-widgets/controls",
      "_model_module_version": "1.5.0",
      "_model_name": "FloatProgressModel",
      "_view_count": null,
      "_view_module": "@jupyter-widgets/controls",
      "_view_module_version": "1.5.0",
      "_view_name": "ProgressView",
      "bar_style": "success",
      "description": "100%",
      "description_tooltip": null,
      "layout": "IPY_MODEL_df94cfe5446e45179084c97d3dce26e2",
      "max": 10000,
      "min": 0,
      "orientation": "horizontal",
      "style": "IPY_MODEL_da6b00c803244a2dbac2dbc10f03c382",
      "value": 10000
     }
    },
    "ab4e3244c1e44aabaf37b4f95e669371": {
     "model_module": "@jupyter-widgets/controls",
     "model_name": "HTMLModel",
     "state": {
      "_dom_classes": [],
      "_model_module": "@jupyter-widgets/controls",
      "_model_module_version": "1.5.0",
      "_model_name": "HTMLModel",
      "_view_count": null,
      "_view_module": "@jupyter-widgets/controls",
      "_view_module_version": "1.5.0",
      "_view_name": "HTMLView",
      "description": "",
      "description_tooltip": null,
      "layout": "IPY_MODEL_6a0740c679954555bab28796210bc807",
      "placeholder": "​",
      "style": "IPY_MODEL_502cfdba790247f691de9abb7df806ef",
      "value": " 10000/10000 [1:56:55&lt;00:00,  1.43it/s]"
     }
    },
    "af5bf8642e3b45c3875b70ee819cf81d": {
     "model_module": "@jupyter-widgets/controls",
     "model_name": "HTMLModel",
     "state": {
      "_dom_classes": [],
      "_model_module": "@jupyter-widgets/controls",
      "_model_module_version": "1.5.0",
      "_model_name": "HTMLModel",
      "_view_count": null,
      "_view_module": "@jupyter-widgets/controls",
      "_view_module_version": "1.5.0",
      "_view_name": "HTMLView",
      "description": "",
      "description_tooltip": null,
      "layout": "IPY_MODEL_46a430260eca46ca83df8700cb4d7e6c",
      "placeholder": "​",
      "style": "IPY_MODEL_ded7bfea28b84d71a17d86a17b4fcff7",
      "value": " 10000/10000 [40:29&lt;00:00,  4.12it/s]"
     }
    },
    "afa6cbd53d7941ac9daddfa50c040f35": {
     "model_module": "@jupyter-widgets/controls",
     "model_name": "FloatProgressModel",
     "state": {
      "_dom_classes": [],
      "_model_module": "@jupyter-widgets/controls",
      "_model_module_version": "1.5.0",
      "_model_name": "FloatProgressModel",
      "_view_count": null,
      "_view_module": "@jupyter-widgets/controls",
      "_view_module_version": "1.5.0",
      "_view_name": "ProgressView",
      "bar_style": "success",
      "description": "100%",
      "description_tooltip": null,
      "layout": "IPY_MODEL_4c0dbe74b8424c5e8aa8c528fd1eee24",
      "max": 10000,
      "min": 0,
      "orientation": "horizontal",
      "style": "IPY_MODEL_8cf73d643a1d47a4a5e76e264181de5a",
      "value": 10000
     }
    },
    "aff42467c2c64df3bbf2f83072911cca": {
     "model_module": "@jupyter-widgets/controls",
     "model_name": "FloatProgressModel",
     "state": {
      "_dom_classes": [],
      "_model_module": "@jupyter-widgets/controls",
      "_model_module_version": "1.5.0",
      "_model_name": "FloatProgressModel",
      "_view_count": null,
      "_view_module": "@jupyter-widgets/controls",
      "_view_module_version": "1.5.0",
      "_view_name": "ProgressView",
      "bar_style": "success",
      "description": "100%",
      "description_tooltip": null,
      "layout": "IPY_MODEL_75f3787cc0ce4189a46fdce2747f4144",
      "max": 10000,
      "min": 0,
      "orientation": "horizontal",
      "style": "IPY_MODEL_2542530ef5e94dbd8c87e2ddd07d01ac",
      "value": 10000
     }
    },
    "b39bb270bf74498a8021011936ce3a79": {
     "model_module": "@jupyter-widgets/controls",
     "model_name": "ProgressStyleModel",
     "state": {
      "_model_module": "@jupyter-widgets/controls",
      "_model_module_version": "1.5.0",
      "_model_name": "ProgressStyleModel",
      "_view_count": null,
      "_view_module": "@jupyter-widgets/base",
      "_view_module_version": "1.2.0",
      "_view_name": "StyleView",
      "bar_color": null,
      "description_width": "initial"
     }
    },
    "b4d3ce89ded14008a5b26034cd95a74f": {
     "model_module": "@jupyter-widgets/controls",
     "model_name": "ProgressStyleModel",
     "state": {
      "_model_module": "@jupyter-widgets/controls",
      "_model_module_version": "1.5.0",
      "_model_name": "ProgressStyleModel",
      "_view_count": null,
      "_view_module": "@jupyter-widgets/base",
      "_view_module_version": "1.2.0",
      "_view_name": "StyleView",
      "bar_color": null,
      "description_width": "initial"
     }
    },
    "c10ab20664cc407e8ce5095c9b8d88b0": {
     "model_module": "@jupyter-widgets/controls",
     "model_name": "DescriptionStyleModel",
     "state": {
      "_model_module": "@jupyter-widgets/controls",
      "_model_module_version": "1.5.0",
      "_model_name": "DescriptionStyleModel",
      "_view_count": null,
      "_view_module": "@jupyter-widgets/base",
      "_view_module_version": "1.2.0",
      "_view_name": "StyleView",
      "description_width": ""
     }
    },
    "c51134ff12b647aa90f9d51f45641fa0": {
     "model_module": "@jupyter-widgets/base",
     "model_name": "LayoutModel",
     "state": {
      "_model_module": "@jupyter-widgets/base",
      "_model_module_version": "1.2.0",
      "_model_name": "LayoutModel",
      "_view_count": null,
      "_view_module": "@jupyter-widgets/base",
      "_view_module_version": "1.2.0",
      "_view_name": "LayoutView",
      "align_content": null,
      "align_items": null,
      "align_self": null,
      "border": null,
      "bottom": null,
      "display": null,
      "flex": null,
      "flex_flow": null,
      "grid_area": null,
      "grid_auto_columns": null,
      "grid_auto_flow": null,
      "grid_auto_rows": null,
      "grid_column": null,
      "grid_gap": null,
      "grid_row": null,
      "grid_template_areas": null,
      "grid_template_columns": null,
      "grid_template_rows": null,
      "height": null,
      "justify_content": null,
      "justify_items": null,
      "left": null,
      "margin": null,
      "max_height": null,
      "max_width": null,
      "min_height": null,
      "min_width": null,
      "object_fit": null,
      "object_position": null,
      "order": null,
      "overflow": null,
      "overflow_x": null,
      "overflow_y": null,
      "padding": null,
      "right": null,
      "top": null,
      "visibility": null,
      "width": null
     }
    },
    "da6b00c803244a2dbac2dbc10f03c382": {
     "model_module": "@jupyter-widgets/controls",
     "model_name": "ProgressStyleModel",
     "state": {
      "_model_module": "@jupyter-widgets/controls",
      "_model_module_version": "1.5.0",
      "_model_name": "ProgressStyleModel",
      "_view_count": null,
      "_view_module": "@jupyter-widgets/base",
      "_view_module_version": "1.2.0",
      "_view_name": "StyleView",
      "bar_color": null,
      "description_width": "initial"
     }
    },
    "ded7bfea28b84d71a17d86a17b4fcff7": {
     "model_module": "@jupyter-widgets/controls",
     "model_name": "DescriptionStyleModel",
     "state": {
      "_model_module": "@jupyter-widgets/controls",
      "_model_module_version": "1.5.0",
      "_model_name": "DescriptionStyleModel",
      "_view_count": null,
      "_view_module": "@jupyter-widgets/base",
      "_view_module_version": "1.2.0",
      "_view_name": "StyleView",
      "description_width": ""
     }
    },
    "df94cfe5446e45179084c97d3dce26e2": {
     "model_module": "@jupyter-widgets/base",
     "model_name": "LayoutModel",
     "state": {
      "_model_module": "@jupyter-widgets/base",
      "_model_module_version": "1.2.0",
      "_model_name": "LayoutModel",
      "_view_count": null,
      "_view_module": "@jupyter-widgets/base",
      "_view_module_version": "1.2.0",
      "_view_name": "LayoutView",
      "align_content": null,
      "align_items": null,
      "align_self": null,
      "border": null,
      "bottom": null,
      "display": null,
      "flex": null,
      "flex_flow": null,
      "grid_area": null,
      "grid_auto_columns": null,
      "grid_auto_flow": null,
      "grid_auto_rows": null,
      "grid_column": null,
      "grid_gap": null,
      "grid_row": null,
      "grid_template_areas": null,
      "grid_template_columns": null,
      "grid_template_rows": null,
      "height": null,
      "justify_content": null,
      "justify_items": null,
      "left": null,
      "margin": null,
      "max_height": null,
      "max_width": null,
      "min_height": null,
      "min_width": null,
      "object_fit": null,
      "object_position": null,
      "order": null,
      "overflow": null,
      "overflow_x": null,
      "overflow_y": null,
      "padding": null,
      "right": null,
      "top": null,
      "visibility": null,
      "width": null
     }
    },
    "e33a8ae3e5774199af3dd3921753a0c3": {
     "model_module": "@jupyter-widgets/controls",
     "model_name": "HBoxModel",
     "state": {
      "_dom_classes": [],
      "_model_module": "@jupyter-widgets/controls",
      "_model_module_version": "1.5.0",
      "_model_name": "HBoxModel",
      "_view_count": null,
      "_view_module": "@jupyter-widgets/controls",
      "_view_module_version": "1.5.0",
      "_view_name": "HBoxView",
      "box_style": "",
      "children": [
       "IPY_MODEL_89307956876245b0b71fbf735670f9f1",
       "IPY_MODEL_87c1db3938624e569f2415c1bbd39168"
      ],
      "layout": "IPY_MODEL_35d29384b34a41538bf3fd298690dcd1"
     }
    },
    "ef05f4de63534428a56647d60e32ca35": {
     "model_module": "@jupyter-widgets/controls",
     "model_name": "HBoxModel",
     "state": {
      "_dom_classes": [],
      "_model_module": "@jupyter-widgets/controls",
      "_model_module_version": "1.5.0",
      "_model_name": "HBoxModel",
      "_view_count": null,
      "_view_module": "@jupyter-widgets/controls",
      "_view_module_version": "1.5.0",
      "_view_name": "HBoxView",
      "box_style": "",
      "children": [
       "IPY_MODEL_9c4e2b7e942b4d50b9dfc626c59ea840",
       "IPY_MODEL_3f2a49a4e12f45908798341553d8daca"
      ],
      "layout": "IPY_MODEL_516145ab45634a3baeddcf822d2db2ef"
     }
    }
   }
  }
 },
 "nbformat": 4,
 "nbformat_minor": 1
}
