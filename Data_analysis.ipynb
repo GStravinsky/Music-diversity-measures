{
 "cells": [
  {
   "cell_type": "code",
   "execution_count": 1,
   "metadata": {
    "colab": {},
    "colab_type": "code",
    "id": "FtYMZRZFRMDX"
   },
   "outputs": [],
   "source": [
    "import numpy as np\n",
    "import pandas as pd \n",
    "from sklearn.decomposition import PCA\n",
    "import matplotlib.pyplot as plt\n",
    "import math\n",
    "from scipy.stats import pearsonr\n",
    "from sklearn.metrics import r2_score"
   ]
  },
  {
   "cell_type": "code",
   "execution_count": 2,
   "metadata": {
    "colab": {
     "base_uri": "https://localhost:8080/",
     "height": 122
    },
    "colab_type": "code",
    "id": "cgHzIRWCRYV4",
    "outputId": "b6ba092f-3cdb-445f-94c4-eddcc64e8569"
   },
   "outputs": [
    {
     "name": "stdout",
     "output_type": "stream",
     "text": [
      "Go to this URL in a browser: https://accounts.google.com/o/oauth2/auth?client_id=947318989803-6bn6qk8qdgf4n4g3pfee6491hc0brc4i.apps.googleusercontent.com&redirect_uri=urn%3aietf%3awg%3aoauth%3a2.0%3aoob&response_type=code&scope=email%20https%3a%2f%2fwww.googleapis.com%2fauth%2fdocs.test%20https%3a%2f%2fwww.googleapis.com%2fauth%2fdrive%20https%3a%2f%2fwww.googleapis.com%2fauth%2fdrive.photos.readonly%20https%3a%2f%2fwww.googleapis.com%2fauth%2fpeopleapi.readonly\n",
      "\n",
      "Enter your authorization code:\n",
      "··········\n",
      "Mounted at /content/drive\n"
     ]
    }
   ],
   "source": [
    "from google.colab import drive\n",
    "drive.mount('/content/drive')"
   ]
  },
  {
   "cell_type": "markdown",
   "metadata": {
    "colab_type": "text",
    "id": "ixJjUpiURMDj"
   },
   "source": [
    "# Loading all data"
   ]
  },
  {
   "cell_type": "markdown",
   "metadata": {
    "colab_type": "text",
    "id": "OlynwgMaRMDj"
   },
   "source": [
    "Loading all datasets used - main triplet data, embedded vectors generates with Poisson factotization, bridge data that connects TrackId with SongId and song genre data. "
   ]
  },
  {
   "cell_type": "code",
   "execution_count": 3,
   "metadata": {
    "colab": {},
    "colab_type": "code",
    "id": "jxPDItebRMDk"
   },
   "outputs": [],
   "source": [
    "# main triplet data\n",
    "data = pd.read_csv(\"/content/drive/My Drive/MSc Statistics/train_triplets.txt\",\n",
    "                   delimiter=\"\\t\", header=None, names= [\"UserId\", \"SongId\", \"Count\"])"
   ]
  },
  {
   "cell_type": "code",
   "execution_count": null,
   "metadata": {
    "colab": {},
    "colab_type": "code",
    "id": "opNRe63-RMDr",
    "outputId": "194b217d-0576-4d82-8175-3ebd703ac7a4"
   },
   "outputs": [
    {
     "data": {
      "text/html": [
       "<div>\n",
       "<style scoped>\n",
       "    .dataframe tbody tr th:only-of-type {\n",
       "        vertical-align: middle;\n",
       "    }\n",
       "\n",
       "    .dataframe tbody tr th {\n",
       "        vertical-align: top;\n",
       "    }\n",
       "\n",
       "    .dataframe thead th {\n",
       "        text-align: right;\n",
       "    }\n",
       "</style>\n",
       "<table border=\"1\" class=\"dataframe\">\n",
       "  <thead>\n",
       "    <tr style=\"text-align: right;\">\n",
       "      <th></th>\n",
       "      <th>UserId</th>\n",
       "      <th>SongId</th>\n",
       "      <th>Count</th>\n",
       "    </tr>\n",
       "  </thead>\n",
       "  <tbody>\n",
       "    <tr>\n",
       "      <th>0</th>\n",
       "      <td>b80344d063b5ccb3212f76538f3d9e43d87dca9e</td>\n",
       "      <td>SOAKIMP12A8C130995</td>\n",
       "      <td>1</td>\n",
       "    </tr>\n",
       "    <tr>\n",
       "      <th>1</th>\n",
       "      <td>b80344d063b5ccb3212f76538f3d9e43d87dca9e</td>\n",
       "      <td>SOAPDEY12A81C210A9</td>\n",
       "      <td>1</td>\n",
       "    </tr>\n",
       "    <tr>\n",
       "      <th>2</th>\n",
       "      <td>b80344d063b5ccb3212f76538f3d9e43d87dca9e</td>\n",
       "      <td>SOBBMDR12A8C13253B</td>\n",
       "      <td>2</td>\n",
       "    </tr>\n",
       "    <tr>\n",
       "      <th>3</th>\n",
       "      <td>b80344d063b5ccb3212f76538f3d9e43d87dca9e</td>\n",
       "      <td>SOBFNSP12AF72A0E22</td>\n",
       "      <td>1</td>\n",
       "    </tr>\n",
       "    <tr>\n",
       "      <th>4</th>\n",
       "      <td>b80344d063b5ccb3212f76538f3d9e43d87dca9e</td>\n",
       "      <td>SOBFOVM12A58A7D494</td>\n",
       "      <td>1</td>\n",
       "    </tr>\n",
       "  </tbody>\n",
       "</table>\n",
       "</div>"
      ],
      "text/plain": [
       "                                     UserId              SongId  Count\n",
       "0  b80344d063b5ccb3212f76538f3d9e43d87dca9e  SOAKIMP12A8C130995      1\n",
       "1  b80344d063b5ccb3212f76538f3d9e43d87dca9e  SOAPDEY12A81C210A9      1\n",
       "2  b80344d063b5ccb3212f76538f3d9e43d87dca9e  SOBBMDR12A8C13253B      2\n",
       "3  b80344d063b5ccb3212f76538f3d9e43d87dca9e  SOBFNSP12AF72A0E22      1\n",
       "4  b80344d063b5ccb3212f76538f3d9e43d87dca9e  SOBFOVM12A58A7D494      1"
      ]
     },
     "execution_count": 6,
     "metadata": {
      "tags": []
     },
     "output_type": "execute_result"
    }
   ],
   "source": [
    "data.head()"
   ]
  },
  {
   "cell_type": "code",
   "execution_count": null,
   "metadata": {
    "colab": {},
    "colab_type": "code",
    "id": "lAFaVL-1RMDv"
   },
   "outputs": [],
   "source": [
    "# embedded vectors data\n",
    "embeds = np.load(\"/content/drive/My Drive/MSc Statistics/track-embeddings-v2.npz\", allow_pickle=True)"
   ]
  },
  {
   "cell_type": "markdown",
   "metadata": {
    "colab_type": "text",
    "id": "9K3NBbvwRMDy"
   },
   "source": [
    "\"beta\" part corresponds to the 100 dimensional embedded vectors and \"mapping\" - to the corresponding SongId"
   ]
  },
  {
   "cell_type": "code",
   "execution_count": null,
   "metadata": {
    "colab": {},
    "colab_type": "code",
    "id": "Tm7ji5zjRMDy",
    "outputId": "58bd77b5-7e63-4f40-bd0c-742e1e75c92c"
   },
   "outputs": [
    {
     "data": {
      "text/plain": [
       "(384546, 100)"
      ]
     },
     "execution_count": 12,
     "metadata": {
      "tags": []
     },
     "output_type": "execute_result"
    }
   ],
   "source": [
    "#shape of the song vectors\n",
    "embeds[\"beta\"].shape"
   ]
  },
  {
   "cell_type": "code",
   "execution_count": null,
   "metadata": {
    "colab": {},
    "colab_type": "code",
    "id": "ZE-D-gYbRMD1",
    "outputId": "8e6f4d60-562c-4c05-c15e-0df05e94831a"
   },
   "outputs": [
    {
     "data": {
      "text/plain": [
       "(384546,)"
      ]
     },
     "execution_count": 13,
     "metadata": {
      "tags": []
     },
     "output_type": "execute_result"
    }
   ],
   "source": [
    "# shape of the link vector\n",
    "embeds[\"mapping\"].shape"
   ]
  },
  {
   "cell_type": "code",
   "execution_count": null,
   "metadata": {
    "colab": {},
    "colab_type": "code",
    "id": "-_T7uF4LRMD5",
    "outputId": "29eeb7ab-b3ae-4797-b904-df2485e32748"
   },
   "outputs": [
    {
     "data": {
      "text/plain": [
       "'SOAPDEY12A81C210A9'"
      ]
     },
     "execution_count": 14,
     "metadata": {
      "tags": []
     },
     "output_type": "execute_result"
    }
   ],
   "source": [
    "# these link vectors correspond to SongId\n",
    "embeds[\"mapping\"][1]"
   ]
  },
  {
   "cell_type": "code",
   "execution_count": null,
   "metadata": {
    "colab": {
     "base_uri": "https://localhost:8080/",
     "height": 71
    },
    "colab_type": "code",
    "id": "7tPlU80IRMED",
    "outputId": "c9ef7424-4706-4ded-8049-c580cb5caeb4"
   },
   "outputs": [
    {
     "name": "stderr",
     "output_type": "stream",
     "text": [
      "/usr/local/lib/python3.6/dist-packages/ipykernel_launcher.py:3: ParserWarning: Falling back to the 'python' engine because the 'c' engine does not support regex separators (separators > 1 char and different from '\\s+' are interpreted as regex); you can avoid this warning by specifying engine='python'.\n",
      "  This is separate from the ipykernel package so we can avoid doing imports until\n"
     ]
    }
   ],
   "source": [
    "# data to connect TrackId with SongId\n",
    "bridge = pd.read_csv(\"/content/drive/My Drive/MSc Statistics/unique_tracks.txt\",  delimiter=\"<SEP>\", header=None, \n",
    "                    names= [\"TrackId\", \"SongId\", \"Artist\", \"Song_name\"])"
   ]
  },
  {
   "cell_type": "code",
   "execution_count": null,
   "metadata": {
    "colab": {},
    "colab_type": "code",
    "id": "mxU0l_y7RMEH",
    "outputId": "27d48c78-59d8-471c-a244-ed083fb92366"
   },
   "outputs": [
    {
     "data": {
      "text/html": [
       "<div>\n",
       "<style scoped>\n",
       "    .dataframe tbody tr th:only-of-type {\n",
       "        vertical-align: middle;\n",
       "    }\n",
       "\n",
       "    .dataframe tbody tr th {\n",
       "        vertical-align: top;\n",
       "    }\n",
       "\n",
       "    .dataframe thead th {\n",
       "        text-align: right;\n",
       "    }\n",
       "</style>\n",
       "<table border=\"1\" class=\"dataframe\">\n",
       "  <thead>\n",
       "    <tr style=\"text-align: right;\">\n",
       "      <th></th>\n",
       "      <th>TrackId</th>\n",
       "      <th>SongId</th>\n",
       "      <th>Artist</th>\n",
       "      <th>Song_name</th>\n",
       "    </tr>\n",
       "  </thead>\n",
       "  <tbody>\n",
       "    <tr>\n",
       "      <th>0</th>\n",
       "      <td>TRMMMYQ128F932D901</td>\n",
       "      <td>SOQMMHC12AB0180CB8</td>\n",
       "      <td>Faster Pussy cat</td>\n",
       "      <td>Silent Night</td>\n",
       "    </tr>\n",
       "    <tr>\n",
       "      <th>1</th>\n",
       "      <td>TRMMMKD128F425225D</td>\n",
       "      <td>SOVFVAK12A8C1350D9</td>\n",
       "      <td>Karkkiautomaatti</td>\n",
       "      <td>Tanssi vaan</td>\n",
       "    </tr>\n",
       "    <tr>\n",
       "      <th>2</th>\n",
       "      <td>TRMMMRX128F93187D9</td>\n",
       "      <td>SOGTUKN12AB017F4F1</td>\n",
       "      <td>Hudson Mohawke</td>\n",
       "      <td>No One Could Ever</td>\n",
       "    </tr>\n",
       "    <tr>\n",
       "      <th>3</th>\n",
       "      <td>TRMMMCH128F425532C</td>\n",
       "      <td>SOBNYVR12A8C13558C</td>\n",
       "      <td>Yerba Brava</td>\n",
       "      <td>Si Vos Querés</td>\n",
       "    </tr>\n",
       "    <tr>\n",
       "      <th>4</th>\n",
       "      <td>TRMMMWA128F426B589</td>\n",
       "      <td>SOHSBXH12A8C13B0DF</td>\n",
       "      <td>Der Mystic</td>\n",
       "      <td>Tangle Of Aspens</td>\n",
       "    </tr>\n",
       "  </tbody>\n",
       "</table>\n",
       "</div>"
      ],
      "text/plain": [
       "              TrackId              SongId            Artist          Song_name\n",
       "0  TRMMMYQ128F932D901  SOQMMHC12AB0180CB8  Faster Pussy cat       Silent Night\n",
       "1  TRMMMKD128F425225D  SOVFVAK12A8C1350D9  Karkkiautomaatti        Tanssi vaan\n",
       "2  TRMMMRX128F93187D9  SOGTUKN12AB017F4F1    Hudson Mohawke  No One Could Ever\n",
       "3  TRMMMCH128F425532C  SOBNYVR12A8C13558C       Yerba Brava      Si Vos Querés\n",
       "4  TRMMMWA128F426B589  SOHSBXH12A8C13B0DF        Der Mystic   Tangle Of Aspens"
      ]
     },
     "execution_count": 15,
     "metadata": {
      "tags": []
     },
     "output_type": "execute_result"
    }
   ],
   "source": [
    "bridge.head()"
   ]
  },
  {
   "cell_type": "code",
   "execution_count": null,
   "metadata": {
    "colab": {
     "base_uri": "https://localhost:8080/",
     "height": 34
    },
    "colab_type": "code",
    "id": "H97y4ayS3Wy9",
    "outputId": "d4953669-0d8f-4955-d866-f973fda1d52c"
   },
   "outputs": [
    {
     "data": {
      "text/plain": [
       "(1000000, 4)"
      ]
     },
     "execution_count": 73,
     "metadata": {
      "tags": []
     },
     "output_type": "execute_result"
    }
   ],
   "source": [
    "bridge.shape"
   ]
  },
  {
   "cell_type": "code",
   "execution_count": null,
   "metadata": {
    "colab": {},
    "colab_type": "code",
    "id": "G9RKQX9xRMEM"
   },
   "outputs": [],
   "source": [
    "# song genre data\n",
    "genres = pd.read_csv(\"/content/drive/My Drive/MSc Statistics/ganres.txt\",  delimiter=\"\\t\", header=None,\n",
    "                     names= [\"TrackId\", \"Main_genre\", \"Minor_genre\"])"
   ]
  },
  {
   "cell_type": "code",
   "execution_count": null,
   "metadata": {
    "colab": {},
    "colab_type": "code",
    "id": "POmwvOkoRMEV",
    "outputId": "a61ee9e4-a2ec-4efd-e29c-ce5cfa055044"
   },
   "outputs": [
    {
     "data": {
      "text/html": [
       "<div>\n",
       "<style scoped>\n",
       "    .dataframe tbody tr th:only-of-type {\n",
       "        vertical-align: middle;\n",
       "    }\n",
       "\n",
       "    .dataframe tbody tr th {\n",
       "        vertical-align: top;\n",
       "    }\n",
       "\n",
       "    .dataframe thead th {\n",
       "        text-align: right;\n",
       "    }\n",
       "</style>\n",
       "<table border=\"1\" class=\"dataframe\">\n",
       "  <thead>\n",
       "    <tr style=\"text-align: right;\">\n",
       "      <th></th>\n",
       "      <th>TrackId</th>\n",
       "      <th>Main_genre</th>\n",
       "      <th>Minor_genre</th>\n",
       "    </tr>\n",
       "  </thead>\n",
       "  <tbody>\n",
       "    <tr>\n",
       "      <th>0</th>\n",
       "      <td>TRAAAAK128F9318786</td>\n",
       "      <td>Rock</td>\n",
       "      <td>NaN</td>\n",
       "    </tr>\n",
       "    <tr>\n",
       "      <th>1</th>\n",
       "      <td>TRAAAAW128F429D538</td>\n",
       "      <td>Rap</td>\n",
       "      <td>NaN</td>\n",
       "    </tr>\n",
       "    <tr>\n",
       "      <th>2</th>\n",
       "      <td>TRAAABD128F429CF47</td>\n",
       "      <td>Rock</td>\n",
       "      <td>RnB</td>\n",
       "    </tr>\n",
       "    <tr>\n",
       "      <th>3</th>\n",
       "      <td>TRAAADJ128F4287B47</td>\n",
       "      <td>Rock</td>\n",
       "      <td>NaN</td>\n",
       "    </tr>\n",
       "    <tr>\n",
       "      <th>4</th>\n",
       "      <td>TRAAADZ128F9348C2E</td>\n",
       "      <td>Latin</td>\n",
       "      <td>NaN</td>\n",
       "    </tr>\n",
       "  </tbody>\n",
       "</table>\n",
       "</div>"
      ],
      "text/plain": [
       "              TrackId Main_genre Minor_genre\n",
       "0  TRAAAAK128F9318786       Rock         NaN\n",
       "1  TRAAAAW128F429D538        Rap         NaN\n",
       "2  TRAAABD128F429CF47       Rock         RnB\n",
       "3  TRAAADJ128F4287B47       Rock         NaN\n",
       "4  TRAAADZ128F9348C2E      Latin         NaN"
      ]
     },
     "execution_count": 18,
     "metadata": {
      "tags": []
     },
     "output_type": "execute_result"
    }
   ],
   "source": [
    "genres.head()"
   ]
  },
  {
   "cell_type": "code",
   "execution_count": null,
   "metadata": {
    "colab": {
     "base_uri": "https://localhost:8080/",
     "height": 34
    },
    "colab_type": "code",
    "id": "s3EmnqJE3UCI",
    "outputId": "212e55bb-dce7-43f5-b430-bbb71539d393"
   },
   "outputs": [
    {
     "data": {
      "text/plain": [
       "(280831, 3)"
      ]
     },
     "execution_count": 72,
     "metadata": {
      "tags": []
     },
     "output_type": "execute_result"
    }
   ],
   "source": [
    "genres.shape"
   ]
  },
  {
   "cell_type": "markdown",
   "metadata": {},
   "source": [
    "# Data Analysis"
   ]
  },
  {
   "cell_type": "markdown",
   "metadata": {
    "colab_type": "text",
    "id": "x63fdR8BYPax"
   },
   "source": [
    "We begin by analysing the main triplet data followed by the ganre data."
   ]
  },
  {
   "cell_type": "code",
   "execution_count": null,
   "metadata": {
    "colab": {},
    "colab_type": "code",
    "id": "ghZPCMldRMEl",
    "outputId": "0117388d-6d31-47df-d4bf-fcb9547d3ed0"
   },
   "outputs": [
    {
     "name": "stdout",
     "output_type": "stream",
     "text": [
      "Number of unique users 1019318 Number of unique tracks 384546\n"
     ]
    }
   ],
   "source": [
    "print(\"Number of unique users\", len(data[\"UserId\"].unique().tolist()),\n",
    "      \"Number of unique tracks\", len(data[\"SongId\"].unique().tolist()))"
   ]
  },
  {
   "cell_type": "code",
   "execution_count": null,
   "metadata": {
    "colab": {},
    "colab_type": "code",
    "id": "j7T4BhISRMEr",
    "outputId": "5962f2a7-8619-4e2e-bee3-3384dea32ee4"
   },
   "outputs": [
    {
     "data": {
      "text/plain": [
       "count   48373586.00\n",
       "mean           2.87\n",
       "std            6.44\n",
       "min            1.00\n",
       "25%            1.00\n",
       "50%            1.00\n",
       "75%            3.00\n",
       "max         9667.00\n",
       "Name: Count, dtype: float64"
      ]
     },
     "execution_count": 33,
     "metadata": {
      "tags": []
     },
     "output_type": "execute_result"
    }
   ],
   "source": [
    "pd.options.display.float_format = '{:.2f}'.format # supresing scientific notation\n",
    "data[\"Count\"].describe()"
   ]
  },
  {
   "cell_type": "markdown",
   "metadata": {
    "colab_type": "text",
    "id": "ingNWTBRRMEx"
   },
   "source": [
    "\"Count\" data has a large skew - 75th percentile is 3, yet the max values is 9667. Also, the majority of the data (at least 50% of it) is 1."
   ]
  },
  {
   "cell_type": "code",
   "execution_count": null,
   "metadata": {
    "colab": {},
    "colab_type": "code",
    "id": "0gNVyFpgRMEy",
    "outputId": "07f9b5b9-b5eb-4a8f-f743-db95535126a8"
   },
   "outputs": [
    {
     "name": "stdout",
     "output_type": "stream",
     "text": [
      "Song playing count greater than 100: 18811 . Song playing count greater than 1000: 62\n"
     ]
    }
   ],
   "source": [
    "print(\"Song playing count greater than 100:\", np.sum(data[\"Count\"]>100),\". \"\n",
    "     \"Song playing count greater than 1000:\", np.sum(data[\"Count\"]>1000))"
   ]
  },
  {
   "cell_type": "code",
   "execution_count": null,
   "metadata": {
    "colab": {},
    "colab_type": "code",
    "id": "3zLDIU6kRME1",
    "outputId": "6d6edc89-384d-474b-95d5-fdad017e02ef"
   },
   "outputs": [
    {
     "data": {
      "text/plain": [
       "<matplotlib.axes._subplots.AxesSubplot at 0x7ffa94a84e10>"
      ]
     },
     "execution_count": 50,
     "metadata": {
      "tags": []
     },
     "output_type": "execute_result"
    },
    {
     "data": {
      "image/png": "[encoded data removed]",
      "text/plain": [
       "<Figure size 432x288 with 1 Axes>"
      ]
     },
     "metadata": {
      "needs_background": "light",
      "tags": []
     },
     "output_type": "display_data"
    }
   ],
   "source": [
    "data[\"Count\"][data[\"Count\"]<100].hist(bins=40)"
   ]
  },
  {
   "cell_type": "markdown",
   "metadata": {
    "colab_type": "text",
    "id": "9m1Zflm7rxlB"
   },
   "source": [
    "Now, let's examine how the song distribution by genre."
   ]
  },
  {
   "cell_type": "code",
   "execution_count": null,
   "metadata": {
    "colab": {
     "base_uri": "https://localhost:8080/",
     "height": 102
    },
    "colab_type": "code",
    "id": "YPMdcbR0RME_",
    "outputId": "7bf647b8-ee0c-4e33-be7d-6228c0d0b464"
   },
   "outputs": [
    {
     "data": {
      "text/plain": [
       "count     280831\n",
       "unique        15\n",
       "top         Rock\n",
       "freq      113150\n",
       "Name: Main_genre, dtype: object"
      ]
     },
     "execution_count": 13,
     "metadata": {
      "tags": []
     },
     "output_type": "execute_result"
    }
   ],
   "source": [
    "# Now looking into how many genres we have\n",
    "genres[\"Main_genre\"].describe()\n",
    "# 15 unique genres"
   ]
  },
  {
   "cell_type": "code",
   "execution_count": null,
   "metadata": {
    "colab": {},
    "colab_type": "code",
    "id": "GgtpVK3SSord"
   },
   "outputs": [],
   "source": [
    "all_genres = genres[\"Main_genre\"].unique().tolist()\n",
    "\n",
    "cat = []\n",
    "for i in all_genres:\n",
    "  cat.append(np.sum(genres[\"Main_genre\"]==i))"
   ]
  },
  {
   "cell_type": "code",
   "execution_count": null,
   "metadata": {
    "colab": {
     "base_uri": "https://localhost:8080/",
     "height": 375
    },
    "colab_type": "code",
    "id": "G8U246xTTzya",
    "outputId": "e58cafaa-e8f2-4af2-b710-a457ddb26d33"
   },
   "outputs": [
    {
     "data": {
      "image/png": "[encoded data removed]",
      "text/plain": [
       "<Figure size 432x288 with 1 Axes>"
      ]
     },
     "metadata": {
      "needs_background": "light",
      "tags": []
     },
     "output_type": "display_data"
    }
   ],
   "source": [
    "fig = plt.figure()\n",
    "ax = fig.add_axes([0,0,1,1])\n",
    "labels = all_genres\n",
    "val = cat\n",
    "ax.bar(labels,val)\n",
    "plt.xticks(rotation=90)\n",
    "plt.show()\n",
    "# Rock is the new pop?"
   ]
  },
  {
   "cell_type": "markdown",
   "metadata": {
    "toc-hr-collapsed": true
   },
   "source": [
    "# Merging the data"
   ]
  },
  {
   "cell_type": "markdown",
   "metadata": {
    "colab_type": "text",
    "id": "jHc5anD0Zi7n"
   },
   "source": [
    "Merging the data so we could connect SongId with some metadata. Conducting the same data analysis below."
   ]
  },
  {
   "cell_type": "code",
   "execution_count": null,
   "metadata": {
    "colab": {},
    "colab_type": "code",
    "id": "gpbdUAXdRMFB"
   },
   "outputs": [],
   "source": [
    "mid_merge = pd.merge(left = genres, right = bridge, left_on=\"TrackId\", right_on=\"TrackId\")"
   ]
  },
  {
   "cell_type": "code",
   "execution_count": null,
   "metadata": {
    "colab": {
     "base_uri": "https://localhost:8080/",
     "height": 204
    },
    "colab_type": "code",
    "id": "RaEc1mx6RMFG",
    "outputId": "aeb23f8e-a966-42dc-ba21-7863792d0188"
   },
   "outputs": [
    {
     "data": {
      "text/html": [
       "<div>\n",
       "<style scoped>\n",
       "    .dataframe tbody tr th:only-of-type {\n",
       "        vertical-align: middle;\n",
       "    }\n",
       "\n",
       "    .dataframe tbody tr th {\n",
       "        vertical-align: top;\n",
       "    }\n",
       "\n",
       "    .dataframe thead th {\n",
       "        text-align: right;\n",
       "    }\n",
       "</style>\n",
       "<table border=\"1\" class=\"dataframe\">\n",
       "  <thead>\n",
       "    <tr style=\"text-align: right;\">\n",
       "      <th></th>\n",
       "      <th>TrackId</th>\n",
       "      <th>Main_genre</th>\n",
       "      <th>Minor_genre</th>\n",
       "      <th>SongId</th>\n",
       "      <th>Artist</th>\n",
       "      <th>Song_name</th>\n",
       "    </tr>\n",
       "  </thead>\n",
       "  <tbody>\n",
       "    <tr>\n",
       "      <th>0</th>\n",
       "      <td>TRAAAAK128F9318786</td>\n",
       "      <td>Rock</td>\n",
       "      <td>NaN</td>\n",
       "      <td>SOBLFFE12AF72AA5BA</td>\n",
       "      <td>Adelitas Way</td>\n",
       "      <td>Scream</td>\n",
       "    </tr>\n",
       "    <tr>\n",
       "      <th>1</th>\n",
       "      <td>TRAAAAW128F429D538</td>\n",
       "      <td>Rap</td>\n",
       "      <td>NaN</td>\n",
       "      <td>SOMZWCG12A8C13C480</td>\n",
       "      <td>Casual</td>\n",
       "      <td>I Didn't Mean To</td>\n",
       "    </tr>\n",
       "    <tr>\n",
       "      <th>2</th>\n",
       "      <td>TRAAABD128F429CF47</td>\n",
       "      <td>Rock</td>\n",
       "      <td>RnB</td>\n",
       "      <td>SOCIWDW12A8C13D406</td>\n",
       "      <td>The Box Tops</td>\n",
       "      <td>Soul Deep</td>\n",
       "    </tr>\n",
       "    <tr>\n",
       "      <th>3</th>\n",
       "      <td>TRAAADJ128F4287B47</td>\n",
       "      <td>Rock</td>\n",
       "      <td>NaN</td>\n",
       "      <td>SOCSNVI12A8C13ECC2</td>\n",
       "      <td>Big Brother &amp; The Holding Company</td>\n",
       "      <td>Heartache People</td>\n",
       "    </tr>\n",
       "    <tr>\n",
       "      <th>4</th>\n",
       "      <td>TRAAADZ128F9348C2E</td>\n",
       "      <td>Latin</td>\n",
       "      <td>NaN</td>\n",
       "      <td>SOXVLOJ12AB0189215</td>\n",
       "      <td>Sonora Santanera</td>\n",
       "      <td>Amor De Cabaret</td>\n",
       "    </tr>\n",
       "  </tbody>\n",
       "</table>\n",
       "</div>"
      ],
      "text/plain": [
       "              TrackId  ...         Song_name\n",
       "0  TRAAAAK128F9318786  ...            Scream\n",
       "1  TRAAAAW128F429D538  ...  I Didn't Mean To\n",
       "2  TRAAABD128F429CF47  ...         Soul Deep\n",
       "3  TRAAADJ128F4287B47  ...  Heartache People\n",
       "4  TRAAADZ128F9348C2E  ...   Amor De Cabaret\n",
       "\n",
       "[5 rows x 6 columns]"
      ]
     },
     "execution_count": 71,
     "metadata": {
      "tags": []
     },
     "output_type": "execute_result"
    }
   ],
   "source": [
    "mid_merge.head()"
   ]
  },
  {
   "cell_type": "code",
   "execution_count": null,
   "metadata": {
    "colab": {
     "base_uri": "https://localhost:8080/",
     "height": 34
    },
    "colab_type": "code",
    "id": "A8o8UIYoRMFJ",
    "outputId": "1576a2e3-9c09-4926-e0ce-1a868b9bd1ea"
   },
   "outputs": [
    {
     "name": "stdout",
     "output_type": "stream",
     "text": [
      "(280831, 6)\n"
     ]
    }
   ],
   "source": [
    "print(mid_merge.shape)"
   ]
  },
  {
   "cell_type": "code",
   "execution_count": null,
   "metadata": {
    "colab": {},
    "colab_type": "code",
    "id": "65UX2RhvRMFN"
   },
   "outputs": [],
   "source": [
    "ganre_merge = pd.merge(left = mid_merge, right = data, left_on=\"SongId\", right_on=\"SongId\")"
   ]
  },
  {
   "cell_type": "code",
   "execution_count": null,
   "metadata": {
    "colab": {
     "base_uri": "https://localhost:8080/",
     "height": 204
    },
    "colab_type": "code",
    "id": "jDSNylcNRMFS",
    "outputId": "bad77901-2489-4617-ad37-cf8e1c82690d"
   },
   "outputs": [
    {
     "data": {
      "text/html": [
       "<div>\n",
       "<style scoped>\n",
       "    .dataframe tbody tr th:only-of-type {\n",
       "        vertical-align: middle;\n",
       "    }\n",
       "\n",
       "    .dataframe tbody tr th {\n",
       "        vertical-align: top;\n",
       "    }\n",
       "\n",
       "    .dataframe thead th {\n",
       "        text-align: right;\n",
       "    }\n",
       "</style>\n",
       "<table border=\"1\" class=\"dataframe\">\n",
       "  <thead>\n",
       "    <tr style=\"text-align: right;\">\n",
       "      <th></th>\n",
       "      <th>TrackId</th>\n",
       "      <th>Main_genre</th>\n",
       "      <th>Minor_genre</th>\n",
       "      <th>SongId</th>\n",
       "      <th>Artist</th>\n",
       "      <th>Song_name</th>\n",
       "      <th>UserId</th>\n",
       "      <th>Count</th>\n",
       "    </tr>\n",
       "  </thead>\n",
       "  <tbody>\n",
       "    <tr>\n",
       "      <th>0</th>\n",
       "      <td>TRAAAAK128F9318786</td>\n",
       "      <td>Rock</td>\n",
       "      <td>NaN</td>\n",
       "      <td>SOBLFFE12AF72AA5BA</td>\n",
       "      <td>Adelitas Way</td>\n",
       "      <td>Scream</td>\n",
       "      <td>cf9a8225b3626e668facf9dda53a2ef3da445bf6</td>\n",
       "      <td>1</td>\n",
       "    </tr>\n",
       "    <tr>\n",
       "      <th>1</th>\n",
       "      <td>TRAAAAK128F9318786</td>\n",
       "      <td>Rock</td>\n",
       "      <td>NaN</td>\n",
       "      <td>SOBLFFE12AF72AA5BA</td>\n",
       "      <td>Adelitas Way</td>\n",
       "      <td>Scream</td>\n",
       "      <td>6776279a369a04148a92597d270ac500ddc7a27c</td>\n",
       "      <td>3</td>\n",
       "    </tr>\n",
       "    <tr>\n",
       "      <th>2</th>\n",
       "      <td>TRAAAAK128F9318786</td>\n",
       "      <td>Rock</td>\n",
       "      <td>NaN</td>\n",
       "      <td>SOBLFFE12AF72AA5BA</td>\n",
       "      <td>Adelitas Way</td>\n",
       "      <td>Scream</td>\n",
       "      <td>8c412b22910a9c9531ac72ec742913d73317782d</td>\n",
       "      <td>1</td>\n",
       "    </tr>\n",
       "    <tr>\n",
       "      <th>3</th>\n",
       "      <td>TRAAAAK128F9318786</td>\n",
       "      <td>Rock</td>\n",
       "      <td>NaN</td>\n",
       "      <td>SOBLFFE12AF72AA5BA</td>\n",
       "      <td>Adelitas Way</td>\n",
       "      <td>Scream</td>\n",
       "      <td>74230c5555c9f4e929f8e6c25344b7ee1f37d9e3</td>\n",
       "      <td>2</td>\n",
       "    </tr>\n",
       "    <tr>\n",
       "      <th>4</th>\n",
       "      <td>TRAAAAK128F9318786</td>\n",
       "      <td>Rock</td>\n",
       "      <td>NaN</td>\n",
       "      <td>SOBLFFE12AF72AA5BA</td>\n",
       "      <td>Adelitas Way</td>\n",
       "      <td>Scream</td>\n",
       "      <td>dac762704dfe74075187e98623f92268727bf749</td>\n",
       "      <td>1</td>\n",
       "    </tr>\n",
       "  </tbody>\n",
       "</table>\n",
       "</div>"
      ],
      "text/plain": [
       "              TrackId  ... Count\n",
       "0  TRAAAAK128F9318786  ...     1\n",
       "1  TRAAAAK128F9318786  ...     3\n",
       "2  TRAAAAK128F9318786  ...     1\n",
       "3  TRAAAAK128F9318786  ...     2\n",
       "4  TRAAAAK128F9318786  ...     1\n",
       "\n",
       "[5 rows x 8 columns]"
      ]
     },
     "execution_count": 34,
     "metadata": {
      "tags": []
     },
     "output_type": "execute_result"
    }
   ],
   "source": [
    "ganre_merge.head()"
   ]
  },
  {
   "cell_type": "markdown",
   "metadata": {},
   "source": [
    "## Merged data analysis"
   ]
  },
  {
   "cell_type": "code",
   "execution_count": null,
   "metadata": {
    "colab": {
     "base_uri": "https://localhost:8080/",
     "height": 34
    },
    "colab_type": "code",
    "id": "WJNUy-4SXgn-",
    "outputId": "ba0fce32-f8c4-4d19-c881-90be971f7b59"
   },
   "outputs": [
    {
     "name": "stdout",
     "output_type": "stream",
     "text": [
      "Number of unique users 1018733 Number of unique tracks 173301\n"
     ]
    }
   ],
   "source": [
    "print(\"Number of unique users\", len(ganre_merge[\"UserId\"].unique().tolist()),\n",
    "      \"Number of unique tracks\", len(ganre_merge[\"SongId\"].unique().tolist()))"
   ]
  },
  {
   "cell_type": "code",
   "execution_count": null,
   "metadata": {
    "colab": {
     "base_uri": "https://localhost:8080/",
     "height": 170
    },
    "colab_type": "code",
    "id": "8FQfEDsmXhqs",
    "outputId": "7dadc7c3-f730-41f8-96b5-0fc514ffd93c"
   },
   "outputs": [
    {
     "data": {
      "text/plain": [
       "count   30168816.00\n",
       "mean           2.77\n",
       "std            6.30\n",
       "min            1.00\n",
       "25%            1.00\n",
       "50%            1.00\n",
       "75%            2.00\n",
       "max         9667.00\n",
       "Name: Count, dtype: float64"
      ]
     },
     "execution_count": 37,
     "metadata": {
      "tags": []
     },
     "output_type": "execute_result"
    }
   ],
   "source": [
    "pd.options.display.float_format = '{:.2f}'.format # supresing scientific notation\n",
    "ganre_merge[\"Count\"].describe()"
   ]
  },
  {
   "cell_type": "code",
   "execution_count": null,
   "metadata": {
    "colab": {
     "base_uri": "https://localhost:8080/",
     "height": 293
    },
    "colab_type": "code",
    "id": "X0CT0m-TYqrh",
    "outputId": "1aa64776-f746-4c74-895d-94b7270545fc"
   },
   "outputs": [
    {
     "data": {
      "text/plain": [
       "<matplotlib.axes._subplots.AxesSubplot at 0x7f9d64efb860>"
      ]
     },
     "execution_count": 38,
     "metadata": {
      "tags": []
     },
     "output_type": "execute_result"
    },
    {
     "data": {
      "image/png": "[encoded data removed]",
      "text/plain": [
       "<Figure size 432x288 with 1 Axes>"
      ]
     },
     "metadata": {
      "needs_background": "light",
      "tags": []
     },
     "output_type": "display_data"
    }
   ],
   "source": [
    "ganre_merge[\"Count\"][ganre_merge[\"Count\"]<100].hist(bins=40)"
   ]
  },
  {
   "cell_type": "code",
   "execution_count": null,
   "metadata": {
    "colab": {
     "base_uri": "https://localhost:8080/",
     "height": 102
    },
    "colab_type": "code",
    "id": "JIGeDjShYxpX",
    "outputId": "d7654b30-02fe-4de4-b19a-c6f3df62b6dd"
   },
   "outputs": [
    {
     "data": {
      "text/plain": [
       "count     30168816\n",
       "unique          15\n",
       "top           Rock\n",
       "freq      14922297\n",
       "Name: Main_genre, dtype: object"
      ]
     },
     "execution_count": 41,
     "metadata": {
      "tags": []
     },
     "output_type": "execute_result"
    }
   ],
   "source": [
    "# Now looking into how many genres we have\n",
    "ganre_merge[\"Main_genre\"].describe()\n",
    "# 15 unique genres"
   ]
  },
  {
   "cell_type": "code",
   "execution_count": null,
   "metadata": {
    "colab": {},
    "colab_type": "code",
    "id": "3fQtF0W4Y8X0"
   },
   "outputs": [],
   "source": [
    "cat2 = []\n",
    "for i in all_genres:\n",
    "  cat2.append(np.sum(ganre_merge[\"Main_genre\"]==i))"
   ]
  },
  {
   "cell_type": "code",
   "execution_count": null,
   "metadata": {
    "colab": {
     "base_uri": "https://localhost:8080/",
     "height": 386
    },
    "colab_type": "code",
    "id": "FNyEbP27ZIOe",
    "outputId": "9e98e54d-5eff-4883-dd43-36aeaa06a75c"
   },
   "outputs": [
    {
     "data": {
      "image/png": "[encoded data removed]",
      "text/plain": [
       "<Figure size 432x288 with 1 Axes>"
      ]
     },
     "metadata": {
      "needs_background": "light",
      "tags": []
     },
     "output_type": "display_data"
    }
   ],
   "source": [
    "fig = plt.figure()\n",
    "ax = fig.add_axes([0,0,1,1])\n",
    "labels = all_genres\n",
    "val = cat2\n",
    "ax.bar(labels,val)\n",
    "plt.xticks(rotation=90)\n",
    "plt.show()"
   ]
  },
  {
   "cell_type": "markdown",
   "metadata": {
    "colab_type": "text",
    "id": "oQvyg-YfiVVe"
   },
   "source": [
    "Now we look into the Artist level metadata"
   ]
  },
  {
   "cell_type": "code",
   "execution_count": null,
   "metadata": {
    "colab": {
     "base_uri": "https://localhost:8080/",
     "height": 34
    },
    "colab_type": "code",
    "id": "CWmSsfsRiKMk",
    "outputId": "ba9c692e-6cf4-4cad-9da0-b71a6a7d7f0e"
   },
   "outputs": [
    {
     "data": {
      "text/plain": [
       "21867"
      ]
     },
     "execution_count": 47,
     "metadata": {
      "tags": []
     },
     "output_type": "execute_result"
    }
   ],
   "source": [
    "art_count = ganre_merge[\"Artist\"].unique().tolist()\n",
    "len(art_count)"
   ]
  },
  {
   "cell_type": "code",
   "execution_count": null,
   "metadata": {
    "colab": {},
    "colab_type": "code",
    "id": "w7TZxhH_vKE1"
   },
   "outputs": [],
   "source": [
    "sum_art = ganre_merge.groupby([\"Artist\"]).size()"
   ]
  },
  {
   "cell_type": "code",
   "execution_count": null,
   "metadata": {
    "colab": {
     "base_uri": "https://localhost:8080/",
     "height": 170
    },
    "colab_type": "code",
    "id": "DrH0X1HEizpR",
    "outputId": "fa6da5ce-bf9c-4b41-cc5b-c7f1ee078e5d"
   },
   "outputs": [
    {
     "data": {
      "text/plain": [
       "count    21867.00\n",
       "mean      1379.65\n",
       "std       7036.85\n",
       "min          1.00\n",
       "25%         18.00\n",
       "50%         95.00\n",
       "75%        516.00\n",
       "max     322535.00\n",
       "dtype: float64"
      ]
     },
     "execution_count": 93,
     "metadata": {
      "tags": []
     },
     "output_type": "execute_result"
    }
   ],
   "source": [
    "sum_art.describe()"
   ]
  },
  {
   "cell_type": "code",
   "execution_count": null,
   "metadata": {
    "colab": {
     "base_uri": "https://localhost:8080/",
     "height": 282
    },
    "colab_type": "code",
    "id": "fgRml0ok9sSL",
    "outputId": "25b5b27a-8ba8-44d4-acad-6986377d5f1e"
   },
   "outputs": [
    {
     "data": {
      "text/plain": [
       "<matplotlib.axes._subplots.AxesSubplot at 0x7f9d034ac6a0>"
      ]
     },
     "execution_count": 94,
     "metadata": {
      "tags": []
     },
     "output_type": "execute_result"
    },
    {
     "data": {
      "image/png": "[encoded data removed]",
      "text/plain": [
       "<Figure size 432x288 with 1 Axes>"
      ]
     },
     "metadata": {
      "needs_background": "light",
      "tags": []
     },
     "output_type": "display_data"
    }
   ],
   "source": [
    "sum_art.plot.box()"
   ]
  },
  {
   "cell_type": "code",
   "execution_count": null,
   "metadata": {
    "colab": {
     "base_uri": "https://localhost:8080/",
     "height": 408
    },
    "colab_type": "code",
    "id": "BIHNM_kd99hJ",
    "outputId": "40ad4314-fae1-4ab3-fd7a-8b1627cadfff"
   },
   "outputs": [
    {
     "data": {
      "text/plain": [
       "Artist\n",
       "Beirut                    101549\n",
       "Björk                     108232\n",
       "Black Eyed Peas           109747\n",
       "Coldplay                  322535\n",
       "Daft Punk                 179538\n",
       "Eminem                    131666\n",
       "Florence + The Machine    110397\n",
       "Gorillaz                  106753\n",
       "Guns N' Roses             103653\n",
       "Harmonia                  110721\n",
       "Jack Johnson              170619\n",
       "John Mayer                125474\n",
       "Justin Bieber             188485\n",
       "Kings Of Leon             237685\n",
       "Metallica                 135459\n",
       "Muse                      164615\n",
       "OneRepublic               109811\n",
       "Radiohead                 189892\n",
       "Rise Against              109212\n",
       "The Black Keys            225624\n",
       "The Killers               127043\n",
       "dtype: int64"
      ]
     },
     "execution_count": 102,
     "metadata": {
      "tags": []
     },
     "output_type": "execute_result"
    }
   ],
   "source": [
    "sum_art[sum_art>100000]"
   ]
  },
  {
   "cell_type": "markdown",
   "metadata": {},
   "source": [
    "## Diagnostic merge"
   ]
  },
  {
   "cell_type": "code",
   "execution_count": null,
   "metadata": {
    "colab": {},
    "colab_type": "code",
    "id": "SVlWf1ku5Bza"
   },
   "outputs": [],
   "source": [
    "mid_merge = pd.merge(left = data, right = bridge, left_on=\"SongId\", right_on=\"SongId\")"
   ]
  },
  {
   "cell_type": "code",
   "execution_count": null,
   "metadata": {
    "colab": {
     "base_uri": "https://localhost:8080/",
     "height": 309
    },
    "colab_type": "code",
    "id": "1aRmSwiS6QwJ",
    "outputId": "1202b7a5-4ca0-42fc-9cc5-17c8fc849874"
   },
   "outputs": [
    {
     "data": {
      "text/html": [
       "<div>\n",
       "<style scoped>\n",
       "    .dataframe tbody tr th:only-of-type {\n",
       "        vertical-align: middle;\n",
       "    }\n",
       "\n",
       "    .dataframe tbody tr th {\n",
       "        vertical-align: top;\n",
       "    }\n",
       "\n",
       "    .dataframe thead th {\n",
       "        text-align: right;\n",
       "    }\n",
       "</style>\n",
       "<table border=\"1\" class=\"dataframe\">\n",
       "  <thead>\n",
       "    <tr style=\"text-align: right;\">\n",
       "      <th></th>\n",
       "      <th>UserId</th>\n",
       "      <th>SongId</th>\n",
       "      <th>Count</th>\n",
       "      <th>TrackId</th>\n",
       "      <th>Artist</th>\n",
       "      <th>Song_name</th>\n",
       "    </tr>\n",
       "  </thead>\n",
       "  <tbody>\n",
       "    <tr>\n",
       "      <th>0</th>\n",
       "      <td>b80344d063b5ccb3212f76538f3d9e43d87dca9e</td>\n",
       "      <td>SOAKIMP12A8C130995</td>\n",
       "      <td>1</td>\n",
       "      <td>TRIQAUQ128F42435AD</td>\n",
       "      <td>Jack Johnson</td>\n",
       "      <td>The Cove</td>\n",
       "    </tr>\n",
       "    <tr>\n",
       "      <th>1</th>\n",
       "      <td>7c86176941718984fed11b7c0674ff04c029b480</td>\n",
       "      <td>SOAKIMP12A8C130995</td>\n",
       "      <td>1</td>\n",
       "      <td>TRIQAUQ128F42435AD</td>\n",
       "      <td>Jack Johnson</td>\n",
       "      <td>The Cove</td>\n",
       "    </tr>\n",
       "    <tr>\n",
       "      <th>2</th>\n",
       "      <td>76235885b32c4e8c82760c340dc54f9b608d7d7e</td>\n",
       "      <td>SOAKIMP12A8C130995</td>\n",
       "      <td>3</td>\n",
       "      <td>TRIQAUQ128F42435AD</td>\n",
       "      <td>Jack Johnson</td>\n",
       "      <td>The Cove</td>\n",
       "    </tr>\n",
       "    <tr>\n",
       "      <th>3</th>\n",
       "      <td>250c0fa2a77bc6695046e7c47882ecd85c42d748</td>\n",
       "      <td>SOAKIMP12A8C130995</td>\n",
       "      <td>1</td>\n",
       "      <td>TRIQAUQ128F42435AD</td>\n",
       "      <td>Jack Johnson</td>\n",
       "      <td>The Cove</td>\n",
       "    </tr>\n",
       "    <tr>\n",
       "      <th>4</th>\n",
       "      <td>3f73f44560e822344b0fb7c6b463869743eb9860</td>\n",
       "      <td>SOAKIMP12A8C130995</td>\n",
       "      <td>6</td>\n",
       "      <td>TRIQAUQ128F42435AD</td>\n",
       "      <td>Jack Johnson</td>\n",
       "      <td>The Cove</td>\n",
       "    </tr>\n",
       "  </tbody>\n",
       "</table>\n",
       "</div>"
      ],
      "text/plain": [
       "                                     UserId  ... Song_name\n",
       "0  b80344d063b5ccb3212f76538f3d9e43d87dca9e  ...  The Cove\n",
       "1  7c86176941718984fed11b7c0674ff04c029b480  ...  The Cove\n",
       "2  76235885b32c4e8c82760c340dc54f9b608d7d7e  ...  The Cove\n",
       "3  250c0fa2a77bc6695046e7c47882ecd85c42d748  ...  The Cove\n",
       "4  3f73f44560e822344b0fb7c6b463869743eb9860  ...  The Cove\n",
       "\n",
       "[5 rows x 6 columns]"
      ]
     },
     "execution_count": 58,
     "metadata": {
      "tags": []
     },
     "output_type": "execute_result"
    }
   ],
   "source": [
    "mid_merge.head()"
   ]
  },
  {
   "cell_type": "code",
   "execution_count": null,
   "metadata": {
    "colab": {
     "base_uri": "https://localhost:8080/",
     "height": 34
    },
    "colab_type": "code",
    "id": "cmvy6JWI6UN8",
    "outputId": "b9b0a589-b61e-4968-8f11-506136c35ba2"
   },
   "outputs": [
    {
     "name": "stdout",
     "output_type": "stream",
     "text": [
      "Number of unique songs: 384546 Number of unique users: 1019318\n"
     ]
    }
   ],
   "source": [
    "print(\"Number of unique songs:\",len(mid_merge[\"SongId\"].unique().tolist()), \n",
    "      \"Number of unique users:\", len(mid_merge[\"UserId\"].unique().tolist()))"
   ]
  },
  {
   "cell_type": "markdown",
   "metadata": {
    "colab_type": "text",
    "id": "9WlQhLfV7--b"
   },
   "source": [
    "Nothing is lost.\n"
   ]
  },
  {
   "cell_type": "code",
   "execution_count": null,
   "metadata": {
    "colab": {},
    "colab_type": "code",
    "id": "qUIj_fSU6gZ1"
   },
   "outputs": [],
   "source": [
    "genres_merge = pd.merge(left = mid_merge, right = genres, left_on=\"TrackId\", right_on=\"TrackId\")"
   ]
  },
  {
   "cell_type": "code",
   "execution_count": null,
   "metadata": {
    "colab": {
     "base_uri": "https://localhost:8080/",
     "height": 34
    },
    "colab_type": "code",
    "id": "VDiBoAUb7-H9",
    "outputId": "52856d5a-e397-4aa4-d3c5-5040ea964c3e"
   },
   "outputs": [
    {
     "name": "stdout",
     "output_type": "stream",
     "text": [
      "Number of unique songs: 173301 Number of unique users: 1018733\n"
     ]
    }
   ],
   "source": [
    "print(\"Number of unique songs:\",len(genres_merge[\"SongId\"].unique().tolist()), \n",
    "      \"Number of unique users:\", len(genres_merge[\"UserId\"].unique().tolist()))"
   ]
  },
  {
   "cell_type": "markdown",
   "metadata": {
    "colab_type": "text",
    "id": "kMsWK91G8f6p"
   },
   "source": [
    "Onyly 45% of the songs remain with 99.9% of the users. Why?"
   ]
  },
  {
   "cell_type": "code",
   "execution_count": null,
   "metadata": {
    "colab": {},
    "colab_type": "code",
    "id": "M_cpNKCz6dsM"
   },
   "outputs": [],
   "source": [
    "artist_1dist = mid_merge.groupby([\"Artist\"]).size()"
   ]
  },
  {
   "cell_type": "markdown",
   "metadata": {
    "colab_type": "text",
    "id": "7t0WUlSX8sN2"
   },
   "source": [
    "Only 52% of the artist remain. Which ones?"
   ]
  },
  {
   "cell_type": "code",
   "execution_count": null,
   "metadata": {
    "colab": {},
    "colab_type": "code",
    "id": "jd2Kc_IT_SqX"
   },
   "outputs": [],
   "source": [
    "if '!!!' in genres_merge[\"Artist\"].values:\n",
    "    print('Element exists in Dataframe')"
   ]
  },
  {
   "cell_type": "code",
   "execution_count": null,
   "metadata": {
    "colab": {
     "base_uri": "https://localhost:8080/",
     "height": 34
    },
    "colab_type": "code",
    "id": "h8JyYH7PBdVb",
    "outputId": "cc310151-d50a-4a64-df72-154111cffb2e"
   },
   "outputs": [
    {
     "name": "stdout",
     "output_type": "stream",
     "text": [
      "Element exists in Dataframe\n"
     ]
    }
   ],
   "source": [
    "if 'Coldplay' in mid_merge[\"Artist\"].values:\n",
    "    print('Element exists in Dataframe')"
   ]
  }
 ],
 "metadata": {
  "colab": {
   "collapsed_sections": [],
   "name": "Entropy_subsample.ipynb",
   "provenance": [],
   "toc_visible": true
  },
  "kernelspec": {
   "display_name": "Python 3",
   "language": "python",
   "name": "python3"
  },
  "language_info": {
   "codemirror_mode": {
    "name": "ipython",
    "version": 3
   },
   "file_extension": ".py",
   "mimetype": "text/x-python",
   "name": "python",
   "nbconvert_exporter": "python",
   "pygments_lexer": "ipython3",
   "version": "3.7.4"
  },
  "toc": {
   "base_numbering": 1,
   "nav_menu": {},
   "number_sections": true,
   "sideBar": true,
   "skip_h1_title": false,
   "title_cell": "Table of Contents",
   "title_sidebar": "Contents",
   "toc_cell": false,
   "toc_position": {},
   "toc_section_display": true,
   "toc_window_display": false
  }
 },
 "nbformat": 4,
 "nbformat_minor": 4
}
