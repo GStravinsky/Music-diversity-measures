{
  "nbformat": 4,
  "nbformat_minor": 0,
  "metadata": {
    "colab": {
      "name": "geometry-trial.ipynb",
      "provenance": []
    },
    "kernelspec": {
      "name": "python3",
      "display_name": "Python 3"
    }
  },
  "cells": [
    {
      "cell_type": "code",
      "metadata": {
        "id": "vHNFoV7gbYuq",
        "colab_type": "code",
        "colab": {}
      },
      "source": [
        "import numpy as np\n",
        "import pandas as pd \n",
        "from sklearn.decomposition import PCA\n",
        "import matplotlib.pyplot as plt\n",
        "import math\n",
        "from scipy.stats import pearsonr\n",
        "from sklearn.metrics import r2_score\n",
        "from scipy.stats import entropy\n",
        "from tqdm.notebook import tqdm, trange\n",
        "import statsmodels.api as sm\n",
        "from pylab import *\n",
        "import matplotlib.pyplot as plt"
      ],
      "execution_count": 44,
      "outputs": []
    },
    {
      "cell_type": "code",
      "metadata": {
        "id": "1cMPNcA2bw1E",
        "colab_type": "code",
        "colab": {
          "base_uri": "https://localhost:8080/",
          "height": 122
        },
        "outputId": "b1976238-d09e-4782-8748-546f47b4fe5c"
      },
      "source": [
        "from google.colab import drive\n",
        "drive.mount('/content/drive')"
      ],
      "execution_count": 4,
      "outputs": [
        {
          "output_type": "stream",
          "text": [
            "Go to this URL in a browser: https://accounts.google.com/o/oauth2/auth?client_id=947318989803-6bn6qk8qdgf4n4g3pfee6491hc0brc4i.apps.googleusercontent.com&redirect_uri=urn%3aietf%3awg%3aoauth%3a2.0%3aoob&response_type=code&scope=email%20https%3a%2f%2fwww.googleapis.com%2fauth%2fdocs.test%20https%3a%2f%2fwww.googleapis.com%2fauth%2fdrive%20https%3a%2f%2fwww.googleapis.com%2fauth%2fdrive.photos.readonly%20https%3a%2f%2fwww.googleapis.com%2fauth%2fpeopleapi.readonly\n",
            "\n",
            "Enter your authorization code:\n",
            "··········\n",
            "Mounted at /content/drive\n"
          ],
          "name": "stdout"
        }
      ]
    },
    {
      "cell_type": "code",
      "metadata": {
        "id": "mub7kp1ocaAp",
        "colab_type": "code",
        "colab": {}
      },
      "source": [
        "# embedded vectors data\n",
        "embeds = np.load(\"/content/drive/My Drive/MSc Statistics/track-embeddings-v2.npz\", allow_pickle=True)"
      ],
      "execution_count": 5,
      "outputs": []
    },
    {
      "cell_type": "code",
      "metadata": {
        "id": "cIcRXLoDcyBq",
        "colab_type": "code",
        "colab": {
          "base_uri": "https://localhost:8080/",
          "height": 51
        },
        "outputId": "66c522b6-b665-4353-ba8a-5b78b91666a7"
      },
      "source": [
        "#shape of the song vectors\n",
        "print(embeds[\"beta\"].shape)\n",
        "# shape of the link vector\n",
        "print(embeds[\"mapping\"].shape)"
      ],
      "execution_count": 6,
      "outputs": [
        {
          "output_type": "stream",
          "text": [
            "(384546, 100)\n",
            "(384546,)\n"
          ],
          "name": "stdout"
        }
      ]
    },
    {
      "cell_type": "code",
      "metadata": {
        "id": "mZ5lD1sGc5kr",
        "colab_type": "code",
        "colab": {
          "base_uri": "https://localhost:8080/",
          "height": 37
        },
        "outputId": "90f6392e-7f31-4866-966a-d467c5ef9330"
      },
      "source": [
        "# these link vectors correspond to SongId\n",
        "embeds[\"mapping\"][1]"
      ],
      "execution_count": 7,
      "outputs": [
        {
          "output_type": "execute_result",
          "data": {
            "application/vnd.google.colaboratory.intrinsic": {
              "type": "string"
            },
            "text/plain": [
              "'SOAPDEY12A81C210A9'"
            ]
          },
          "metadata": {
            "tags": []
          },
          "execution_count": 7
        }
      ]
    },
    {
      "cell_type": "code",
      "metadata": {
        "id": "0h96R5htdrUc",
        "colab_type": "code",
        "colab": {
          "base_uri": "https://localhost:8080/",
          "height": 34
        },
        "outputId": "31c94029-f755-40dc-937e-1fd34253c2e6"
      },
      "source": [
        "len(embeds[\"beta\"][1])"
      ],
      "execution_count": 19,
      "outputs": [
        {
          "output_type": "execute_result",
          "data": {
            "text/plain": [
              "100"
            ]
          },
          "metadata": {
            "tags": []
          },
          "execution_count": 19
        }
      ]
    },
    {
      "cell_type": "markdown",
      "metadata": {
        "id": "ejOHpIAGc75c",
        "colab_type": "text"
      },
      "source": [
        "# TS-SS\n"
      ]
    },
    {
      "cell_type": "code",
      "metadata": {
        "id": "WeG-OmqMdBIo",
        "colab_type": "code",
        "colab": {}
      },
      "source": [
        "import math\n",
        "import numpy as np\n",
        "import torch\n",
        "\n",
        "class TS_SS:\n",
        "    \n",
        "    def Cosine(self, vec1: np.ndarray, vec2: np.ndarray):\n",
        "        return np.dot(vec1, vec2.T)/(np.linalg.norm(vec1) * np.linalg.norm(vec2))\n",
        "\n",
        "    def VectorSize(self, vec: np.ndarray):\n",
        "        return np.linalg.norm(vec)\n",
        "\n",
        "    def Euclidean(self, vec1: np.ndarray, vec2: np.ndarray):\n",
        "        return np.linalg.norm(vec1-vec2)\n",
        "\n",
        "    def Theta(self, vec1: np.ndarray, vec2: np.ndarray):\n",
        "        return np.arccos(self.Cosine(vec1, vec2)) + np.radians(10)\n",
        "\n",
        "    def Triangle(self, vec1: np.ndarray, vec2: np.ndarray):\n",
        "        theta = np.radians(self.Theta(vec1, vec2))\n",
        "        return (self.VectorSize(vec1) * self.VectorSize(vec2) * np.sin(theta))/2\n",
        "\n",
        "    def Magnitude_Difference(self, vec1: np.ndarray, vec2: np.ndarray):\n",
        "        return abs(self.VectorSize(vec1) - self.VectorSize(vec2))\n",
        "\n",
        "    def Sector(self, vec1: np.ndarray, vec2: np.ndarray):\n",
        "        ED = self.Euclidean(vec1, vec2)\n",
        "        MD = self.Magnitude_Difference(vec1, vec2)\n",
        "        theta = self.Theta(vec1, vec2)\n",
        "        return math.pi * (ED + MD)**2 * theta/360\n",
        "\n",
        "\n",
        "    def __call__(self, vec1: np.ndarray, vec2: np.ndarray):\n",
        "        return self.Triangle(vec1, vec2) * self.Sector(vec1, vec2)\n"
      ],
      "execution_count": 8,
      "outputs": []
    },
    {
      "cell_type": "code",
      "metadata": {
        "id": "UhN7SdwzdEWw",
        "colab_type": "code",
        "colab": {
          "base_uri": "https://localhost:8080/",
          "height": 187
        },
        "outputId": "53a323e8-9d4c-4915-a253-c6220ec68837"
      },
      "source": [
        "v1 = np.random.random_sample((10, 200))\n",
        "v2 = np.random.random_sample((1, 200))\n",
        "similarity = TS_SS() \n",
        "a = similarity(v1,v2)\n",
        "print(a)"
      ],
      "execution_count": 79,
      "outputs": [
        {
          "output_type": "stream",
          "text": [
            "[[49.09836864]\n",
            " [49.62124358]\n",
            " [50.64130499]\n",
            " [50.91800216]\n",
            " [50.12669745]\n",
            " [50.05851948]\n",
            " [49.49825567]\n",
            " [50.25166387]\n",
            " [50.78302353]\n",
            " [50.70359587]]\n"
          ],
          "name": "stdout"
        }
      ]
    },
    {
      "cell_type": "code",
      "metadata": {
        "id": "DQdmSJmVdQeQ",
        "colab_type": "code",
        "colab": {}
      },
      "source": [
        "b = similarity(embeds[\"beta\"][1], embeds[\"beta\"][2])"
      ],
      "execution_count": 20,
      "outputs": []
    },
    {
      "cell_type": "code",
      "metadata": {
        "id": "4B9tDe7Dd23I",
        "colab_type": "code",
        "colab": {}
      },
      "source": [
        "embeds[\"beta\"][:2]"
      ],
      "execution_count": null,
      "outputs": []
    },
    {
      "cell_type": "code",
      "metadata": {
        "id": "nqvHQF0lgBVS",
        "colab_type": "code",
        "colab": {}
      },
      "source": [
        "embeds[\"beta\"][:2] * np.array([[2],[3]])"
      ],
      "execution_count": null,
      "outputs": []
    },
    {
      "cell_type": "markdown",
      "metadata": {
        "id": "cPue-XHqgBpd",
        "colab_type": "text"
      },
      "source": [
        "# Misc\n"
      ]
    },
    {
      "cell_type": "code",
      "metadata": {
        "id": "gmc7UGOGgD1U",
        "colab_type": "code",
        "colab": {}
      },
      "source": [
        "x = np.array([3,10])\n",
        "y = np.array([-5,-7])\n",
        "z = np.array([1,1])\n",
        "joint = np.array([x,y,z])"
      ],
      "execution_count": 58,
      "outputs": []
    },
    {
      "cell_type": "code",
      "metadata": {
        "id": "bQzThOrUocyF",
        "colab_type": "code",
        "colab": {
          "base_uri": "https://localhost:8080/",
          "height": 68
        },
        "outputId": "24f08c59-61e5-49e8-cff7-634d3282e0b6"
      },
      "source": [
        "(joint * a)"
      ],
      "execution_count": 73,
      "outputs": [
        {
          "output_type": "execute_result",
          "data": {
            "text/plain": [
              "array([[  6,  20],\n",
              "       [-15, -21],\n",
              "       [  2,   2]])"
            ]
          },
          "metadata": {
            "tags": []
          },
          "execution_count": 73
        }
      ]
    },
    {
      "cell_type": "code",
      "metadata": {
        "id": "bLVtTtjQoAcR",
        "colab_type": "code",
        "colab": {}
      },
      "source": [
        "a = np.array([[2],[3], [2]])"
      ],
      "execution_count": 66,
      "outputs": []
    },
    {
      "cell_type": "code",
      "metadata": {
        "id": "sN7QszlLlVNV",
        "colab_type": "code",
        "colab": {}
      },
      "source": [
        "def centroid(p,w):\n",
        "  # assume we have a joint np array\n",
        "  # w gotta be a n_i x 1 np array\n",
        "  weighted = p * w\n",
        "  joint = weighted.sum(axis=0)\n",
        "  return joint/np.sum(w)"
      ],
      "execution_count": 74,
      "outputs": []
    },
    {
      "cell_type": "code",
      "metadata": {
        "id": "Bzr0Jj8kp_QF",
        "colab_type": "code",
        "colab": {
          "base_uri": "https://localhost:8080/",
          "height": 34
        },
        "outputId": "45865717-00b6-4aeb-d5b0-a525b0f81920"
      },
      "source": [
        "centroid(joint, a)"
      ],
      "execution_count": 75,
      "outputs": [
        {
          "output_type": "execute_result",
          "data": {
            "text/plain": [
              "array([-1.        ,  0.14285714])"
            ]
          },
          "metadata": {
            "tags": []
          },
          "execution_count": 75
        }
      ]
    },
    {
      "cell_type": "code",
      "metadata": {
        "id": "alZn8EYOrnVO",
        "colab_type": "code",
        "colab": {
          "base_uri": "https://localhost:8080/",
          "height": 442
        },
        "outputId": "6b7db113-fe3e-4e90-c388-b3cc86aaf2cb"
      },
      "source": [
        "centroid(embeds[\"beta\"][[1,4,66]], a)"
      ],
      "execution_count": 78,
      "outputs": [
        {
          "output_type": "execute_result",
          "data": {
            "text/plain": [
              "array([3.44180090e-05, 5.33065255e-05, 3.76822006e-05, 3.21358649e-05,\n",
              "       3.71509351e-05, 4.05466484e-05, 3.67388659e-05, 6.91730704e-04,\n",
              "       2.26501678e-04, 3.79497033e-05, 3.48051466e-05, 3.81571798e-05,\n",
              "       9.16803141e-05, 3.65392542e-05, 3.90541869e-05, 3.82787797e-05,\n",
              "       3.99204686e-05, 3.80352877e-05, 1.11263151e-04, 3.88606412e-05,\n",
              "       3.45725384e-05, 3.75478750e-05, 3.41145159e-05, 3.39872900e-05,\n",
              "       3.76460344e-05, 3.47000688e-05, 3.75037598e-05, 3.50906199e-05,\n",
              "       3.68194347e-05, 3.85686679e-05, 8.42396488e-04, 1.00138561e-02,\n",
              "       3.34913244e-05, 3.67739017e-05, 3.38675912e-05, 9.40448378e-03,\n",
              "       3.69680290e-05, 3.65273014e-05, 3.76697613e-05, 5.46349195e-02,\n",
              "       3.38593849e-05, 3.40903612e-05, 3.69417841e-05, 3.50505735e-05,\n",
              "       3.42968150e-05, 3.31765862e-05, 4.09790846e-05, 3.80623138e-05,\n",
              "       1.30845267e-03, 1.03307133e-03, 3.79162385e-05, 3.83815256e-05,\n",
              "       3.70302363e-05, 2.78952324e-03, 3.71648166e-05, 3.43613730e-05,\n",
              "       3.94419154e-05, 7.19101538e-05, 4.18249297e-05, 3.82019061e-05,\n",
              "       3.42998444e-05, 3.60896333e-05, 3.80907986e-05, 3.71917350e-05,\n",
              "       1.01301039e-03, 5.02834482e-05, 4.02138758e-05, 5.15250478e-05,\n",
              "       3.77225193e-05, 3.78368994e-05, 3.39642428e-02, 3.66918965e-05,\n",
              "       1.48157998e-03, 3.28864283e-05, 3.25898426e-05, 3.88651398e-05,\n",
              "       3.42973207e-05, 4.12269484e-05, 3.44475224e-05, 3.66360795e-05,\n",
              "       3.31844562e-05, 4.25373655e-05, 4.50010848e-05, 3.42014895e-05,\n",
              "       3.77244677e-05, 3.67373271e-05, 3.27825765e-05, 5.08794671e-05,\n",
              "       3.59394560e-05, 3.19576081e-05, 4.86461765e-03, 4.06394559e-05,\n",
              "       8.83094302e-04, 3.43925370e-05, 3.75566072e-05, 4.87127867e-05,\n",
              "       4.05627475e-03, 1.93004840e-04, 3.76194496e-05, 3.16446229e-05])"
            ]
          },
          "metadata": {
            "tags": []
          },
          "execution_count": 78
        }
      ]
    }
  ]
}